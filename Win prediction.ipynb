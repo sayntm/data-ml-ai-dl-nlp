{
 "cells": [
  {
   "cell_type": "markdown",
   "id": "96ea7a63",
   "metadata": {},
   "source": [
    "#### Importing all the basic packages"
   ]
  },
  {
   "cell_type": "code",
   "execution_count": 1,
   "id": "bff8b245",
   "metadata": {},
   "outputs": [],
   "source": [
    "import numpy as np\n",
    "import pandas as pd\n",
    "import seaborn as sns\n",
    "import matplotlib.pyplot as plt\n",
    "import os\n",
    "import warnings\n",
    "warnings.filterwarnings('ignore')\n",
    "%matplotlib inline"
   ]
  },
  {
   "cell_type": "markdown",
   "id": "65c32798",
   "metadata": {},
   "source": [
    "#### Loading the data set file"
   ]
  },
  {
   "cell_type": "code",
   "execution_count": 2,
   "id": "9c90bda5",
   "metadata": {},
   "outputs": [],
   "source": [
    "win_loss = pd.read_excel(\"F:\\Learnbay_Data science\\Projects\\Projects 2022\\Finance domain\\Win Prediction-20220829T155954Z-001\\Win Prediction\\Win_Prediction_Data.xlsx\")"
   ]
  },
  {
   "cell_type": "code",
   "execution_count": 3,
   "id": "98b00d28",
   "metadata": {},
   "outputs": [
    {
     "data": {
      "text/html": [
       "<div>\n",
       "<style scoped>\n",
       "    .dataframe tbody tr th:only-of-type {\n",
       "        vertical-align: middle;\n",
       "    }\n",
       "\n",
       "    .dataframe tbody tr th {\n",
       "        vertical-align: top;\n",
       "    }\n",
       "\n",
       "    .dataframe thead th {\n",
       "        text-align: right;\n",
       "    }\n",
       "</style>\n",
       "<table border=\"1\" class=\"dataframe\">\n",
       "  <thead>\n",
       "    <tr style=\"text-align: right;\">\n",
       "      <th></th>\n",
       "      <th>Client Category</th>\n",
       "      <th>Solution Type</th>\n",
       "      <th>Deal Date</th>\n",
       "      <th>Sector</th>\n",
       "      <th>Location</th>\n",
       "      <th>VP Name</th>\n",
       "      <th>Manager Name</th>\n",
       "      <th>Deal Cost</th>\n",
       "      <th>Deal Status Code</th>\n",
       "    </tr>\n",
       "  </thead>\n",
       "  <tbody>\n",
       "    <tr>\n",
       "      <th>0</th>\n",
       "      <td>Telecom</td>\n",
       "      <td>Solution 7</td>\n",
       "      <td>2012-03-27</td>\n",
       "      <td>Sector 24</td>\n",
       "      <td>L5</td>\n",
       "      <td>Ekta Zutshi</td>\n",
       "      <td>Gopa Trilochana</td>\n",
       "      <td>150000.00</td>\n",
       "      <td>Won</td>\n",
       "    </tr>\n",
       "    <tr>\n",
       "      <th>1</th>\n",
       "      <td>Telecom</td>\n",
       "      <td>Solution 7</td>\n",
       "      <td>2012-09-25</td>\n",
       "      <td>Sector 24</td>\n",
       "      <td>L5</td>\n",
       "      <td>Ekta Zutshi</td>\n",
       "      <td>Gopa Trilochana</td>\n",
       "      <td>744705.88</td>\n",
       "      <td>Won</td>\n",
       "    </tr>\n",
       "    <tr>\n",
       "      <th>2</th>\n",
       "      <td>Internal</td>\n",
       "      <td>Solution 59</td>\n",
       "      <td>2011-08-01</td>\n",
       "      <td>Sector 20</td>\n",
       "      <td>Others</td>\n",
       "      <td>Ekta Zutshi</td>\n",
       "      <td>Russell Dahlen</td>\n",
       "      <td>60000.00</td>\n",
       "      <td>Lost</td>\n",
       "    </tr>\n",
       "    <tr>\n",
       "      <th>3</th>\n",
       "      <td>Internal</td>\n",
       "      <td>Solution 59</td>\n",
       "      <td>2011-04-28</td>\n",
       "      <td>Sector 20</td>\n",
       "      <td>Others</td>\n",
       "      <td>Ekta Zutshi</td>\n",
       "      <td>Russell Dahlen</td>\n",
       "      <td>60000.00</td>\n",
       "      <td>Lost</td>\n",
       "    </tr>\n",
       "    <tr>\n",
       "      <th>4</th>\n",
       "      <td>Internal</td>\n",
       "      <td>Solution 32</td>\n",
       "      <td>2011-06-03</td>\n",
       "      <td>Sector 20</td>\n",
       "      <td>Others</td>\n",
       "      <td>Ekta Zutshi</td>\n",
       "      <td>Russell Dahlen</td>\n",
       "      <td>80882.35</td>\n",
       "      <td>Lost</td>\n",
       "    </tr>\n",
       "    <tr>\n",
       "      <th>5</th>\n",
       "      <td>Internal</td>\n",
       "      <td>Solution 32</td>\n",
       "      <td>2011-05-24</td>\n",
       "      <td>Sector 20</td>\n",
       "      <td>Others</td>\n",
       "      <td>Ekta Zutshi</td>\n",
       "      <td>Russell Dahlen</td>\n",
       "      <td>80882.35</td>\n",
       "      <td>Lost</td>\n",
       "    </tr>\n",
       "    <tr>\n",
       "      <th>6</th>\n",
       "      <td>Internal</td>\n",
       "      <td>Solution 59</td>\n",
       "      <td>2011-11-03</td>\n",
       "      <td>Sector 2</td>\n",
       "      <td>L10</td>\n",
       "      <td>Mervin Harwood</td>\n",
       "      <td>rahul sharma</td>\n",
       "      <td>526176.47</td>\n",
       "      <td>Won</td>\n",
       "    </tr>\n",
       "    <tr>\n",
       "      <th>7</th>\n",
       "      <td>Govt</td>\n",
       "      <td>Solution 7</td>\n",
       "      <td>2012-09-17</td>\n",
       "      <td>Sector 13</td>\n",
       "      <td>L5</td>\n",
       "      <td>Sargar Deep Rao</td>\n",
       "      <td>Vidur Hukle</td>\n",
       "      <td>409705.88</td>\n",
       "      <td>Lost</td>\n",
       "    </tr>\n",
       "    <tr>\n",
       "      <th>8</th>\n",
       "      <td>Consumer Good</td>\n",
       "      <td>Solution 42</td>\n",
       "      <td>2012-04-11</td>\n",
       "      <td>Sector 12</td>\n",
       "      <td>L10</td>\n",
       "      <td>Lilli Storrs</td>\n",
       "      <td>Md. Daud</td>\n",
       "      <td>1032352.94</td>\n",
       "      <td>Won</td>\n",
       "    </tr>\n",
       "    <tr>\n",
       "      <th>9</th>\n",
       "      <td>Internal</td>\n",
       "      <td>Solution 59</td>\n",
       "      <td>2011-11-17</td>\n",
       "      <td>Sector 20</td>\n",
       "      <td>Others</td>\n",
       "      <td>Sargar Deep Rao</td>\n",
       "      <td>Hardeep Suksma</td>\n",
       "      <td>558823.53</td>\n",
       "      <td>Lost</td>\n",
       "    </tr>\n",
       "  </tbody>\n",
       "</table>\n",
       "</div>"
      ],
      "text/plain": [
       "  Client Category Solution Type  Deal Date     Sector Location  \\\n",
       "0         Telecom    Solution 7 2012-03-27  Sector 24       L5   \n",
       "1         Telecom    Solution 7 2012-09-25  Sector 24       L5   \n",
       "2        Internal   Solution 59 2011-08-01  Sector 20   Others   \n",
       "3        Internal   Solution 59 2011-04-28  Sector 20   Others   \n",
       "4        Internal   Solution 32 2011-06-03  Sector 20   Others   \n",
       "5        Internal   Solution 32 2011-05-24  Sector 20   Others   \n",
       "6        Internal   Solution 59 2011-11-03   Sector 2      L10   \n",
       "7            Govt    Solution 7 2012-09-17  Sector 13       L5   \n",
       "8   Consumer Good   Solution 42 2012-04-11  Sector 12      L10   \n",
       "9        Internal   Solution 59 2011-11-17  Sector 20   Others   \n",
       "\n",
       "           VP Name     Manager Name   Deal Cost Deal Status Code  \n",
       "0      Ekta Zutshi  Gopa Trilochana   150000.00              Won  \n",
       "1      Ekta Zutshi  Gopa Trilochana   744705.88              Won  \n",
       "2      Ekta Zutshi   Russell Dahlen    60000.00             Lost  \n",
       "3      Ekta Zutshi   Russell Dahlen    60000.00             Lost  \n",
       "4      Ekta Zutshi   Russell Dahlen    80882.35             Lost  \n",
       "5      Ekta Zutshi   Russell Dahlen    80882.35             Lost  \n",
       "6   Mervin Harwood     rahul sharma   526176.47              Won  \n",
       "7  Sargar Deep Rao      Vidur Hukle   409705.88             Lost  \n",
       "8     Lilli Storrs         Md. Daud  1032352.94              Won  \n",
       "9  Sargar Deep Rao   Hardeep Suksma   558823.53             Lost  "
      ]
     },
     "execution_count": 3,
     "metadata": {},
     "output_type": "execute_result"
    }
   ],
   "source": [
    "win_loss.head(10)"
   ]
  },
  {
   "cell_type": "markdown",
   "id": "b896ff61",
   "metadata": {},
   "source": [
    "#### Getting the shape of the dataframe"
   ]
  },
  {
   "cell_type": "code",
   "execution_count": 4,
   "id": "852278b3",
   "metadata": {},
   "outputs": [
    {
     "data": {
      "text/plain": [
       "(10061, 9)"
      ]
     },
     "execution_count": 4,
     "metadata": {},
     "output_type": "execute_result"
    }
   ],
   "source": [
    "win_loss.shape"
   ]
  },
  {
   "cell_type": "markdown",
   "id": "704a3cc1",
   "metadata": {},
   "source": [
    "#### Getting the object type details of all the variables"
   ]
  },
  {
   "cell_type": "code",
   "execution_count": 5,
   "id": "8574388d",
   "metadata": {},
   "outputs": [
    {
     "name": "stdout",
     "output_type": "stream",
     "text": [
      "<class 'pandas.core.frame.DataFrame'>\n",
      "RangeIndex: 10061 entries, 0 to 10060\n",
      "Data columns (total 9 columns):\n",
      " #   Column            Non-Null Count  Dtype         \n",
      "---  ------            --------------  -----         \n",
      " 0   Client Category   9982 non-null   object        \n",
      " 1   Solution Type     10061 non-null  object        \n",
      " 2   Deal Date         10061 non-null  datetime64[ns]\n",
      " 3   Sector            10061 non-null  object        \n",
      " 4   Location          10061 non-null  object        \n",
      " 5   VP Name           10061 non-null  object        \n",
      " 6   Manager Name      10061 non-null  object        \n",
      " 7   Deal Cost         10061 non-null  float64       \n",
      " 8   Deal Status Code  10061 non-null  object        \n",
      "dtypes: datetime64[ns](1), float64(1), object(7)\n",
      "memory usage: 707.5+ KB\n"
     ]
    }
   ],
   "source": [
    "win_loss.info()"
   ]
  },
  {
   "cell_type": "markdown",
   "id": "04fa5d14",
   "metadata": {},
   "source": [
    "#### Calculating the null values under each category"
   ]
  },
  {
   "cell_type": "code",
   "execution_count": 6,
   "id": "3fc127bc",
   "metadata": {},
   "outputs": [
    {
     "data": {
      "text/plain": [
       "Client Category     79\n",
       "Solution Type        0\n",
       "Deal Date            0\n",
       "Sector               0\n",
       "Location             0\n",
       "VP Name              0\n",
       "Manager Name         0\n",
       "Deal Cost            0\n",
       "Deal Status Code     0\n",
       "dtype: int64"
      ]
     },
     "execution_count": 6,
     "metadata": {},
     "output_type": "execute_result"
    }
   ],
   "source": [
    "win_loss.isnull().sum()"
   ]
  },
  {
   "cell_type": "markdown",
   "id": "3affb6de",
   "metadata": {},
   "source": [
    "#### Calculation the percentage of null values under each category to decide on column retaintion"
   ]
  },
  {
   "cell_type": "code",
   "execution_count": 7,
   "id": "7b966bed",
   "metadata": {},
   "outputs": [
    {
     "data": {
      "text/plain": [
       "Client Category     0.78521\n",
       "Solution Type       0.00000\n",
       "Deal Date           0.00000\n",
       "Sector              0.00000\n",
       "Location            0.00000\n",
       "VP Name             0.00000\n",
       "Manager Name        0.00000\n",
       "Deal Cost           0.00000\n",
       "Deal Status Code    0.00000\n",
       "dtype: float64"
      ]
     },
     "execution_count": 7,
     "metadata": {},
     "output_type": "execute_result"
    }
   ],
   "source": [
    "win_loss.isnull().sum()/len(win_loss)*100"
   ]
  },
  {
   "cell_type": "markdown",
   "id": "ae7dbd31",
   "metadata": {},
   "source": [
    "#### Getting the category wise unique values for CLIENT CATEGORY"
   ]
  },
  {
   "cell_type": "code",
   "execution_count": 8,
   "id": "12edfb97",
   "metadata": {},
   "outputs": [
    {
     "data": {
      "text/plain": [
       "Others                   1763\n",
       "Internal                 1454\n",
       "Services_based           1202\n",
       "Tech                      913\n",
       "Domestic Public Bank      419\n",
       "International Bank        376\n",
       "Consulting                352\n",
       "Finance                   339\n",
       "Telecom                   327\n",
       "Power ind                 264\n",
       "Domestic Private Bank     262\n",
       "Insurance                 247\n",
       "Consumer Good             185\n",
       "Automobiles               178\n",
       "Infrastructure            152\n",
       "Domestic Bank             134\n",
       "Retail_market             126\n",
       "Govt                      121\n",
       "Hospitality               119\n",
       "Manufacturing             117\n",
       "Pharma                    110\n",
       "Healthcare                 99\n",
       "Electronics                81\n",
       "Media_Journal              71\n",
       "Industries                 66\n",
       "Research Development       63\n",
       "Energy                     57\n",
       "Knowledge                  50\n",
       "Management                 43\n",
       "Govt Bank Special          41\n",
       "Payment                    40\n",
       "Energy                     37\n",
       "e-commerce                 32\n",
       "Airpline                   27\n",
       "Holding                    25\n",
       "International Org          25\n",
       "Logistics                  20\n",
       "Real Estate                19\n",
       "Share_market               14\n",
       "Tax_audit                   7\n",
       "Medical                     5\n",
       "Name: Client Category, dtype: int64"
      ]
     },
     "execution_count": 8,
     "metadata": {},
     "output_type": "execute_result"
    }
   ],
   "source": [
    "win_loss['Client Category'].value_counts()"
   ]
  },
  {
   "cell_type": "markdown",
   "id": "bfeeec7f",
   "metadata": {},
   "source": [
    "#### Filling the null values with OTHERS as part of IMPUTATION"
   ]
  },
  {
   "cell_type": "code",
   "execution_count": 9,
   "id": "72b9a0de",
   "metadata": {},
   "outputs": [],
   "source": [
    "win_loss = win_loss.fillna('Others')"
   ]
  },
  {
   "cell_type": "code",
   "execution_count": 10,
   "id": "1eb73b32",
   "metadata": {},
   "outputs": [
    {
     "data": {
      "text/plain": [
       "Others                   1842\n",
       "Internal                 1454\n",
       "Services_based           1202\n",
       "Tech                      913\n",
       "Domestic Public Bank      419\n",
       "International Bank        376\n",
       "Consulting                352\n",
       "Finance                   339\n",
       "Telecom                   327\n",
       "Power ind                 264\n",
       "Domestic Private Bank     262\n",
       "Insurance                 247\n",
       "Consumer Good             185\n",
       "Automobiles               178\n",
       "Infrastructure            152\n",
       "Domestic Bank             134\n",
       "Retail_market             126\n",
       "Govt                      121\n",
       "Hospitality               119\n",
       "Manufacturing             117\n",
       "Pharma                    110\n",
       "Healthcare                 99\n",
       "Electronics                81\n",
       "Media_Journal              71\n",
       "Industries                 66\n",
       "Research Development       63\n",
       "Energy                     57\n",
       "Knowledge                  50\n",
       "Management                 43\n",
       "Govt Bank Special          41\n",
       "Payment                    40\n",
       "Energy                     37\n",
       "e-commerce                 32\n",
       "Airpline                   27\n",
       "Holding                    25\n",
       "International Org          25\n",
       "Logistics                  20\n",
       "Real Estate                19\n",
       "Share_market               14\n",
       "Tax_audit                   7\n",
       "Medical                     5\n",
       "Name: Client Category, dtype: int64"
      ]
     },
     "execution_count": 10,
     "metadata": {},
     "output_type": "execute_result"
    }
   ],
   "source": [
    "win_loss['Client Category'].value_counts()"
   ]
  },
  {
   "cell_type": "markdown",
   "id": "37e9a189",
   "metadata": {},
   "source": [
    "#### Re-checking of null values"
   ]
  },
  {
   "cell_type": "code",
   "execution_count": 11,
   "id": "18c61ee2",
   "metadata": {},
   "outputs": [
    {
     "data": {
      "text/plain": [
       "Client Category     0\n",
       "Solution Type       0\n",
       "Deal Date           0\n",
       "Sector              0\n",
       "Location            0\n",
       "VP Name             0\n",
       "Manager Name        0\n",
       "Deal Cost           0\n",
       "Deal Status Code    0\n",
       "dtype: int64"
      ]
     },
     "execution_count": 11,
     "metadata": {},
     "output_type": "execute_result"
    }
   ],
   "source": [
    "win_loss.isnull().sum()"
   ]
  },
  {
   "cell_type": "markdown",
   "id": "973d9db8",
   "metadata": {},
   "source": [
    "#### Understanding the categorical columns description from the dataset"
   ]
  },
  {
   "cell_type": "code",
   "execution_count": 12,
   "id": "037b663f",
   "metadata": {},
   "outputs": [
    {
     "data": {
      "text/html": [
       "<div>\n",
       "<style scoped>\n",
       "    .dataframe tbody tr th:only-of-type {\n",
       "        vertical-align: middle;\n",
       "    }\n",
       "\n",
       "    .dataframe tbody tr th {\n",
       "        vertical-align: top;\n",
       "    }\n",
       "\n",
       "    .dataframe thead th {\n",
       "        text-align: right;\n",
       "    }\n",
       "</style>\n",
       "<table border=\"1\" class=\"dataframe\">\n",
       "  <thead>\n",
       "    <tr style=\"text-align: right;\">\n",
       "      <th></th>\n",
       "      <th>Client Category</th>\n",
       "      <th>Solution Type</th>\n",
       "      <th>Sector</th>\n",
       "      <th>Location</th>\n",
       "      <th>VP Name</th>\n",
       "      <th>Manager Name</th>\n",
       "      <th>Deal Status Code</th>\n",
       "    </tr>\n",
       "  </thead>\n",
       "  <tbody>\n",
       "    <tr>\n",
       "      <th>count</th>\n",
       "      <td>10061</td>\n",
       "      <td>10061</td>\n",
       "      <td>10061</td>\n",
       "      <td>10061</td>\n",
       "      <td>10061</td>\n",
       "      <td>10061</td>\n",
       "      <td>10061</td>\n",
       "    </tr>\n",
       "    <tr>\n",
       "      <th>unique</th>\n",
       "      <td>41</td>\n",
       "      <td>67</td>\n",
       "      <td>25</td>\n",
       "      <td>13</td>\n",
       "      <td>43</td>\n",
       "      <td>278</td>\n",
       "      <td>2</td>\n",
       "    </tr>\n",
       "    <tr>\n",
       "      <th>top</th>\n",
       "      <td>Others</td>\n",
       "      <td>Solution 32</td>\n",
       "      <td>Sector 23</td>\n",
       "      <td>L10</td>\n",
       "      <td>Mervin Harwood</td>\n",
       "      <td>Molly Eakes</td>\n",
       "      <td>Lost</td>\n",
       "    </tr>\n",
       "    <tr>\n",
       "      <th>freq</th>\n",
       "      <td>1842</td>\n",
       "      <td>1439</td>\n",
       "      <td>2693</td>\n",
       "      <td>3360</td>\n",
       "      <td>1166</td>\n",
       "      <td>323</td>\n",
       "      <td>6306</td>\n",
       "    </tr>\n",
       "  </tbody>\n",
       "</table>\n",
       "</div>"
      ],
      "text/plain": [
       "       Client Category Solution Type     Sector Location         VP Name  \\\n",
       "count            10061         10061      10061    10061           10061   \n",
       "unique              41            67         25       13              43   \n",
       "top             Others   Solution 32  Sector 23      L10  Mervin Harwood   \n",
       "freq              1842          1439       2693     3360            1166   \n",
       "\n",
       "       Manager Name Deal Status Code  \n",
       "count         10061            10061  \n",
       "unique          278                2  \n",
       "top     Molly Eakes             Lost  \n",
       "freq            323             6306  "
      ]
     },
     "execution_count": 12,
     "metadata": {},
     "output_type": "execute_result"
    }
   ],
   "source": [
    "win_loss.describe(include=['O'])"
   ]
  },
  {
   "cell_type": "markdown",
   "id": "25db21de",
   "metadata": {},
   "source": [
    "#### Creating individual column index and their value counts"
   ]
  },
  {
   "cell_type": "code",
   "execution_count": 13,
   "id": "47152423",
   "metadata": {},
   "outputs": [],
   "source": [
    "Client_Category = win_loss['Client Category'].value_counts()\n",
    "Client_Category_index = win_loss['Client Category'].value_counts().index"
   ]
  },
  {
   "cell_type": "code",
   "execution_count": 14,
   "id": "cf244299",
   "metadata": {},
   "outputs": [
    {
     "data": {
      "text/plain": [
       "Index(['Others', 'Internal', 'Services_based', 'Tech', 'Domestic Public Bank',\n",
       "       'International Bank', 'Consulting', 'Finance', 'Telecom', 'Power ind',\n",
       "       'Domestic Private Bank', 'Insurance', 'Consumer Good', 'Automobiles',\n",
       "       'Infrastructure', 'Domestic Bank', 'Retail_market', 'Govt',\n",
       "       'Hospitality', 'Manufacturing', 'Pharma', 'Healthcare', 'Electronics',\n",
       "       'Media_Journal', 'Industries', 'Research Development', 'Energy',\n",
       "       'Knowledge', 'Management', 'Govt Bank Special', 'Payment', 'Energy ',\n",
       "       'e-commerce', 'Airpline', 'Holding', 'International Org', 'Logistics',\n",
       "       'Real Estate', 'Share_market', 'Tax_audit', 'Medical '],\n",
       "      dtype='object')"
      ]
     },
     "execution_count": 14,
     "metadata": {},
     "output_type": "execute_result"
    }
   ],
   "source": [
    "Client_Category_index"
   ]
  },
  {
   "cell_type": "markdown",
   "id": "9af32619",
   "metadata": {},
   "source": [
    "#### Plotting the top 5 contributors from each category"
   ]
  },
  {
   "cell_type": "code",
   "execution_count": 15,
   "id": "8b87bf4d",
   "metadata": {},
   "outputs": [
    {
     "data": {
      "image/png": "[encoded data removed]",
      "text/plain": [
       "<Figure size 432x288 with 1 Axes>"
      ]
     },
     "metadata": {},
     "output_type": "display_data"
    }
   ],
   "source": [
    "plt.pie(Client_Category[:5],labels=Client_Category_index[:5], autopct='%1.2f%%')\n",
    "plt.show()"
   ]
  },
  {
   "cell_type": "markdown",
   "id": "f4c6547e",
   "metadata": {},
   "source": [
    "#### Plotting the top 10 contributions as per the category on horizontal bar chart"
   ]
  },
  {
   "cell_type": "code",
   "execution_count": 16,
   "id": "1c15b4bd",
   "metadata": {},
   "outputs": [
    {
     "data": {
      "text/plain": [
       "<AxesSubplot:>"
      ]
     },
     "execution_count": 16,
     "metadata": {},
     "output_type": "execute_result"
    },
    {
     "data": {
      "image/png": "[encoded data removed]",
      "text/plain": [
       "<Figure size 432x288 with 1 Axes>"
      ]
     },
     "metadata": {
      "needs_background": "light"
     },
     "output_type": "display_data"
    }
   ],
   "source": [
    "Client_Category[:10].plot(kind='barh')"
   ]
  },
  {
   "cell_type": "code",
   "execution_count": 17,
   "id": "e89e0f26",
   "metadata": {},
   "outputs": [],
   "source": [
    "Solution_Type = win_loss['Solution Type'].value_counts()\n",
    "Solution_Type_index = win_loss['Solution Type'].value_counts().index"
   ]
  },
  {
   "cell_type": "code",
   "execution_count": 18,
   "id": "7aab4a2d",
   "metadata": {},
   "outputs": [
    {
     "data": {
      "text/plain": [
       "Index(['Solution 32', 'Solution 9', 'Solution 10', 'Solution 39',\n",
       "       'Solution 67', 'Solution 37', 'Solution 59', 'Solution 12',\n",
       "       'Solution 8', 'Solution 29', 'Solution 6', 'Solution 13', 'Solution 31',\n",
       "       'Solution 4', 'Solution 28', 'Solution 38', 'Solution 7', 'Solution 11',\n",
       "       'Solution 20', 'Solution 52', 'Solution 40', 'Solution 30',\n",
       "       'Solution 14', 'Solution 36', 'Solution 58', 'Solution 47',\n",
       "       'Solution 35', 'Solution 55', 'Solution 33', 'Solution 48',\n",
       "       'Solution 26', 'Solution 16', 'Solution 49', 'Solution 2',\n",
       "       'Solution 34', 'Solution 42', 'Solution 61', 'Solution 41',\n",
       "       'Solution 65', 'Solution 44', 'Solution 15', 'Solution 17',\n",
       "       'Solution 50', 'Solution 1', 'Solution 43', 'Solution 24',\n",
       "       'Solution 25', 'Solution 46', 'Solution 62', 'Solution 5',\n",
       "       'Solution 27', 'Solution 22', 'Solution 3', 'Solution 53',\n",
       "       'Solution 54', 'Solution 51', 'Solution 23', 'Solution 45',\n",
       "       'Solution 63', 'Solution 21', 'Solution 19', 'Solution 56',\n",
       "       'Solution 18', 'Solution 60', 'Solution 57', 'Solution 64',\n",
       "       'Solution 66'],\n",
       "      dtype='object')"
      ]
     },
     "execution_count": 18,
     "metadata": {},
     "output_type": "execute_result"
    }
   ],
   "source": [
    "Solution_Type_index"
   ]
  },
  {
   "cell_type": "code",
   "execution_count": 19,
   "id": "dc5b8458",
   "metadata": {},
   "outputs": [
    {
     "data": {
      "image/png": "[encoded data removed]",
      "text/plain": [
       "<Figure size 432x288 with 1 Axes>"
      ]
     },
     "metadata": {},
     "output_type": "display_data"
    }
   ],
   "source": [
    "plt.pie(Solution_Type[:5],labels=Solution_Type_index[:5], autopct='%1.2f%%')\n",
    "plt.show()"
   ]
  },
  {
   "cell_type": "code",
   "execution_count": 20,
   "id": "f5538e8b",
   "metadata": {},
   "outputs": [
    {
     "data": {
      "text/plain": [
       "<AxesSubplot:>"
      ]
     },
     "execution_count": 20,
     "metadata": {},
     "output_type": "execute_result"
    },
    {
     "data": {
      "image/png": "[encoded data removed]",
      "text/plain": [
       "<Figure size 432x288 with 1 Axes>"
      ]
     },
     "metadata": {
      "needs_background": "light"
     },
     "output_type": "display_data"
    }
   ],
   "source": [
    "Solution_Type[:10].plot(kind = 'barh')"
   ]
  },
  {
   "cell_type": "code",
   "execution_count": 21,
   "id": "80e311bf",
   "metadata": {},
   "outputs": [],
   "source": [
    "Sector = win_loss['Sector'].value_counts()\n",
    "Sector_index = win_loss['Sector'].value_counts().index"
   ]
  },
  {
   "cell_type": "code",
   "execution_count": 22,
   "id": "c9b77e2f",
   "metadata": {},
   "outputs": [
    {
     "data": {
      "text/plain": [
       "Index(['Sector 23', 'Sector 2', 'Sector 20', 'Sector 12', 'Sector 24',\n",
       "       'Sector 17', 'Sector 16', 'Sector 15', 'Sector 9', 'Sector 25',\n",
       "       'Sector 18', 'Sector 1', 'Sector 13', 'Sector 22', 'Sector 19',\n",
       "       'Sector 3', 'Sector 4', 'Sector 11', 'Sector 14', 'Sector 6',\n",
       "       'Sector 5', 'Sector 8', 'Sector 21', 'Sector 7', 'Sector 10'],\n",
       "      dtype='object')"
      ]
     },
     "execution_count": 22,
     "metadata": {},
     "output_type": "execute_result"
    }
   ],
   "source": [
    "Sector_index"
   ]
  },
  {
   "cell_type": "code",
   "execution_count": 23,
   "id": "881077be",
   "metadata": {},
   "outputs": [
    {
     "data": {
      "image/png": "[encoded data removed]",
      "text/plain": [
       "<Figure size 432x288 with 1 Axes>"
      ]
     },
     "metadata": {},
     "output_type": "display_data"
    }
   ],
   "source": [
    "plt.pie(Sector[:5], labels=Sector_index[:5], autopct='%1.2f%%' )\n",
    "plt.show()"
   ]
  },
  {
   "cell_type": "code",
   "execution_count": 24,
   "id": "6dd6e330",
   "metadata": {},
   "outputs": [
    {
     "data": {
      "text/plain": [
       "<AxesSubplot:>"
      ]
     },
     "execution_count": 24,
     "metadata": {},
     "output_type": "execute_result"
    },
    {
     "data": {
      "image/png": "[encoded data removed]",
      "text/plain": [
       "<Figure size 432x288 with 1 Axes>"
      ]
     },
     "metadata": {
      "needs_background": "light"
     },
     "output_type": "display_data"
    }
   ],
   "source": [
    "Sector[:10].plot(kind='barh')"
   ]
  },
  {
   "cell_type": "code",
   "execution_count": 25,
   "id": "6eeb3ddb",
   "metadata": {},
   "outputs": [],
   "source": [
    "Location = win_loss['Location'].value_counts()\n",
    "Location_index = win_loss['Location'].value_counts().index"
   ]
  },
  {
   "cell_type": "code",
   "execution_count": 26,
   "id": "9b775859",
   "metadata": {},
   "outputs": [
    {
     "data": {
      "text/plain": [
       "Index(['L10', 'L5', 'L1', 'Others', 'L3', 'L11', 'L12', 'L9', 'L7', 'L4', 'L6',\n",
       "       'L8', 'L2'],\n",
       "      dtype='object')"
      ]
     },
     "execution_count": 26,
     "metadata": {},
     "output_type": "execute_result"
    }
   ],
   "source": [
    "Location_index "
   ]
  },
  {
   "cell_type": "code",
   "execution_count": 27,
   "id": "63d6ce3d",
   "metadata": {},
   "outputs": [
    {
     "data": {
      "image/png": "[encoded data removed]",
      "text/plain": [
       "<Figure size 432x288 with 1 Axes>"
      ]
     },
     "metadata": {},
     "output_type": "display_data"
    }
   ],
   "source": [
    "plt.pie(Location[:5], labels=Location_index[:5], autopct='%1.2f%%' )\n",
    "plt.show()"
   ]
  },
  {
   "cell_type": "code",
   "execution_count": 28,
   "id": "d5b2edf8",
   "metadata": {},
   "outputs": [
    {
     "data": {
      "text/plain": [
       "<AxesSubplot:>"
      ]
     },
     "execution_count": 28,
     "metadata": {},
     "output_type": "execute_result"
    },
    {
     "data": {
      "image/png": "[encoded data removed]",
      "text/plain": [
       "<Figure size 432x288 with 1 Axes>"
      ]
     },
     "metadata": {
      "needs_background": "light"
     },
     "output_type": "display_data"
    }
   ],
   "source": [
    "Location[:10].plot(kind='barh')"
   ]
  },
  {
   "cell_type": "code",
   "execution_count": 29,
   "id": "2344e770",
   "metadata": {},
   "outputs": [],
   "source": [
    "VP_Name = win_loss['VP Name'].value_counts()\n",
    "VP_Name_index = win_loss['VP Name'].value_counts().index"
   ]
  },
  {
   "cell_type": "code",
   "execution_count": 30,
   "id": "fd86a384",
   "metadata": {},
   "outputs": [
    {
     "data": {
      "text/plain": [
       "Index(['Mervin Harwood', 'Ankita Aggarwal', 'Sargar Deep Rao',\n",
       "       'Long Bergstrom', 'Mangesh K. Singh', 'Rosanna Maynez', 'Ekta Zutshi',\n",
       "       'Rahul Bajpai', 'neeraj kumar', 'Son Mcconnaughy', 'som dutt',\n",
       "       'Hardeep Suksma', 'Brendon Wycoff', 'Clinton Mani', 'Saurabh Singh',\n",
       "       'Jewell Tunstall', 'Rudraksh Sharma', 'Gopa Trilochana',\n",
       "       'Russell Dahlen', 'Alam Syed', 'Molly Eakes', 'Gaurav Sameria',\n",
       "       'Varsha Arora', 'Gayle Molter', 'Vidur Hukle', 'Earline Langton',\n",
       "       'Manpreet Singh', 'Mayank Mewar', 'Marcella Mo', 'Rahul Kocher',\n",
       "       'Man Suddeth', 'Jitendra Choudhary', 'Prashant Rawat', 'Lilli Storrs',\n",
       "       'Vikram Rawat', 'Kamelesh Srinivasan', 'Dennis Faux', 'Visvajeet Das',\n",
       "       'Waylon Mulder', 'P. Somya', 'md. afsar', 'Sarthak Batra',\n",
       "       'Kirk Hofmeister'],\n",
       "      dtype='object')"
      ]
     },
     "execution_count": 30,
     "metadata": {},
     "output_type": "execute_result"
    }
   ],
   "source": [
    "VP_Name_index "
   ]
  },
  {
   "cell_type": "code",
   "execution_count": 31,
   "id": "2e58dd4b",
   "metadata": {},
   "outputs": [
    {
     "data": {
      "image/png": "[encoded data removed]",
      "text/plain": [
       "<Figure size 432x288 with 1 Axes>"
      ]
     },
     "metadata": {},
     "output_type": "display_data"
    }
   ],
   "source": [
    "plt.pie(VP_Name[:5], labels=VP_Name_index[:5], autopct='%1.2f%%' )\n",
    "plt.show()"
   ]
  },
  {
   "cell_type": "code",
   "execution_count": 32,
   "id": "15ec7e33",
   "metadata": {},
   "outputs": [
    {
     "data": {
      "text/plain": [
       "<AxesSubplot:>"
      ]
     },
     "execution_count": 32,
     "metadata": {},
     "output_type": "execute_result"
    },
    {
     "data": {
      "image/png": "[encoded data removed]",
      "text/plain": [
       "<Figure size 432x288 with 1 Axes>"
      ]
     },
     "metadata": {
      "needs_background": "light"
     },
     "output_type": "display_data"
    }
   ],
   "source": [
    "VP_Name[:10].plot(kind='barh')"
   ]
  },
  {
   "cell_type": "code",
   "execution_count": 33,
   "id": "8e1249c3",
   "metadata": {},
   "outputs": [],
   "source": [
    "Manager_Name = win_loss['Manager Name'].value_counts()\n",
    "Manager_Name_index = win_loss['Manager Name'].value_counts().index"
   ]
  },
  {
   "cell_type": "code",
   "execution_count": 34,
   "id": "829519f4",
   "metadata": {},
   "outputs": [
    {
     "data": {
      "text/plain": [
       "Index(['Molly Eakes', 'Rudraksh Sharma', 'Desmond Krout', 'Gayle Molter',\n",
       "       'Manpreet Singh', 'Rosana Yokum', 'Rayford Durgan', 'Manish Saundriyal',\n",
       "       'Jewell Tunstall', 'Hardeep Suksma',\n",
       "       ...\n",
       "       'Sultan Khan', 'Aastha Gandhi', 'Ali Rafiq', 'Arti Bindra',\n",
       "       'Anish Jonson', 'Taran Singh', 'Natalia Dumlao', 'Preston Dumire',\n",
       "       'Sumit Arora', 'Cleotilde Biron'],\n",
       "      dtype='object', length=278)"
      ]
     },
     "execution_count": 34,
     "metadata": {},
     "output_type": "execute_result"
    }
   ],
   "source": [
    "Manager_Name_index"
   ]
  },
  {
   "cell_type": "code",
   "execution_count": 35,
   "id": "d94ba2f8",
   "metadata": {},
   "outputs": [
    {
     "data": {
      "image/png": "[encoded data removed]",
      "text/plain": [
       "<Figure size 432x288 with 1 Axes>"
      ]
     },
     "metadata": {},
     "output_type": "display_data"
    }
   ],
   "source": [
    "plt.pie(Manager_Name[:5], labels=Manager_Name_index[:5], autopct='%1.2f%%' )\n",
    "plt.show()"
   ]
  },
  {
   "cell_type": "code",
   "execution_count": 36,
   "id": "a2f78722",
   "metadata": {},
   "outputs": [
    {
     "data": {
      "text/plain": [
       "<AxesSubplot:>"
      ]
     },
     "execution_count": 36,
     "metadata": {},
     "output_type": "execute_result"
    },
    {
     "data": {
      "image/png": "[encoded data removed]",
      "text/plain": [
       "<Figure size 432x288 with 1 Axes>"
      ]
     },
     "metadata": {
      "needs_background": "light"
     },
     "output_type": "display_data"
    }
   ],
   "source": [
    "Manager_Name[:10].plot(kind='barh')"
   ]
  },
  {
   "cell_type": "code",
   "execution_count": 37,
   "id": "47cac2c8",
   "metadata": {},
   "outputs": [
    {
     "data": {
      "text/plain": [
       "Index(['Client Category', 'Solution Type', 'Deal Date', 'Sector', 'Location',\n",
       "       'VP Name', 'Manager Name', 'Deal Cost', 'Deal Status Code'],\n",
       "      dtype='object')"
      ]
     },
     "execution_count": 37,
     "metadata": {},
     "output_type": "execute_result"
    }
   ],
   "source": [
    "win_loss.columns"
   ]
  },
  {
   "cell_type": "markdown",
   "id": "cbc9a32a",
   "metadata": {},
   "source": [
    "#### To showcase the relationship of each category with Deal status code, grouping every unique values on count of Win/loss"
   ]
  },
  {
   "cell_type": "code",
   "execution_count": 38,
   "id": "f6b47726",
   "metadata": {},
   "outputs": [],
   "source": [
    "rel_client_cat = win_loss[['Client Category',\n",
    "                     'Deal Status Code']].groupby(['Client Category',\n",
    "                                                   'Deal Status Code']).size().reset_index().rename(columns={0:'Deal Status Code'})"
   ]
  },
  {
   "cell_type": "code",
   "execution_count": 39,
   "id": "6b47039d",
   "metadata": {},
   "outputs": [
    {
     "data": {
      "text/html": [
       "<div>\n",
       "<style scoped>\n",
       "    .dataframe tbody tr th:only-of-type {\n",
       "        vertical-align: middle;\n",
       "    }\n",
       "\n",
       "    .dataframe tbody tr th {\n",
       "        vertical-align: top;\n",
       "    }\n",
       "\n",
       "    .dataframe thead th {\n",
       "        text-align: right;\n",
       "    }\n",
       "</style>\n",
       "<table border=\"1\" class=\"dataframe\">\n",
       "  <thead>\n",
       "    <tr style=\"text-align: right;\">\n",
       "      <th></th>\n",
       "      <th>Client Category</th>\n",
       "      <th>Deal Status Code</th>\n",
       "      <th>Deal Status Code</th>\n",
       "    </tr>\n",
       "  </thead>\n",
       "  <tbody>\n",
       "    <tr>\n",
       "      <th>0</th>\n",
       "      <td>Airpline</td>\n",
       "      <td>Lost</td>\n",
       "      <td>22</td>\n",
       "    </tr>\n",
       "    <tr>\n",
       "      <th>1</th>\n",
       "      <td>Airpline</td>\n",
       "      <td>Won</td>\n",
       "      <td>5</td>\n",
       "    </tr>\n",
       "    <tr>\n",
       "      <th>2</th>\n",
       "      <td>Automobiles</td>\n",
       "      <td>Lost</td>\n",
       "      <td>112</td>\n",
       "    </tr>\n",
       "    <tr>\n",
       "      <th>3</th>\n",
       "      <td>Automobiles</td>\n",
       "      <td>Won</td>\n",
       "      <td>66</td>\n",
       "    </tr>\n",
       "    <tr>\n",
       "      <th>4</th>\n",
       "      <td>Consulting</td>\n",
       "      <td>Lost</td>\n",
       "      <td>182</td>\n",
       "    </tr>\n",
       "    <tr>\n",
       "      <th>...</th>\n",
       "      <td>...</td>\n",
       "      <td>...</td>\n",
       "      <td>...</td>\n",
       "    </tr>\n",
       "    <tr>\n",
       "      <th>77</th>\n",
       "      <td>Tech</td>\n",
       "      <td>Won</td>\n",
       "      <td>313</td>\n",
       "    </tr>\n",
       "    <tr>\n",
       "      <th>78</th>\n",
       "      <td>Telecom</td>\n",
       "      <td>Lost</td>\n",
       "      <td>192</td>\n",
       "    </tr>\n",
       "    <tr>\n",
       "      <th>79</th>\n",
       "      <td>Telecom</td>\n",
       "      <td>Won</td>\n",
       "      <td>135</td>\n",
       "    </tr>\n",
       "    <tr>\n",
       "      <th>80</th>\n",
       "      <td>e-commerce</td>\n",
       "      <td>Lost</td>\n",
       "      <td>20</td>\n",
       "    </tr>\n",
       "    <tr>\n",
       "      <th>81</th>\n",
       "      <td>e-commerce</td>\n",
       "      <td>Won</td>\n",
       "      <td>12</td>\n",
       "    </tr>\n",
       "  </tbody>\n",
       "</table>\n",
       "<p>82 rows × 3 columns</p>\n",
       "</div>"
      ],
      "text/plain": [
       "   Client Category  Deal Status Code  Deal Status Code\n",
       "0         Airpline              Lost                22\n",
       "1         Airpline               Won                 5\n",
       "2      Automobiles              Lost               112\n",
       "3      Automobiles               Won                66\n",
       "4       Consulting              Lost               182\n",
       "..             ...               ...               ...\n",
       "77            Tech               Won               313\n",
       "78         Telecom              Lost               192\n",
       "79         Telecom               Won               135\n",
       "80      e-commerce              Lost                20\n",
       "81      e-commerce               Won                12\n",
       "\n",
       "[82 rows x 3 columns]"
      ]
     },
     "execution_count": 39,
     "metadata": {},
     "output_type": "execute_result"
    }
   ],
   "source": [
    "rel_client_cat"
   ]
  },
  {
   "cell_type": "code",
   "execution_count": 40,
   "id": "22dbc7b9",
   "metadata": {},
   "outputs": [],
   "source": [
    "rel_solution = win_loss[['Solution Type',\n",
    "                     'Deal Status Code']].groupby(['Solution Type',\n",
    "                                                   'Deal Status Code']).size().reset_index().rename(columns={0:'Deal Status Code'})"
   ]
  },
  {
   "cell_type": "code",
   "execution_count": 41,
   "id": "3d656eda",
   "metadata": {},
   "outputs": [
    {
     "data": {
      "text/html": [
       "<div>\n",
       "<style scoped>\n",
       "    .dataframe tbody tr th:only-of-type {\n",
       "        vertical-align: middle;\n",
       "    }\n",
       "\n",
       "    .dataframe tbody tr th {\n",
       "        vertical-align: top;\n",
       "    }\n",
       "\n",
       "    .dataframe thead th {\n",
       "        text-align: right;\n",
       "    }\n",
       "</style>\n",
       "<table border=\"1\" class=\"dataframe\">\n",
       "  <thead>\n",
       "    <tr style=\"text-align: right;\">\n",
       "      <th></th>\n",
       "      <th>Solution Type</th>\n",
       "      <th>Deal Status Code</th>\n",
       "      <th>Deal Status Code</th>\n",
       "    </tr>\n",
       "  </thead>\n",
       "  <tbody>\n",
       "    <tr>\n",
       "      <th>0</th>\n",
       "      <td>Solution 1</td>\n",
       "      <td>Lost</td>\n",
       "      <td>2</td>\n",
       "    </tr>\n",
       "    <tr>\n",
       "      <th>1</th>\n",
       "      <td>Solution 1</td>\n",
       "      <td>Won</td>\n",
       "      <td>3</td>\n",
       "    </tr>\n",
       "    <tr>\n",
       "      <th>2</th>\n",
       "      <td>Solution 10</td>\n",
       "      <td>Lost</td>\n",
       "      <td>690</td>\n",
       "    </tr>\n",
       "    <tr>\n",
       "      <th>3</th>\n",
       "      <td>Solution 10</td>\n",
       "      <td>Won</td>\n",
       "      <td>326</td>\n",
       "    </tr>\n",
       "    <tr>\n",
       "      <th>4</th>\n",
       "      <td>Solution 11</td>\n",
       "      <td>Lost</td>\n",
       "      <td>88</td>\n",
       "    </tr>\n",
       "    <tr>\n",
       "      <th>...</th>\n",
       "      <td>...</td>\n",
       "      <td>...</td>\n",
       "      <td>...</td>\n",
       "    </tr>\n",
       "    <tr>\n",
       "      <th>111</th>\n",
       "      <td>Solution 7</td>\n",
       "      <td>Won</td>\n",
       "      <td>62</td>\n",
       "    </tr>\n",
       "    <tr>\n",
       "      <th>112</th>\n",
       "      <td>Solution 8</td>\n",
       "      <td>Lost</td>\n",
       "      <td>190</td>\n",
       "    </tr>\n",
       "    <tr>\n",
       "      <th>113</th>\n",
       "      <td>Solution 8</td>\n",
       "      <td>Won</td>\n",
       "      <td>184</td>\n",
       "    </tr>\n",
       "    <tr>\n",
       "      <th>114</th>\n",
       "      <td>Solution 9</td>\n",
       "      <td>Lost</td>\n",
       "      <td>1018</td>\n",
       "    </tr>\n",
       "    <tr>\n",
       "      <th>115</th>\n",
       "      <td>Solution 9</td>\n",
       "      <td>Won</td>\n",
       "      <td>400</td>\n",
       "    </tr>\n",
       "  </tbody>\n",
       "</table>\n",
       "<p>116 rows × 3 columns</p>\n",
       "</div>"
      ],
      "text/plain": [
       "    Solution Type  Deal Status Code  Deal Status Code\n",
       "0      Solution 1              Lost                 2\n",
       "1      Solution 1               Won                 3\n",
       "2     Solution 10              Lost               690\n",
       "3     Solution 10               Won               326\n",
       "4     Solution 11              Lost                88\n",
       "..            ...               ...               ...\n",
       "111    Solution 7               Won                62\n",
       "112    Solution 8              Lost               190\n",
       "113    Solution 8               Won               184\n",
       "114    Solution 9              Lost              1018\n",
       "115    Solution 9               Won               400\n",
       "\n",
       "[116 rows x 3 columns]"
      ]
     },
     "execution_count": 41,
     "metadata": {},
     "output_type": "execute_result"
    }
   ],
   "source": [
    "rel_solution"
   ]
  },
  {
   "cell_type": "code",
   "execution_count": 42,
   "id": "b89b9d98",
   "metadata": {},
   "outputs": [],
   "source": [
    "rel_vpname = win_loss[['VP Name',\n",
    "                     'Deal Status Code']].groupby(['VP Name',\n",
    "                                                   'Deal Status Code']).size().reset_index().rename(columns={0:'Deal Status Code'})"
   ]
  },
  {
   "cell_type": "code",
   "execution_count": 43,
   "id": "fe375b3f",
   "metadata": {},
   "outputs": [
    {
     "data": {
      "text/html": [
       "<div>\n",
       "<style scoped>\n",
       "    .dataframe tbody tr th:only-of-type {\n",
       "        vertical-align: middle;\n",
       "    }\n",
       "\n",
       "    .dataframe tbody tr th {\n",
       "        vertical-align: top;\n",
       "    }\n",
       "\n",
       "    .dataframe thead th {\n",
       "        text-align: right;\n",
       "    }\n",
       "</style>\n",
       "<table border=\"1\" class=\"dataframe\">\n",
       "  <thead>\n",
       "    <tr style=\"text-align: right;\">\n",
       "      <th></th>\n",
       "      <th>VP Name</th>\n",
       "      <th>Deal Status Code</th>\n",
       "      <th>Deal Status Code</th>\n",
       "    </tr>\n",
       "  </thead>\n",
       "  <tbody>\n",
       "    <tr>\n",
       "      <th>0</th>\n",
       "      <td>Alam Syed</td>\n",
       "      <td>Lost</td>\n",
       "      <td>62</td>\n",
       "    </tr>\n",
       "    <tr>\n",
       "      <th>1</th>\n",
       "      <td>Alam Syed</td>\n",
       "      <td>Won</td>\n",
       "      <td>64</td>\n",
       "    </tr>\n",
       "    <tr>\n",
       "      <th>2</th>\n",
       "      <td>Ankita Aggarwal</td>\n",
       "      <td>Lost</td>\n",
       "      <td>866</td>\n",
       "    </tr>\n",
       "    <tr>\n",
       "      <th>3</th>\n",
       "      <td>Ankita Aggarwal</td>\n",
       "      <td>Won</td>\n",
       "      <td>277</td>\n",
       "    </tr>\n",
       "    <tr>\n",
       "      <th>4</th>\n",
       "      <td>Brendon Wycoff</td>\n",
       "      <td>Lost</td>\n",
       "      <td>132</td>\n",
       "    </tr>\n",
       "    <tr>\n",
       "      <th>...</th>\n",
       "      <td>...</td>\n",
       "      <td>...</td>\n",
       "      <td>...</td>\n",
       "    </tr>\n",
       "    <tr>\n",
       "      <th>77</th>\n",
       "      <td>md. afsar</td>\n",
       "      <td>Lost</td>\n",
       "      <td>2</td>\n",
       "    </tr>\n",
       "    <tr>\n",
       "      <th>78</th>\n",
       "      <td>neeraj kumar</td>\n",
       "      <td>Lost</td>\n",
       "      <td>254</td>\n",
       "    </tr>\n",
       "    <tr>\n",
       "      <th>79</th>\n",
       "      <td>neeraj kumar</td>\n",
       "      <td>Won</td>\n",
       "      <td>217</td>\n",
       "    </tr>\n",
       "    <tr>\n",
       "      <th>80</th>\n",
       "      <td>som dutt</td>\n",
       "      <td>Lost</td>\n",
       "      <td>138</td>\n",
       "    </tr>\n",
       "    <tr>\n",
       "      <th>81</th>\n",
       "      <td>som dutt</td>\n",
       "      <td>Won</td>\n",
       "      <td>82</td>\n",
       "    </tr>\n",
       "  </tbody>\n",
       "</table>\n",
       "<p>82 rows × 3 columns</p>\n",
       "</div>"
      ],
      "text/plain": [
       "            VP Name  Deal Status Code  Deal Status Code\n",
       "0         Alam Syed              Lost                62\n",
       "1         Alam Syed               Won                64\n",
       "2   Ankita Aggarwal              Lost               866\n",
       "3   Ankita Aggarwal               Won               277\n",
       "4    Brendon Wycoff              Lost               132\n",
       "..              ...               ...               ...\n",
       "77        md. afsar              Lost                 2\n",
       "78     neeraj kumar              Lost               254\n",
       "79     neeraj kumar               Won               217\n",
       "80         som dutt              Lost               138\n",
       "81         som dutt               Won                82\n",
       "\n",
       "[82 rows x 3 columns]"
      ]
     },
     "execution_count": 43,
     "metadata": {},
     "output_type": "execute_result"
    }
   ],
   "source": [
    "rel_vpname"
   ]
  },
  {
   "cell_type": "code",
   "execution_count": 44,
   "id": "d66aabe8",
   "metadata": {},
   "outputs": [],
   "source": [
    "rel_manager = win_loss[['Manager Name',\n",
    "                     'Deal Status Code']].groupby(['Manager Name',\n",
    "                                                   'Deal Status Code']).size().reset_index().rename(columns={0:'Deal Status Code'})"
   ]
  },
  {
   "cell_type": "code",
   "execution_count": 45,
   "id": "76d7058e",
   "metadata": {},
   "outputs": [
    {
     "data": {
      "text/html": [
       "<div>\n",
       "<style scoped>\n",
       "    .dataframe tbody tr th:only-of-type {\n",
       "        vertical-align: middle;\n",
       "    }\n",
       "\n",
       "    .dataframe tbody tr th {\n",
       "        vertical-align: top;\n",
       "    }\n",
       "\n",
       "    .dataframe thead th {\n",
       "        text-align: right;\n",
       "    }\n",
       "</style>\n",
       "<table border=\"1\" class=\"dataframe\">\n",
       "  <thead>\n",
       "    <tr style=\"text-align: right;\">\n",
       "      <th></th>\n",
       "      <th>Manager Name</th>\n",
       "      <th>Deal Status Code</th>\n",
       "      <th>Deal Status Code</th>\n",
       "    </tr>\n",
       "  </thead>\n",
       "  <tbody>\n",
       "    <tr>\n",
       "      <th>0</th>\n",
       "      <td>Aastha Gandhi</td>\n",
       "      <td>Won</td>\n",
       "      <td>1</td>\n",
       "    </tr>\n",
       "    <tr>\n",
       "      <th>1</th>\n",
       "      <td>Abhinav Warrier</td>\n",
       "      <td>Lost</td>\n",
       "      <td>80</td>\n",
       "    </tr>\n",
       "    <tr>\n",
       "      <th>2</th>\n",
       "      <td>Abhinav Warrier</td>\n",
       "      <td>Won</td>\n",
       "      <td>15</td>\n",
       "    </tr>\n",
       "    <tr>\n",
       "      <th>3</th>\n",
       "      <td>Abhishek Singhal</td>\n",
       "      <td>Lost</td>\n",
       "      <td>44</td>\n",
       "    </tr>\n",
       "    <tr>\n",
       "      <th>4</th>\n",
       "      <td>Abhishek Singhal</td>\n",
       "      <td>Won</td>\n",
       "      <td>23</td>\n",
       "    </tr>\n",
       "    <tr>\n",
       "      <th>...</th>\n",
       "      <td>...</td>\n",
       "      <td>...</td>\n",
       "      <td>...</td>\n",
       "    </tr>\n",
       "    <tr>\n",
       "      <th>470</th>\n",
       "      <td>sunder paal</td>\n",
       "      <td>Won</td>\n",
       "      <td>6</td>\n",
       "    </tr>\n",
       "    <tr>\n",
       "      <th>471</th>\n",
       "      <td>vansu dev</td>\n",
       "      <td>Lost</td>\n",
       "      <td>78</td>\n",
       "    </tr>\n",
       "    <tr>\n",
       "      <th>472</th>\n",
       "      <td>vansu dev</td>\n",
       "      <td>Won</td>\n",
       "      <td>54</td>\n",
       "    </tr>\n",
       "    <tr>\n",
       "      <th>473</th>\n",
       "      <td>vinit katariya</td>\n",
       "      <td>Lost</td>\n",
       "      <td>14</td>\n",
       "    </tr>\n",
       "    <tr>\n",
       "      <th>474</th>\n",
       "      <td>vinit katariya</td>\n",
       "      <td>Won</td>\n",
       "      <td>2</td>\n",
       "    </tr>\n",
       "  </tbody>\n",
       "</table>\n",
       "<p>475 rows × 3 columns</p>\n",
       "</div>"
      ],
      "text/plain": [
       "         Manager Name  Deal Status Code  Deal Status Code\n",
       "0       Aastha Gandhi               Won                 1\n",
       "1     Abhinav Warrier              Lost                80\n",
       "2     Abhinav Warrier               Won                15\n",
       "3    Abhishek Singhal              Lost                44\n",
       "4    Abhishek Singhal               Won                23\n",
       "..                ...               ...               ...\n",
       "470       sunder paal               Won                 6\n",
       "471         vansu dev              Lost                78\n",
       "472         vansu dev               Won                54\n",
       "473    vinit katariya              Lost                14\n",
       "474    vinit katariya               Won                 2\n",
       "\n",
       "[475 rows x 3 columns]"
      ]
     },
     "execution_count": 45,
     "metadata": {},
     "output_type": "execute_result"
    }
   ],
   "source": [
    "rel_manager"
   ]
  },
  {
   "cell_type": "code",
   "execution_count": 46,
   "id": "bd4f866d",
   "metadata": {},
   "outputs": [],
   "source": [
    "rel_sector = win_loss[['Sector',\n",
    "                     'Deal Status Code']].groupby(['Sector',\n",
    "                                                   'Deal Status Code']).size().reset_index().rename(columns={0:'Deal Status Code'})"
   ]
  },
  {
   "cell_type": "code",
   "execution_count": 47,
   "id": "23ab5499",
   "metadata": {},
   "outputs": [
    {
     "data": {
      "text/html": [
       "<div>\n",
       "<style scoped>\n",
       "    .dataframe tbody tr th:only-of-type {\n",
       "        vertical-align: middle;\n",
       "    }\n",
       "\n",
       "    .dataframe tbody tr th {\n",
       "        vertical-align: top;\n",
       "    }\n",
       "\n",
       "    .dataframe thead th {\n",
       "        text-align: right;\n",
       "    }\n",
       "</style>\n",
       "<table border=\"1\" class=\"dataframe\">\n",
       "  <thead>\n",
       "    <tr style=\"text-align: right;\">\n",
       "      <th></th>\n",
       "      <th>Sector</th>\n",
       "      <th>Deal Status Code</th>\n",
       "      <th>Deal Status Code</th>\n",
       "    </tr>\n",
       "  </thead>\n",
       "  <tbody>\n",
       "    <tr>\n",
       "      <th>0</th>\n",
       "      <td>Sector 1</td>\n",
       "      <td>Lost</td>\n",
       "      <td>158</td>\n",
       "    </tr>\n",
       "    <tr>\n",
       "      <th>1</th>\n",
       "      <td>Sector 1</td>\n",
       "      <td>Won</td>\n",
       "      <td>73</td>\n",
       "    </tr>\n",
       "    <tr>\n",
       "      <th>2</th>\n",
       "      <td>Sector 10</td>\n",
       "      <td>Lost</td>\n",
       "      <td>2</td>\n",
       "    </tr>\n",
       "    <tr>\n",
       "      <th>3</th>\n",
       "      <td>Sector 10</td>\n",
       "      <td>Won</td>\n",
       "      <td>1</td>\n",
       "    </tr>\n",
       "    <tr>\n",
       "      <th>4</th>\n",
       "      <td>Sector 11</td>\n",
       "      <td>Lost</td>\n",
       "      <td>86</td>\n",
       "    </tr>\n",
       "    <tr>\n",
       "      <th>5</th>\n",
       "      <td>Sector 11</td>\n",
       "      <td>Won</td>\n",
       "      <td>28</td>\n",
       "    </tr>\n",
       "    <tr>\n",
       "      <th>6</th>\n",
       "      <td>Sector 12</td>\n",
       "      <td>Lost</td>\n",
       "      <td>406</td>\n",
       "    </tr>\n",
       "    <tr>\n",
       "      <th>7</th>\n",
       "      <td>Sector 12</td>\n",
       "      <td>Won</td>\n",
       "      <td>201</td>\n",
       "    </tr>\n",
       "    <tr>\n",
       "      <th>8</th>\n",
       "      <td>Sector 13</td>\n",
       "      <td>Lost</td>\n",
       "      <td>148</td>\n",
       "    </tr>\n",
       "    <tr>\n",
       "      <th>9</th>\n",
       "      <td>Sector 13</td>\n",
       "      <td>Won</td>\n",
       "      <td>37</td>\n",
       "    </tr>\n",
       "    <tr>\n",
       "      <th>10</th>\n",
       "      <td>Sector 14</td>\n",
       "      <td>Lost</td>\n",
       "      <td>82</td>\n",
       "    </tr>\n",
       "    <tr>\n",
       "      <th>11</th>\n",
       "      <td>Sector 14</td>\n",
       "      <td>Won</td>\n",
       "      <td>27</td>\n",
       "    </tr>\n",
       "    <tr>\n",
       "      <th>12</th>\n",
       "      <td>Sector 15</td>\n",
       "      <td>Lost</td>\n",
       "      <td>234</td>\n",
       "    </tr>\n",
       "    <tr>\n",
       "      <th>13</th>\n",
       "      <td>Sector 15</td>\n",
       "      <td>Won</td>\n",
       "      <td>153</td>\n",
       "    </tr>\n",
       "    <tr>\n",
       "      <th>14</th>\n",
       "      <td>Sector 16</td>\n",
       "      <td>Lost</td>\n",
       "      <td>316</td>\n",
       "    </tr>\n",
       "    <tr>\n",
       "      <th>15</th>\n",
       "      <td>Sector 16</td>\n",
       "      <td>Won</td>\n",
       "      <td>158</td>\n",
       "    </tr>\n",
       "    <tr>\n",
       "      <th>16</th>\n",
       "      <td>Sector 17</td>\n",
       "      <td>Lost</td>\n",
       "      <td>274</td>\n",
       "    </tr>\n",
       "    <tr>\n",
       "      <th>17</th>\n",
       "      <td>Sector 17</td>\n",
       "      <td>Won</td>\n",
       "      <td>200</td>\n",
       "    </tr>\n",
       "    <tr>\n",
       "      <th>18</th>\n",
       "      <td>Sector 18</td>\n",
       "      <td>Lost</td>\n",
       "      <td>172</td>\n",
       "    </tr>\n",
       "    <tr>\n",
       "      <th>19</th>\n",
       "      <td>Sector 18</td>\n",
       "      <td>Won</td>\n",
       "      <td>79</td>\n",
       "    </tr>\n",
       "    <tr>\n",
       "      <th>20</th>\n",
       "      <td>Sector 19</td>\n",
       "      <td>Lost</td>\n",
       "      <td>84</td>\n",
       "    </tr>\n",
       "    <tr>\n",
       "      <th>21</th>\n",
       "      <td>Sector 19</td>\n",
       "      <td>Won</td>\n",
       "      <td>58</td>\n",
       "    </tr>\n",
       "    <tr>\n",
       "      <th>22</th>\n",
       "      <td>Sector 2</td>\n",
       "      <td>Lost</td>\n",
       "      <td>1152</td>\n",
       "    </tr>\n",
       "    <tr>\n",
       "      <th>23</th>\n",
       "      <td>Sector 2</td>\n",
       "      <td>Won</td>\n",
       "      <td>596</td>\n",
       "    </tr>\n",
       "    <tr>\n",
       "      <th>24</th>\n",
       "      <td>Sector 20</td>\n",
       "      <td>Lost</td>\n",
       "      <td>384</td>\n",
       "    </tr>\n",
       "    <tr>\n",
       "      <th>25</th>\n",
       "      <td>Sector 20</td>\n",
       "      <td>Won</td>\n",
       "      <td>389</td>\n",
       "    </tr>\n",
       "    <tr>\n",
       "      <th>26</th>\n",
       "      <td>Sector 21</td>\n",
       "      <td>Lost</td>\n",
       "      <td>10</td>\n",
       "    </tr>\n",
       "    <tr>\n",
       "      <th>27</th>\n",
       "      <td>Sector 21</td>\n",
       "      <td>Won</td>\n",
       "      <td>20</td>\n",
       "    </tr>\n",
       "    <tr>\n",
       "      <th>28</th>\n",
       "      <td>Sector 22</td>\n",
       "      <td>Lost</td>\n",
       "      <td>90</td>\n",
       "    </tr>\n",
       "    <tr>\n",
       "      <th>29</th>\n",
       "      <td>Sector 22</td>\n",
       "      <td>Won</td>\n",
       "      <td>54</td>\n",
       "    </tr>\n",
       "    <tr>\n",
       "      <th>30</th>\n",
       "      <td>Sector 23</td>\n",
       "      <td>Lost</td>\n",
       "      <td>1640</td>\n",
       "    </tr>\n",
       "    <tr>\n",
       "      <th>31</th>\n",
       "      <td>Sector 23</td>\n",
       "      <td>Won</td>\n",
       "      <td>1053</td>\n",
       "    </tr>\n",
       "    <tr>\n",
       "      <th>32</th>\n",
       "      <td>Sector 24</td>\n",
       "      <td>Lost</td>\n",
       "      <td>360</td>\n",
       "    </tr>\n",
       "    <tr>\n",
       "      <th>33</th>\n",
       "      <td>Sector 24</td>\n",
       "      <td>Won</td>\n",
       "      <td>218</td>\n",
       "    </tr>\n",
       "    <tr>\n",
       "      <th>34</th>\n",
       "      <td>Sector 25</td>\n",
       "      <td>Lost</td>\n",
       "      <td>178</td>\n",
       "    </tr>\n",
       "    <tr>\n",
       "      <th>35</th>\n",
       "      <td>Sector 25</td>\n",
       "      <td>Won</td>\n",
       "      <td>95</td>\n",
       "    </tr>\n",
       "    <tr>\n",
       "      <th>36</th>\n",
       "      <td>Sector 3</td>\n",
       "      <td>Lost</td>\n",
       "      <td>90</td>\n",
       "    </tr>\n",
       "    <tr>\n",
       "      <th>37</th>\n",
       "      <td>Sector 3</td>\n",
       "      <td>Won</td>\n",
       "      <td>45</td>\n",
       "    </tr>\n",
       "    <tr>\n",
       "      <th>38</th>\n",
       "      <td>Sector 4</td>\n",
       "      <td>Lost</td>\n",
       "      <td>88</td>\n",
       "    </tr>\n",
       "    <tr>\n",
       "      <th>39</th>\n",
       "      <td>Sector 4</td>\n",
       "      <td>Won</td>\n",
       "      <td>40</td>\n",
       "    </tr>\n",
       "    <tr>\n",
       "      <th>40</th>\n",
       "      <td>Sector 5</td>\n",
       "      <td>Lost</td>\n",
       "      <td>52</td>\n",
       "    </tr>\n",
       "    <tr>\n",
       "      <th>41</th>\n",
       "      <td>Sector 5</td>\n",
       "      <td>Won</td>\n",
       "      <td>12</td>\n",
       "    </tr>\n",
       "    <tr>\n",
       "      <th>42</th>\n",
       "      <td>Sector 6</td>\n",
       "      <td>Lost</td>\n",
       "      <td>62</td>\n",
       "    </tr>\n",
       "    <tr>\n",
       "      <th>43</th>\n",
       "      <td>Sector 6</td>\n",
       "      <td>Won</td>\n",
       "      <td>34</td>\n",
       "    </tr>\n",
       "    <tr>\n",
       "      <th>44</th>\n",
       "      <td>Sector 7</td>\n",
       "      <td>Lost</td>\n",
       "      <td>6</td>\n",
       "    </tr>\n",
       "    <tr>\n",
       "      <th>45</th>\n",
       "      <td>Sector 7</td>\n",
       "      <td>Won</td>\n",
       "      <td>8</td>\n",
       "    </tr>\n",
       "    <tr>\n",
       "      <th>46</th>\n",
       "      <td>Sector 8</td>\n",
       "      <td>Lost</td>\n",
       "      <td>30</td>\n",
       "    </tr>\n",
       "    <tr>\n",
       "      <th>47</th>\n",
       "      <td>Sector 8</td>\n",
       "      <td>Won</td>\n",
       "      <td>9</td>\n",
       "    </tr>\n",
       "    <tr>\n",
       "      <th>48</th>\n",
       "      <td>Sector 9</td>\n",
       "      <td>Lost</td>\n",
       "      <td>202</td>\n",
       "    </tr>\n",
       "    <tr>\n",
       "      <th>49</th>\n",
       "      <td>Sector 9</td>\n",
       "      <td>Won</td>\n",
       "      <td>167</td>\n",
       "    </tr>\n",
       "  </tbody>\n",
       "</table>\n",
       "</div>"
      ],
      "text/plain": [
       "       Sector  Deal Status Code  Deal Status Code\n",
       "0    Sector 1              Lost               158\n",
       "1    Sector 1               Won                73\n",
       "2   Sector 10              Lost                 2\n",
       "3   Sector 10               Won                 1\n",
       "4   Sector 11              Lost                86\n",
       "5   Sector 11               Won                28\n",
       "6   Sector 12              Lost               406\n",
       "7   Sector 12               Won               201\n",
       "8   Sector 13              Lost               148\n",
       "9   Sector 13               Won                37\n",
       "10  Sector 14              Lost                82\n",
       "11  Sector 14               Won                27\n",
       "12  Sector 15              Lost               234\n",
       "13  Sector 15               Won               153\n",
       "14  Sector 16              Lost               316\n",
       "15  Sector 16               Won               158\n",
       "16  Sector 17              Lost               274\n",
       "17  Sector 17               Won               200\n",
       "18  Sector 18              Lost               172\n",
       "19  Sector 18               Won                79\n",
       "20  Sector 19              Lost                84\n",
       "21  Sector 19               Won                58\n",
       "22   Sector 2              Lost              1152\n",
       "23   Sector 2               Won               596\n",
       "24  Sector 20              Lost               384\n",
       "25  Sector 20               Won               389\n",
       "26  Sector 21              Lost                10\n",
       "27  Sector 21               Won                20\n",
       "28  Sector 22              Lost                90\n",
       "29  Sector 22               Won                54\n",
       "30  Sector 23              Lost              1640\n",
       "31  Sector 23               Won              1053\n",
       "32  Sector 24              Lost               360\n",
       "33  Sector 24               Won               218\n",
       "34  Sector 25              Lost               178\n",
       "35  Sector 25               Won                95\n",
       "36   Sector 3              Lost                90\n",
       "37   Sector 3               Won                45\n",
       "38   Sector 4              Lost                88\n",
       "39   Sector 4               Won                40\n",
       "40   Sector 5              Lost                52\n",
       "41   Sector 5               Won                12\n",
       "42   Sector 6              Lost                62\n",
       "43   Sector 6               Won                34\n",
       "44   Sector 7              Lost                 6\n",
       "45   Sector 7               Won                 8\n",
       "46   Sector 8              Lost                30\n",
       "47   Sector 8               Won                 9\n",
       "48   Sector 9              Lost               202\n",
       "49   Sector 9               Won               167"
      ]
     },
     "execution_count": 47,
     "metadata": {},
     "output_type": "execute_result"
    }
   ],
   "source": [
    "rel_sector"
   ]
  },
  {
   "cell_type": "code",
   "execution_count": 48,
   "id": "25239dfa",
   "metadata": {},
   "outputs": [],
   "source": [
    "rel_location = win_loss[['Location',\n",
    "                     'Deal Status Code']].groupby(['Location',\n",
    "                                                   'Deal Status Code']).size().reset_index().rename(columns={0:'Deal Status Code'})"
   ]
  },
  {
   "cell_type": "code",
   "execution_count": 49,
   "id": "d41d4e7f",
   "metadata": {},
   "outputs": [
    {
     "data": {
      "text/html": [
       "<div>\n",
       "<style scoped>\n",
       "    .dataframe tbody tr th:only-of-type {\n",
       "        vertical-align: middle;\n",
       "    }\n",
       "\n",
       "    .dataframe tbody tr th {\n",
       "        vertical-align: top;\n",
       "    }\n",
       "\n",
       "    .dataframe thead th {\n",
       "        text-align: right;\n",
       "    }\n",
       "</style>\n",
       "<table border=\"1\" class=\"dataframe\">\n",
       "  <thead>\n",
       "    <tr style=\"text-align: right;\">\n",
       "      <th></th>\n",
       "      <th>Location</th>\n",
       "      <th>Deal Status Code</th>\n",
       "      <th>Deal Status Code</th>\n",
       "    </tr>\n",
       "  </thead>\n",
       "  <tbody>\n",
       "    <tr>\n",
       "      <th>0</th>\n",
       "      <td>L1</td>\n",
       "      <td>Lost</td>\n",
       "      <td>912</td>\n",
       "    </tr>\n",
       "    <tr>\n",
       "      <th>1</th>\n",
       "      <td>L1</td>\n",
       "      <td>Won</td>\n",
       "      <td>660</td>\n",
       "    </tr>\n",
       "    <tr>\n",
       "      <th>2</th>\n",
       "      <td>L10</td>\n",
       "      <td>Lost</td>\n",
       "      <td>2230</td>\n",
       "    </tr>\n",
       "    <tr>\n",
       "      <th>3</th>\n",
       "      <td>L10</td>\n",
       "      <td>Won</td>\n",
       "      <td>1130</td>\n",
       "    </tr>\n",
       "    <tr>\n",
       "      <th>4</th>\n",
       "      <td>L11</td>\n",
       "      <td>Lost</td>\n",
       "      <td>232</td>\n",
       "    </tr>\n",
       "    <tr>\n",
       "      <th>5</th>\n",
       "      <td>L11</td>\n",
       "      <td>Won</td>\n",
       "      <td>135</td>\n",
       "    </tr>\n",
       "    <tr>\n",
       "      <th>6</th>\n",
       "      <td>L12</td>\n",
       "      <td>Lost</td>\n",
       "      <td>178</td>\n",
       "    </tr>\n",
       "    <tr>\n",
       "      <th>7</th>\n",
       "      <td>L12</td>\n",
       "      <td>Won</td>\n",
       "      <td>98</td>\n",
       "    </tr>\n",
       "    <tr>\n",
       "      <th>8</th>\n",
       "      <td>L2</td>\n",
       "      <td>Lost</td>\n",
       "      <td>6</td>\n",
       "    </tr>\n",
       "    <tr>\n",
       "      <th>9</th>\n",
       "      <td>L2</td>\n",
       "      <td>Won</td>\n",
       "      <td>2</td>\n",
       "    </tr>\n",
       "    <tr>\n",
       "      <th>10</th>\n",
       "      <td>L3</td>\n",
       "      <td>Lost</td>\n",
       "      <td>356</td>\n",
       "    </tr>\n",
       "    <tr>\n",
       "      <th>11</th>\n",
       "      <td>L3</td>\n",
       "      <td>Won</td>\n",
       "      <td>200</td>\n",
       "    </tr>\n",
       "    <tr>\n",
       "      <th>12</th>\n",
       "      <td>L4</td>\n",
       "      <td>Lost</td>\n",
       "      <td>126</td>\n",
       "    </tr>\n",
       "    <tr>\n",
       "      <th>13</th>\n",
       "      <td>L4</td>\n",
       "      <td>Won</td>\n",
       "      <td>62</td>\n",
       "    </tr>\n",
       "    <tr>\n",
       "      <th>14</th>\n",
       "      <td>L5</td>\n",
       "      <td>Lost</td>\n",
       "      <td>1392</td>\n",
       "    </tr>\n",
       "    <tr>\n",
       "      <th>15</th>\n",
       "      <td>L5</td>\n",
       "      <td>Won</td>\n",
       "      <td>936</td>\n",
       "    </tr>\n",
       "    <tr>\n",
       "      <th>16</th>\n",
       "      <td>L6</td>\n",
       "      <td>Lost</td>\n",
       "      <td>70</td>\n",
       "    </tr>\n",
       "    <tr>\n",
       "      <th>17</th>\n",
       "      <td>L6</td>\n",
       "      <td>Won</td>\n",
       "      <td>30</td>\n",
       "    </tr>\n",
       "    <tr>\n",
       "      <th>18</th>\n",
       "      <td>L7</td>\n",
       "      <td>Lost</td>\n",
       "      <td>174</td>\n",
       "    </tr>\n",
       "    <tr>\n",
       "      <th>19</th>\n",
       "      <td>L7</td>\n",
       "      <td>Won</td>\n",
       "      <td>64</td>\n",
       "    </tr>\n",
       "    <tr>\n",
       "      <th>20</th>\n",
       "      <td>L8</td>\n",
       "      <td>Lost</td>\n",
       "      <td>10</td>\n",
       "    </tr>\n",
       "    <tr>\n",
       "      <th>21</th>\n",
       "      <td>L8</td>\n",
       "      <td>Won</td>\n",
       "      <td>1</td>\n",
       "    </tr>\n",
       "    <tr>\n",
       "      <th>22</th>\n",
       "      <td>L9</td>\n",
       "      <td>Lost</td>\n",
       "      <td>194</td>\n",
       "    </tr>\n",
       "    <tr>\n",
       "      <th>23</th>\n",
       "      <td>L9</td>\n",
       "      <td>Won</td>\n",
       "      <td>46</td>\n",
       "    </tr>\n",
       "    <tr>\n",
       "      <th>24</th>\n",
       "      <td>Others</td>\n",
       "      <td>Lost</td>\n",
       "      <td>426</td>\n",
       "    </tr>\n",
       "    <tr>\n",
       "      <th>25</th>\n",
       "      <td>Others</td>\n",
       "      <td>Won</td>\n",
       "      <td>391</td>\n",
       "    </tr>\n",
       "  </tbody>\n",
       "</table>\n",
       "</div>"
      ],
      "text/plain": [
       "   Location  Deal Status Code  Deal Status Code\n",
       "0        L1              Lost               912\n",
       "1        L1               Won               660\n",
       "2       L10              Lost              2230\n",
       "3       L10               Won              1130\n",
       "4       L11              Lost               232\n",
       "5       L11               Won               135\n",
       "6       L12              Lost               178\n",
       "7       L12               Won                98\n",
       "8        L2              Lost                 6\n",
       "9        L2               Won                 2\n",
       "10       L3              Lost               356\n",
       "11       L3               Won               200\n",
       "12       L4              Lost               126\n",
       "13       L4               Won                62\n",
       "14       L5              Lost              1392\n",
       "15       L5               Won               936\n",
       "16       L6              Lost                70\n",
       "17       L6               Won                30\n",
       "18       L7              Lost               174\n",
       "19       L7               Won                64\n",
       "20       L8              Lost                10\n",
       "21       L8               Won                 1\n",
       "22       L9              Lost               194\n",
       "23       L9               Won                46\n",
       "24   Others              Lost               426\n",
       "25   Others               Won               391"
      ]
     },
     "execution_count": 49,
     "metadata": {},
     "output_type": "execute_result"
    }
   ],
   "source": [
    "rel_location"
   ]
  },
  {
   "cell_type": "markdown",
   "id": "7d3206e8",
   "metadata": {},
   "source": [
    "#### Representing the pivot table for managers and VP on the basis of Deal cost won and loss accordingly"
   ]
  },
  {
   "cell_type": "code",
   "execution_count": 50,
   "id": "4ea942f7",
   "metadata": {},
   "outputs": [
    {
     "data": {
      "text/html": [
       "<div>\n",
       "<style scoped>\n",
       "    .dataframe tbody tr th:only-of-type {\n",
       "        vertical-align: middle;\n",
       "    }\n",
       "\n",
       "    .dataframe tbody tr th {\n",
       "        vertical-align: top;\n",
       "    }\n",
       "\n",
       "    .dataframe thead th {\n",
       "        text-align: right;\n",
       "    }\n",
       "</style>\n",
       "<table border=\"1\" class=\"dataframe\">\n",
       "  <thead>\n",
       "    <tr style=\"text-align: right;\">\n",
       "      <th>Manager Name</th>\n",
       "      <th>Aastha Gandhi</th>\n",
       "      <th>Abhinav Warrier</th>\n",
       "      <th>Abhishek Singhal</th>\n",
       "      <th>Abhiskek Kumar</th>\n",
       "      <th>Abhiskhek  D</th>\n",
       "      <th>Abram Fines</th>\n",
       "      <th>Aditya Kumar</th>\n",
       "      <th>Aditya Tondon</th>\n",
       "      <th>Ahdarsha Jha</th>\n",
       "      <th>Ahswini Saini</th>\n",
       "      <th>...</th>\n",
       "      <th>shafibul</th>\n",
       "      <th>sharat chandran</th>\n",
       "      <th>sheak shakir</th>\n",
       "      <th>shiv kumar</th>\n",
       "      <th>shiv shakti singh</th>\n",
       "      <th>shyam kumar</th>\n",
       "      <th>som dutt</th>\n",
       "      <th>sunder paal</th>\n",
       "      <th>vansu dev</th>\n",
       "      <th>vinit katariya</th>\n",
       "    </tr>\n",
       "    <tr>\n",
       "      <th>Deal Status Code</th>\n",
       "      <th></th>\n",
       "      <th></th>\n",
       "      <th></th>\n",
       "      <th></th>\n",
       "      <th></th>\n",
       "      <th></th>\n",
       "      <th></th>\n",
       "      <th></th>\n",
       "      <th></th>\n",
       "      <th></th>\n",
       "      <th></th>\n",
       "      <th></th>\n",
       "      <th></th>\n",
       "      <th></th>\n",
       "      <th></th>\n",
       "      <th></th>\n",
       "      <th></th>\n",
       "      <th></th>\n",
       "      <th></th>\n",
       "      <th></th>\n",
       "      <th></th>\n",
       "    </tr>\n",
       "  </thead>\n",
       "  <tbody>\n",
       "    <tr>\n",
       "      <th>Lost</th>\n",
       "      <td>NaN</td>\n",
       "      <td>588808.824000</td>\n",
       "      <td>772860.963182</td>\n",
       "      <td>949894.957857</td>\n",
       "      <td>440767.973889</td>\n",
       "      <td>501764.706000</td>\n",
       "      <td>792647.06</td>\n",
       "      <td>1058823.53</td>\n",
       "      <td>924866.311818</td>\n",
       "      <td>1029411.77</td>\n",
       "      <td>...</td>\n",
       "      <td>2.867647e+06</td>\n",
       "      <td>441176.470</td>\n",
       "      <td>882352.940000</td>\n",
       "      <td>219019.61</td>\n",
       "      <td>1470588.24</td>\n",
       "      <td>715250.000000</td>\n",
       "      <td>NaN</td>\n",
       "      <td>882352.940</td>\n",
       "      <td>9.687406e+05</td>\n",
       "      <td>1.098739e+06</td>\n",
       "    </tr>\n",
       "    <tr>\n",
       "      <th>Won</th>\n",
       "      <td>242647.06</td>\n",
       "      <td>302235.296667</td>\n",
       "      <td>476956.522609</td>\n",
       "      <td>587507.740789</td>\n",
       "      <td>375658.823600</td>\n",
       "      <td>714127.789655</td>\n",
       "      <td>250367.65</td>\n",
       "      <td>NaN</td>\n",
       "      <td>351102.940000</td>\n",
       "      <td>601470.59</td>\n",
       "      <td>...</td>\n",
       "      <td>NaN</td>\n",
       "      <td>989411.765</td>\n",
       "      <td>461127.451667</td>\n",
       "      <td>NaN</td>\n",
       "      <td>NaN</td>\n",
       "      <td>307769.608333</td>\n",
       "      <td>198627.45</td>\n",
       "      <td>371960.785</td>\n",
       "      <td>1.253295e+06</td>\n",
       "      <td>3.917206e+06</td>\n",
       "    </tr>\n",
       "  </tbody>\n",
       "</table>\n",
       "<p>2 rows × 278 columns</p>\n",
       "</div>"
      ],
      "text/plain": [
       "Manager Name      Aastha Gandhi  Abhinav Warrier  Abhishek Singhal  \\\n",
       "Deal Status Code                                                     \n",
       "Lost                        NaN    588808.824000     772860.963182   \n",
       "Won                   242647.06    302235.296667     476956.522609   \n",
       "\n",
       "Manager Name      Abhiskek Kumar   Abhiskhek  D    Abram Fines  Aditya Kumar  \\\n",
       "Deal Status Code                                                               \n",
       "Lost               949894.957857  440767.973889  501764.706000     792647.06   \n",
       "Won                587507.740789  375658.823600  714127.789655     250367.65   \n",
       "\n",
       "Manager Name      Aditya Tondon   Ahdarsha Jha  Ahswini Saini  ...  \\\n",
       "Deal Status Code                                               ...   \n",
       "Lost                 1058823.53  924866.311818     1029411.77  ...   \n",
       "Won                         NaN  351102.940000      601470.59  ...   \n",
       "\n",
       "Manager Name          shafibul  sharat chandran   sheak shakir  shiv kumar  \\\n",
       "Deal Status Code                                                             \n",
       "Lost              2.867647e+06       441176.470  882352.940000   219019.61   \n",
       "Won                        NaN       989411.765  461127.451667         NaN   \n",
       "\n",
       "Manager Name      shiv shakti singh    shyam kumar   som dutt  sunder paal  \\\n",
       "Deal Status Code                                                             \n",
       "Lost                     1470588.24  715250.000000        NaN   882352.940   \n",
       "Won                             NaN  307769.608333  198627.45   371960.785   \n",
       "\n",
       "Manager Name         vansu dev  vinit katariya  \n",
       "Deal Status Code                                \n",
       "Lost              9.687406e+05    1.098739e+06  \n",
       "Won               1.253295e+06    3.917206e+06  \n",
       "\n",
       "[2 rows x 278 columns]"
      ]
     },
     "execution_count": 50,
     "metadata": {},
     "output_type": "execute_result"
    }
   ],
   "source": [
    "pd.pivot_table(win_loss, index = 'Deal Status Code', columns = 'Manager Name', values ='Deal Cost')"
   ]
  },
  {
   "cell_type": "code",
   "execution_count": 51,
   "id": "65b5139d",
   "metadata": {},
   "outputs": [
    {
     "data": {
      "text/html": [
       "<div>\n",
       "<style scoped>\n",
       "    .dataframe tbody tr th:only-of-type {\n",
       "        vertical-align: middle;\n",
       "    }\n",
       "\n",
       "    .dataframe tbody tr th {\n",
       "        vertical-align: top;\n",
       "    }\n",
       "\n",
       "    .dataframe thead th {\n",
       "        text-align: right;\n",
       "    }\n",
       "</style>\n",
       "<table border=\"1\" class=\"dataframe\">\n",
       "  <thead>\n",
       "    <tr style=\"text-align: right;\">\n",
       "      <th>VP Name</th>\n",
       "      <th>Alam Syed</th>\n",
       "      <th>Ankita Aggarwal</th>\n",
       "      <th>Brendon Wycoff</th>\n",
       "      <th>Clinton Mani</th>\n",
       "      <th>Dennis Faux</th>\n",
       "      <th>Earline Langton</th>\n",
       "      <th>Ekta Zutshi</th>\n",
       "      <th>Gaurav Sameria</th>\n",
       "      <th>Gayle Molter</th>\n",
       "      <th>Gopa Trilochana</th>\n",
       "      <th>...</th>\n",
       "      <th>Saurabh Singh</th>\n",
       "      <th>Son Mcconnaughy</th>\n",
       "      <th>Varsha Arora</th>\n",
       "      <th>Vidur Hukle</th>\n",
       "      <th>Vikram Rawat</th>\n",
       "      <th>Visvajeet Das</th>\n",
       "      <th>Waylon Mulder</th>\n",
       "      <th>md. afsar</th>\n",
       "      <th>neeraj kumar</th>\n",
       "      <th>som dutt</th>\n",
       "    </tr>\n",
       "    <tr>\n",
       "      <th>Deal Status Code</th>\n",
       "      <th></th>\n",
       "      <th></th>\n",
       "      <th></th>\n",
       "      <th></th>\n",
       "      <th></th>\n",
       "      <th></th>\n",
       "      <th></th>\n",
       "      <th></th>\n",
       "      <th></th>\n",
       "      <th></th>\n",
       "      <th></th>\n",
       "      <th></th>\n",
       "      <th></th>\n",
       "      <th></th>\n",
       "      <th></th>\n",
       "      <th></th>\n",
       "      <th></th>\n",
       "      <th></th>\n",
       "      <th></th>\n",
       "      <th></th>\n",
       "      <th></th>\n",
       "    </tr>\n",
       "  </thead>\n",
       "  <tbody>\n",
       "    <tr>\n",
       "      <th>Lost</th>\n",
       "      <td>1.087144e+06</td>\n",
       "      <td>654206.63000</td>\n",
       "      <td>1.096894e+06</td>\n",
       "      <td>776755.218548</td>\n",
       "      <td>554656.861667</td>\n",
       "      <td>1.189219e+06</td>\n",
       "      <td>7.912821e+05</td>\n",
       "      <td>554590.017879</td>\n",
       "      <td>7.291971e+05</td>\n",
       "      <td>1.464321e+06</td>\n",
       "      <td>...</td>\n",
       "      <td>761066.176429</td>\n",
       "      <td>1.517227e+06</td>\n",
       "      <td>7.272255e+05</td>\n",
       "      <td>615517.241724</td>\n",
       "      <td>1.681103e+06</td>\n",
       "      <td>1176470.59</td>\n",
       "      <td>235294.12</td>\n",
       "      <td>3235294.12</td>\n",
       "      <td>478943.956142</td>\n",
       "      <td>554650.469710</td>\n",
       "    </tr>\n",
       "    <tr>\n",
       "      <th>Won</th>\n",
       "      <td>1.172937e+06</td>\n",
       "      <td>503528.35065</td>\n",
       "      <td>1.909288e+06</td>\n",
       "      <td>600857.843500</td>\n",
       "      <td>315294.120000</td>\n",
       "      <td>6.034314e+05</td>\n",
       "      <td>1.021396e+06</td>\n",
       "      <td>586433.823958</td>\n",
       "      <td>1.282863e+06</td>\n",
       "      <td>8.195701e+05</td>\n",
       "      <td>...</td>\n",
       "      <td>962863.052187</td>\n",
       "      <td>5.470632e+05</td>\n",
       "      <td>3.454505e+06</td>\n",
       "      <td>540581.233095</td>\n",
       "      <td>5.161111e+05</td>\n",
       "      <td>5588235.29</td>\n",
       "      <td>88235.29</td>\n",
       "      <td>NaN</td>\n",
       "      <td>693700.190092</td>\n",
       "      <td>562977.044756</td>\n",
       "    </tr>\n",
       "  </tbody>\n",
       "</table>\n",
       "<p>2 rows × 43 columns</p>\n",
       "</div>"
      ],
      "text/plain": [
       "VP Name              Alam Syed  Ankita Aggarwal  Brendon Wycoff  \\\n",
       "Deal Status Code                                                  \n",
       "Lost              1.087144e+06     654206.63000    1.096894e+06   \n",
       "Won               1.172937e+06     503528.35065    1.909288e+06   \n",
       "\n",
       "VP Name            Clinton Mani    Dennis Faux  Earline Langton   Ekta Zutshi  \\\n",
       "Deal Status Code                                                                \n",
       "Lost              776755.218548  554656.861667     1.189219e+06  7.912821e+05   \n",
       "Won               600857.843500  315294.120000     6.034314e+05  1.021396e+06   \n",
       "\n",
       "VP Name           Gaurav Sameria  Gayle Molter  Gopa Trilochana  ...  \\\n",
       "Deal Status Code                                                 ...   \n",
       "Lost               554590.017879  7.291971e+05     1.464321e+06  ...   \n",
       "Won                586433.823958  1.282863e+06     8.195701e+05  ...   \n",
       "\n",
       "VP Name           Saurabh Singh  Son Mcconnaughy  Varsha Arora    Vidur Hukle  \\\n",
       "Deal Status Code                                                                \n",
       "Lost              761066.176429     1.517227e+06  7.272255e+05  615517.241724   \n",
       "Won               962863.052187     5.470632e+05  3.454505e+06  540581.233095   \n",
       "\n",
       "VP Name           Vikram Rawat  Visvajeet Das  Waylon Mulder   md. afsar  \\\n",
       "Deal Status Code                                                           \n",
       "Lost              1.681103e+06     1176470.59      235294.12  3235294.12   \n",
       "Won               5.161111e+05     5588235.29       88235.29         NaN   \n",
       "\n",
       "VP Name            neeraj kumar       som dutt  \n",
       "Deal Status Code                                \n",
       "Lost              478943.956142  554650.469710  \n",
       "Won               693700.190092  562977.044756  \n",
       "\n",
       "[2 rows x 43 columns]"
      ]
     },
     "execution_count": 51,
     "metadata": {},
     "output_type": "execute_result"
    }
   ],
   "source": [
    "pd.pivot_table(win_loss, index = 'Deal Status Code', columns = 'VP Name', values ='Deal Cost')"
   ]
  },
  {
   "cell_type": "markdown",
   "id": "cffe3d46",
   "metadata": {},
   "source": [
    "#### Segregating the date of the deal into year, month and quarter and observing the trend of the deal cost as per the time schedule"
   ]
  },
  {
   "cell_type": "code",
   "execution_count": 52,
   "id": "57db797f",
   "metadata": {},
   "outputs": [],
   "source": [
    "import datetime\n",
    "win_loss['Deal_Date_year'] = win_loss['Deal Date'].dt.year"
   ]
  },
  {
   "cell_type": "code",
   "execution_count": 53,
   "id": "e0230bf3",
   "metadata": {},
   "outputs": [
    {
     "data": {
      "image/png": "[encoded data removed]",
      "text/plain": [
       "<Figure size 432x288 with 1 Axes>"
      ]
     },
     "metadata": {
      "needs_background": "light"
     },
     "output_type": "display_data"
    }
   ],
   "source": [
    "sns.histplot(win_loss.Deal_Date_year, bins = 8)\n",
    "plt.show()"
   ]
  },
  {
   "cell_type": "code",
   "execution_count": 54,
   "id": "a896b69a",
   "metadata": {},
   "outputs": [],
   "source": [
    "win_loss['Deal_Date_month'] = win_loss['Deal Date'].dt.month"
   ]
  },
  {
   "cell_type": "code",
   "execution_count": 55,
   "id": "1dd15d29",
   "metadata": {},
   "outputs": [
    {
     "data": {
      "image/png": "[encoded data removed]",
      "text/plain": [
       "<Figure size 432x288 with 1 Axes>"
      ]
     },
     "metadata": {
      "needs_background": "light"
     },
     "output_type": "display_data"
    }
   ],
   "source": [
    "sns.histplot(win_loss.Deal_Date_month, bins = 12)\n",
    "plt.show()"
   ]
  },
  {
   "cell_type": "code",
   "execution_count": 56,
   "id": "70650c8c",
   "metadata": {},
   "outputs": [],
   "source": [
    "win_loss['Deal_Date_quarter'] = win_loss['Deal Date'].dt.quarter"
   ]
  },
  {
   "cell_type": "code",
   "execution_count": 57,
   "id": "32de7193",
   "metadata": {},
   "outputs": [
    {
     "data": {
      "image/png": "[encoded data removed]",
      "text/plain": [
       "<Figure size 432x288 with 1 Axes>"
      ]
     },
     "metadata": {
      "needs_background": "light"
     },
     "output_type": "display_data"
    }
   ],
   "source": [
    "sns.histplot(win_loss.Deal_Date_quarter, bins = 4)\n",
    "plt.show()"
   ]
  },
  {
   "cell_type": "code",
   "execution_count": 58,
   "id": "cd1f1bd5",
   "metadata": {},
   "outputs": [
    {
     "data": {
      "text/html": [
       "<div>\n",
       "<style scoped>\n",
       "    .dataframe tbody tr th:only-of-type {\n",
       "        vertical-align: middle;\n",
       "    }\n",
       "\n",
       "    .dataframe tbody tr th {\n",
       "        vertical-align: top;\n",
       "    }\n",
       "\n",
       "    .dataframe thead th {\n",
       "        text-align: right;\n",
       "    }\n",
       "</style>\n",
       "<table border=\"1\" class=\"dataframe\">\n",
       "  <thead>\n",
       "    <tr style=\"text-align: right;\">\n",
       "      <th></th>\n",
       "      <th>Client Category</th>\n",
       "      <th>Solution Type</th>\n",
       "      <th>Deal Date</th>\n",
       "      <th>Sector</th>\n",
       "      <th>Location</th>\n",
       "      <th>VP Name</th>\n",
       "      <th>Manager Name</th>\n",
       "      <th>Deal Cost</th>\n",
       "      <th>Deal Status Code</th>\n",
       "      <th>Deal_Date_year</th>\n",
       "      <th>Deal_Date_month</th>\n",
       "      <th>Deal_Date_quarter</th>\n",
       "    </tr>\n",
       "  </thead>\n",
       "  <tbody>\n",
       "    <tr>\n",
       "      <th>0</th>\n",
       "      <td>Telecom</td>\n",
       "      <td>Solution 7</td>\n",
       "      <td>2012-03-27</td>\n",
       "      <td>Sector 24</td>\n",
       "      <td>L5</td>\n",
       "      <td>Ekta Zutshi</td>\n",
       "      <td>Gopa Trilochana</td>\n",
       "      <td>150000.00</td>\n",
       "      <td>Won</td>\n",
       "      <td>2012</td>\n",
       "      <td>3</td>\n",
       "      <td>1</td>\n",
       "    </tr>\n",
       "    <tr>\n",
       "      <th>1</th>\n",
       "      <td>Telecom</td>\n",
       "      <td>Solution 7</td>\n",
       "      <td>2012-09-25</td>\n",
       "      <td>Sector 24</td>\n",
       "      <td>L5</td>\n",
       "      <td>Ekta Zutshi</td>\n",
       "      <td>Gopa Trilochana</td>\n",
       "      <td>744705.88</td>\n",
       "      <td>Won</td>\n",
       "      <td>2012</td>\n",
       "      <td>9</td>\n",
       "      <td>3</td>\n",
       "    </tr>\n",
       "    <tr>\n",
       "      <th>2</th>\n",
       "      <td>Internal</td>\n",
       "      <td>Solution 59</td>\n",
       "      <td>2011-08-01</td>\n",
       "      <td>Sector 20</td>\n",
       "      <td>Others</td>\n",
       "      <td>Ekta Zutshi</td>\n",
       "      <td>Russell Dahlen</td>\n",
       "      <td>60000.00</td>\n",
       "      <td>Lost</td>\n",
       "      <td>2011</td>\n",
       "      <td>8</td>\n",
       "      <td>3</td>\n",
       "    </tr>\n",
       "    <tr>\n",
       "      <th>3</th>\n",
       "      <td>Internal</td>\n",
       "      <td>Solution 59</td>\n",
       "      <td>2011-04-28</td>\n",
       "      <td>Sector 20</td>\n",
       "      <td>Others</td>\n",
       "      <td>Ekta Zutshi</td>\n",
       "      <td>Russell Dahlen</td>\n",
       "      <td>60000.00</td>\n",
       "      <td>Lost</td>\n",
       "      <td>2011</td>\n",
       "      <td>4</td>\n",
       "      <td>2</td>\n",
       "    </tr>\n",
       "    <tr>\n",
       "      <th>4</th>\n",
       "      <td>Internal</td>\n",
       "      <td>Solution 32</td>\n",
       "      <td>2011-06-03</td>\n",
       "      <td>Sector 20</td>\n",
       "      <td>Others</td>\n",
       "      <td>Ekta Zutshi</td>\n",
       "      <td>Russell Dahlen</td>\n",
       "      <td>80882.35</td>\n",
       "      <td>Lost</td>\n",
       "      <td>2011</td>\n",
       "      <td>6</td>\n",
       "      <td>2</td>\n",
       "    </tr>\n",
       "    <tr>\n",
       "      <th>5</th>\n",
       "      <td>Internal</td>\n",
       "      <td>Solution 32</td>\n",
       "      <td>2011-05-24</td>\n",
       "      <td>Sector 20</td>\n",
       "      <td>Others</td>\n",
       "      <td>Ekta Zutshi</td>\n",
       "      <td>Russell Dahlen</td>\n",
       "      <td>80882.35</td>\n",
       "      <td>Lost</td>\n",
       "      <td>2011</td>\n",
       "      <td>5</td>\n",
       "      <td>2</td>\n",
       "    </tr>\n",
       "    <tr>\n",
       "      <th>6</th>\n",
       "      <td>Internal</td>\n",
       "      <td>Solution 59</td>\n",
       "      <td>2011-11-03</td>\n",
       "      <td>Sector 2</td>\n",
       "      <td>L10</td>\n",
       "      <td>Mervin Harwood</td>\n",
       "      <td>rahul sharma</td>\n",
       "      <td>526176.47</td>\n",
       "      <td>Won</td>\n",
       "      <td>2011</td>\n",
       "      <td>11</td>\n",
       "      <td>4</td>\n",
       "    </tr>\n",
       "    <tr>\n",
       "      <th>7</th>\n",
       "      <td>Govt</td>\n",
       "      <td>Solution 7</td>\n",
       "      <td>2012-09-17</td>\n",
       "      <td>Sector 13</td>\n",
       "      <td>L5</td>\n",
       "      <td>Sargar Deep Rao</td>\n",
       "      <td>Vidur Hukle</td>\n",
       "      <td>409705.88</td>\n",
       "      <td>Lost</td>\n",
       "      <td>2012</td>\n",
       "      <td>9</td>\n",
       "      <td>3</td>\n",
       "    </tr>\n",
       "    <tr>\n",
       "      <th>8</th>\n",
       "      <td>Consumer Good</td>\n",
       "      <td>Solution 42</td>\n",
       "      <td>2012-04-11</td>\n",
       "      <td>Sector 12</td>\n",
       "      <td>L10</td>\n",
       "      <td>Lilli Storrs</td>\n",
       "      <td>Md. Daud</td>\n",
       "      <td>1032352.94</td>\n",
       "      <td>Won</td>\n",
       "      <td>2012</td>\n",
       "      <td>4</td>\n",
       "      <td>2</td>\n",
       "    </tr>\n",
       "    <tr>\n",
       "      <th>9</th>\n",
       "      <td>Internal</td>\n",
       "      <td>Solution 59</td>\n",
       "      <td>2011-11-17</td>\n",
       "      <td>Sector 20</td>\n",
       "      <td>Others</td>\n",
       "      <td>Sargar Deep Rao</td>\n",
       "      <td>Hardeep Suksma</td>\n",
       "      <td>558823.53</td>\n",
       "      <td>Lost</td>\n",
       "      <td>2011</td>\n",
       "      <td>11</td>\n",
       "      <td>4</td>\n",
       "    </tr>\n",
       "  </tbody>\n",
       "</table>\n",
       "</div>"
      ],
      "text/plain": [
       "  Client Category Solution Type  Deal Date     Sector Location  \\\n",
       "0         Telecom    Solution 7 2012-03-27  Sector 24       L5   \n",
       "1         Telecom    Solution 7 2012-09-25  Sector 24       L5   \n",
       "2        Internal   Solution 59 2011-08-01  Sector 20   Others   \n",
       "3        Internal   Solution 59 2011-04-28  Sector 20   Others   \n",
       "4        Internal   Solution 32 2011-06-03  Sector 20   Others   \n",
       "5        Internal   Solution 32 2011-05-24  Sector 20   Others   \n",
       "6        Internal   Solution 59 2011-11-03   Sector 2      L10   \n",
       "7            Govt    Solution 7 2012-09-17  Sector 13       L5   \n",
       "8   Consumer Good   Solution 42 2012-04-11  Sector 12      L10   \n",
       "9        Internal   Solution 59 2011-11-17  Sector 20   Others   \n",
       "\n",
       "           VP Name     Manager Name   Deal Cost Deal Status Code  \\\n",
       "0      Ekta Zutshi  Gopa Trilochana   150000.00              Won   \n",
       "1      Ekta Zutshi  Gopa Trilochana   744705.88              Won   \n",
       "2      Ekta Zutshi   Russell Dahlen    60000.00             Lost   \n",
       "3      Ekta Zutshi   Russell Dahlen    60000.00             Lost   \n",
       "4      Ekta Zutshi   Russell Dahlen    80882.35             Lost   \n",
       "5      Ekta Zutshi   Russell Dahlen    80882.35             Lost   \n",
       "6   Mervin Harwood     rahul sharma   526176.47              Won   \n",
       "7  Sargar Deep Rao      Vidur Hukle   409705.88             Lost   \n",
       "8     Lilli Storrs         Md. Daud  1032352.94              Won   \n",
       "9  Sargar Deep Rao   Hardeep Suksma   558823.53             Lost   \n",
       "\n",
       "   Deal_Date_year  Deal_Date_month  Deal_Date_quarter  \n",
       "0            2012                3                  1  \n",
       "1            2012                9                  3  \n",
       "2            2011                8                  3  \n",
       "3            2011                4                  2  \n",
       "4            2011                6                  2  \n",
       "5            2011                5                  2  \n",
       "6            2011               11                  4  \n",
       "7            2012                9                  3  \n",
       "8            2012                4                  2  \n",
       "9            2011               11                  4  "
      ]
     },
     "execution_count": 58,
     "metadata": {},
     "output_type": "execute_result"
    }
   ],
   "source": [
    "win_loss.head(10)"
   ]
  },
  {
   "cell_type": "markdown",
   "id": "73f038e2",
   "metadata": {},
   "source": [
    "#### Dropping the original Date column"
   ]
  },
  {
   "cell_type": "code",
   "execution_count": 59,
   "id": "b89ef249",
   "metadata": {},
   "outputs": [],
   "source": [
    "win_loss_new = win_loss.drop(['Deal Date'], axis=1, inplace = False)"
   ]
  },
  {
   "cell_type": "code",
   "execution_count": 60,
   "id": "72be9fa7",
   "metadata": {},
   "outputs": [
    {
     "data": {
      "text/html": [
       "<div>\n",
       "<style scoped>\n",
       "    .dataframe tbody tr th:only-of-type {\n",
       "        vertical-align: middle;\n",
       "    }\n",
       "\n",
       "    .dataframe tbody tr th {\n",
       "        vertical-align: top;\n",
       "    }\n",
       "\n",
       "    .dataframe thead th {\n",
       "        text-align: right;\n",
       "    }\n",
       "</style>\n",
       "<table border=\"1\" class=\"dataframe\">\n",
       "  <thead>\n",
       "    <tr style=\"text-align: right;\">\n",
       "      <th></th>\n",
       "      <th>Client Category</th>\n",
       "      <th>Solution Type</th>\n",
       "      <th>Sector</th>\n",
       "      <th>Location</th>\n",
       "      <th>VP Name</th>\n",
       "      <th>Manager Name</th>\n",
       "      <th>Deal Cost</th>\n",
       "      <th>Deal Status Code</th>\n",
       "      <th>Deal_Date_year</th>\n",
       "      <th>Deal_Date_month</th>\n",
       "      <th>Deal_Date_quarter</th>\n",
       "    </tr>\n",
       "  </thead>\n",
       "  <tbody>\n",
       "    <tr>\n",
       "      <th>0</th>\n",
       "      <td>Telecom</td>\n",
       "      <td>Solution 7</td>\n",
       "      <td>Sector 24</td>\n",
       "      <td>L5</td>\n",
       "      <td>Ekta Zutshi</td>\n",
       "      <td>Gopa Trilochana</td>\n",
       "      <td>150000.00</td>\n",
       "      <td>Won</td>\n",
       "      <td>2012</td>\n",
       "      <td>3</td>\n",
       "      <td>1</td>\n",
       "    </tr>\n",
       "    <tr>\n",
       "      <th>1</th>\n",
       "      <td>Telecom</td>\n",
       "      <td>Solution 7</td>\n",
       "      <td>Sector 24</td>\n",
       "      <td>L5</td>\n",
       "      <td>Ekta Zutshi</td>\n",
       "      <td>Gopa Trilochana</td>\n",
       "      <td>744705.88</td>\n",
       "      <td>Won</td>\n",
       "      <td>2012</td>\n",
       "      <td>9</td>\n",
       "      <td>3</td>\n",
       "    </tr>\n",
       "    <tr>\n",
       "      <th>2</th>\n",
       "      <td>Internal</td>\n",
       "      <td>Solution 59</td>\n",
       "      <td>Sector 20</td>\n",
       "      <td>Others</td>\n",
       "      <td>Ekta Zutshi</td>\n",
       "      <td>Russell Dahlen</td>\n",
       "      <td>60000.00</td>\n",
       "      <td>Lost</td>\n",
       "      <td>2011</td>\n",
       "      <td>8</td>\n",
       "      <td>3</td>\n",
       "    </tr>\n",
       "    <tr>\n",
       "      <th>3</th>\n",
       "      <td>Internal</td>\n",
       "      <td>Solution 59</td>\n",
       "      <td>Sector 20</td>\n",
       "      <td>Others</td>\n",
       "      <td>Ekta Zutshi</td>\n",
       "      <td>Russell Dahlen</td>\n",
       "      <td>60000.00</td>\n",
       "      <td>Lost</td>\n",
       "      <td>2011</td>\n",
       "      <td>4</td>\n",
       "      <td>2</td>\n",
       "    </tr>\n",
       "    <tr>\n",
       "      <th>4</th>\n",
       "      <td>Internal</td>\n",
       "      <td>Solution 32</td>\n",
       "      <td>Sector 20</td>\n",
       "      <td>Others</td>\n",
       "      <td>Ekta Zutshi</td>\n",
       "      <td>Russell Dahlen</td>\n",
       "      <td>80882.35</td>\n",
       "      <td>Lost</td>\n",
       "      <td>2011</td>\n",
       "      <td>6</td>\n",
       "      <td>2</td>\n",
       "    </tr>\n",
       "  </tbody>\n",
       "</table>\n",
       "</div>"
      ],
      "text/plain": [
       "  Client Category Solution Type     Sector Location      VP Name  \\\n",
       "0         Telecom    Solution 7  Sector 24       L5  Ekta Zutshi   \n",
       "1         Telecom    Solution 7  Sector 24       L5  Ekta Zutshi   \n",
       "2        Internal   Solution 59  Sector 20   Others  Ekta Zutshi   \n",
       "3        Internal   Solution 59  Sector 20   Others  Ekta Zutshi   \n",
       "4        Internal   Solution 32  Sector 20   Others  Ekta Zutshi   \n",
       "\n",
       "      Manager Name  Deal Cost Deal Status Code  Deal_Date_year  \\\n",
       "0  Gopa Trilochana  150000.00              Won            2012   \n",
       "1  Gopa Trilochana  744705.88              Won            2012   \n",
       "2   Russell Dahlen   60000.00             Lost            2011   \n",
       "3   Russell Dahlen   60000.00             Lost            2011   \n",
       "4   Russell Dahlen   80882.35             Lost            2011   \n",
       "\n",
       "   Deal_Date_month  Deal_Date_quarter  \n",
       "0                3                  1  \n",
       "1                9                  3  \n",
       "2                8                  3  \n",
       "3                4                  2  \n",
       "4                6                  2  "
      ]
     },
     "execution_count": 60,
     "metadata": {},
     "output_type": "execute_result"
    }
   ],
   "source": [
    "win_loss_new.head()"
   ]
  },
  {
   "cell_type": "markdown",
   "id": "a4b6679b",
   "metadata": {},
   "source": [
    "#### Converting all categorical variables into numerical values by Label Encoder"
   ]
  },
  {
   "cell_type": "code",
   "execution_count": 61,
   "id": "f068f66c",
   "metadata": {},
   "outputs": [],
   "source": [
    "from sklearn.preprocessing import LabelEncoder\n",
    "le = LabelEncoder()\n",
    "win_loss_new['Client Category'] = le.fit_transform(win_loss_new['Client Category'])\n",
    "win_loss_new['Solution Type'] = le.fit_transform(win_loss_new['Solution Type'])\n",
    "win_loss_new['Sector'] = le.fit_transform(win_loss_new['Sector'])\n",
    "win_loss_new['Location'] = le.fit_transform(win_loss_new['Location'])\n",
    "win_loss_new['VP Name'] = le.fit_transform(win_loss_new['VP Name'])\n",
    "win_loss_new['Manager Name'] = le.fit_transform(win_loss_new['Manager Name'])\n",
    "win_loss_new['Deal Status Code'] = le.fit_transform(win_loss_new['Deal Status Code'])"
   ]
  },
  {
   "cell_type": "code",
   "execution_count": 62,
   "id": "8df18984",
   "metadata": {},
   "outputs": [
    {
     "data": {
      "text/html": [
       "<div>\n",
       "<style scoped>\n",
       "    .dataframe tbody tr th:only-of-type {\n",
       "        vertical-align: middle;\n",
       "    }\n",
       "\n",
       "    .dataframe tbody tr th {\n",
       "        vertical-align: top;\n",
       "    }\n",
       "\n",
       "    .dataframe thead th {\n",
       "        text-align: right;\n",
       "    }\n",
       "</style>\n",
       "<table border=\"1\" class=\"dataframe\">\n",
       "  <thead>\n",
       "    <tr style=\"text-align: right;\">\n",
       "      <th></th>\n",
       "      <th>Client Category</th>\n",
       "      <th>Solution Type</th>\n",
       "      <th>Sector</th>\n",
       "      <th>Location</th>\n",
       "      <th>VP Name</th>\n",
       "      <th>Manager Name</th>\n",
       "      <th>Deal Cost</th>\n",
       "      <th>Deal Status Code</th>\n",
       "      <th>Deal_Date_year</th>\n",
       "      <th>Deal_Date_month</th>\n",
       "      <th>Deal_Date_quarter</th>\n",
       "    </tr>\n",
       "  </thead>\n",
       "  <tbody>\n",
       "    <tr>\n",
       "      <th>0</th>\n",
       "      <td>39</td>\n",
       "      <td>64</td>\n",
       "      <td>16</td>\n",
       "      <td>7</td>\n",
       "      <td>6</td>\n",
       "      <td>82</td>\n",
       "      <td>150000.00</td>\n",
       "      <td>1</td>\n",
       "      <td>2012</td>\n",
       "      <td>3</td>\n",
       "      <td>1</td>\n",
       "    </tr>\n",
       "    <tr>\n",
       "      <th>1</th>\n",
       "      <td>39</td>\n",
       "      <td>64</td>\n",
       "      <td>16</td>\n",
       "      <td>7</td>\n",
       "      <td>6</td>\n",
       "      <td>82</td>\n",
       "      <td>744705.88</td>\n",
       "      <td>1</td>\n",
       "      <td>2012</td>\n",
       "      <td>9</td>\n",
       "      <td>3</td>\n",
       "    </tr>\n",
       "    <tr>\n",
       "      <th>2</th>\n",
       "      <td>19</td>\n",
       "      <td>54</td>\n",
       "      <td>12</td>\n",
       "      <td>12</td>\n",
       "      <td>6</td>\n",
       "      <td>183</td>\n",
       "      <td>60000.00</td>\n",
       "      <td>0</td>\n",
       "      <td>2011</td>\n",
       "      <td>8</td>\n",
       "      <td>3</td>\n",
       "    </tr>\n",
       "    <tr>\n",
       "      <th>3</th>\n",
       "      <td>19</td>\n",
       "      <td>54</td>\n",
       "      <td>12</td>\n",
       "      <td>12</td>\n",
       "      <td>6</td>\n",
       "      <td>183</td>\n",
       "      <td>60000.00</td>\n",
       "      <td>0</td>\n",
       "      <td>2011</td>\n",
       "      <td>4</td>\n",
       "      <td>2</td>\n",
       "    </tr>\n",
       "    <tr>\n",
       "      <th>4</th>\n",
       "      <td>19</td>\n",
       "      <td>25</td>\n",
       "      <td>12</td>\n",
       "      <td>12</td>\n",
       "      <td>6</td>\n",
       "      <td>183</td>\n",
       "      <td>80882.35</td>\n",
       "      <td>0</td>\n",
       "      <td>2011</td>\n",
       "      <td>6</td>\n",
       "      <td>2</td>\n",
       "    </tr>\n",
       "  </tbody>\n",
       "</table>\n",
       "</div>"
      ],
      "text/plain": [
       "   Client Category  Solution Type  Sector  Location  VP Name  Manager Name  \\\n",
       "0               39             64      16         7        6            82   \n",
       "1               39             64      16         7        6            82   \n",
       "2               19             54      12        12        6           183   \n",
       "3               19             54      12        12        6           183   \n",
       "4               19             25      12        12        6           183   \n",
       "\n",
       "   Deal Cost  Deal Status Code  Deal_Date_year  Deal_Date_month  \\\n",
       "0  150000.00                 1            2012                3   \n",
       "1  744705.88                 1            2012                9   \n",
       "2   60000.00                 0            2011                8   \n",
       "3   60000.00                 0            2011                4   \n",
       "4   80882.35                 0            2011                6   \n",
       "\n",
       "   Deal_Date_quarter  \n",
       "0                  1  \n",
       "1                  3  \n",
       "2                  3  \n",
       "3                  2  \n",
       "4                  2  "
      ]
     },
     "execution_count": 62,
     "metadata": {},
     "output_type": "execute_result"
    }
   ],
   "source": [
    "win_loss_new.head()"
   ]
  },
  {
   "cell_type": "markdown",
   "id": "09622bd9",
   "metadata": {},
   "source": [
    "#### Segregating the dependent and independent variables"
   ]
  },
  {
   "cell_type": "code",
   "execution_count": 63,
   "id": "4c258421",
   "metadata": {},
   "outputs": [],
   "source": [
    "x = win_loss_new.drop(['Deal Status Code'], axis = 1, inplace = False)\n",
    "y = win_loss_new['Deal Status Code']"
   ]
  },
  {
   "cell_type": "code",
   "execution_count": 64,
   "id": "c5600f32",
   "metadata": {},
   "outputs": [
    {
     "data": {
      "text/html": [
       "<div>\n",
       "<style scoped>\n",
       "    .dataframe tbody tr th:only-of-type {\n",
       "        vertical-align: middle;\n",
       "    }\n",
       "\n",
       "    .dataframe tbody tr th {\n",
       "        vertical-align: top;\n",
       "    }\n",
       "\n",
       "    .dataframe thead th {\n",
       "        text-align: right;\n",
       "    }\n",
       "</style>\n",
       "<table border=\"1\" class=\"dataframe\">\n",
       "  <thead>\n",
       "    <tr style=\"text-align: right;\">\n",
       "      <th></th>\n",
       "      <th>Client Category</th>\n",
       "      <th>Solution Type</th>\n",
       "      <th>Sector</th>\n",
       "      <th>Location</th>\n",
       "      <th>VP Name</th>\n",
       "      <th>Manager Name</th>\n",
       "      <th>Deal Cost</th>\n",
       "      <th>Deal_Date_year</th>\n",
       "      <th>Deal_Date_month</th>\n",
       "      <th>Deal_Date_quarter</th>\n",
       "    </tr>\n",
       "  </thead>\n",
       "  <tbody>\n",
       "    <tr>\n",
       "      <th>0</th>\n",
       "      <td>39</td>\n",
       "      <td>64</td>\n",
       "      <td>16</td>\n",
       "      <td>7</td>\n",
       "      <td>6</td>\n",
       "      <td>82</td>\n",
       "      <td>150000.00</td>\n",
       "      <td>2012</td>\n",
       "      <td>3</td>\n",
       "      <td>1</td>\n",
       "    </tr>\n",
       "    <tr>\n",
       "      <th>1</th>\n",
       "      <td>39</td>\n",
       "      <td>64</td>\n",
       "      <td>16</td>\n",
       "      <td>7</td>\n",
       "      <td>6</td>\n",
       "      <td>82</td>\n",
       "      <td>744705.88</td>\n",
       "      <td>2012</td>\n",
       "      <td>9</td>\n",
       "      <td>3</td>\n",
       "    </tr>\n",
       "    <tr>\n",
       "      <th>2</th>\n",
       "      <td>19</td>\n",
       "      <td>54</td>\n",
       "      <td>12</td>\n",
       "      <td>12</td>\n",
       "      <td>6</td>\n",
       "      <td>183</td>\n",
       "      <td>60000.00</td>\n",
       "      <td>2011</td>\n",
       "      <td>8</td>\n",
       "      <td>3</td>\n",
       "    </tr>\n",
       "    <tr>\n",
       "      <th>3</th>\n",
       "      <td>19</td>\n",
       "      <td>54</td>\n",
       "      <td>12</td>\n",
       "      <td>12</td>\n",
       "      <td>6</td>\n",
       "      <td>183</td>\n",
       "      <td>60000.00</td>\n",
       "      <td>2011</td>\n",
       "      <td>4</td>\n",
       "      <td>2</td>\n",
       "    </tr>\n",
       "    <tr>\n",
       "      <th>4</th>\n",
       "      <td>19</td>\n",
       "      <td>25</td>\n",
       "      <td>12</td>\n",
       "      <td>12</td>\n",
       "      <td>6</td>\n",
       "      <td>183</td>\n",
       "      <td>80882.35</td>\n",
       "      <td>2011</td>\n",
       "      <td>6</td>\n",
       "      <td>2</td>\n",
       "    </tr>\n",
       "  </tbody>\n",
       "</table>\n",
       "</div>"
      ],
      "text/plain": [
       "   Client Category  Solution Type  Sector  Location  VP Name  Manager Name  \\\n",
       "0               39             64      16         7        6            82   \n",
       "1               39             64      16         7        6            82   \n",
       "2               19             54      12        12        6           183   \n",
       "3               19             54      12        12        6           183   \n",
       "4               19             25      12        12        6           183   \n",
       "\n",
       "   Deal Cost  Deal_Date_year  Deal_Date_month  Deal_Date_quarter  \n",
       "0  150000.00            2012                3                  1  \n",
       "1  744705.88            2012                9                  3  \n",
       "2   60000.00            2011                8                  3  \n",
       "3   60000.00            2011                4                  2  \n",
       "4   80882.35            2011                6                  2  "
      ]
     },
     "execution_count": 64,
     "metadata": {},
     "output_type": "execute_result"
    }
   ],
   "source": [
    "x.head()"
   ]
  },
  {
   "cell_type": "code",
   "execution_count": 65,
   "id": "7704b836",
   "metadata": {},
   "outputs": [
    {
     "data": {
      "text/plain": [
       "0    1\n",
       "1    1\n",
       "2    0\n",
       "3    0\n",
       "4    0\n",
       "Name: Deal Status Code, dtype: int32"
      ]
     },
     "execution_count": 65,
     "metadata": {},
     "output_type": "execute_result"
    }
   ],
   "source": [
    "y.head()"
   ]
  },
  {
   "cell_type": "markdown",
   "id": "1cb04fcc",
   "metadata": {},
   "source": [
    "#### Implementing Standard scaler to all the values as Deal cost has very high values"
   ]
  },
  {
   "cell_type": "code",
   "execution_count": 66,
   "id": "c8ecabb1",
   "metadata": {},
   "outputs": [],
   "source": [
    "from sklearn.preprocessing import StandardScaler\n",
    "sc = StandardScaler()\n",
    "x_trans = sc.fit_transform(x)"
   ]
  },
  {
   "cell_type": "code",
   "execution_count": 67,
   "id": "b467d0e6",
   "metadata": {},
   "outputs": [
    {
     "data": {
      "text/plain": [
       "array([[ 1.40299487,  1.29765094,  0.78535088, ..., -1.95607987,\n",
       "        -1.05284355, -1.38567113],\n",
       "       [ 1.40299487,  1.29765094,  0.78535088, ..., -1.95607987,\n",
       "         0.64860619,  0.37425278],\n",
       "       [-0.33339304,  0.86106354,  0.01663725, ..., -2.47767006,\n",
       "         0.36503124,  0.37425278],\n",
       "       ...,\n",
       "       [ 0.70843971,  1.38496843,  2.32277814, ...,  1.69505148,\n",
       "        -1.3364185 , -1.38567113],\n",
       "       [ 0.70843971,  1.0356985 ,  2.32277814, ...,  1.69505148,\n",
       "        -1.61999346, -1.38567113],\n",
       "       [ 0.44798152,  1.38496843, -1.71296842, ...,  1.69505148,\n",
       "        -0.48569363, -0.50570918]])"
      ]
     },
     "execution_count": 67,
     "metadata": {},
     "output_type": "execute_result"
    }
   ],
   "source": [
    "x_trans"
   ]
  },
  {
   "cell_type": "markdown",
   "id": "5f4fb985",
   "metadata": {},
   "source": [
    "#### Converting array valued standard transformation into dataframe for ease of wroking"
   ]
  },
  {
   "cell_type": "code",
   "execution_count": 68,
   "id": "920d2e58",
   "metadata": {},
   "outputs": [],
   "source": [
    "x_std = pd.DataFrame(x_trans, columns = x.columns)"
   ]
  },
  {
   "cell_type": "code",
   "execution_count": 69,
   "id": "01f94d93",
   "metadata": {},
   "outputs": [
    {
     "data": {
      "text/html": [
       "<div>\n",
       "<style scoped>\n",
       "    .dataframe tbody tr th:only-of-type {\n",
       "        vertical-align: middle;\n",
       "    }\n",
       "\n",
       "    .dataframe tbody tr th {\n",
       "        vertical-align: top;\n",
       "    }\n",
       "\n",
       "    .dataframe thead th {\n",
       "        text-align: right;\n",
       "    }\n",
       "</style>\n",
       "<table border=\"1\" class=\"dataframe\">\n",
       "  <thead>\n",
       "    <tr style=\"text-align: right;\">\n",
       "      <th></th>\n",
       "      <th>Client Category</th>\n",
       "      <th>Solution Type</th>\n",
       "      <th>Sector</th>\n",
       "      <th>Location</th>\n",
       "      <th>VP Name</th>\n",
       "      <th>Manager Name</th>\n",
       "      <th>Deal Cost</th>\n",
       "      <th>Deal_Date_year</th>\n",
       "      <th>Deal_Date_month</th>\n",
       "      <th>Deal_Date_quarter</th>\n",
       "    </tr>\n",
       "  </thead>\n",
       "  <tbody>\n",
       "    <tr>\n",
       "      <th>0</th>\n",
       "      <td>1.402995</td>\n",
       "      <td>1.297651</td>\n",
       "      <td>0.785351</td>\n",
       "      <td>0.762917</td>\n",
       "      <td>-1.111200</td>\n",
       "      <td>-0.715444</td>\n",
       "      <td>-0.380844</td>\n",
       "      <td>-1.956080</td>\n",
       "      <td>-1.052844</td>\n",
       "      <td>-1.385671</td>\n",
       "    </tr>\n",
       "    <tr>\n",
       "      <th>1</th>\n",
       "      <td>1.402995</td>\n",
       "      <td>1.297651</td>\n",
       "      <td>0.785351</td>\n",
       "      <td>0.762917</td>\n",
       "      <td>-1.111200</td>\n",
       "      <td>-0.715444</td>\n",
       "      <td>-0.013700</td>\n",
       "      <td>-1.956080</td>\n",
       "      <td>0.648606</td>\n",
       "      <td>0.374253</td>\n",
       "    </tr>\n",
       "    <tr>\n",
       "      <th>2</th>\n",
       "      <td>-0.333393</td>\n",
       "      <td>0.861064</td>\n",
       "      <td>0.016637</td>\n",
       "      <td>2.051956</td>\n",
       "      <td>-1.111200</td>\n",
       "      <td>0.600043</td>\n",
       "      <td>-0.436406</td>\n",
       "      <td>-2.477670</td>\n",
       "      <td>0.365031</td>\n",
       "      <td>0.374253</td>\n",
       "    </tr>\n",
       "    <tr>\n",
       "      <th>3</th>\n",
       "      <td>-0.333393</td>\n",
       "      <td>0.861064</td>\n",
       "      <td>0.016637</td>\n",
       "      <td>2.051956</td>\n",
       "      <td>-1.111200</td>\n",
       "      <td>0.600043</td>\n",
       "      <td>-0.436406</td>\n",
       "      <td>-2.477670</td>\n",
       "      <td>-0.769269</td>\n",
       "      <td>-0.505709</td>\n",
       "    </tr>\n",
       "    <tr>\n",
       "      <th>4</th>\n",
       "      <td>-0.333393</td>\n",
       "      <td>-0.405040</td>\n",
       "      <td>0.016637</td>\n",
       "      <td>2.051956</td>\n",
       "      <td>-1.111200</td>\n",
       "      <td>0.600043</td>\n",
       "      <td>-0.423515</td>\n",
       "      <td>-2.477670</td>\n",
       "      <td>-0.202119</td>\n",
       "      <td>-0.505709</td>\n",
       "    </tr>\n",
       "    <tr>\n",
       "      <th>...</th>\n",
       "      <td>...</td>\n",
       "      <td>...</td>\n",
       "      <td>...</td>\n",
       "      <td>...</td>\n",
       "      <td>...</td>\n",
       "      <td>...</td>\n",
       "      <td>...</td>\n",
       "      <td>...</td>\n",
       "      <td>...</td>\n",
       "      <td>...</td>\n",
       "    </tr>\n",
       "    <tr>\n",
       "      <th>10056</th>\n",
       "      <td>0.708440</td>\n",
       "      <td>1.384968</td>\n",
       "      <td>2.322778</td>\n",
       "      <td>0.762917</td>\n",
       "      <td>0.791545</td>\n",
       "      <td>0.587018</td>\n",
       "      <td>-0.110298</td>\n",
       "      <td>1.695051</td>\n",
       "      <td>-1.052844</td>\n",
       "      <td>-1.385671</td>\n",
       "    </tr>\n",
       "    <tr>\n",
       "      <th>10057</th>\n",
       "      <td>-0.333393</td>\n",
       "      <td>0.904722</td>\n",
       "      <td>0.016637</td>\n",
       "      <td>2.051956</td>\n",
       "      <td>0.791545</td>\n",
       "      <td>0.795412</td>\n",
       "      <td>0.006274</td>\n",
       "      <td>1.695051</td>\n",
       "      <td>-1.052844</td>\n",
       "      <td>-1.385671</td>\n",
       "    </tr>\n",
       "    <tr>\n",
       "      <th>10058</th>\n",
       "      <td>0.708440</td>\n",
       "      <td>1.384968</td>\n",
       "      <td>2.322778</td>\n",
       "      <td>0.762917</td>\n",
       "      <td>0.791545</td>\n",
       "      <td>0.587018</td>\n",
       "      <td>-0.110298</td>\n",
       "      <td>1.695051</td>\n",
       "      <td>-1.336419</td>\n",
       "      <td>-1.385671</td>\n",
       "    </tr>\n",
       "    <tr>\n",
       "      <th>10059</th>\n",
       "      <td>0.708440</td>\n",
       "      <td>1.035699</td>\n",
       "      <td>2.322778</td>\n",
       "      <td>0.762917</td>\n",
       "      <td>-0.035736</td>\n",
       "      <td>-1.132232</td>\n",
       "      <td>1.404583</td>\n",
       "      <td>1.695051</td>\n",
       "      <td>-1.619993</td>\n",
       "      <td>-1.385671</td>\n",
       "    </tr>\n",
       "    <tr>\n",
       "      <th>10060</th>\n",
       "      <td>0.447982</td>\n",
       "      <td>1.384968</td>\n",
       "      <td>-1.712968</td>\n",
       "      <td>-0.783929</td>\n",
       "      <td>1.205185</td>\n",
       "      <td>1.029855</td>\n",
       "      <td>-0.382660</td>\n",
       "      <td>1.695051</td>\n",
       "      <td>-0.485694</td>\n",
       "      <td>-0.505709</td>\n",
       "    </tr>\n",
       "  </tbody>\n",
       "</table>\n",
       "<p>10061 rows × 10 columns</p>\n",
       "</div>"
      ],
      "text/plain": [
       "       Client Category  Solution Type    Sector  Location   VP Name  \\\n",
       "0             1.402995       1.297651  0.785351  0.762917 -1.111200   \n",
       "1             1.402995       1.297651  0.785351  0.762917 -1.111200   \n",
       "2            -0.333393       0.861064  0.016637  2.051956 -1.111200   \n",
       "3            -0.333393       0.861064  0.016637  2.051956 -1.111200   \n",
       "4            -0.333393      -0.405040  0.016637  2.051956 -1.111200   \n",
       "...                ...            ...       ...       ...       ...   \n",
       "10056         0.708440       1.384968  2.322778  0.762917  0.791545   \n",
       "10057        -0.333393       0.904722  0.016637  2.051956  0.791545   \n",
       "10058         0.708440       1.384968  2.322778  0.762917  0.791545   \n",
       "10059         0.708440       1.035699  2.322778  0.762917 -0.035736   \n",
       "10060         0.447982       1.384968 -1.712968 -0.783929  1.205185   \n",
       "\n",
       "       Manager Name  Deal Cost  Deal_Date_year  Deal_Date_month  \\\n",
       "0         -0.715444  -0.380844       -1.956080        -1.052844   \n",
       "1         -0.715444  -0.013700       -1.956080         0.648606   \n",
       "2          0.600043  -0.436406       -2.477670         0.365031   \n",
       "3          0.600043  -0.436406       -2.477670        -0.769269   \n",
       "4          0.600043  -0.423515       -2.477670        -0.202119   \n",
       "...             ...        ...             ...              ...   \n",
       "10056      0.587018  -0.110298        1.695051        -1.052844   \n",
       "10057      0.795412   0.006274        1.695051        -1.052844   \n",
       "10058      0.587018  -0.110298        1.695051        -1.336419   \n",
       "10059     -1.132232   1.404583        1.695051        -1.619993   \n",
       "10060      1.029855  -0.382660        1.695051        -0.485694   \n",
       "\n",
       "       Deal_Date_quarter  \n",
       "0              -1.385671  \n",
       "1               0.374253  \n",
       "2               0.374253  \n",
       "3              -0.505709  \n",
       "4              -0.505709  \n",
       "...                  ...  \n",
       "10056          -1.385671  \n",
       "10057          -1.385671  \n",
       "10058          -1.385671  \n",
       "10059          -1.385671  \n",
       "10060          -0.505709  \n",
       "\n",
       "[10061 rows x 10 columns]"
      ]
     },
     "execution_count": 69,
     "metadata": {},
     "output_type": "execute_result"
    }
   ],
   "source": [
    "x_std"
   ]
  },
  {
   "cell_type": "markdown",
   "id": "678d267f",
   "metadata": {},
   "source": [
    "#### Splitting the dataset into training and testing data for implementing into models"
   ]
  },
  {
   "cell_type": "code",
   "execution_count": 70,
   "id": "3bcdf356",
   "metadata": {},
   "outputs": [],
   "source": [
    "from sklearn.model_selection import train_test_split\n",
    "x_train, x_test, y_train, y_test = train_test_split(x_std, y, train_size=0.7, random_state=101)"
   ]
  },
  {
   "cell_type": "markdown",
   "id": "c66731e4",
   "metadata": {},
   "source": [
    "### Logistic Regression"
   ]
  },
  {
   "cell_type": "code",
   "execution_count": 71,
   "id": "70b56f67",
   "metadata": {},
   "outputs": [
    {
     "data": {
      "text/plain": [
       "LogisticRegression()"
      ]
     },
     "execution_count": 71,
     "metadata": {},
     "output_type": "execute_result"
    }
   ],
   "source": [
    "from sklearn.linear_model import LogisticRegression\n",
    "logr = LogisticRegression()\n",
    "logr.fit(x_train,y_train)"
   ]
  },
  {
   "cell_type": "code",
   "execution_count": 72,
   "id": "56fdb73c",
   "metadata": {},
   "outputs": [],
   "source": [
    "y_pred_logr_test = logr.predict(x_test)\n",
    "y_pred_logr_train = logr.predict(x_train)"
   ]
  },
  {
   "cell_type": "code",
   "execution_count": 73,
   "id": "9dca5bfd",
   "metadata": {},
   "outputs": [],
   "source": [
    "from sklearn.metrics import confusion_matrix, classification_report, accuracy_score"
   ]
  },
  {
   "cell_type": "code",
   "execution_count": 74,
   "id": "0ed418d4",
   "metadata": {},
   "outputs": [
    {
     "name": "stdout",
     "output_type": "stream",
     "text": [
      "[[4343    8]\n",
      " [2684    7]]\n"
     ]
    }
   ],
   "source": [
    "print(confusion_matrix(y_train, y_pred_logr_train))"
   ]
  },
  {
   "cell_type": "code",
   "execution_count": 75,
   "id": "7e4ce340",
   "metadata": {},
   "outputs": [
    {
     "name": "stdout",
     "output_type": "stream",
     "text": [
      "[[1949    6]\n",
      " [1064    0]]\n"
     ]
    }
   ],
   "source": [
    "print(confusion_matrix(y_test, y_pred_logr_test))"
   ]
  },
  {
   "cell_type": "code",
   "execution_count": 76,
   "id": "5ab7bd0a",
   "metadata": {},
   "outputs": [
    {
     "name": "stdout",
     "output_type": "stream",
     "text": [
      "              precision    recall  f1-score   support\n",
      "\n",
      "           0       0.62      1.00      0.76      4351\n",
      "           1       0.47      0.00      0.01      2691\n",
      "\n",
      "    accuracy                           0.62      7042\n",
      "   macro avg       0.54      0.50      0.38      7042\n",
      "weighted avg       0.56      0.62      0.47      7042\n",
      "\n"
     ]
    }
   ],
   "source": [
    "print(classification_report(y_train, y_pred_logr_train))"
   ]
  },
  {
   "cell_type": "code",
   "execution_count": 77,
   "id": "30c30272",
   "metadata": {},
   "outputs": [
    {
     "name": "stdout",
     "output_type": "stream",
     "text": [
      "              precision    recall  f1-score   support\n",
      "\n",
      "           0       0.65      1.00      0.78      1955\n",
      "           1       0.00      0.00      0.00      1064\n",
      "\n",
      "    accuracy                           0.65      3019\n",
      "   macro avg       0.32      0.50      0.39      3019\n",
      "weighted avg       0.42      0.65      0.51      3019\n",
      "\n"
     ]
    }
   ],
   "source": [
    "print(classification_report(y_test, y_pred_logr_test))"
   ]
  },
  {
   "cell_type": "code",
   "execution_count": 78,
   "id": "32980900",
   "metadata": {},
   "outputs": [
    {
     "name": "stdout",
     "output_type": "stream",
     "text": [
      "0.617722238000568\n"
     ]
    }
   ],
   "source": [
    "print(accuracy_score(y_train, y_pred_logr_train))"
   ]
  },
  {
   "cell_type": "markdown",
   "id": "742e3eb8",
   "metadata": {},
   "source": [
    "#### Since accuracy for both train and test is lesser thean 70%, so we can consider that it has high bias"
   ]
  },
  {
   "cell_type": "code",
   "execution_count": 79,
   "id": "3fa8fdd0",
   "metadata": {
    "scrolled": true
   },
   "outputs": [
    {
     "name": "stdout",
     "output_type": "stream",
     "text": [
      "0.6455780059622391\n"
     ]
    }
   ],
   "source": [
    "print(accuracy_score(y_test, y_pred_logr_test))"
   ]
  },
  {
   "cell_type": "markdown",
   "id": "cc70ba47",
   "metadata": {},
   "source": [
    "#### Cross Validation (K-fold method)"
   ]
  },
  {
   "cell_type": "code",
   "execution_count": 80,
   "id": "385393a0",
   "metadata": {},
   "outputs": [],
   "source": [
    "from sklearn.model_selection import cross_val_score, cross_validate\n",
    "accuracy_train = cross_val_score(logr, x_train, y_train, cv=15)\n",
    "accuracy_test = cross_val_score(logr, x_test, y_test, cv=15)"
   ]
  },
  {
   "cell_type": "code",
   "execution_count": 81,
   "id": "541539e4",
   "metadata": {},
   "outputs": [
    {
     "name": "stdout",
     "output_type": "stream",
     "text": [
      "Cross validation accuracy on Training set\n",
      "[0.61702128 0.61489362 0.61914894 0.61489362 0.61489362 0.61276596\n",
      " 0.61702128 0.61833689 0.62260128 0.61833689 0.62046908 0.62260128\n",
      " 0.61833689 0.61620469 0.61407249]\n",
      "Cross validation training accuracy Mean in %\n",
      "61.743985240968414\n",
      "Cross validation training std\n",
      "0.0028554304588804254\n",
      "Cross validation accuracy on Testing set\n",
      "[0.64851485 0.65346535 0.64851485 0.64851485 0.65174129 0.64676617\n",
      " 0.64676617 0.64676617 0.64676617 0.64676617 0.64676617 0.64676617\n",
      " 0.64676617 0.64676617 0.64676617]\n",
      "Cross validation testing accuracy Mean in %\n",
      "64.78941924043153\n",
      "Cross validation testing std\n",
      "0.001995293847105188\n"
     ]
    }
   ],
   "source": [
    "print (\"Cross validation accuracy on Training set\")\n",
    "print (accuracy_train)\n",
    "print (\"Cross validation training accuracy Mean in %\")\n",
    "print (accuracy_train.mean()*100)\n",
    "print (\"Cross validation training std\")\n",
    "print (accuracy_train.std())\n",
    "print (\"Cross validation accuracy on Testing set\")\n",
    "print (accuracy_test)\n",
    "print (\"Cross validation testing accuracy Mean in %\")\n",
    "print (accuracy_test.mean()*100)\n",
    "print (\"Cross validation testing std\")\n",
    "print (accuracy_test.std())"
   ]
  },
  {
   "cell_type": "markdown",
   "id": "146a788a",
   "metadata": {},
   "source": [
    "#### Cross validate function for different scoring parameters"
   ]
  },
  {
   "cell_type": "code",
   "execution_count": 82,
   "id": "2d14f804",
   "metadata": {},
   "outputs": [],
   "source": [
    "scoring = ['precision_macro','recall_macro','accuracy']"
   ]
  },
  {
   "cell_type": "code",
   "execution_count": 83,
   "id": "8eced965",
   "metadata": {},
   "outputs": [
    {
     "data": {
      "text/plain": [
       "{'fit_time': array([1.47432327, 1.36978626, 1.36693692, 1.2825768 , 1.66409636,\n",
       "        1.183918  , 1.27601981, 1.44966817, 1.04065132, 0.73888755,\n",
       "        0.89167905, 1.48881888, 1.72945857, 1.73252606, 1.01615429]),\n",
       " 'score_time': array([0.03124571, 0.00899529, 0.        , 0.        , 0.        ,\n",
       "        0.0099926 , 0.        , 0.00899577, 0.01641154, 0.01499104,\n",
       "        0.00999761, 0.        , 0.01562262, 0.01590967, 0.00899363]),\n",
       " 'test_precision_macro': array([0.32425743, 0.82587065, 0.32425743, 0.32425743, 0.32587065,\n",
       "        0.32338308, 0.32338308, 0.32338308, 0.32338308, 0.32338308,\n",
       "        0.5741206 , 0.5748731 , 0.32338308, 0.32338308, 0.32338308]),\n",
       " 'test_recall_macro': array([0.5       , 0.50704225, 0.5       , 0.5       , 0.5       ,\n",
       "        0.5       , 0.5       , 0.5       , 0.5       , 0.5       ,\n",
       "        0.5031961 , 0.5063922 , 0.5       , 0.5       , 0.5       ]),\n",
       " 'test_accuracy': array([0.64851485, 0.65346535, 0.64851485, 0.64851485, 0.65174129,\n",
       "        0.64676617, 0.64676617, 0.64676617, 0.64676617, 0.64676617,\n",
       "        0.64676617, 0.64676617, 0.64676617, 0.64676617, 0.64676617])}"
      ]
     },
     "execution_count": 83,
     "metadata": {},
     "output_type": "execute_result"
    }
   ],
   "source": [
    "cross_validate(logr, x_test, y_test, cv=15, scoring=scoring)"
   ]
  },
  {
   "cell_type": "markdown",
   "id": "d0547dc8",
   "metadata": {},
   "source": [
    "### GridSearchCV and RandomizedSearchCV"
   ]
  },
  {
   "cell_type": "code",
   "execution_count": 84,
   "id": "047e1035",
   "metadata": {},
   "outputs": [],
   "source": [
    "from sklearn.model_selection import GridSearchCV, RandomizedSearchCV"
   ]
  },
  {
   "cell_type": "code",
   "execution_count": 85,
   "id": "9f4f73a3",
   "metadata": {},
   "outputs": [],
   "source": [
    "parameters = [{'solver': ['newton-cg', 'lbfgs', 'liblinear', 'sag', 'saga']},\n",
    "              {'penalty':['none', 'elasticnet', 'l1', 'l2']},\n",
    "              {'C':[0.001, 0.01, 0.1, 1, 10, 100]}]"
   ]
  },
  {
   "cell_type": "code",
   "execution_count": 86,
   "id": "bd88d2c7",
   "metadata": {},
   "outputs": [],
   "source": [
    "grid_search = GridSearchCV(estimator = logr,param_grid = parameters,scoring = 'accuracy',cv = 15,verbose=0, n_jobs=-1)"
   ]
  },
  {
   "cell_type": "code",
   "execution_count": 87,
   "id": "1fd0c5c1",
   "metadata": {},
   "outputs": [
    {
     "data": {
      "text/plain": [
       "GridSearchCV(cv=15, estimator=LogisticRegression(), n_jobs=-1,\n",
       "             param_grid=[{'solver': ['newton-cg', 'lbfgs', 'liblinear', 'sag',\n",
       "                                     'saga']},\n",
       "                         {'penalty': ['none', 'elasticnet', 'l1', 'l2']},\n",
       "                         {'C': [0.001, 0.01, 0.1, 1, 10, 100]}],\n",
       "             scoring='accuracy')"
      ]
     },
     "execution_count": 87,
     "metadata": {},
     "output_type": "execute_result"
    }
   ],
   "source": [
    "grid_search.fit(x_train, y_train)"
   ]
  },
  {
   "cell_type": "code",
   "execution_count": 88,
   "id": "99e72f5c",
   "metadata": {},
   "outputs": [],
   "source": [
    "res_gcv = grid_search.cv_results_"
   ]
  },
  {
   "cell_type": "code",
   "execution_count": 89,
   "id": "33d76d00",
   "metadata": {},
   "outputs": [],
   "source": [
    "df_gcv = pd.DataFrame(res_gcv)"
   ]
  },
  {
   "cell_type": "code",
   "execution_count": 90,
   "id": "83e9cff7",
   "metadata": {},
   "outputs": [
    {
     "data": {
      "text/html": [
       "<div>\n",
       "<style scoped>\n",
       "    .dataframe tbody tr th:only-of-type {\n",
       "        vertical-align: middle;\n",
       "    }\n",
       "\n",
       "    .dataframe tbody tr th {\n",
       "        vertical-align: top;\n",
       "    }\n",
       "\n",
       "    .dataframe thead th {\n",
       "        text-align: right;\n",
       "    }\n",
       "</style>\n",
       "<table border=\"1\" class=\"dataframe\">\n",
       "  <thead>\n",
       "    <tr style=\"text-align: right;\">\n",
       "      <th></th>\n",
       "      <th>mean_fit_time</th>\n",
       "      <th>std_fit_time</th>\n",
       "      <th>mean_score_time</th>\n",
       "      <th>std_score_time</th>\n",
       "      <th>param_solver</th>\n",
       "      <th>param_penalty</th>\n",
       "      <th>param_C</th>\n",
       "      <th>params</th>\n",
       "      <th>split0_test_score</th>\n",
       "      <th>split1_test_score</th>\n",
       "      <th>...</th>\n",
       "      <th>split8_test_score</th>\n",
       "      <th>split9_test_score</th>\n",
       "      <th>split10_test_score</th>\n",
       "      <th>split11_test_score</th>\n",
       "      <th>split12_test_score</th>\n",
       "      <th>split13_test_score</th>\n",
       "      <th>split14_test_score</th>\n",
       "      <th>mean_test_score</th>\n",
       "      <th>std_test_score</th>\n",
       "      <th>rank_test_score</th>\n",
       "    </tr>\n",
       "  </thead>\n",
       "  <tbody>\n",
       "    <tr>\n",
       "      <th>0</th>\n",
       "      <td>0.146237</td>\n",
       "      <td>0.059028</td>\n",
       "      <td>0.006695</td>\n",
       "      <td>0.012026</td>\n",
       "      <td>newton-cg</td>\n",
       "      <td>NaN</td>\n",
       "      <td>NaN</td>\n",
       "      <td>{'solver': 'newton-cg'}</td>\n",
       "      <td>0.617021</td>\n",
       "      <td>0.614894</td>\n",
       "      <td>...</td>\n",
       "      <td>0.622601</td>\n",
       "      <td>0.618337</td>\n",
       "      <td>0.620469</td>\n",
       "      <td>0.622601</td>\n",
       "      <td>0.618337</td>\n",
       "      <td>0.616205</td>\n",
       "      <td>0.614072</td>\n",
       "      <td>0.617440</td>\n",
       "      <td>0.002855</td>\n",
       "      <td>3</td>\n",
       "    </tr>\n",
       "    <tr>\n",
       "      <th>1</th>\n",
       "      <td>0.060388</td>\n",
       "      <td>0.023398</td>\n",
       "      <td>0.011611</td>\n",
       "      <td>0.017437</td>\n",
       "      <td>lbfgs</td>\n",
       "      <td>NaN</td>\n",
       "      <td>NaN</td>\n",
       "      <td>{'solver': 'lbfgs'}</td>\n",
       "      <td>0.617021</td>\n",
       "      <td>0.614894</td>\n",
       "      <td>...</td>\n",
       "      <td>0.622601</td>\n",
       "      <td>0.618337</td>\n",
       "      <td>0.620469</td>\n",
       "      <td>0.622601</td>\n",
       "      <td>0.618337</td>\n",
       "      <td>0.616205</td>\n",
       "      <td>0.614072</td>\n",
       "      <td>0.617440</td>\n",
       "      <td>0.002855</td>\n",
       "      <td>3</td>\n",
       "    </tr>\n",
       "    <tr>\n",
       "      <th>2</th>\n",
       "      <td>0.101644</td>\n",
       "      <td>0.074856</td>\n",
       "      <td>0.016266</td>\n",
       "      <td>0.025857</td>\n",
       "      <td>liblinear</td>\n",
       "      <td>NaN</td>\n",
       "      <td>NaN</td>\n",
       "      <td>{'solver': 'liblinear'}</td>\n",
       "      <td>0.617021</td>\n",
       "      <td>0.614894</td>\n",
       "      <td>...</td>\n",
       "      <td>0.622601</td>\n",
       "      <td>0.618337</td>\n",
       "      <td>0.620469</td>\n",
       "      <td>0.622601</td>\n",
       "      <td>0.618337</td>\n",
       "      <td>0.616205</td>\n",
       "      <td>0.614072</td>\n",
       "      <td>0.617440</td>\n",
       "      <td>0.002855</td>\n",
       "      <td>3</td>\n",
       "    </tr>\n",
       "    <tr>\n",
       "      <th>3</th>\n",
       "      <td>0.221472</td>\n",
       "      <td>0.042480</td>\n",
       "      <td>0.009862</td>\n",
       "      <td>0.016090</td>\n",
       "      <td>sag</td>\n",
       "      <td>NaN</td>\n",
       "      <td>NaN</td>\n",
       "      <td>{'solver': 'sag'}</td>\n",
       "      <td>0.617021</td>\n",
       "      <td>0.614894</td>\n",
       "      <td>...</td>\n",
       "      <td>0.622601</td>\n",
       "      <td>0.618337</td>\n",
       "      <td>0.620469</td>\n",
       "      <td>0.622601</td>\n",
       "      <td>0.618337</td>\n",
       "      <td>0.616205</td>\n",
       "      <td>0.614072</td>\n",
       "      <td>0.617440</td>\n",
       "      <td>0.002855</td>\n",
       "      <td>3</td>\n",
       "    </tr>\n",
       "    <tr>\n",
       "      <th>4</th>\n",
       "      <td>0.351864</td>\n",
       "      <td>0.034451</td>\n",
       "      <td>0.004798</td>\n",
       "      <td>0.001375</td>\n",
       "      <td>saga</td>\n",
       "      <td>NaN</td>\n",
       "      <td>NaN</td>\n",
       "      <td>{'solver': 'saga'}</td>\n",
       "      <td>0.617021</td>\n",
       "      <td>0.614894</td>\n",
       "      <td>...</td>\n",
       "      <td>0.622601</td>\n",
       "      <td>0.618337</td>\n",
       "      <td>0.620469</td>\n",
       "      <td>0.622601</td>\n",
       "      <td>0.618337</td>\n",
       "      <td>0.616205</td>\n",
       "      <td>0.614072</td>\n",
       "      <td>0.617440</td>\n",
       "      <td>0.002855</td>\n",
       "      <td>3</td>\n",
       "    </tr>\n",
       "    <tr>\n",
       "      <th>5</th>\n",
       "      <td>0.057301</td>\n",
       "      <td>0.010378</td>\n",
       "      <td>0.013259</td>\n",
       "      <td>0.020727</td>\n",
       "      <td>NaN</td>\n",
       "      <td>none</td>\n",
       "      <td>NaN</td>\n",
       "      <td>{'penalty': 'none'}</td>\n",
       "      <td>0.617021</td>\n",
       "      <td>0.614894</td>\n",
       "      <td>...</td>\n",
       "      <td>0.622601</td>\n",
       "      <td>0.618337</td>\n",
       "      <td>0.620469</td>\n",
       "      <td>0.620469</td>\n",
       "      <td>0.618337</td>\n",
       "      <td>0.616205</td>\n",
       "      <td>0.614072</td>\n",
       "      <td>0.617298</td>\n",
       "      <td>0.002640</td>\n",
       "      <td>11</td>\n",
       "    </tr>\n",
       "    <tr>\n",
       "      <th>6</th>\n",
       "      <td>0.003066</td>\n",
       "      <td>0.000771</td>\n",
       "      <td>0.000000</td>\n",
       "      <td>0.000000</td>\n",
       "      <td>NaN</td>\n",
       "      <td>elasticnet</td>\n",
       "      <td>NaN</td>\n",
       "      <td>{'penalty': 'elasticnet'}</td>\n",
       "      <td>NaN</td>\n",
       "      <td>NaN</td>\n",
       "      <td>...</td>\n",
       "      <td>NaN</td>\n",
       "      <td>NaN</td>\n",
       "      <td>NaN</td>\n",
       "      <td>NaN</td>\n",
       "      <td>NaN</td>\n",
       "      <td>NaN</td>\n",
       "      <td>NaN</td>\n",
       "      <td>NaN</td>\n",
       "      <td>NaN</td>\n",
       "      <td>14</td>\n",
       "    </tr>\n",
       "    <tr>\n",
       "      <th>7</th>\n",
       "      <td>0.003732</td>\n",
       "      <td>0.001981</td>\n",
       "      <td>0.000000</td>\n",
       "      <td>0.000000</td>\n",
       "      <td>NaN</td>\n",
       "      <td>l1</td>\n",
       "      <td>NaN</td>\n",
       "      <td>{'penalty': 'l1'}</td>\n",
       "      <td>NaN</td>\n",
       "      <td>NaN</td>\n",
       "      <td>...</td>\n",
       "      <td>NaN</td>\n",
       "      <td>NaN</td>\n",
       "      <td>NaN</td>\n",
       "      <td>NaN</td>\n",
       "      <td>NaN</td>\n",
       "      <td>NaN</td>\n",
       "      <td>NaN</td>\n",
       "      <td>NaN</td>\n",
       "      <td>NaN</td>\n",
       "      <td>15</td>\n",
       "    </tr>\n",
       "    <tr>\n",
       "      <th>8</th>\n",
       "      <td>0.048307</td>\n",
       "      <td>0.014028</td>\n",
       "      <td>0.015857</td>\n",
       "      <td>0.014596</td>\n",
       "      <td>NaN</td>\n",
       "      <td>l2</td>\n",
       "      <td>NaN</td>\n",
       "      <td>{'penalty': 'l2'}</td>\n",
       "      <td>0.617021</td>\n",
       "      <td>0.614894</td>\n",
       "      <td>...</td>\n",
       "      <td>0.622601</td>\n",
       "      <td>0.618337</td>\n",
       "      <td>0.620469</td>\n",
       "      <td>0.622601</td>\n",
       "      <td>0.618337</td>\n",
       "      <td>0.616205</td>\n",
       "      <td>0.614072</td>\n",
       "      <td>0.617440</td>\n",
       "      <td>0.002855</td>\n",
       "      <td>3</td>\n",
       "    </tr>\n",
       "    <tr>\n",
       "      <th>9</th>\n",
       "      <td>0.039911</td>\n",
       "      <td>0.016298</td>\n",
       "      <td>0.011259</td>\n",
       "      <td>0.011095</td>\n",
       "      <td>NaN</td>\n",
       "      <td>NaN</td>\n",
       "      <td>0.001</td>\n",
       "      <td>{'C': 0.001}</td>\n",
       "      <td>0.619149</td>\n",
       "      <td>0.617021</td>\n",
       "      <td>...</td>\n",
       "      <td>0.618337</td>\n",
       "      <td>0.618337</td>\n",
       "      <td>0.618337</td>\n",
       "      <td>0.618337</td>\n",
       "      <td>0.618337</td>\n",
       "      <td>0.618337</td>\n",
       "      <td>0.618337</td>\n",
       "      <td>0.617865</td>\n",
       "      <td>0.000717</td>\n",
       "      <td>1</td>\n",
       "    </tr>\n",
       "    <tr>\n",
       "      <th>10</th>\n",
       "      <td>0.041710</td>\n",
       "      <td>0.016452</td>\n",
       "      <td>0.014325</td>\n",
       "      <td>0.015213</td>\n",
       "      <td>NaN</td>\n",
       "      <td>NaN</td>\n",
       "      <td>0.01</td>\n",
       "      <td>{'C': 0.01}</td>\n",
       "      <td>0.619149</td>\n",
       "      <td>0.614894</td>\n",
       "      <td>...</td>\n",
       "      <td>0.620469</td>\n",
       "      <td>0.618337</td>\n",
       "      <td>0.620469</td>\n",
       "      <td>0.618337</td>\n",
       "      <td>0.618337</td>\n",
       "      <td>0.618337</td>\n",
       "      <td>0.614072</td>\n",
       "      <td>0.617439</td>\n",
       "      <td>0.001943</td>\n",
       "      <td>10</td>\n",
       "    </tr>\n",
       "    <tr>\n",
       "      <th>11</th>\n",
       "      <td>0.059567</td>\n",
       "      <td>0.006403</td>\n",
       "      <td>0.004797</td>\n",
       "      <td>0.000832</td>\n",
       "      <td>NaN</td>\n",
       "      <td>NaN</td>\n",
       "      <td>0.1</td>\n",
       "      <td>{'C': 0.1}</td>\n",
       "      <td>0.617021</td>\n",
       "      <td>0.614894</td>\n",
       "      <td>...</td>\n",
       "      <td>0.622601</td>\n",
       "      <td>0.618337</td>\n",
       "      <td>0.620469</td>\n",
       "      <td>0.622601</td>\n",
       "      <td>0.618337</td>\n",
       "      <td>0.616205</td>\n",
       "      <td>0.614072</td>\n",
       "      <td>0.617724</td>\n",
       "      <td>0.002865</td>\n",
       "      <td>2</td>\n",
       "    </tr>\n",
       "    <tr>\n",
       "      <th>12</th>\n",
       "      <td>0.054102</td>\n",
       "      <td>0.011734</td>\n",
       "      <td>0.009194</td>\n",
       "      <td>0.011385</td>\n",
       "      <td>NaN</td>\n",
       "      <td>NaN</td>\n",
       "      <td>1</td>\n",
       "      <td>{'C': 1}</td>\n",
       "      <td>0.617021</td>\n",
       "      <td>0.614894</td>\n",
       "      <td>...</td>\n",
       "      <td>0.622601</td>\n",
       "      <td>0.618337</td>\n",
       "      <td>0.620469</td>\n",
       "      <td>0.622601</td>\n",
       "      <td>0.618337</td>\n",
       "      <td>0.616205</td>\n",
       "      <td>0.614072</td>\n",
       "      <td>0.617440</td>\n",
       "      <td>0.002855</td>\n",
       "      <td>3</td>\n",
       "    </tr>\n",
       "    <tr>\n",
       "      <th>13</th>\n",
       "      <td>0.051504</td>\n",
       "      <td>0.010639</td>\n",
       "      <td>0.005529</td>\n",
       "      <td>0.005497</td>\n",
       "      <td>NaN</td>\n",
       "      <td>NaN</td>\n",
       "      <td>10</td>\n",
       "      <td>{'C': 10}</td>\n",
       "      <td>0.617021</td>\n",
       "      <td>0.614894</td>\n",
       "      <td>...</td>\n",
       "      <td>0.622601</td>\n",
       "      <td>0.618337</td>\n",
       "      <td>0.620469</td>\n",
       "      <td>0.620469</td>\n",
       "      <td>0.618337</td>\n",
       "      <td>0.616205</td>\n",
       "      <td>0.614072</td>\n",
       "      <td>0.617298</td>\n",
       "      <td>0.002640</td>\n",
       "      <td>11</td>\n",
       "    </tr>\n",
       "    <tr>\n",
       "      <th>14</th>\n",
       "      <td>0.054835</td>\n",
       "      <td>0.010544</td>\n",
       "      <td>0.007195</td>\n",
       "      <td>0.007382</td>\n",
       "      <td>NaN</td>\n",
       "      <td>NaN</td>\n",
       "      <td>100</td>\n",
       "      <td>{'C': 100}</td>\n",
       "      <td>0.617021</td>\n",
       "      <td>0.614894</td>\n",
       "      <td>...</td>\n",
       "      <td>0.622601</td>\n",
       "      <td>0.618337</td>\n",
       "      <td>0.620469</td>\n",
       "      <td>0.620469</td>\n",
       "      <td>0.618337</td>\n",
       "      <td>0.616205</td>\n",
       "      <td>0.614072</td>\n",
       "      <td>0.617298</td>\n",
       "      <td>0.002640</td>\n",
       "      <td>11</td>\n",
       "    </tr>\n",
       "  </tbody>\n",
       "</table>\n",
       "<p>15 rows × 26 columns</p>\n",
       "</div>"
      ],
      "text/plain": [
       "    mean_fit_time  std_fit_time  mean_score_time  std_score_time param_solver  \\\n",
       "0        0.146237      0.059028         0.006695        0.012026    newton-cg   \n",
       "1        0.060388      0.023398         0.011611        0.017437        lbfgs   \n",
       "2        0.101644      0.074856         0.016266        0.025857    liblinear   \n",
       "3        0.221472      0.042480         0.009862        0.016090          sag   \n",
       "4        0.351864      0.034451         0.004798        0.001375         saga   \n",
       "5        0.057301      0.010378         0.013259        0.020727          NaN   \n",
       "6        0.003066      0.000771         0.000000        0.000000          NaN   \n",
       "7        0.003732      0.001981         0.000000        0.000000          NaN   \n",
       "8        0.048307      0.014028         0.015857        0.014596          NaN   \n",
       "9        0.039911      0.016298         0.011259        0.011095          NaN   \n",
       "10       0.041710      0.016452         0.014325        0.015213          NaN   \n",
       "11       0.059567      0.006403         0.004797        0.000832          NaN   \n",
       "12       0.054102      0.011734         0.009194        0.011385          NaN   \n",
       "13       0.051504      0.010639         0.005529        0.005497          NaN   \n",
       "14       0.054835      0.010544         0.007195        0.007382          NaN   \n",
       "\n",
       "   param_penalty param_C                     params  split0_test_score  \\\n",
       "0            NaN     NaN    {'solver': 'newton-cg'}           0.617021   \n",
       "1            NaN     NaN        {'solver': 'lbfgs'}           0.617021   \n",
       "2            NaN     NaN    {'solver': 'liblinear'}           0.617021   \n",
       "3            NaN     NaN          {'solver': 'sag'}           0.617021   \n",
       "4            NaN     NaN         {'solver': 'saga'}           0.617021   \n",
       "5           none     NaN        {'penalty': 'none'}           0.617021   \n",
       "6     elasticnet     NaN  {'penalty': 'elasticnet'}                NaN   \n",
       "7             l1     NaN          {'penalty': 'l1'}                NaN   \n",
       "8             l2     NaN          {'penalty': 'l2'}           0.617021   \n",
       "9            NaN   0.001               {'C': 0.001}           0.619149   \n",
       "10           NaN    0.01                {'C': 0.01}           0.619149   \n",
       "11           NaN     0.1                 {'C': 0.1}           0.617021   \n",
       "12           NaN       1                   {'C': 1}           0.617021   \n",
       "13           NaN      10                  {'C': 10}           0.617021   \n",
       "14           NaN     100                 {'C': 100}           0.617021   \n",
       "\n",
       "    split1_test_score  ...  split8_test_score  split9_test_score  \\\n",
       "0            0.614894  ...           0.622601           0.618337   \n",
       "1            0.614894  ...           0.622601           0.618337   \n",
       "2            0.614894  ...           0.622601           0.618337   \n",
       "3            0.614894  ...           0.622601           0.618337   \n",
       "4            0.614894  ...           0.622601           0.618337   \n",
       "5            0.614894  ...           0.622601           0.618337   \n",
       "6                 NaN  ...                NaN                NaN   \n",
       "7                 NaN  ...                NaN                NaN   \n",
       "8            0.614894  ...           0.622601           0.618337   \n",
       "9            0.617021  ...           0.618337           0.618337   \n",
       "10           0.614894  ...           0.620469           0.618337   \n",
       "11           0.614894  ...           0.622601           0.618337   \n",
       "12           0.614894  ...           0.622601           0.618337   \n",
       "13           0.614894  ...           0.622601           0.618337   \n",
       "14           0.614894  ...           0.622601           0.618337   \n",
       "\n",
       "    split10_test_score  split11_test_score  split12_test_score  \\\n",
       "0             0.620469            0.622601            0.618337   \n",
       "1             0.620469            0.622601            0.618337   \n",
       "2             0.620469            0.622601            0.618337   \n",
       "3             0.620469            0.622601            0.618337   \n",
       "4             0.620469            0.622601            0.618337   \n",
       "5             0.620469            0.620469            0.618337   \n",
       "6                  NaN                 NaN                 NaN   \n",
       "7                  NaN                 NaN                 NaN   \n",
       "8             0.620469            0.622601            0.618337   \n",
       "9             0.618337            0.618337            0.618337   \n",
       "10            0.620469            0.618337            0.618337   \n",
       "11            0.620469            0.622601            0.618337   \n",
       "12            0.620469            0.622601            0.618337   \n",
       "13            0.620469            0.620469            0.618337   \n",
       "14            0.620469            0.620469            0.618337   \n",
       "\n",
       "    split13_test_score  split14_test_score  mean_test_score  std_test_score  \\\n",
       "0             0.616205            0.614072         0.617440        0.002855   \n",
       "1             0.616205            0.614072         0.617440        0.002855   \n",
       "2             0.616205            0.614072         0.617440        0.002855   \n",
       "3             0.616205            0.614072         0.617440        0.002855   \n",
       "4             0.616205            0.614072         0.617440        0.002855   \n",
       "5             0.616205            0.614072         0.617298        0.002640   \n",
       "6                  NaN                 NaN              NaN             NaN   \n",
       "7                  NaN                 NaN              NaN             NaN   \n",
       "8             0.616205            0.614072         0.617440        0.002855   \n",
       "9             0.618337            0.618337         0.617865        0.000717   \n",
       "10            0.618337            0.614072         0.617439        0.001943   \n",
       "11            0.616205            0.614072         0.617724        0.002865   \n",
       "12            0.616205            0.614072         0.617440        0.002855   \n",
       "13            0.616205            0.614072         0.617298        0.002640   \n",
       "14            0.616205            0.614072         0.617298        0.002640   \n",
       "\n",
       "    rank_test_score  \n",
       "0                 3  \n",
       "1                 3  \n",
       "2                 3  \n",
       "3                 3  \n",
       "4                 3  \n",
       "5                11  \n",
       "6                14  \n",
       "7                15  \n",
       "8                 3  \n",
       "9                 1  \n",
       "10               10  \n",
       "11                2  \n",
       "12                3  \n",
       "13               11  \n",
       "14               11  \n",
       "\n",
       "[15 rows x 26 columns]"
      ]
     },
     "execution_count": 90,
     "metadata": {},
     "output_type": "execute_result"
    }
   ],
   "source": [
    "df_gcv"
   ]
  },
  {
   "cell_type": "code",
   "execution_count": 91,
   "id": "dc6b266e",
   "metadata": {},
   "outputs": [
    {
     "data": {
      "text/plain": [
       "LogisticRegression(C=0.001)"
      ]
     },
     "execution_count": 91,
     "metadata": {},
     "output_type": "execute_result"
    }
   ],
   "source": [
    "grid_search.best_estimator_"
   ]
  },
  {
   "cell_type": "code",
   "execution_count": 92,
   "id": "a11d44da",
   "metadata": {},
   "outputs": [
    {
     "data": {
      "text/plain": [
       "{'C': 0.001}"
      ]
     },
     "execution_count": 92,
     "metadata": {},
     "output_type": "execute_result"
    }
   ],
   "source": [
    "grid_search.best_params_"
   ]
  },
  {
   "cell_type": "code",
   "execution_count": 93,
   "id": "ddd9d1c4",
   "metadata": {},
   "outputs": [
    {
     "data": {
      "text/plain": [
       "0.6178647794462339"
      ]
     },
     "execution_count": 93,
     "metadata": {},
     "output_type": "execute_result"
    }
   ],
   "source": [
    "grid_search.best_score_"
   ]
  },
  {
   "cell_type": "code",
   "execution_count": 94,
   "id": "9156ffbe",
   "metadata": {},
   "outputs": [],
   "source": [
    "random_search = RandomizedSearchCV(estimator = logr,param_distributions = parameters, n_iter=10, random_state=1, scoring = 'accuracy',cv = 15,verbose=0, n_jobs=-1)"
   ]
  },
  {
   "cell_type": "code",
   "execution_count": 95,
   "id": "2a167b27",
   "metadata": {},
   "outputs": [
    {
     "data": {
      "text/plain": [
       "RandomizedSearchCV(cv=15, estimator=LogisticRegression(), n_jobs=-1,\n",
       "                   param_distributions=[{'solver': ['newton-cg', 'lbfgs',\n",
       "                                                    'liblinear', 'sag',\n",
       "                                                    'saga']},\n",
       "                                        {'penalty': ['none', 'elasticnet', 'l1',\n",
       "                                                     'l2']},\n",
       "                                        {'C': [0.001, 0.01, 0.1, 1, 10, 100]}],\n",
       "                   random_state=1, scoring='accuracy')"
      ]
     },
     "execution_count": 95,
     "metadata": {},
     "output_type": "execute_result"
    }
   ],
   "source": [
    "random_search.fit(x_train, y_train)"
   ]
  },
  {
   "cell_type": "code",
   "execution_count": 96,
   "id": "0d0c5141",
   "metadata": {},
   "outputs": [],
   "source": [
    "res_rcv = random_search.cv_results_"
   ]
  },
  {
   "cell_type": "code",
   "execution_count": 97,
   "id": "7a9ef85e",
   "metadata": {},
   "outputs": [],
   "source": [
    "df_rcv = pd.DataFrame(res_rcv)"
   ]
  },
  {
   "cell_type": "code",
   "execution_count": 98,
   "id": "ebaf17f8",
   "metadata": {},
   "outputs": [
    {
     "data": {
      "text/html": [
       "<div>\n",
       "<style scoped>\n",
       "    .dataframe tbody tr th:only-of-type {\n",
       "        vertical-align: middle;\n",
       "    }\n",
       "\n",
       "    .dataframe tbody tr th {\n",
       "        vertical-align: top;\n",
       "    }\n",
       "\n",
       "    .dataframe thead th {\n",
       "        text-align: right;\n",
       "    }\n",
       "</style>\n",
       "<table border=\"1\" class=\"dataframe\">\n",
       "  <thead>\n",
       "    <tr style=\"text-align: right;\">\n",
       "      <th></th>\n",
       "      <th>mean_fit_time</th>\n",
       "      <th>std_fit_time</th>\n",
       "      <th>mean_score_time</th>\n",
       "      <th>std_score_time</th>\n",
       "      <th>param_solver</th>\n",
       "      <th>param_penalty</th>\n",
       "      <th>param_C</th>\n",
       "      <th>params</th>\n",
       "      <th>split0_test_score</th>\n",
       "      <th>split1_test_score</th>\n",
       "      <th>...</th>\n",
       "      <th>split8_test_score</th>\n",
       "      <th>split9_test_score</th>\n",
       "      <th>split10_test_score</th>\n",
       "      <th>split11_test_score</th>\n",
       "      <th>split12_test_score</th>\n",
       "      <th>split13_test_score</th>\n",
       "      <th>split14_test_score</th>\n",
       "      <th>mean_test_score</th>\n",
       "      <th>std_test_score</th>\n",
       "      <th>rank_test_score</th>\n",
       "    </tr>\n",
       "  </thead>\n",
       "  <tbody>\n",
       "    <tr>\n",
       "      <th>0</th>\n",
       "      <td>0.191288</td>\n",
       "      <td>0.038334</td>\n",
       "      <td>0.011594</td>\n",
       "      <td>0.014877</td>\n",
       "      <td>sag</td>\n",
       "      <td>NaN</td>\n",
       "      <td>NaN</td>\n",
       "      <td>{'solver': 'sag'}</td>\n",
       "      <td>0.617021</td>\n",
       "      <td>0.614894</td>\n",
       "      <td>...</td>\n",
       "      <td>0.622601</td>\n",
       "      <td>0.618337</td>\n",
       "      <td>0.620469</td>\n",
       "      <td>0.622601</td>\n",
       "      <td>0.618337</td>\n",
       "      <td>0.616205</td>\n",
       "      <td>0.614072</td>\n",
       "      <td>0.617440</td>\n",
       "      <td>0.002855</td>\n",
       "      <td>1</td>\n",
       "    </tr>\n",
       "    <tr>\n",
       "      <th>1</th>\n",
       "      <td>0.005864</td>\n",
       "      <td>0.008400</td>\n",
       "      <td>0.000000</td>\n",
       "      <td>0.000000</td>\n",
       "      <td>NaN</td>\n",
       "      <td>l1</td>\n",
       "      <td>NaN</td>\n",
       "      <td>{'penalty': 'l1'}</td>\n",
       "      <td>NaN</td>\n",
       "      <td>NaN</td>\n",
       "      <td>...</td>\n",
       "      <td>NaN</td>\n",
       "      <td>NaN</td>\n",
       "      <td>NaN</td>\n",
       "      <td>NaN</td>\n",
       "      <td>NaN</td>\n",
       "      <td>NaN</td>\n",
       "      <td>NaN</td>\n",
       "      <td>NaN</td>\n",
       "      <td>NaN</td>\n",
       "      <td>9</td>\n",
       "    </tr>\n",
       "    <tr>\n",
       "      <th>2</th>\n",
       "      <td>0.006997</td>\n",
       "      <td>0.014163</td>\n",
       "      <td>0.000000</td>\n",
       "      <td>0.000000</td>\n",
       "      <td>NaN</td>\n",
       "      <td>elasticnet</td>\n",
       "      <td>NaN</td>\n",
       "      <td>{'penalty': 'elasticnet'}</td>\n",
       "      <td>NaN</td>\n",
       "      <td>NaN</td>\n",
       "      <td>...</td>\n",
       "      <td>NaN</td>\n",
       "      <td>NaN</td>\n",
       "      <td>NaN</td>\n",
       "      <td>NaN</td>\n",
       "      <td>NaN</td>\n",
       "      <td>NaN</td>\n",
       "      <td>NaN</td>\n",
       "      <td>NaN</td>\n",
       "      <td>NaN</td>\n",
       "      <td>10</td>\n",
       "    </tr>\n",
       "    <tr>\n",
       "      <th>3</th>\n",
       "      <td>0.039978</td>\n",
       "      <td>0.016619</td>\n",
       "      <td>0.015591</td>\n",
       "      <td>0.014287</td>\n",
       "      <td>liblinear</td>\n",
       "      <td>NaN</td>\n",
       "      <td>NaN</td>\n",
       "      <td>{'solver': 'liblinear'}</td>\n",
       "      <td>0.617021</td>\n",
       "      <td>0.614894</td>\n",
       "      <td>...</td>\n",
       "      <td>0.622601</td>\n",
       "      <td>0.618337</td>\n",
       "      <td>0.620469</td>\n",
       "      <td>0.622601</td>\n",
       "      <td>0.618337</td>\n",
       "      <td>0.616205</td>\n",
       "      <td>0.614072</td>\n",
       "      <td>0.617440</td>\n",
       "      <td>0.002855</td>\n",
       "      <td>1</td>\n",
       "    </tr>\n",
       "    <tr>\n",
       "      <th>4</th>\n",
       "      <td>0.055568</td>\n",
       "      <td>0.013687</td>\n",
       "      <td>0.010794</td>\n",
       "      <td>0.012825</td>\n",
       "      <td>NaN</td>\n",
       "      <td>NaN</td>\n",
       "      <td>0.01</td>\n",
       "      <td>{'C': 0.01}</td>\n",
       "      <td>0.619149</td>\n",
       "      <td>0.614894</td>\n",
       "      <td>...</td>\n",
       "      <td>0.620469</td>\n",
       "      <td>0.618337</td>\n",
       "      <td>0.620469</td>\n",
       "      <td>0.618337</td>\n",
       "      <td>0.618337</td>\n",
       "      <td>0.618337</td>\n",
       "      <td>0.614072</td>\n",
       "      <td>0.617439</td>\n",
       "      <td>0.001943</td>\n",
       "      <td>6</td>\n",
       "    </tr>\n",
       "    <tr>\n",
       "      <th>5</th>\n",
       "      <td>0.333009</td>\n",
       "      <td>0.024752</td>\n",
       "      <td>0.003998</td>\n",
       "      <td>0.000516</td>\n",
       "      <td>saga</td>\n",
       "      <td>NaN</td>\n",
       "      <td>NaN</td>\n",
       "      <td>{'solver': 'saga'}</td>\n",
       "      <td>0.617021</td>\n",
       "      <td>0.614894</td>\n",
       "      <td>...</td>\n",
       "      <td>0.622601</td>\n",
       "      <td>0.618337</td>\n",
       "      <td>0.620469</td>\n",
       "      <td>0.622601</td>\n",
       "      <td>0.618337</td>\n",
       "      <td>0.616205</td>\n",
       "      <td>0.614072</td>\n",
       "      <td>0.617440</td>\n",
       "      <td>0.002855</td>\n",
       "      <td>1</td>\n",
       "    </tr>\n",
       "    <tr>\n",
       "      <th>6</th>\n",
       "      <td>0.049172</td>\n",
       "      <td>0.012236</td>\n",
       "      <td>0.013791</td>\n",
       "      <td>0.014303</td>\n",
       "      <td>lbfgs</td>\n",
       "      <td>NaN</td>\n",
       "      <td>NaN</td>\n",
       "      <td>{'solver': 'lbfgs'}</td>\n",
       "      <td>0.617021</td>\n",
       "      <td>0.614894</td>\n",
       "      <td>...</td>\n",
       "      <td>0.622601</td>\n",
       "      <td>0.618337</td>\n",
       "      <td>0.620469</td>\n",
       "      <td>0.622601</td>\n",
       "      <td>0.618337</td>\n",
       "      <td>0.616205</td>\n",
       "      <td>0.614072</td>\n",
       "      <td>0.617440</td>\n",
       "      <td>0.002855</td>\n",
       "      <td>1</td>\n",
       "    </tr>\n",
       "    <tr>\n",
       "      <th>7</th>\n",
       "      <td>0.055168</td>\n",
       "      <td>0.010187</td>\n",
       "      <td>0.006663</td>\n",
       "      <td>0.006931</td>\n",
       "      <td>NaN</td>\n",
       "      <td>NaN</td>\n",
       "      <td>10</td>\n",
       "      <td>{'C': 10}</td>\n",
       "      <td>0.617021</td>\n",
       "      <td>0.614894</td>\n",
       "      <td>...</td>\n",
       "      <td>0.622601</td>\n",
       "      <td>0.618337</td>\n",
       "      <td>0.620469</td>\n",
       "      <td>0.620469</td>\n",
       "      <td>0.618337</td>\n",
       "      <td>0.616205</td>\n",
       "      <td>0.614072</td>\n",
       "      <td>0.617298</td>\n",
       "      <td>0.002640</td>\n",
       "      <td>7</td>\n",
       "    </tr>\n",
       "    <tr>\n",
       "      <th>8</th>\n",
       "      <td>0.105274</td>\n",
       "      <td>0.018685</td>\n",
       "      <td>0.004464</td>\n",
       "      <td>0.000619</td>\n",
       "      <td>newton-cg</td>\n",
       "      <td>NaN</td>\n",
       "      <td>NaN</td>\n",
       "      <td>{'solver': 'newton-cg'}</td>\n",
       "      <td>0.617021</td>\n",
       "      <td>0.614894</td>\n",
       "      <td>...</td>\n",
       "      <td>0.622601</td>\n",
       "      <td>0.618337</td>\n",
       "      <td>0.620469</td>\n",
       "      <td>0.622601</td>\n",
       "      <td>0.618337</td>\n",
       "      <td>0.616205</td>\n",
       "      <td>0.614072</td>\n",
       "      <td>0.617440</td>\n",
       "      <td>0.002855</td>\n",
       "      <td>1</td>\n",
       "    </tr>\n",
       "    <tr>\n",
       "      <th>9</th>\n",
       "      <td>0.049905</td>\n",
       "      <td>0.012834</td>\n",
       "      <td>0.005596</td>\n",
       "      <td>0.005460</td>\n",
       "      <td>NaN</td>\n",
       "      <td>NaN</td>\n",
       "      <td>100</td>\n",
       "      <td>{'C': 100}</td>\n",
       "      <td>0.617021</td>\n",
       "      <td>0.614894</td>\n",
       "      <td>...</td>\n",
       "      <td>0.622601</td>\n",
       "      <td>0.618337</td>\n",
       "      <td>0.620469</td>\n",
       "      <td>0.620469</td>\n",
       "      <td>0.618337</td>\n",
       "      <td>0.616205</td>\n",
       "      <td>0.614072</td>\n",
       "      <td>0.617298</td>\n",
       "      <td>0.002640</td>\n",
       "      <td>7</td>\n",
       "    </tr>\n",
       "  </tbody>\n",
       "</table>\n",
       "<p>10 rows × 26 columns</p>\n",
       "</div>"
      ],
      "text/plain": [
       "   mean_fit_time  std_fit_time  mean_score_time  std_score_time param_solver  \\\n",
       "0       0.191288      0.038334         0.011594        0.014877          sag   \n",
       "1       0.005864      0.008400         0.000000        0.000000          NaN   \n",
       "2       0.006997      0.014163         0.000000        0.000000          NaN   \n",
       "3       0.039978      0.016619         0.015591        0.014287    liblinear   \n",
       "4       0.055568      0.013687         0.010794        0.012825          NaN   \n",
       "5       0.333009      0.024752         0.003998        0.000516         saga   \n",
       "6       0.049172      0.012236         0.013791        0.014303        lbfgs   \n",
       "7       0.055168      0.010187         0.006663        0.006931          NaN   \n",
       "8       0.105274      0.018685         0.004464        0.000619    newton-cg   \n",
       "9       0.049905      0.012834         0.005596        0.005460          NaN   \n",
       "\n",
       "  param_penalty param_C                     params  split0_test_score  \\\n",
       "0           NaN     NaN          {'solver': 'sag'}           0.617021   \n",
       "1            l1     NaN          {'penalty': 'l1'}                NaN   \n",
       "2    elasticnet     NaN  {'penalty': 'elasticnet'}                NaN   \n",
       "3           NaN     NaN    {'solver': 'liblinear'}           0.617021   \n",
       "4           NaN    0.01                {'C': 0.01}           0.619149   \n",
       "5           NaN     NaN         {'solver': 'saga'}           0.617021   \n",
       "6           NaN     NaN        {'solver': 'lbfgs'}           0.617021   \n",
       "7           NaN      10                  {'C': 10}           0.617021   \n",
       "8           NaN     NaN    {'solver': 'newton-cg'}           0.617021   \n",
       "9           NaN     100                 {'C': 100}           0.617021   \n",
       "\n",
       "   split1_test_score  ...  split8_test_score  split9_test_score  \\\n",
       "0           0.614894  ...           0.622601           0.618337   \n",
       "1                NaN  ...                NaN                NaN   \n",
       "2                NaN  ...                NaN                NaN   \n",
       "3           0.614894  ...           0.622601           0.618337   \n",
       "4           0.614894  ...           0.620469           0.618337   \n",
       "5           0.614894  ...           0.622601           0.618337   \n",
       "6           0.614894  ...           0.622601           0.618337   \n",
       "7           0.614894  ...           0.622601           0.618337   \n",
       "8           0.614894  ...           0.622601           0.618337   \n",
       "9           0.614894  ...           0.622601           0.618337   \n",
       "\n",
       "   split10_test_score  split11_test_score  split12_test_score  \\\n",
       "0            0.620469            0.622601            0.618337   \n",
       "1                 NaN                 NaN                 NaN   \n",
       "2                 NaN                 NaN                 NaN   \n",
       "3            0.620469            0.622601            0.618337   \n",
       "4            0.620469            0.618337            0.618337   \n",
       "5            0.620469            0.622601            0.618337   \n",
       "6            0.620469            0.622601            0.618337   \n",
       "7            0.620469            0.620469            0.618337   \n",
       "8            0.620469            0.622601            0.618337   \n",
       "9            0.620469            0.620469            0.618337   \n",
       "\n",
       "   split13_test_score  split14_test_score  mean_test_score  std_test_score  \\\n",
       "0            0.616205            0.614072         0.617440        0.002855   \n",
       "1                 NaN                 NaN              NaN             NaN   \n",
       "2                 NaN                 NaN              NaN             NaN   \n",
       "3            0.616205            0.614072         0.617440        0.002855   \n",
       "4            0.618337            0.614072         0.617439        0.001943   \n",
       "5            0.616205            0.614072         0.617440        0.002855   \n",
       "6            0.616205            0.614072         0.617440        0.002855   \n",
       "7            0.616205            0.614072         0.617298        0.002640   \n",
       "8            0.616205            0.614072         0.617440        0.002855   \n",
       "9            0.616205            0.614072         0.617298        0.002640   \n",
       "\n",
       "   rank_test_score  \n",
       "0                1  \n",
       "1                9  \n",
       "2               10  \n",
       "3                1  \n",
       "4                6  \n",
       "5                1  \n",
       "6                1  \n",
       "7                7  \n",
       "8                1  \n",
       "9                7  \n",
       "\n",
       "[10 rows x 26 columns]"
      ]
     },
     "execution_count": 98,
     "metadata": {},
     "output_type": "execute_result"
    }
   ],
   "source": [
    "df_rcv"
   ]
  },
  {
   "cell_type": "code",
   "execution_count": 99,
   "id": "699f2bd5",
   "metadata": {},
   "outputs": [
    {
     "data": {
      "text/plain": [
       "LogisticRegression(solver='sag')"
      ]
     },
     "execution_count": 99,
     "metadata": {},
     "output_type": "execute_result"
    }
   ],
   "source": [
    "random_search.best_estimator_"
   ]
  },
  {
   "cell_type": "code",
   "execution_count": 100,
   "id": "464ed7e0",
   "metadata": {},
   "outputs": [
    {
     "data": {
      "text/plain": [
       "0.6174398524096841"
      ]
     },
     "execution_count": 100,
     "metadata": {},
     "output_type": "execute_result"
    }
   ],
   "source": [
    "random_search.best_score_"
   ]
  },
  {
   "cell_type": "markdown",
   "id": "fc5a4c39",
   "metadata": {},
   "source": [
    "## Decision Tree"
   ]
  },
  {
   "cell_type": "code",
   "execution_count": 101,
   "id": "2f7c9c8b",
   "metadata": {},
   "outputs": [
    {
     "data": {
      "text/plain": [
       "DecisionTreeClassifier(criterion='entropy')"
      ]
     },
     "execution_count": 101,
     "metadata": {},
     "output_type": "execute_result"
    }
   ],
   "source": [
    "from sklearn.tree import DecisionTreeClassifier\n",
    "dt1 = DecisionTreeClassifier(criterion='gini')\n",
    "dt2 = DecisionTreeClassifier(criterion='entropy')\n",
    "dt1.fit(x_train,y_train)\n",
    "dt2.fit(x_train,y_train)"
   ]
  },
  {
   "cell_type": "code",
   "execution_count": 102,
   "id": "0d752ea6",
   "metadata": {},
   "outputs": [],
   "source": [
    "y_pred_dt1_train = dt1.predict(x_train)\n",
    "y_pred_dt1_test = dt1.predict(x_test)\n",
    "y_pred_dt2_train = dt2.predict(x_train)\n",
    "y_pred_dt2_test = dt2.predict(x_test)"
   ]
  },
  {
   "cell_type": "code",
   "execution_count": 103,
   "id": "0027b7fb",
   "metadata": {},
   "outputs": [
    {
     "name": "stdout",
     "output_type": "stream",
     "text": [
      "              precision    recall  f1-score   support\n",
      "\n",
      "           0       1.00      1.00      1.00      4351\n",
      "           1       1.00      1.00      1.00      2691\n",
      "\n",
      "    accuracy                           1.00      7042\n",
      "   macro avg       1.00      1.00      1.00      7042\n",
      "weighted avg       1.00      1.00      1.00      7042\n",
      "\n"
     ]
    }
   ],
   "source": [
    "print (classification_report(y_train,y_pred_dt1_train))"
   ]
  },
  {
   "cell_type": "code",
   "execution_count": 104,
   "id": "3af2cb8c",
   "metadata": {},
   "outputs": [
    {
     "name": "stdout",
     "output_type": "stream",
     "text": [
      "              precision    recall  f1-score   support\n",
      "\n",
      "           0       1.00      1.00      1.00      4351\n",
      "           1       1.00      1.00      1.00      2691\n",
      "\n",
      "    accuracy                           1.00      7042\n",
      "   macro avg       1.00      1.00      1.00      7042\n",
      "weighted avg       1.00      1.00      1.00      7042\n",
      "\n"
     ]
    }
   ],
   "source": [
    "print (classification_report(y_train,y_pred_dt2_train))"
   ]
  },
  {
   "cell_type": "code",
   "execution_count": 105,
   "id": "224c74c5",
   "metadata": {},
   "outputs": [
    {
     "name": "stdout",
     "output_type": "stream",
     "text": [
      "              precision    recall  f1-score   support\n",
      "\n",
      "           0       0.80      0.82      0.81      1955\n",
      "           1       0.65      0.61      0.63      1064\n",
      "\n",
      "    accuracy                           0.75      3019\n",
      "   macro avg       0.73      0.72      0.72      3019\n",
      "weighted avg       0.75      0.75      0.75      3019\n",
      "\n"
     ]
    }
   ],
   "source": [
    "print (classification_report(y_test,y_pred_dt1_test))"
   ]
  },
  {
   "cell_type": "code",
   "execution_count": 106,
   "id": "b77991ad",
   "metadata": {},
   "outputs": [
    {
     "name": "stdout",
     "output_type": "stream",
     "text": [
      "              precision    recall  f1-score   support\n",
      "\n",
      "           0       0.79      0.82      0.81      1955\n",
      "           1       0.65      0.60      0.62      1064\n",
      "\n",
      "    accuracy                           0.74      3019\n",
      "   macro avg       0.72      0.71      0.71      3019\n",
      "weighted avg       0.74      0.74      0.74      3019\n",
      "\n"
     ]
    }
   ],
   "source": [
    "print (classification_report(y_test,y_pred_dt2_test))"
   ]
  },
  {
   "cell_type": "code",
   "execution_count": 107,
   "id": "a88b805a",
   "metadata": {},
   "outputs": [
    {
     "name": "stdout",
     "output_type": "stream",
     "text": [
      "0.9997159897756319\n",
      "0.7495859556144419\n"
     ]
    }
   ],
   "source": [
    "print(accuracy_score(y_train,y_pred_dt1_train))\n",
    "print(accuracy_score(y_test,y_pred_dt1_test))"
   ]
  },
  {
   "cell_type": "code",
   "execution_count": 108,
   "id": "87709180",
   "metadata": {},
   "outputs": [
    {
     "name": "stdout",
     "output_type": "stream",
     "text": [
      "0.9997159897756319\n",
      "0.7436237164624048\n"
     ]
    }
   ],
   "source": [
    "print(accuracy_score(y_train,y_pred_dt2_train))\n",
    "print(accuracy_score(y_test,y_pred_dt2_test))"
   ]
  },
  {
   "cell_type": "markdown",
   "id": "36617564",
   "metadata": {},
   "source": [
    "### We see that there is a huge difference between training accuracy and test accuracy, so we can consider that  the model is high variance and we need to reduce the variance"
   ]
  },
  {
   "cell_type": "markdown",
   "id": "04077450",
   "metadata": {},
   "source": [
    "## Random Forrest"
   ]
  },
  {
   "cell_type": "code",
   "execution_count": 109,
   "id": "ec4f6348",
   "metadata": {},
   "outputs": [],
   "source": [
    "from sklearn.ensemble import RandomForestClassifier\n",
    "rfc = RandomForestClassifier(n_estimators=500, n_jobs=-1, criterion='entropy', random_state = 101)\n",
    "rfc.fit(x_train,y_train)\n",
    "y_pred_rfc_train = rfc.predict(x_train)\n",
    "y_pred_rfc_test = rfc.predict(x_test)"
   ]
  },
  {
   "cell_type": "code",
   "execution_count": 110,
   "id": "037db5ee",
   "metadata": {},
   "outputs": [
    {
     "name": "stdout",
     "output_type": "stream",
     "text": [
      "0.9997159897756319\n",
      "0.7943027492547201\n"
     ]
    }
   ],
   "source": [
    "print (accuracy_score(y_train,y_pred_rfc_train))\n",
    "print (accuracy_score(y_test,y_pred_rfc_test))"
   ]
  },
  {
   "cell_type": "markdown",
   "id": "f357f531",
   "metadata": {},
   "source": [
    "#### We see that there is a huge difference between training accuracy and test accuracy, so we can consider that  the model is high variance and we need to reduce the variance"
   ]
  },
  {
   "cell_type": "markdown",
   "id": "06920d0b",
   "metadata": {},
   "source": [
    "## Support Vector Machine"
   ]
  },
  {
   "cell_type": "code",
   "execution_count": 111,
   "id": "48b81484",
   "metadata": {},
   "outputs": [],
   "source": [
    "from sklearn.svm import SVC\n",
    "svc_lin = SVC( kernel='linear')\n",
    "svc_rbf = SVC( kernel='rbf')\n",
    "svc_poly = SVC( kernel='poly')\n",
    "svc_sgm = SVC( kernel='sigmoid')"
   ]
  },
  {
   "cell_type": "code",
   "execution_count": 112,
   "id": "b34f4811",
   "metadata": {},
   "outputs": [
    {
     "data": {
      "text/plain": [
       "SVC(kernel='sigmoid')"
      ]
     },
     "execution_count": 112,
     "metadata": {},
     "output_type": "execute_result"
    }
   ],
   "source": [
    "svc_lin.fit(x_train,y_train)\n",
    "svc_rbf.fit(x_train,y_train)\n",
    "svc_poly.fit(x_train,y_train)\n",
    "svc_sgm.fit(x_train,y_train)"
   ]
  },
  {
   "cell_type": "markdown",
   "id": "6d22b656",
   "metadata": {},
   "source": [
    "#### Kerner - linear"
   ]
  },
  {
   "cell_type": "code",
   "execution_count": 113,
   "id": "968d71dc",
   "metadata": {},
   "outputs": [],
   "source": [
    "y_pred_svc_lin_train = svc_lin.predict(x_train)\n",
    "y_pred_svc_lin_test = svc_lin.predict(x_test)"
   ]
  },
  {
   "cell_type": "code",
   "execution_count": 114,
   "id": "41fa11ef",
   "metadata": {},
   "outputs": [
    {
     "name": "stdout",
     "output_type": "stream",
     "text": [
      "0.617864243112752\n",
      "0.6475654190129182\n"
     ]
    }
   ],
   "source": [
    "print (accuracy_score(y_train,y_pred_svc_lin_train))\n",
    "print (accuracy_score(y_test,y_pred_svc_lin_test))"
   ]
  },
  {
   "cell_type": "markdown",
   "id": "f2821094",
   "metadata": {},
   "source": [
    "#### Kerner - rbf"
   ]
  },
  {
   "cell_type": "code",
   "execution_count": 115,
   "id": "e2c02b2a",
   "metadata": {},
   "outputs": [],
   "source": [
    "y_pred_svc_rbf_train = svc_rbf.predict(x_train)\n",
    "y_pred_svc_rbf_test = svc_rbf.predict(x_test)"
   ]
  },
  {
   "cell_type": "code",
   "execution_count": 116,
   "id": "4160f800",
   "metadata": {},
   "outputs": [
    {
     "name": "stdout",
     "output_type": "stream",
     "text": [
      "0.6623118432263562\n",
      "0.6624710168930109\n"
     ]
    }
   ],
   "source": [
    "print (accuracy_score(y_train,y_pred_svc_rbf_train))\n",
    "print (accuracy_score(y_test,y_pred_svc_rbf_test))"
   ]
  },
  {
   "cell_type": "markdown",
   "id": "93f6e302",
   "metadata": {},
   "source": [
    "#### Kerner - poly"
   ]
  },
  {
   "cell_type": "code",
   "execution_count": 117,
   "id": "45e82ec0",
   "metadata": {},
   "outputs": [],
   "source": [
    "y_pred_svc_poly_train = svc_poly.predict(x_train)\n",
    "y_pred_svc_poly_test = svc_poly.predict(x_test)"
   ]
  },
  {
   "cell_type": "code",
   "execution_count": 118,
   "id": "6a0a0c10",
   "metadata": {},
   "outputs": [
    {
     "name": "stdout",
     "output_type": "stream",
     "text": [
      "0.6208463504686169\n",
      "0.6488903610467042\n"
     ]
    }
   ],
   "source": [
    "print (accuracy_score(y_train,y_pred_svc_poly_train))\n",
    "print (accuracy_score(y_test,y_pred_svc_poly_test))"
   ]
  },
  {
   "cell_type": "markdown",
   "id": "c93f97fb",
   "metadata": {},
   "source": [
    "#### Kernel - sigmoid"
   ]
  },
  {
   "cell_type": "code",
   "execution_count": 119,
   "id": "061bafde",
   "metadata": {},
   "outputs": [],
   "source": [
    "y_pred_svc_sgm_train = svc_sgm.predict(x_train)\n",
    "y_pred_svc_sgm_test = svc_sgm.predict(x_test)"
   ]
  },
  {
   "cell_type": "code",
   "execution_count": 120,
   "id": "d7e9987e",
   "metadata": {},
   "outputs": [
    {
     "name": "stdout",
     "output_type": "stream",
     "text": [
      "0.5012780460096563\n",
      "0.5276581649552832\n"
     ]
    }
   ],
   "source": [
    "print (accuracy_score(y_train,y_pred_svc_sgm_train))\n",
    "print (accuracy_score(y_test,y_pred_svc_sgm_test))"
   ]
  },
  {
   "cell_type": "markdown",
   "id": "f2c3f5c7",
   "metadata": {},
   "source": [
    "### GridSearch CV for Hyper parameter tuning"
   ]
  },
  {
   "cell_type": "code",
   "execution_count": 121,
   "id": "9ded292a",
   "metadata": {},
   "outputs": [],
   "source": [
    "# svc_1 = SVC()\n",
    "# param_grid = {'C':[0.1,1,10,100], 'gamma':[1,0.1,0.01,0.001],\n",
    "#              'kernel':['linear','rbf','poly','sigmoid']}\n",
    "# grid = GridSearchCV(estimator = svc_1, param_grid = param_grid, n_jobs = -1, refit = True)\n",
    "# grid.fit(x_train,y_train)\n",
    "# grid_predict = grid.predict(x_test)\n",
    "# print (\"Accuracy score\", accuracy_score(y_test, grid_predict))\n",
    "# print (\"Best hyperparamters :\", grid.best_params_)"
   ]
  },
  {
   "cell_type": "markdown",
   "id": "8af61463",
   "metadata": {},
   "source": [
    "### Naive Bayes Theorm"
   ]
  },
  {
   "cell_type": "code",
   "execution_count": 122,
   "id": "73971431",
   "metadata": {},
   "outputs": [
    {
     "data": {
      "text/plain": [
       "GaussianNB()"
      ]
     },
     "execution_count": 122,
     "metadata": {},
     "output_type": "execute_result"
    }
   ],
   "source": [
    "from sklearn.naive_bayes import GaussianNB\n",
    "gnb = GaussianNB()\n",
    "gnb.fit(x_train, y_train)"
   ]
  },
  {
   "cell_type": "code",
   "execution_count": 123,
   "id": "e9a7cd23",
   "metadata": {},
   "outputs": [],
   "source": [
    "y_pred_gnb_train = gnb.predict(x_train)\n",
    "y_pred_gnb_test = gnb.predict(x_test)"
   ]
  },
  {
   "cell_type": "code",
   "execution_count": 124,
   "id": "fbcbffb0",
   "metadata": {},
   "outputs": [
    {
     "name": "stdout",
     "output_type": "stream",
     "text": [
      "0.6192842942345924\n",
      "0.6518714806227227\n"
     ]
    }
   ],
   "source": [
    "print (accuracy_score(y_train,y_pred_gnb_train))\n",
    "print (accuracy_score(y_test,y_pred_gnb_test))"
   ]
  },
  {
   "cell_type": "markdown",
   "id": "ad1d121e",
   "metadata": {},
   "source": [
    "## KNN Method"
   ]
  },
  {
   "cell_type": "code",
   "execution_count": 125,
   "id": "a96a1d14",
   "metadata": {},
   "outputs": [
    {
     "data": {
      "text/plain": [
       "KNeighborsClassifier()"
      ]
     },
     "execution_count": 125,
     "metadata": {},
     "output_type": "execute_result"
    }
   ],
   "source": [
    "from sklearn.neighbors import KNeighborsClassifier\n",
    "knn = KNeighborsClassifier(n_neighbors=5)\n",
    "knn.fit(x_train , y_train)"
   ]
  },
  {
   "cell_type": "code",
   "execution_count": 128,
   "id": "2b1343f2",
   "metadata": {},
   "outputs": [],
   "source": [
    "y_pred_knn_train = knn.predict(x_train)\n",
    "y_pred_knn_test = knn.predict(x_test)"
   ]
  },
  {
   "cell_type": "code",
   "execution_count": 129,
   "id": "437340de",
   "metadata": {},
   "outputs": [
    {
     "name": "stdout",
     "output_type": "stream",
     "text": [
      "0.7621414370917353\n",
      "0.6531964226565088\n"
     ]
    }
   ],
   "source": [
    "print (accuracy_score(y_train,y_pred_knn_train))\n",
    "print (accuracy_score(y_test,y_pred_knn_test))"
   ]
  },
  {
   "cell_type": "code",
   "execution_count": 131,
   "id": "6be90b18",
   "metadata": {},
   "outputs": [],
   "source": [
    "error_rate = []\n",
    "\n",
    "for i in range(1,30):\n",
    "    knn = KNeighborsClassifier(n_neighbors = i)\n",
    "    knn.fit(x_train, y_train)\n",
    "    y_pred_knn = knn.predict(x_test)\n",
    "    error_rate.append(np.mean(y_pred_knn !=y_test)) "
   ]
  },
  {
   "cell_type": "code",
   "execution_count": 136,
   "id": "e7df2b56",
   "metadata": {},
   "outputs": [
    {
     "data": {
      "image/png": "[encoded data removed]",
      "text/plain": [
       "<Figure size 720x360 with 1 Axes>"
      ]
     },
     "metadata": {
      "needs_background": "light"
     },
     "output_type": "display_data"
    }
   ],
   "source": [
    "plt.figure(figsize=(10,5))\n",
    "plt.plot(range(1,30), error_rate, color = 'red', linestyle='dashed',\n",
    "        marker='o',markersize=12, markerfacecolor= 'blue')\n",
    "plt.title(\"Error Rate vs K-Value\")\n",
    "plt.xlabel('K-Value')\n",
    "plt.ylabel('Error Rate')\n",
    "plt.show()"
   ]
  },
  {
   "cell_type": "code",
   "execution_count": 137,
   "id": "df4a817c",
   "metadata": {},
   "outputs": [
    {
     "data": {
      "text/plain": [
       "KNeighborsClassifier(n_neighbors=13)"
      ]
     },
     "execution_count": 137,
     "metadata": {},
     "output_type": "execute_result"
    }
   ],
   "source": [
    "from sklearn.neighbors import KNeighborsClassifier\n",
    "knn = KNeighborsClassifier(n_neighbors=13)\n",
    "knn.fit(x_train , y_train)"
   ]
  },
  {
   "cell_type": "code",
   "execution_count": 138,
   "id": "052cda01",
   "metadata": {},
   "outputs": [],
   "source": [
    "y_pred_knn_train = knn.predict(x_train)\n",
    "y_pred_knn_test = knn.predict(x_test)"
   ]
  },
  {
   "cell_type": "code",
   "execution_count": 139,
   "id": "5efe4f44",
   "metadata": {},
   "outputs": [
    {
     "name": "stdout",
     "output_type": "stream",
     "text": [
      "0.7044873615450156\n",
      "0.6611460748592249\n"
     ]
    }
   ],
   "source": [
    "print (accuracy_score(y_train,y_pred_knn_train))\n",
    "print (accuracy_score(y_test,y_pred_knn_test))"
   ]
  },
  {
   "cell_type": "markdown",
   "id": "dc7f4a3e",
   "metadata": {},
   "source": [
    "## XGBoost"
   ]
  },
  {
   "cell_type": "code",
   "execution_count": 140,
   "id": "fcc6206c",
   "metadata": {},
   "outputs": [
    {
     "name": "stdout",
     "output_type": "stream",
     "text": [
      "Collecting XGBoost\n",
      "  Downloading xgboost-1.6.2-py3-none-win_amd64.whl (125.4 MB)\n",
      "Requirement already satisfied: numpy in f:\\python\\lib\\site-packages (from XGBoost) (1.20.1)\n",
      "Requirement already satisfied: scipy in f:\\python\\lib\\site-packages (from XGBoost) (1.6.2)\n",
      "Installing collected packages: XGBoost\n",
      "Successfully installed XGBoost-1.6.2\n"
     ]
    }
   ],
   "source": [
    "! pip install XGBoost"
   ]
  },
  {
   "cell_type": "code",
   "execution_count": 141,
   "id": "74ec6f9e",
   "metadata": {},
   "outputs": [
    {
     "data": {
      "text/plain": [
       "XGBClassifier(base_score=0.5, booster='gbtree', callbacks=None,\n",
       "              colsample_bylevel=1, colsample_bynode=1, colsample_bytree=1,\n",
       "              early_stopping_rounds=None, enable_categorical=False,\n",
       "              eval_metric=None, gamma=0, gpu_id=-1, grow_policy='depthwise',\n",
       "              importance_type=None, interaction_constraints='',\n",
       "              learning_rate=0.300000012, max_bin=256, max_cat_to_onehot=4,\n",
       "              max_delta_step=0, max_depth=6, max_leaves=0, min_child_weight=1,\n",
       "              missing=nan, monotone_constraints='()', n_estimators=100,\n",
       "              n_jobs=0, num_parallel_tree=1, predictor='auto', random_state=0,\n",
       "              reg_alpha=0, reg_lambda=1, ...)"
      ]
     },
     "execution_count": 141,
     "metadata": {},
     "output_type": "execute_result"
    }
   ],
   "source": [
    "from xgboost import XGBClassifier\n",
    "xgb = XGBClassifier()\n",
    "xgb.fit(x_train, y_train)"
   ]
  },
  {
   "cell_type": "code",
   "execution_count": 142,
   "id": "938f0be5",
   "metadata": {},
   "outputs": [],
   "source": [
    "y_pred_xgb_train = xgb.predict(x_train)\n",
    "y_pred_xgb_test = xgb.predict(x_test)"
   ]
  },
  {
   "cell_type": "code",
   "execution_count": 143,
   "id": "5827a626",
   "metadata": {},
   "outputs": [
    {
     "name": "stdout",
     "output_type": "stream",
     "text": [
      "0.9473161033797217\n",
      "0.7807220934084134\n"
     ]
    }
   ],
   "source": [
    "print (accuracy_score(y_train,y_pred_xgb_train))\n",
    "print (accuracy_score(y_test,y_pred_xgb_test))"
   ]
  },
  {
   "cell_type": "code",
   "execution_count": 144,
   "id": "2cedc2a6",
   "metadata": {},
   "outputs": [
    {
     "name": "stdout",
     "output_type": "stream",
     "text": [
      "[0.70860927 0.74172185 0.69536424 0.70198675 0.70860927 0.69536424\n",
      " 0.74172185 0.70860927 0.81456954 0.76821192 0.78145695 0.66887417\n",
      " 0.73509934 0.71523179 0.70860927 0.73509934 0.73509934 0.74834437\n",
      " 0.74172185 0.74      ]\n"
     ]
    }
   ],
   "source": [
    "accuracy_test = cross_val_score(xgb, x_test, y_test, cv=20)\n",
    "print(accuracy_test)"
   ]
  }
 ],
 "metadata": {
  "kernelspec": {
   "display_name": "Python 3",
   "language": "python",
   "name": "python3"
  },
  "language_info": {
   "codemirror_mode": {
    "name": "ipython",
    "version": 3
   },
   "file_extension": ".py",
   "mimetype": "text/x-python",
   "name": "python",
   "nbconvert_exporter": "python",
   "pygments_lexer": "ipython3",
   "version": "3.8.8"
  }
 },
 "nbformat": 4,
 "nbformat_minor": 5
}
