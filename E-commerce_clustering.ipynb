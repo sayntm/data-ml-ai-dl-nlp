{
 "cells": [
  {
   "cell_type": "code",
   "execution_count": 2,
   "id": "cdb608cb",
   "metadata": {},
   "outputs": [],
   "source": [
    "# ABSTRACT : \n",
    "# In this project, you will analyze and segment the customers of an e-commerce company by using the RFM approach. \n",
    "# This will enable the e-commerce company to optimize their retention and acquisition strategies. \n",
    "\n",
    "# Market Outlook: \n",
    "# E-commerce stores which became success stories were successful in targeting the desired customers. \n",
    "# One of the techniques by which they were able to achieve this was customer segmentation i.e. \n",
    "# by segmenting the existing customers based on frequency of purchases, monetary value etc. \n",
    "# E-commerce stores who designed market strategies based on mass marketing soon realized the need of customer segmentation \n",
    "# as an alternative to save cost and efforts in the digital sphere. In a real-world segmentation scenario, \n",
    "# there might be hundreds of variables which can be used but broadly they segment the customers by the following characteristics:"
   ]
  },
  {
   "cell_type": "code",
   "execution_count": 3,
   "id": "f0b98be7",
   "metadata": {},
   "outputs": [],
   "source": [
    "# Geographic - Segments based on country, state, and city. \n",
    "# Demographic - Segments based on gender, age, income, education level, etc. \n",
    "# Psychographic - Segments based on geography, lifestyle, age and religious beliefs, etc. \n",
    "# Behavior - Segments based on consumer personality traits, attitudes, interests, and lifestyles.\n",
    "# Overview of the problem : You have been provided with a single file which contains data related to the ecommerce transactions. \n",
    "# This data contains the date-time of sale, customer shipping location, and price of single unit from 2016 to 2017.\n",
    "# Data and Problem Detail : Your organization has asked you to draw meaningful insights from 2 years of data \n",
    "# & provide brief details based on the monetary value, frequency of buy, etc. \n",
    "# Objective : Build an unsupervised learning model which can enable your company to analyze their customers \n",
    "# via RFM (Recency, Frequency and Monetary value) approach."
   ]
  },
  {
   "cell_type": "code",
   "execution_count": 4,
   "id": "fc7897c5",
   "metadata": {},
   "outputs": [],
   "source": [
    "# Steps to be followed: \n",
    "# Understand the problem and objectives \n",
    "# 2. Understand the data & develop some business sense \n",
    "# 3. EDA (if you require in this case) \n",
    "# 4. Provide the results and understanding you got by performing exploratory data analysis. \n",
    "# 5. Data Cleaning \n",
    "# 6. Model building (trying various techniques and at the end justify why you choose a technique over the others) \n",
    "# 7. Testing and cross validation \n",
    "# 8. Recommend top 5 combination of partners-managers. \n",
    "# 9. For every false prediction calculate the loss which the company will face. \n",
    "# 10. Find the results, recommendation and visualizations. \n",
    "# 11. Bonus: Any other insight or recommendation that you can give from the data which will help the business(optional) \n",
    "# 12. Preparing the deck"
   ]
  },
  {
   "cell_type": "code",
   "execution_count": 5,
   "id": "a8f7bd2c",
   "metadata": {},
   "outputs": [],
   "source": [
    "# The final solution should be in the form of a deck showing all the steps above. It will be judged on the following criteria: \n",
    "# How well you have adhered to the modeling process discipline. \n",
    "# Do your results make business sense, how have you used business intuition to take decision during the modeling exercise, including but not limited to the following? \n",
    "# Deciding Segmentation (in case you choose it)  \n",
    "# EDA and Feature engineering  \n",
    "# Variable and Model selection \n",
    "# Performance of your model"
   ]
  },
  {
   "cell_type": "markdown",
   "id": "e535e0fd",
   "metadata": {},
   "source": [
    "### Importing all python libraries"
   ]
  },
  {
   "cell_type": "code",
   "execution_count": 6,
   "id": "bcd71e79",
   "metadata": {},
   "outputs": [],
   "source": [
    "import numpy as np\n",
    "import pandas as pd\n",
    "import matplotlib.pyplot as plt\n",
    "import seaborn as sns\n",
    "import os\n",
    "%matplotlib inline"
   ]
  },
  {
   "cell_type": "markdown",
   "id": "57f2a439",
   "metadata": {},
   "source": [
    "### Reading the excel file"
   ]
  },
  {
   "cell_type": "code",
   "execution_count": 7,
   "id": "32cc279a",
   "metadata": {},
   "outputs": [],
   "source": [
    "ecom = pd.read_excel('F:\\Learnbay_Data science\\Projects\\Projects 2022\\E-Commerce by Sundaram-20220723T140925Z-001\\E-Commerce by Sundaram\\E-com_Data.xlsx')"
   ]
  },
  {
   "cell_type": "code",
   "execution_count": 8,
   "id": "8d02003b",
   "metadata": {},
   "outputs": [
    {
     "data": {
      "text/html": [
       "<div>\n",
       "<style scoped>\n",
       "    .dataframe tbody tr th:only-of-type {\n",
       "        vertical-align: middle;\n",
       "    }\n",
       "\n",
       "    .dataframe tbody tr th {\n",
       "        vertical-align: top;\n",
       "    }\n",
       "\n",
       "    .dataframe thead th {\n",
       "        text-align: right;\n",
       "    }\n",
       "</style>\n",
       "<table border=\"1\" class=\"dataframe\">\n",
       "  <thead>\n",
       "    <tr style=\"text-align: right;\">\n",
       "      <th></th>\n",
       "      <th>CustomerID</th>\n",
       "      <th>Item Code</th>\n",
       "      <th>InvoieNo</th>\n",
       "      <th>Date of purchase</th>\n",
       "      <th>Quantity</th>\n",
       "      <th>Time</th>\n",
       "      <th>price per Unit</th>\n",
       "      <th>Price</th>\n",
       "      <th>Shipping Location</th>\n",
       "      <th>Cancelled_status</th>\n",
       "      <th>Reason of return</th>\n",
       "      <th>Sold as set</th>\n",
       "    </tr>\n",
       "  </thead>\n",
       "  <tbody>\n",
       "    <tr>\n",
       "      <th>0</th>\n",
       "      <td>4355.0</td>\n",
       "      <td>15734</td>\n",
       "      <td>398177</td>\n",
       "      <td>2017-10-29</td>\n",
       "      <td>6</td>\n",
       "      <td>15:36:00</td>\n",
       "      <td>321.0</td>\n",
       "      <td>1926.0</td>\n",
       "      <td>Location 1</td>\n",
       "      <td>NaN</td>\n",
       "      <td>NaN</td>\n",
       "      <td>NaN</td>\n",
       "    </tr>\n",
       "    <tr>\n",
       "      <th>1</th>\n",
       "      <td>4352.0</td>\n",
       "      <td>14616</td>\n",
       "      <td>394422</td>\n",
       "      <td>2017-10-05</td>\n",
       "      <td>2</td>\n",
       "      <td>14:53:00</td>\n",
       "      <td>870.0</td>\n",
       "      <td>1740.0</td>\n",
       "      <td>Location 1</td>\n",
       "      <td>NaN</td>\n",
       "      <td>NaN</td>\n",
       "      <td>NaN</td>\n",
       "    </tr>\n",
       "    <tr>\n",
       "      <th>2</th>\n",
       "      <td>4352.0</td>\n",
       "      <td>14614</td>\n",
       "      <td>394422</td>\n",
       "      <td>2017-10-12</td>\n",
       "      <td>2</td>\n",
       "      <td>14:53:00</td>\n",
       "      <td>933.0</td>\n",
       "      <td>1866.0</td>\n",
       "      <td>Location 1</td>\n",
       "      <td>NaN</td>\n",
       "      <td>NaN</td>\n",
       "      <td>NaN</td>\n",
       "    </tr>\n",
       "    <tr>\n",
       "      <th>3</th>\n",
       "      <td>4352.0</td>\n",
       "      <td>85014B</td>\n",
       "      <td>388633</td>\n",
       "      <td>2017-08-22</td>\n",
       "      <td>3</td>\n",
       "      <td>14:47:00</td>\n",
       "      <td>623.0</td>\n",
       "      <td>1869.0</td>\n",
       "      <td>Location 1</td>\n",
       "      <td>NaN</td>\n",
       "      <td>NaN</td>\n",
       "      <td>NaN</td>\n",
       "    </tr>\n",
       "    <tr>\n",
       "      <th>4</th>\n",
       "      <td>4352.0</td>\n",
       "      <td>15364</td>\n",
       "      <td>394422</td>\n",
       "      <td>2017-10-10</td>\n",
       "      <td>2</td>\n",
       "      <td>14:53:00</td>\n",
       "      <td>944.0</td>\n",
       "      <td>1888.0</td>\n",
       "      <td>Location 1</td>\n",
       "      <td>NaN</td>\n",
       "      <td>NaN</td>\n",
       "      <td>NaN</td>\n",
       "    </tr>\n",
       "  </tbody>\n",
       "</table>\n",
       "</div>"
      ],
      "text/plain": [
       "   CustomerID Item Code  InvoieNo Date of purchase  Quantity      Time  \\\n",
       "0      4355.0     15734    398177       2017-10-29         6  15:36:00   \n",
       "1      4352.0     14616    394422       2017-10-05         2  14:53:00   \n",
       "2      4352.0     14614    394422       2017-10-12         2  14:53:00   \n",
       "3      4352.0    85014B    388633       2017-08-22         3  14:47:00   \n",
       "4      4352.0     15364    394422       2017-10-10         2  14:53:00   \n",
       "\n",
       "   price per Unit   Price Shipping Location  Cancelled_status  \\\n",
       "0           321.0  1926.0        Location 1               NaN   \n",
       "1           870.0  1740.0        Location 1               NaN   \n",
       "2           933.0  1866.0        Location 1               NaN   \n",
       "3           623.0  1869.0        Location 1               NaN   \n",
       "4           944.0  1888.0        Location 1               NaN   \n",
       "\n",
       "  Reason of return  Sold as set  \n",
       "0              NaN          NaN  \n",
       "1              NaN          NaN  \n",
       "2              NaN          NaN  \n",
       "3              NaN          NaN  \n",
       "4              NaN          NaN  "
      ]
     },
     "execution_count": 8,
     "metadata": {},
     "output_type": "execute_result"
    }
   ],
   "source": [
    "ecom.head()"
   ]
  },
  {
   "cell_type": "markdown",
   "id": "4ddc9891",
   "metadata": {},
   "source": [
    "### Getting the shape of the dataset"
   ]
  },
  {
   "cell_type": "code",
   "execution_count": 9,
   "id": "b591c320",
   "metadata": {},
   "outputs": [
    {
     "data": {
      "text/plain": [
       "(537979, 12)"
      ]
     },
     "execution_count": 9,
     "metadata": {},
     "output_type": "execute_result"
    }
   ],
   "source": [
    "ecom.shape"
   ]
  },
  {
   "cell_type": "markdown",
   "id": "bdc20721",
   "metadata": {},
   "source": [
    "### Getting the data types, null values and number of rows and columns"
   ]
  },
  {
   "cell_type": "code",
   "execution_count": 10,
   "id": "8a436e64",
   "metadata": {},
   "outputs": [
    {
     "name": "stdout",
     "output_type": "stream",
     "text": [
      "<class 'pandas.core.frame.DataFrame'>\n",
      "RangeIndex: 537979 entries, 0 to 537978\n",
      "Data columns (total 12 columns):\n",
      " #   Column             Non-Null Count   Dtype         \n",
      "---  ------             --------------   -----         \n",
      " 0   CustomerID         404189 non-null  float64       \n",
      " 1   Item Code          537979 non-null  object        \n",
      " 2   InvoieNo           537979 non-null  int64         \n",
      " 3   Date of purchase   537979 non-null  datetime64[ns]\n",
      " 4   Quantity           537979 non-null  int64         \n",
      " 5   Time               537979 non-null  object        \n",
      " 6   price per Unit     537979 non-null  float64       \n",
      " 7   Price              537979 non-null  float64       \n",
      " 8   Shipping Location  537979 non-null  object        \n",
      " 9   Cancelled_status   8345 non-null    float64       \n",
      " 10  Reason of return   3 non-null       object        \n",
      " 11  Sold as set        0 non-null       float64       \n",
      "dtypes: datetime64[ns](1), float64(5), int64(2), object(4)\n",
      "memory usage: 49.3+ MB\n"
     ]
    }
   ],
   "source": [
    "ecom.info()"
   ]
  },
  {
   "cell_type": "markdown",
   "id": "463641c2",
   "metadata": {},
   "source": [
    "### Calculating the total number of null values along each column"
   ]
  },
  {
   "cell_type": "code",
   "execution_count": 11,
   "id": "26c4e770",
   "metadata": {},
   "outputs": [
    {
     "data": {
      "text/plain": [
       "CustomerID           133790\n",
       "Item Code                 0\n",
       "InvoieNo                  0\n",
       "Date of purchase          0\n",
       "Quantity                  0\n",
       "Time                      0\n",
       "price per Unit            0\n",
       "Price                     0\n",
       "Shipping Location         0\n",
       "Cancelled_status     529634\n",
       "Reason of return     537976\n",
       "Sold as set          537979\n",
       "dtype: int64"
      ]
     },
     "execution_count": 11,
     "metadata": {},
     "output_type": "execute_result"
    }
   ],
   "source": [
    "ecom.isnull().sum()"
   ]
  },
  {
   "cell_type": "markdown",
   "id": "580ee81b",
   "metadata": {},
   "source": [
    "### Calculating the percentage of null values in each column"
   ]
  },
  {
   "cell_type": "markdown",
   "id": "c1bf158e",
   "metadata": {},
   "source": [
    "#### Thresold value to go ahead without dropping the column is 30% of null values"
   ]
  },
  {
   "cell_type": "code",
   "execution_count": 12,
   "id": "8d6cadce",
   "metadata": {},
   "outputs": [
    {
     "data": {
      "text/plain": [
       "CustomerID            24.869000\n",
       "Item Code              0.000000\n",
       "InvoieNo               0.000000\n",
       "Date of purchase       0.000000\n",
       "Quantity               0.000000\n",
       "Time                   0.000000\n",
       "price per Unit         0.000000\n",
       "Price                  0.000000\n",
       "Shipping Location      0.000000\n",
       "Cancelled_status      98.448824\n",
       "Reason of return      99.999442\n",
       "Sold as set          100.000000\n",
       "dtype: float64"
      ]
     },
     "execution_count": 12,
     "metadata": {},
     "output_type": "execute_result"
    }
   ],
   "source": [
    "ecom.isnull().sum()/len(ecom)*100"
   ]
  },
  {
   "cell_type": "markdown",
   "id": "87b6ccd9",
   "metadata": {},
   "source": [
    "### Extract the dataset excluding the last 3 columns"
   ]
  },
  {
   "cell_type": "code",
   "execution_count": 13,
   "id": "10d940d9",
   "metadata": {},
   "outputs": [],
   "source": [
    "ecom = ecom.iloc[:,0:9]"
   ]
  },
  {
   "cell_type": "code",
   "execution_count": 14,
   "id": "a7e894c4",
   "metadata": {},
   "outputs": [
    {
     "data": {
      "text/html": [
       "<div>\n",
       "<style scoped>\n",
       "    .dataframe tbody tr th:only-of-type {\n",
       "        vertical-align: middle;\n",
       "    }\n",
       "\n",
       "    .dataframe tbody tr th {\n",
       "        vertical-align: top;\n",
       "    }\n",
       "\n",
       "    .dataframe thead th {\n",
       "        text-align: right;\n",
       "    }\n",
       "</style>\n",
       "<table border=\"1\" class=\"dataframe\">\n",
       "  <thead>\n",
       "    <tr style=\"text-align: right;\">\n",
       "      <th></th>\n",
       "      <th>CustomerID</th>\n",
       "      <th>Item Code</th>\n",
       "      <th>InvoieNo</th>\n",
       "      <th>Date of purchase</th>\n",
       "      <th>Quantity</th>\n",
       "      <th>Time</th>\n",
       "      <th>price per Unit</th>\n",
       "      <th>Price</th>\n",
       "      <th>Shipping Location</th>\n",
       "    </tr>\n",
       "  </thead>\n",
       "  <tbody>\n",
       "    <tr>\n",
       "      <th>0</th>\n",
       "      <td>4355.0</td>\n",
       "      <td>15734</td>\n",
       "      <td>398177</td>\n",
       "      <td>2017-10-29</td>\n",
       "      <td>6</td>\n",
       "      <td>15:36:00</td>\n",
       "      <td>321.0</td>\n",
       "      <td>1926.0</td>\n",
       "      <td>Location 1</td>\n",
       "    </tr>\n",
       "    <tr>\n",
       "      <th>1</th>\n",
       "      <td>4352.0</td>\n",
       "      <td>14616</td>\n",
       "      <td>394422</td>\n",
       "      <td>2017-10-05</td>\n",
       "      <td>2</td>\n",
       "      <td>14:53:00</td>\n",
       "      <td>870.0</td>\n",
       "      <td>1740.0</td>\n",
       "      <td>Location 1</td>\n",
       "    </tr>\n",
       "    <tr>\n",
       "      <th>2</th>\n",
       "      <td>4352.0</td>\n",
       "      <td>14614</td>\n",
       "      <td>394422</td>\n",
       "      <td>2017-10-12</td>\n",
       "      <td>2</td>\n",
       "      <td>14:53:00</td>\n",
       "      <td>933.0</td>\n",
       "      <td>1866.0</td>\n",
       "      <td>Location 1</td>\n",
       "    </tr>\n",
       "    <tr>\n",
       "      <th>3</th>\n",
       "      <td>4352.0</td>\n",
       "      <td>85014B</td>\n",
       "      <td>388633</td>\n",
       "      <td>2017-08-22</td>\n",
       "      <td>3</td>\n",
       "      <td>14:47:00</td>\n",
       "      <td>623.0</td>\n",
       "      <td>1869.0</td>\n",
       "      <td>Location 1</td>\n",
       "    </tr>\n",
       "    <tr>\n",
       "      <th>4</th>\n",
       "      <td>4352.0</td>\n",
       "      <td>15364</td>\n",
       "      <td>394422</td>\n",
       "      <td>2017-10-10</td>\n",
       "      <td>2</td>\n",
       "      <td>14:53:00</td>\n",
       "      <td>944.0</td>\n",
       "      <td>1888.0</td>\n",
       "      <td>Location 1</td>\n",
       "    </tr>\n",
       "    <tr>\n",
       "      <th>5</th>\n",
       "      <td>4349.0</td>\n",
       "      <td>14618</td>\n",
       "      <td>397122</td>\n",
       "      <td>2017-10-27</td>\n",
       "      <td>1</td>\n",
       "      <td>12:43:00</td>\n",
       "      <td>256.0</td>\n",
       "      <td>256.0</td>\n",
       "      <td>Location 1</td>\n",
       "    </tr>\n",
       "    <tr>\n",
       "      <th>6</th>\n",
       "      <td>4343.0</td>\n",
       "      <td>15364</td>\n",
       "      <td>368432</td>\n",
       "      <td>2017-02-13</td>\n",
       "      <td>-4</td>\n",
       "      <td>14:46:00</td>\n",
       "      <td>922.0</td>\n",
       "      <td>-3688.0</td>\n",
       "      <td>Location 1</td>\n",
       "    </tr>\n",
       "    <tr>\n",
       "      <th>7</th>\n",
       "      <td>4341.0</td>\n",
       "      <td>85014B</td>\n",
       "      <td>377109</td>\n",
       "      <td>2017-05-14</td>\n",
       "      <td>3</td>\n",
       "      <td>09:22:00</td>\n",
       "      <td>677.0</td>\n",
       "      <td>2031.0</td>\n",
       "      <td>Location 1</td>\n",
       "    </tr>\n",
       "    <tr>\n",
       "      <th>8</th>\n",
       "      <td>4341.0</td>\n",
       "      <td>85014A</td>\n",
       "      <td>377109</td>\n",
       "      <td>2017-05-12</td>\n",
       "      <td>3</td>\n",
       "      <td>09:22:00</td>\n",
       "      <td>692.0</td>\n",
       "      <td>2076.0</td>\n",
       "      <td>Location 1</td>\n",
       "    </tr>\n",
       "    <tr>\n",
       "      <th>9</th>\n",
       "      <td>4341.0</td>\n",
       "      <td>85014B</td>\n",
       "      <td>390217</td>\n",
       "      <td>2017-09-07</td>\n",
       "      <td>6</td>\n",
       "      <td>14:47:00</td>\n",
       "      <td>670.0</td>\n",
       "      <td>4020.0</td>\n",
       "      <td>Location 1</td>\n",
       "    </tr>\n",
       "  </tbody>\n",
       "</table>\n",
       "</div>"
      ],
      "text/plain": [
       "   CustomerID Item Code  InvoieNo Date of purchase  Quantity      Time  \\\n",
       "0      4355.0     15734    398177       2017-10-29         6  15:36:00   \n",
       "1      4352.0     14616    394422       2017-10-05         2  14:53:00   \n",
       "2      4352.0     14614    394422       2017-10-12         2  14:53:00   \n",
       "3      4352.0    85014B    388633       2017-08-22         3  14:47:00   \n",
       "4      4352.0     15364    394422       2017-10-10         2  14:53:00   \n",
       "5      4349.0     14618    397122       2017-10-27         1  12:43:00   \n",
       "6      4343.0     15364    368432       2017-02-13        -4  14:46:00   \n",
       "7      4341.0    85014B    377109       2017-05-14         3  09:22:00   \n",
       "8      4341.0    85014A    377109       2017-05-12         3  09:22:00   \n",
       "9      4341.0    85014B    390217       2017-09-07         6  14:47:00   \n",
       "\n",
       "   price per Unit   Price Shipping Location  \n",
       "0           321.0  1926.0        Location 1  \n",
       "1           870.0  1740.0        Location 1  \n",
       "2           933.0  1866.0        Location 1  \n",
       "3           623.0  1869.0        Location 1  \n",
       "4           944.0  1888.0        Location 1  \n",
       "5           256.0   256.0        Location 1  \n",
       "6           922.0 -3688.0        Location 1  \n",
       "7           677.0  2031.0        Location 1  \n",
       "8           692.0  2076.0        Location 1  \n",
       "9           670.0  4020.0        Location 1  "
      ]
     },
     "execution_count": 14,
     "metadata": {},
     "output_type": "execute_result"
    }
   ],
   "source": [
    "ecom.head(10)"
   ]
  },
  {
   "cell_type": "markdown",
   "id": "3122e866",
   "metadata": {},
   "source": [
    "### Remove all the null values under the section Customer ID"
   ]
  },
  {
   "cell_type": "code",
   "execution_count": 15,
   "id": "da1d5e0a",
   "metadata": {},
   "outputs": [],
   "source": [
    "ecom = ecom.dropna(subset = ['CustomerID'])"
   ]
  },
  {
   "cell_type": "code",
   "execution_count": 16,
   "id": "463875df",
   "metadata": {},
   "outputs": [
    {
     "data": {
      "text/plain": [
       "CustomerID           0.0\n",
       "Item Code            0.0\n",
       "InvoieNo             0.0\n",
       "Date of purchase     0.0\n",
       "Quantity             0.0\n",
       "Time                 0.0\n",
       "price per Unit       0.0\n",
       "Price                0.0\n",
       "Shipping Location    0.0\n",
       "dtype: float64"
      ]
     },
     "execution_count": 16,
     "metadata": {},
     "output_type": "execute_result"
    }
   ],
   "source": [
    "ecom.isnull().sum()/len(ecom)*100"
   ]
  },
  {
   "cell_type": "code",
   "execution_count": 17,
   "id": "875b9848",
   "metadata": {},
   "outputs": [
    {
     "data": {
      "text/plain": [
       "(404189, 9)"
      ]
     },
     "execution_count": 17,
     "metadata": {},
     "output_type": "execute_result"
    }
   ],
   "source": [
    "ecom.shape"
   ]
  },
  {
   "cell_type": "markdown",
   "id": "cd8c4d0b",
   "metadata": {},
   "source": [
    "### Identify any kind of duplicate data"
   ]
  },
  {
   "cell_type": "code",
   "execution_count": 18,
   "id": "8ac71c5b",
   "metadata": {},
   "outputs": [
    {
     "data": {
      "text/html": [
       "<div>\n",
       "<style scoped>\n",
       "    .dataframe tbody tr th:only-of-type {\n",
       "        vertical-align: middle;\n",
       "    }\n",
       "\n",
       "    .dataframe tbody tr th {\n",
       "        vertical-align: top;\n",
       "    }\n",
       "\n",
       "    .dataframe thead th {\n",
       "        text-align: right;\n",
       "    }\n",
       "</style>\n",
       "<table border=\"1\" class=\"dataframe\">\n",
       "  <thead>\n",
       "    <tr style=\"text-align: right;\">\n",
       "      <th></th>\n",
       "      <th>CustomerID</th>\n",
       "      <th>Item Code</th>\n",
       "      <th>InvoieNo</th>\n",
       "      <th>Date of purchase</th>\n",
       "      <th>Quantity</th>\n",
       "      <th>Time</th>\n",
       "      <th>price per Unit</th>\n",
       "      <th>Price</th>\n",
       "      <th>Shipping Location</th>\n",
       "    </tr>\n",
       "  </thead>\n",
       "  <tbody>\n",
       "    <tr>\n",
       "      <th>61202</th>\n",
       "      <td>4043.0</td>\n",
       "      <td>15819</td>\n",
       "      <td>403353</td>\n",
       "      <td>2017-12-02</td>\n",
       "      <td>1</td>\n",
       "      <td>14:07:00</td>\n",
       "      <td>447.0</td>\n",
       "      <td>447.0</td>\n",
       "      <td>Location 36</td>\n",
       "    </tr>\n",
       "    <tr>\n",
       "      <th>70587</th>\n",
       "      <td>3984.0</td>\n",
       "      <td>15422</td>\n",
       "      <td>405579</td>\n",
       "      <td>2017-12-09</td>\n",
       "      <td>24</td>\n",
       "      <td>14:09:00</td>\n",
       "      <td>77.0</td>\n",
       "      <td>1848.0</td>\n",
       "      <td>Location 36</td>\n",
       "    </tr>\n",
       "    <tr>\n",
       "      <th>84823</th>\n",
       "      <td>3828.0</td>\n",
       "      <td>14519</td>\n",
       "      <td>398139</td>\n",
       "      <td>2017-10-31</td>\n",
       "      <td>1</td>\n",
       "      <td>14:04:00</td>\n",
       "      <td>85.0</td>\n",
       "      <td>85.0</td>\n",
       "      <td>Location 36</td>\n",
       "    </tr>\n",
       "    <tr>\n",
       "      <th>120521</th>\n",
       "      <td>3384.0</td>\n",
       "      <td>15121</td>\n",
       "      <td>380588</td>\n",
       "      <td>2017-06-11</td>\n",
       "      <td>1</td>\n",
       "      <td>11:37:00</td>\n",
       "      <td>298.0</td>\n",
       "      <td>298.0</td>\n",
       "      <td>Location 36</td>\n",
       "    </tr>\n",
       "    <tr>\n",
       "      <th>182786</th>\n",
       "      <td>2607.0</td>\n",
       "      <td>15660</td>\n",
       "      <td>393225</td>\n",
       "      <td>2017-09-30</td>\n",
       "      <td>1</td>\n",
       "      <td>12:31:00</td>\n",
       "      <td>484.0</td>\n",
       "      <td>484.0</td>\n",
       "      <td>Location 36</td>\n",
       "    </tr>\n",
       "    <tr>\n",
       "      <th>248215</th>\n",
       "      <td>1852.0</td>\n",
       "      <td>15614</td>\n",
       "      <td>382863</td>\n",
       "      <td>2017-07-02</td>\n",
       "      <td>12</td>\n",
       "      <td>09:53:00</td>\n",
       "      <td>221.0</td>\n",
       "      <td>2652.0</td>\n",
       "      <td>Location 36</td>\n",
       "    </tr>\n",
       "    <tr>\n",
       "      <th>310310</th>\n",
       "      <td>1291.0</td>\n",
       "      <td>13958</td>\n",
       "      <td>368695</td>\n",
       "      <td>2017-02-14</td>\n",
       "      <td>2</td>\n",
       "      <td>16:17:00</td>\n",
       "      <td>298.0</td>\n",
       "      <td>596.0</td>\n",
       "      <td>Location 36</td>\n",
       "    </tr>\n",
       "    <tr>\n",
       "      <th>325175</th>\n",
       "      <td>1076.0</td>\n",
       "      <td>2020</td>\n",
       "      <td>405755</td>\n",
       "      <td>2017-12-13</td>\n",
       "      <td>12</td>\n",
       "      <td>15:48:00</td>\n",
       "      <td>58.0</td>\n",
       "      <td>696.0</td>\n",
       "      <td>Location 36</td>\n",
       "    </tr>\n",
       "  </tbody>\n",
       "</table>\n",
       "</div>"
      ],
      "text/plain": [
       "        CustomerID Item Code  InvoieNo Date of purchase  Quantity      Time  \\\n",
       "61202       4043.0     15819    403353       2017-12-02         1  14:07:00   \n",
       "70587       3984.0     15422    405579       2017-12-09        24  14:09:00   \n",
       "84823       3828.0     14519    398139       2017-10-31         1  14:04:00   \n",
       "120521      3384.0     15121    380588       2017-06-11         1  11:37:00   \n",
       "182786      2607.0     15660    393225       2017-09-30         1  12:31:00   \n",
       "248215      1852.0     15614    382863       2017-07-02        12  09:53:00   \n",
       "310310      1291.0     13958    368695       2017-02-14         2  16:17:00   \n",
       "325175      1076.0      2020    405755       2017-12-13        12  15:48:00   \n",
       "\n",
       "        price per Unit   Price Shipping Location  \n",
       "61202            447.0   447.0       Location 36  \n",
       "70587             77.0  1848.0       Location 36  \n",
       "84823             85.0    85.0       Location 36  \n",
       "120521           298.0   298.0       Location 36  \n",
       "182786           484.0   484.0       Location 36  \n",
       "248215           221.0  2652.0       Location 36  \n",
       "310310           298.0   596.0       Location 36  \n",
       "325175            58.0   696.0       Location 36  "
      ]
     },
     "execution_count": 18,
     "metadata": {},
     "output_type": "execute_result"
    }
   ],
   "source": [
    "ecom.loc[ecom.duplicated(),:]"
   ]
  },
  {
   "cell_type": "markdown",
   "id": "bd9284c6",
   "metadata": {},
   "source": [
    "### Drop the duplicate data from the dataset"
   ]
  },
  {
   "cell_type": "code",
   "execution_count": 19,
   "id": "4a575cc1",
   "metadata": {},
   "outputs": [],
   "source": [
    "ecom = ecom.drop_duplicates()"
   ]
  },
  {
   "cell_type": "code",
   "execution_count": 20,
   "id": "c68c08ed",
   "metadata": {},
   "outputs": [
    {
     "data": {
      "text/html": [
       "<div>\n",
       "<style scoped>\n",
       "    .dataframe tbody tr th:only-of-type {\n",
       "        vertical-align: middle;\n",
       "    }\n",
       "\n",
       "    .dataframe tbody tr th {\n",
       "        vertical-align: top;\n",
       "    }\n",
       "\n",
       "    .dataframe thead th {\n",
       "        text-align: right;\n",
       "    }\n",
       "</style>\n",
       "<table border=\"1\" class=\"dataframe\">\n",
       "  <thead>\n",
       "    <tr style=\"text-align: right;\">\n",
       "      <th></th>\n",
       "      <th>CustomerID</th>\n",
       "      <th>Item Code</th>\n",
       "      <th>InvoieNo</th>\n",
       "      <th>Date of purchase</th>\n",
       "      <th>Quantity</th>\n",
       "      <th>Time</th>\n",
       "      <th>price per Unit</th>\n",
       "      <th>Price</th>\n",
       "      <th>Shipping Location</th>\n",
       "    </tr>\n",
       "  </thead>\n",
       "  <tbody>\n",
       "  </tbody>\n",
       "</table>\n",
       "</div>"
      ],
      "text/plain": [
       "Empty DataFrame\n",
       "Columns: [CustomerID, Item Code, InvoieNo, Date of purchase, Quantity, Time, price per Unit, Price, Shipping Location]\n",
       "Index: []"
      ]
     },
     "execution_count": 20,
     "metadata": {},
     "output_type": "execute_result"
    }
   ],
   "source": [
    "ecom.loc[ecom.duplicated(),:]"
   ]
  },
  {
   "cell_type": "code",
   "execution_count": 21,
   "id": "a9e4c441",
   "metadata": {},
   "outputs": [
    {
     "data": {
      "text/html": [
       "<div>\n",
       "<style scoped>\n",
       "    .dataframe tbody tr th:only-of-type {\n",
       "        vertical-align: middle;\n",
       "    }\n",
       "\n",
       "    .dataframe tbody tr th {\n",
       "        vertical-align: top;\n",
       "    }\n",
       "\n",
       "    .dataframe thead th {\n",
       "        text-align: right;\n",
       "    }\n",
       "</style>\n",
       "<table border=\"1\" class=\"dataframe\">\n",
       "  <thead>\n",
       "    <tr style=\"text-align: right;\">\n",
       "      <th></th>\n",
       "      <th>CustomerID</th>\n",
       "      <th>Item Code</th>\n",
       "      <th>InvoieNo</th>\n",
       "      <th>Date of purchase</th>\n",
       "      <th>Quantity</th>\n",
       "      <th>Time</th>\n",
       "      <th>price per Unit</th>\n",
       "      <th>Price</th>\n",
       "      <th>Shipping Location</th>\n",
       "    </tr>\n",
       "  </thead>\n",
       "  <tbody>\n",
       "    <tr>\n",
       "      <th>0</th>\n",
       "      <td>4355.0</td>\n",
       "      <td>15734</td>\n",
       "      <td>398177</td>\n",
       "      <td>2017-10-29</td>\n",
       "      <td>6</td>\n",
       "      <td>15:36:00</td>\n",
       "      <td>321.0</td>\n",
       "      <td>1926.0</td>\n",
       "      <td>Location 1</td>\n",
       "    </tr>\n",
       "    <tr>\n",
       "      <th>1</th>\n",
       "      <td>4352.0</td>\n",
       "      <td>14616</td>\n",
       "      <td>394422</td>\n",
       "      <td>2017-10-05</td>\n",
       "      <td>2</td>\n",
       "      <td>14:53:00</td>\n",
       "      <td>870.0</td>\n",
       "      <td>1740.0</td>\n",
       "      <td>Location 1</td>\n",
       "    </tr>\n",
       "    <tr>\n",
       "      <th>2</th>\n",
       "      <td>4352.0</td>\n",
       "      <td>14614</td>\n",
       "      <td>394422</td>\n",
       "      <td>2017-10-12</td>\n",
       "      <td>2</td>\n",
       "      <td>14:53:00</td>\n",
       "      <td>933.0</td>\n",
       "      <td>1866.0</td>\n",
       "      <td>Location 1</td>\n",
       "    </tr>\n",
       "    <tr>\n",
       "      <th>3</th>\n",
       "      <td>4352.0</td>\n",
       "      <td>85014B</td>\n",
       "      <td>388633</td>\n",
       "      <td>2017-08-22</td>\n",
       "      <td>3</td>\n",
       "      <td>14:47:00</td>\n",
       "      <td>623.0</td>\n",
       "      <td>1869.0</td>\n",
       "      <td>Location 1</td>\n",
       "    </tr>\n",
       "    <tr>\n",
       "      <th>4</th>\n",
       "      <td>4352.0</td>\n",
       "      <td>15364</td>\n",
       "      <td>394422</td>\n",
       "      <td>2017-10-10</td>\n",
       "      <td>2</td>\n",
       "      <td>14:53:00</td>\n",
       "      <td>944.0</td>\n",
       "      <td>1888.0</td>\n",
       "      <td>Location 1</td>\n",
       "    </tr>\n",
       "    <tr>\n",
       "      <th>5</th>\n",
       "      <td>4349.0</td>\n",
       "      <td>14618</td>\n",
       "      <td>397122</td>\n",
       "      <td>2017-10-27</td>\n",
       "      <td>1</td>\n",
       "      <td>12:43:00</td>\n",
       "      <td>256.0</td>\n",
       "      <td>256.0</td>\n",
       "      <td>Location 1</td>\n",
       "    </tr>\n",
       "    <tr>\n",
       "      <th>6</th>\n",
       "      <td>4343.0</td>\n",
       "      <td>15364</td>\n",
       "      <td>368432</td>\n",
       "      <td>2017-02-13</td>\n",
       "      <td>-4</td>\n",
       "      <td>14:46:00</td>\n",
       "      <td>922.0</td>\n",
       "      <td>-3688.0</td>\n",
       "      <td>Location 1</td>\n",
       "    </tr>\n",
       "    <tr>\n",
       "      <th>7</th>\n",
       "      <td>4341.0</td>\n",
       "      <td>85014B</td>\n",
       "      <td>377109</td>\n",
       "      <td>2017-05-14</td>\n",
       "      <td>3</td>\n",
       "      <td>09:22:00</td>\n",
       "      <td>677.0</td>\n",
       "      <td>2031.0</td>\n",
       "      <td>Location 1</td>\n",
       "    </tr>\n",
       "    <tr>\n",
       "      <th>8</th>\n",
       "      <td>4341.0</td>\n",
       "      <td>85014A</td>\n",
       "      <td>377109</td>\n",
       "      <td>2017-05-12</td>\n",
       "      <td>3</td>\n",
       "      <td>09:22:00</td>\n",
       "      <td>692.0</td>\n",
       "      <td>2076.0</td>\n",
       "      <td>Location 1</td>\n",
       "    </tr>\n",
       "    <tr>\n",
       "      <th>9</th>\n",
       "      <td>4341.0</td>\n",
       "      <td>85014B</td>\n",
       "      <td>390217</td>\n",
       "      <td>2017-09-07</td>\n",
       "      <td>6</td>\n",
       "      <td>14:47:00</td>\n",
       "      <td>670.0</td>\n",
       "      <td>4020.0</td>\n",
       "      <td>Location 1</td>\n",
       "    </tr>\n",
       "  </tbody>\n",
       "</table>\n",
       "</div>"
      ],
      "text/plain": [
       "   CustomerID Item Code  InvoieNo Date of purchase  Quantity      Time  \\\n",
       "0      4355.0     15734    398177       2017-10-29         6  15:36:00   \n",
       "1      4352.0     14616    394422       2017-10-05         2  14:53:00   \n",
       "2      4352.0     14614    394422       2017-10-12         2  14:53:00   \n",
       "3      4352.0    85014B    388633       2017-08-22         3  14:47:00   \n",
       "4      4352.0     15364    394422       2017-10-10         2  14:53:00   \n",
       "5      4349.0     14618    397122       2017-10-27         1  12:43:00   \n",
       "6      4343.0     15364    368432       2017-02-13        -4  14:46:00   \n",
       "7      4341.0    85014B    377109       2017-05-14         3  09:22:00   \n",
       "8      4341.0    85014A    377109       2017-05-12         3  09:22:00   \n",
       "9      4341.0    85014B    390217       2017-09-07         6  14:47:00   \n",
       "\n",
       "   price per Unit   Price Shipping Location  \n",
       "0           321.0  1926.0        Location 1  \n",
       "1           870.0  1740.0        Location 1  \n",
       "2           933.0  1866.0        Location 1  \n",
       "3           623.0  1869.0        Location 1  \n",
       "4           944.0  1888.0        Location 1  \n",
       "5           256.0   256.0        Location 1  \n",
       "6           922.0 -3688.0        Location 1  \n",
       "7           677.0  2031.0        Location 1  \n",
       "8           692.0  2076.0        Location 1  \n",
       "9           670.0  4020.0        Location 1  "
      ]
     },
     "execution_count": 21,
     "metadata": {},
     "output_type": "execute_result"
    }
   ],
   "source": [
    "ecom.head(10)"
   ]
  },
  {
   "cell_type": "code",
   "execution_count": 22,
   "id": "a95071df",
   "metadata": {},
   "outputs": [
    {
     "name": "stdout",
     "output_type": "stream",
     "text": [
      "<class 'pandas.core.frame.DataFrame'>\n",
      "Int64Index: 404181 entries, 0 to 537949\n",
      "Data columns (total 9 columns):\n",
      " #   Column             Non-Null Count   Dtype         \n",
      "---  ------             --------------   -----         \n",
      " 0   CustomerID         404181 non-null  float64       \n",
      " 1   Item Code          404181 non-null  object        \n",
      " 2   InvoieNo           404181 non-null  int64         \n",
      " 3   Date of purchase   404181 non-null  datetime64[ns]\n",
      " 4   Quantity           404181 non-null  int64         \n",
      " 5   Time               404181 non-null  object        \n",
      " 6   price per Unit     404181 non-null  float64       \n",
      " 7   Price              404181 non-null  float64       \n",
      " 8   Shipping Location  404181 non-null  object        \n",
      "dtypes: datetime64[ns](1), float64(3), int64(2), object(3)\n",
      "memory usage: 30.8+ MB\n"
     ]
    }
   ],
   "source": [
    "ecom.info()"
   ]
  },
  {
   "cell_type": "code",
   "execution_count": 23,
   "id": "7979b91d",
   "metadata": {},
   "outputs": [],
   "source": [
    "# Objective : Build an unsupervised learning model which can enable your \n",
    "# company to analyze their customers via RFM (Recency, Frequency and Monetary value) approach.\n",
    "\n",
    "# Recency = Latest Date - Last invoice data\n",
    "# latest date = today's date or one day after last invoice date\n",
    "\n",
    "# Frequency = number of the transaction done by customer\n",
    "\n",
    "# Monetary = Sum of total amount purchased by customer"
   ]
  },
  {
   "cell_type": "markdown",
   "id": "f93d2c4d",
   "metadata": {},
   "source": [
    "### Get first date of purchase and last date of purchase"
   ]
  },
  {
   "cell_type": "code",
   "execution_count": 24,
   "id": "9d162e0b",
   "metadata": {},
   "outputs": [],
   "source": [
    "last_date = max(ecom['Date of purchase'])\n",
    "first_date = min(ecom['Date of purchase'])"
   ]
  },
  {
   "cell_type": "code",
   "execution_count": 25,
   "id": "3aecc28f",
   "metadata": {},
   "outputs": [
    {
     "data": {
      "text/plain": [
       "Timestamp('2017-12-19 00:00:00')"
      ]
     },
     "execution_count": 25,
     "metadata": {},
     "output_type": "execute_result"
    }
   ],
   "source": [
    "last_date"
   ]
  },
  {
   "cell_type": "markdown",
   "id": "807f419b",
   "metadata": {},
   "source": [
    "### Initialize latest date as a day after the last date of purchase"
   ]
  },
  {
   "cell_type": "code",
   "execution_count": 26,
   "id": "f809b943",
   "metadata": {},
   "outputs": [
    {
     "data": {
      "text/plain": [
       "datetime.datetime(2017, 12, 20, 0, 0)"
      ]
     },
     "execution_count": 26,
     "metadata": {},
     "output_type": "execute_result"
    }
   ],
   "source": [
    "import datetime as dt\n",
    "latest_date = dt.datetime(2017,12,20)\n",
    "latest_date"
   ]
  },
  {
   "cell_type": "markdown",
   "id": "97f17fc4",
   "metadata": {},
   "source": [
    "### Create a column for calculating days before which the transaction was made"
   ]
  },
  {
   "cell_type": "code",
   "execution_count": 27,
   "id": "ced94508",
   "metadata": {},
   "outputs": [],
   "source": [
    "ecom['Days'] = (latest_date-ecom['Date of purchase']).dt.days"
   ]
  },
  {
   "cell_type": "code",
   "execution_count": 28,
   "id": "e45dd986",
   "metadata": {},
   "outputs": [
    {
     "data": {
      "text/html": [
       "<div>\n",
       "<style scoped>\n",
       "    .dataframe tbody tr th:only-of-type {\n",
       "        vertical-align: middle;\n",
       "    }\n",
       "\n",
       "    .dataframe tbody tr th {\n",
       "        vertical-align: top;\n",
       "    }\n",
       "\n",
       "    .dataframe thead th {\n",
       "        text-align: right;\n",
       "    }\n",
       "</style>\n",
       "<table border=\"1\" class=\"dataframe\">\n",
       "  <thead>\n",
       "    <tr style=\"text-align: right;\">\n",
       "      <th></th>\n",
       "      <th>CustomerID</th>\n",
       "      <th>Item Code</th>\n",
       "      <th>InvoieNo</th>\n",
       "      <th>Date of purchase</th>\n",
       "      <th>Quantity</th>\n",
       "      <th>Time</th>\n",
       "      <th>price per Unit</th>\n",
       "      <th>Price</th>\n",
       "      <th>Shipping Location</th>\n",
       "      <th>Days</th>\n",
       "    </tr>\n",
       "  </thead>\n",
       "  <tbody>\n",
       "    <tr>\n",
       "      <th>0</th>\n",
       "      <td>4355.0</td>\n",
       "      <td>15734</td>\n",
       "      <td>398177</td>\n",
       "      <td>2017-10-29</td>\n",
       "      <td>6</td>\n",
       "      <td>15:36:00</td>\n",
       "      <td>321.0</td>\n",
       "      <td>1926.0</td>\n",
       "      <td>Location 1</td>\n",
       "      <td>52</td>\n",
       "    </tr>\n",
       "    <tr>\n",
       "      <th>1</th>\n",
       "      <td>4352.0</td>\n",
       "      <td>14616</td>\n",
       "      <td>394422</td>\n",
       "      <td>2017-10-05</td>\n",
       "      <td>2</td>\n",
       "      <td>14:53:00</td>\n",
       "      <td>870.0</td>\n",
       "      <td>1740.0</td>\n",
       "      <td>Location 1</td>\n",
       "      <td>76</td>\n",
       "    </tr>\n",
       "    <tr>\n",
       "      <th>2</th>\n",
       "      <td>4352.0</td>\n",
       "      <td>14614</td>\n",
       "      <td>394422</td>\n",
       "      <td>2017-10-12</td>\n",
       "      <td>2</td>\n",
       "      <td>14:53:00</td>\n",
       "      <td>933.0</td>\n",
       "      <td>1866.0</td>\n",
       "      <td>Location 1</td>\n",
       "      <td>69</td>\n",
       "    </tr>\n",
       "    <tr>\n",
       "      <th>3</th>\n",
       "      <td>4352.0</td>\n",
       "      <td>85014B</td>\n",
       "      <td>388633</td>\n",
       "      <td>2017-08-22</td>\n",
       "      <td>3</td>\n",
       "      <td>14:47:00</td>\n",
       "      <td>623.0</td>\n",
       "      <td>1869.0</td>\n",
       "      <td>Location 1</td>\n",
       "      <td>120</td>\n",
       "    </tr>\n",
       "    <tr>\n",
       "      <th>4</th>\n",
       "      <td>4352.0</td>\n",
       "      <td>15364</td>\n",
       "      <td>394422</td>\n",
       "      <td>2017-10-10</td>\n",
       "      <td>2</td>\n",
       "      <td>14:53:00</td>\n",
       "      <td>944.0</td>\n",
       "      <td>1888.0</td>\n",
       "      <td>Location 1</td>\n",
       "      <td>71</td>\n",
       "    </tr>\n",
       "  </tbody>\n",
       "</table>\n",
       "</div>"
      ],
      "text/plain": [
       "   CustomerID Item Code  InvoieNo Date of purchase  Quantity      Time  \\\n",
       "0      4355.0     15734    398177       2017-10-29         6  15:36:00   \n",
       "1      4352.0     14616    394422       2017-10-05         2  14:53:00   \n",
       "2      4352.0     14614    394422       2017-10-12         2  14:53:00   \n",
       "3      4352.0    85014B    388633       2017-08-22         3  14:47:00   \n",
       "4      4352.0     15364    394422       2017-10-10         2  14:53:00   \n",
       "\n",
       "   price per Unit   Price Shipping Location  Days  \n",
       "0           321.0  1926.0        Location 1    52  \n",
       "1           870.0  1740.0        Location 1    76  \n",
       "2           933.0  1866.0        Location 1    69  \n",
       "3           623.0  1869.0        Location 1   120  \n",
       "4           944.0  1888.0        Location 1    71  "
      ]
     },
     "execution_count": 28,
     "metadata": {},
     "output_type": "execute_result"
    }
   ],
   "source": [
    "ecom.head()"
   ]
  },
  {
   "cell_type": "markdown",
   "id": "f32299c3",
   "metadata": {},
   "source": [
    "### Create 3 new variables by grouping the customers on the basis of recency, frequency and monetory"
   ]
  },
  {
   "cell_type": "code",
   "execution_count": 29,
   "id": "f092a860",
   "metadata": {},
   "outputs": [],
   "source": [
    "recency = ecom.groupby(['CustomerID']).agg({'Days':'min'})\n",
    "monetory = ecom.groupby(['CustomerID']).agg({'Price':'sum'})\n",
    "frequency = ecom.groupby(['CustomerID']).agg({'InvoieNo':'count'})"
   ]
  },
  {
   "cell_type": "code",
   "execution_count": 30,
   "id": "dbd6a2b8",
   "metadata": {},
   "outputs": [],
   "source": [
    "from functools import reduce\n",
    "df = [recency,frequency,monetory]\n",
    "rfm = reduce(lambda  left,right: pd.merge(left,right,on=['CustomerID'],how='outer'), df)"
   ]
  },
  {
   "cell_type": "code",
   "execution_count": 31,
   "id": "870f6469",
   "metadata": {},
   "outputs": [],
   "source": [
    "rfm = rfm.reset_index()"
   ]
  },
  {
   "cell_type": "code",
   "execution_count": 32,
   "id": "80d48aeb",
   "metadata": {},
   "outputs": [
    {
     "data": {
      "text/html": [
       "<div>\n",
       "<style scoped>\n",
       "    .dataframe tbody tr th:only-of-type {\n",
       "        vertical-align: middle;\n",
       "    }\n",
       "\n",
       "    .dataframe tbody tr th {\n",
       "        vertical-align: top;\n",
       "    }\n",
       "\n",
       "    .dataframe thead th {\n",
       "        text-align: right;\n",
       "    }\n",
       "</style>\n",
       "<table border=\"1\" class=\"dataframe\">\n",
       "  <thead>\n",
       "    <tr style=\"text-align: right;\">\n",
       "      <th></th>\n",
       "      <th>CustomerID</th>\n",
       "      <th>Days</th>\n",
       "      <th>InvoieNo</th>\n",
       "      <th>Price</th>\n",
       "    </tr>\n",
       "  </thead>\n",
       "  <tbody>\n",
       "    <tr>\n",
       "      <th>0</th>\n",
       "      <td>2.0</td>\n",
       "      <td>4</td>\n",
       "      <td>182</td>\n",
       "      <td>553704.0</td>\n",
       "    </tr>\n",
       "    <tr>\n",
       "      <th>1</th>\n",
       "      <td>3.0</td>\n",
       "      <td>77</td>\n",
       "      <td>27</td>\n",
       "      <td>257404.0</td>\n",
       "    </tr>\n",
       "    <tr>\n",
       "      <th>2</th>\n",
       "      <td>4.0</td>\n",
       "      <td>19</td>\n",
       "      <td>72</td>\n",
       "      <td>176613.0</td>\n",
       "    </tr>\n",
       "    <tr>\n",
       "      <th>3</th>\n",
       "      <td>5.0</td>\n",
       "      <td>311</td>\n",
       "      <td>16</td>\n",
       "      <td>41976.0</td>\n",
       "    </tr>\n",
       "    <tr>\n",
       "      <th>4</th>\n",
       "      <td>6.0</td>\n",
       "      <td>37</td>\n",
       "      <td>84</td>\n",
       "      <td>151822.0</td>\n",
       "    </tr>\n",
       "    <tr>\n",
       "      <th>...</th>\n",
       "      <td>...</td>\n",
       "      <td>...</td>\n",
       "      <td>...</td>\n",
       "      <td>...</td>\n",
       "    </tr>\n",
       "    <tr>\n",
       "      <th>4344</th>\n",
       "      <td>4368.0</td>\n",
       "      <td>278</td>\n",
       "      <td>10</td>\n",
       "      <td>20480.0</td>\n",
       "    </tr>\n",
       "    <tr>\n",
       "      <th>4345</th>\n",
       "      <td>4369.0</td>\n",
       "      <td>181</td>\n",
       "      <td>7</td>\n",
       "      <td>10774.0</td>\n",
       "    </tr>\n",
       "    <tr>\n",
       "      <th>4346</th>\n",
       "      <td>4370.0</td>\n",
       "      <td>9</td>\n",
       "      <td>13</td>\n",
       "      <td>24962.0</td>\n",
       "    </tr>\n",
       "    <tr>\n",
       "      <th>4347</th>\n",
       "      <td>4371.0</td>\n",
       "      <td>4</td>\n",
       "      <td>754</td>\n",
       "      <td>280608.0</td>\n",
       "    </tr>\n",
       "    <tr>\n",
       "      <th>4348</th>\n",
       "      <td>4372.0</td>\n",
       "      <td>44</td>\n",
       "      <td>70</td>\n",
       "      <td>262820.0</td>\n",
       "    </tr>\n",
       "  </tbody>\n",
       "</table>\n",
       "<p>4349 rows × 4 columns</p>\n",
       "</div>"
      ],
      "text/plain": [
       "      CustomerID  Days  InvoieNo     Price\n",
       "0            2.0     4       182  553704.0\n",
       "1            3.0    77        27  257404.0\n",
       "2            4.0    19        72  176613.0\n",
       "3            5.0   311        16   41976.0\n",
       "4            6.0    37        84  151822.0\n",
       "...          ...   ...       ...       ...\n",
       "4344      4368.0   278        10   20480.0\n",
       "4345      4369.0   181         7   10774.0\n",
       "4346      4370.0     9        13   24962.0\n",
       "4347      4371.0     4       754  280608.0\n",
       "4348      4372.0    44        70  262820.0\n",
       "\n",
       "[4349 rows x 4 columns]"
      ]
     },
     "execution_count": 32,
     "metadata": {},
     "output_type": "execute_result"
    }
   ],
   "source": [
    "rfm"
   ]
  },
  {
   "cell_type": "markdown",
   "id": "6c77e973",
   "metadata": {},
   "source": [
    "### Renaming the column names as required"
   ]
  },
  {
   "cell_type": "code",
   "execution_count": 33,
   "id": "6e2dd9f4",
   "metadata": {},
   "outputs": [],
   "source": [
    "rfm.rename(columns = {'Days':'Recency','InvoieNo':'Frequency','Price':'Monetory'}, inplace=True)"
   ]
  },
  {
   "cell_type": "code",
   "execution_count": 34,
   "id": "2717851a",
   "metadata": {},
   "outputs": [
    {
     "data": {
      "text/html": [
       "<div>\n",
       "<style scoped>\n",
       "    .dataframe tbody tr th:only-of-type {\n",
       "        vertical-align: middle;\n",
       "    }\n",
       "\n",
       "    .dataframe tbody tr th {\n",
       "        vertical-align: top;\n",
       "    }\n",
       "\n",
       "    .dataframe thead th {\n",
       "        text-align: right;\n",
       "    }\n",
       "</style>\n",
       "<table border=\"1\" class=\"dataframe\">\n",
       "  <thead>\n",
       "    <tr style=\"text-align: right;\">\n",
       "      <th></th>\n",
       "      <th>CustomerID</th>\n",
       "      <th>Recency</th>\n",
       "      <th>Frequency</th>\n",
       "      <th>Monetory</th>\n",
       "    </tr>\n",
       "  </thead>\n",
       "  <tbody>\n",
       "    <tr>\n",
       "      <th>0</th>\n",
       "      <td>2.0</td>\n",
       "      <td>4</td>\n",
       "      <td>182</td>\n",
       "      <td>553704.0</td>\n",
       "    </tr>\n",
       "    <tr>\n",
       "      <th>1</th>\n",
       "      <td>3.0</td>\n",
       "      <td>77</td>\n",
       "      <td>27</td>\n",
       "      <td>257404.0</td>\n",
       "    </tr>\n",
       "    <tr>\n",
       "      <th>2</th>\n",
       "      <td>4.0</td>\n",
       "      <td>19</td>\n",
       "      <td>72</td>\n",
       "      <td>176613.0</td>\n",
       "    </tr>\n",
       "    <tr>\n",
       "      <th>3</th>\n",
       "      <td>5.0</td>\n",
       "      <td>311</td>\n",
       "      <td>16</td>\n",
       "      <td>41976.0</td>\n",
       "    </tr>\n",
       "    <tr>\n",
       "      <th>4</th>\n",
       "      <td>6.0</td>\n",
       "      <td>37</td>\n",
       "      <td>84</td>\n",
       "      <td>151822.0</td>\n",
       "    </tr>\n",
       "    <tr>\n",
       "      <th>...</th>\n",
       "      <td>...</td>\n",
       "      <td>...</td>\n",
       "      <td>...</td>\n",
       "      <td>...</td>\n",
       "    </tr>\n",
       "    <tr>\n",
       "      <th>4344</th>\n",
       "      <td>4368.0</td>\n",
       "      <td>278</td>\n",
       "      <td>10</td>\n",
       "      <td>20480.0</td>\n",
       "    </tr>\n",
       "    <tr>\n",
       "      <th>4345</th>\n",
       "      <td>4369.0</td>\n",
       "      <td>181</td>\n",
       "      <td>7</td>\n",
       "      <td>10774.0</td>\n",
       "    </tr>\n",
       "    <tr>\n",
       "      <th>4346</th>\n",
       "      <td>4370.0</td>\n",
       "      <td>9</td>\n",
       "      <td>13</td>\n",
       "      <td>24962.0</td>\n",
       "    </tr>\n",
       "    <tr>\n",
       "      <th>4347</th>\n",
       "      <td>4371.0</td>\n",
       "      <td>4</td>\n",
       "      <td>754</td>\n",
       "      <td>280608.0</td>\n",
       "    </tr>\n",
       "    <tr>\n",
       "      <th>4348</th>\n",
       "      <td>4372.0</td>\n",
       "      <td>44</td>\n",
       "      <td>70</td>\n",
       "      <td>262820.0</td>\n",
       "    </tr>\n",
       "  </tbody>\n",
       "</table>\n",
       "<p>4349 rows × 4 columns</p>\n",
       "</div>"
      ],
      "text/plain": [
       "      CustomerID  Recency  Frequency  Monetory\n",
       "0            2.0        4        182  553704.0\n",
       "1            3.0       77         27  257404.0\n",
       "2            4.0       19         72  176613.0\n",
       "3            5.0      311         16   41976.0\n",
       "4            6.0       37         84  151822.0\n",
       "...          ...      ...        ...       ...\n",
       "4344      4368.0      278         10   20480.0\n",
       "4345      4369.0      181          7   10774.0\n",
       "4346      4370.0        9         13   24962.0\n",
       "4347      4371.0        4        754  280608.0\n",
       "4348      4372.0       44         70  262820.0\n",
       "\n",
       "[4349 rows x 4 columns]"
      ]
     },
     "execution_count": 34,
     "metadata": {},
     "output_type": "execute_result"
    }
   ],
   "source": [
    "rfm"
   ]
  },
  {
   "cell_type": "markdown",
   "id": "20541324",
   "metadata": {},
   "source": [
    "### Defining the quantile sections"
   ]
  },
  {
   "cell_type": "code",
   "execution_count": 35,
   "id": "f924b936",
   "metadata": {},
   "outputs": [],
   "source": [
    "quantiles = rfm.quantile(q=[0.25,0.5,0.75])\n",
    "quantiles = quantiles.to_dict()"
   ]
  },
  {
   "cell_type": "code",
   "execution_count": 36,
   "id": "87bbb6e8",
   "metadata": {},
   "outputs": [
    {
     "data": {
      "text/plain": [
       "{'CustomerID': {0.25: 1095.0, 0.5: 2186.0, 0.75: 3279.0},\n",
       " 'Recency': {0.25: 18.0, 0.5: 51.0, 0.75: 144.0},\n",
       " 'Frequency': {0.25: 17.0, 0.5: 42.0, 0.75: 101.0},\n",
       " 'Monetory': {0.25: 38148.0, 0.5: 83655.0, 0.75: 205612.0}}"
      ]
     },
     "execution_count": 36,
     "metadata": {},
     "output_type": "execute_result"
    }
   ],
   "source": [
    "quantiles"
   ]
  },
  {
   "cell_type": "markdown",
   "id": "a800aa68",
   "metadata": {},
   "source": [
    "### Creating two functions to determine ratings of the three parameters"
   ]
  },
  {
   "cell_type": "code",
   "execution_count": 37,
   "id": "9191142e",
   "metadata": {},
   "outputs": [],
   "source": [
    "def Rscore(x,p,d):\n",
    "    if x<= d[p][0.25]:\n",
    "        return 1\n",
    "    elif x<= d[p][0.5]:\n",
    "        return 2\n",
    "    elif x<= d[p][0.75]:\n",
    "        return 3\n",
    "    else:\n",
    "        return 4\n",
    "    \n",
    "def FMscore(x,p,d):\n",
    "    if x<= d[p][0.25]:\n",
    "        return 4\n",
    "    elif x<= d[p][0.5]:\n",
    "        return 3\n",
    "    elif x<= d[p][0.75]:\n",
    "        return 2\n",
    "    else:\n",
    "        return 1"
   ]
  },
  {
   "cell_type": "markdown",
   "id": "d025abdb",
   "metadata": {},
   "source": [
    "### Applying the above functions with the required parameters"
   ]
  },
  {
   "cell_type": "code",
   "execution_count": 38,
   "id": "c355479f",
   "metadata": {},
   "outputs": [],
   "source": [
    "rfm['R'] = rfm['Recency'].apply(Rscore, args = ('Recency', quantiles))\n",
    "rfm['F'] = rfm['Frequency'].apply(FMscore, args = ('Frequency', quantiles))\n",
    "rfm['M'] = rfm['Monetory'].apply(FMscore, args = ('Monetory', quantiles))"
   ]
  },
  {
   "cell_type": "code",
   "execution_count": 39,
   "id": "f2a5453d",
   "metadata": {},
   "outputs": [
    {
     "data": {
      "text/html": [
       "<div>\n",
       "<style scoped>\n",
       "    .dataframe tbody tr th:only-of-type {\n",
       "        vertical-align: middle;\n",
       "    }\n",
       "\n",
       "    .dataframe tbody tr th {\n",
       "        vertical-align: top;\n",
       "    }\n",
       "\n",
       "    .dataframe thead th {\n",
       "        text-align: right;\n",
       "    }\n",
       "</style>\n",
       "<table border=\"1\" class=\"dataframe\">\n",
       "  <thead>\n",
       "    <tr style=\"text-align: right;\">\n",
       "      <th></th>\n",
       "      <th>CustomerID</th>\n",
       "      <th>Recency</th>\n",
       "      <th>Frequency</th>\n",
       "      <th>Monetory</th>\n",
       "      <th>R</th>\n",
       "      <th>F</th>\n",
       "      <th>M</th>\n",
       "    </tr>\n",
       "  </thead>\n",
       "  <tbody>\n",
       "    <tr>\n",
       "      <th>0</th>\n",
       "      <td>2.0</td>\n",
       "      <td>4</td>\n",
       "      <td>182</td>\n",
       "      <td>553704.0</td>\n",
       "      <td>1</td>\n",
       "      <td>1</td>\n",
       "      <td>1</td>\n",
       "    </tr>\n",
       "    <tr>\n",
       "      <th>1</th>\n",
       "      <td>3.0</td>\n",
       "      <td>77</td>\n",
       "      <td>27</td>\n",
       "      <td>257404.0</td>\n",
       "      <td>3</td>\n",
       "      <td>3</td>\n",
       "      <td>1</td>\n",
       "    </tr>\n",
       "    <tr>\n",
       "      <th>2</th>\n",
       "      <td>4.0</td>\n",
       "      <td>19</td>\n",
       "      <td>72</td>\n",
       "      <td>176613.0</td>\n",
       "      <td>2</td>\n",
       "      <td>2</td>\n",
       "      <td>2</td>\n",
       "    </tr>\n",
       "    <tr>\n",
       "      <th>3</th>\n",
       "      <td>5.0</td>\n",
       "      <td>311</td>\n",
       "      <td>16</td>\n",
       "      <td>41976.0</td>\n",
       "      <td>4</td>\n",
       "      <td>4</td>\n",
       "      <td>3</td>\n",
       "    </tr>\n",
       "    <tr>\n",
       "      <th>4</th>\n",
       "      <td>6.0</td>\n",
       "      <td>37</td>\n",
       "      <td>84</td>\n",
       "      <td>151822.0</td>\n",
       "      <td>2</td>\n",
       "      <td>2</td>\n",
       "      <td>2</td>\n",
       "    </tr>\n",
       "    <tr>\n",
       "      <th>...</th>\n",
       "      <td>...</td>\n",
       "      <td>...</td>\n",
       "      <td>...</td>\n",
       "      <td>...</td>\n",
       "      <td>...</td>\n",
       "      <td>...</td>\n",
       "      <td>...</td>\n",
       "    </tr>\n",
       "    <tr>\n",
       "      <th>4344</th>\n",
       "      <td>4368.0</td>\n",
       "      <td>278</td>\n",
       "      <td>10</td>\n",
       "      <td>20480.0</td>\n",
       "      <td>4</td>\n",
       "      <td>4</td>\n",
       "      <td>4</td>\n",
       "    </tr>\n",
       "    <tr>\n",
       "      <th>4345</th>\n",
       "      <td>4369.0</td>\n",
       "      <td>181</td>\n",
       "      <td>7</td>\n",
       "      <td>10774.0</td>\n",
       "      <td>4</td>\n",
       "      <td>4</td>\n",
       "      <td>4</td>\n",
       "    </tr>\n",
       "    <tr>\n",
       "      <th>4346</th>\n",
       "      <td>4370.0</td>\n",
       "      <td>9</td>\n",
       "      <td>13</td>\n",
       "      <td>24962.0</td>\n",
       "      <td>1</td>\n",
       "      <td>4</td>\n",
       "      <td>4</td>\n",
       "    </tr>\n",
       "    <tr>\n",
       "      <th>4347</th>\n",
       "      <td>4371.0</td>\n",
       "      <td>4</td>\n",
       "      <td>754</td>\n",
       "      <td>280608.0</td>\n",
       "      <td>1</td>\n",
       "      <td>1</td>\n",
       "      <td>1</td>\n",
       "    </tr>\n",
       "    <tr>\n",
       "      <th>4348</th>\n",
       "      <td>4372.0</td>\n",
       "      <td>44</td>\n",
       "      <td>70</td>\n",
       "      <td>262820.0</td>\n",
       "      <td>2</td>\n",
       "      <td>2</td>\n",
       "      <td>1</td>\n",
       "    </tr>\n",
       "  </tbody>\n",
       "</table>\n",
       "<p>4349 rows × 7 columns</p>\n",
       "</div>"
      ],
      "text/plain": [
       "      CustomerID  Recency  Frequency  Monetory  R  F  M\n",
       "0            2.0        4        182  553704.0  1  1  1\n",
       "1            3.0       77         27  257404.0  3  3  1\n",
       "2            4.0       19         72  176613.0  2  2  2\n",
       "3            5.0      311         16   41976.0  4  4  3\n",
       "4            6.0       37         84  151822.0  2  2  2\n",
       "...          ...      ...        ...       ... .. .. ..\n",
       "4344      4368.0      278         10   20480.0  4  4  4\n",
       "4345      4369.0      181          7   10774.0  4  4  4\n",
       "4346      4370.0        9         13   24962.0  1  4  4\n",
       "4347      4371.0        4        754  280608.0  1  1  1\n",
       "4348      4372.0       44         70  262820.0  2  2  1\n",
       "\n",
       "[4349 rows x 7 columns]"
      ]
     },
     "execution_count": 39,
     "metadata": {},
     "output_type": "execute_result"
    }
   ],
   "source": [
    "rfm"
   ]
  },
  {
   "cell_type": "markdown",
   "id": "731f23c2",
   "metadata": {},
   "source": [
    "### Grouping the all together rating to form a code for each customer"
   ]
  },
  {
   "cell_type": "code",
   "execution_count": 40,
   "id": "2f1b20a1",
   "metadata": {},
   "outputs": [],
   "source": [
    "rfm['RFMgroup'] = rfm.R.map(str)+rfm.F.map(str)+rfm.M.map(str)"
   ]
  },
  {
   "cell_type": "code",
   "execution_count": 41,
   "id": "109088a4",
   "metadata": {},
   "outputs": [
    {
     "data": {
      "text/html": [
       "<div>\n",
       "<style scoped>\n",
       "    .dataframe tbody tr th:only-of-type {\n",
       "        vertical-align: middle;\n",
       "    }\n",
       "\n",
       "    .dataframe tbody tr th {\n",
       "        vertical-align: top;\n",
       "    }\n",
       "\n",
       "    .dataframe thead th {\n",
       "        text-align: right;\n",
       "    }\n",
       "</style>\n",
       "<table border=\"1\" class=\"dataframe\">\n",
       "  <thead>\n",
       "    <tr style=\"text-align: right;\">\n",
       "      <th></th>\n",
       "      <th>CustomerID</th>\n",
       "      <th>Recency</th>\n",
       "      <th>Frequency</th>\n",
       "      <th>Monetory</th>\n",
       "      <th>R</th>\n",
       "      <th>F</th>\n",
       "      <th>M</th>\n",
       "      <th>RFMgroup</th>\n",
       "    </tr>\n",
       "  </thead>\n",
       "  <tbody>\n",
       "    <tr>\n",
       "      <th>0</th>\n",
       "      <td>2.0</td>\n",
       "      <td>4</td>\n",
       "      <td>182</td>\n",
       "      <td>553704.0</td>\n",
       "      <td>1</td>\n",
       "      <td>1</td>\n",
       "      <td>1</td>\n",
       "      <td>111</td>\n",
       "    </tr>\n",
       "    <tr>\n",
       "      <th>1</th>\n",
       "      <td>3.0</td>\n",
       "      <td>77</td>\n",
       "      <td>27</td>\n",
       "      <td>257404.0</td>\n",
       "      <td>3</td>\n",
       "      <td>3</td>\n",
       "      <td>1</td>\n",
       "      <td>331</td>\n",
       "    </tr>\n",
       "    <tr>\n",
       "      <th>2</th>\n",
       "      <td>4.0</td>\n",
       "      <td>19</td>\n",
       "      <td>72</td>\n",
       "      <td>176613.0</td>\n",
       "      <td>2</td>\n",
       "      <td>2</td>\n",
       "      <td>2</td>\n",
       "      <td>222</td>\n",
       "    </tr>\n",
       "    <tr>\n",
       "      <th>3</th>\n",
       "      <td>5.0</td>\n",
       "      <td>311</td>\n",
       "      <td>16</td>\n",
       "      <td>41976.0</td>\n",
       "      <td>4</td>\n",
       "      <td>4</td>\n",
       "      <td>3</td>\n",
       "      <td>443</td>\n",
       "    </tr>\n",
       "    <tr>\n",
       "      <th>4</th>\n",
       "      <td>6.0</td>\n",
       "      <td>37</td>\n",
       "      <td>84</td>\n",
       "      <td>151822.0</td>\n",
       "      <td>2</td>\n",
       "      <td>2</td>\n",
       "      <td>2</td>\n",
       "      <td>222</td>\n",
       "    </tr>\n",
       "    <tr>\n",
       "      <th>...</th>\n",
       "      <td>...</td>\n",
       "      <td>...</td>\n",
       "      <td>...</td>\n",
       "      <td>...</td>\n",
       "      <td>...</td>\n",
       "      <td>...</td>\n",
       "      <td>...</td>\n",
       "      <td>...</td>\n",
       "    </tr>\n",
       "    <tr>\n",
       "      <th>4344</th>\n",
       "      <td>4368.0</td>\n",
       "      <td>278</td>\n",
       "      <td>10</td>\n",
       "      <td>20480.0</td>\n",
       "      <td>4</td>\n",
       "      <td>4</td>\n",
       "      <td>4</td>\n",
       "      <td>444</td>\n",
       "    </tr>\n",
       "    <tr>\n",
       "      <th>4345</th>\n",
       "      <td>4369.0</td>\n",
       "      <td>181</td>\n",
       "      <td>7</td>\n",
       "      <td>10774.0</td>\n",
       "      <td>4</td>\n",
       "      <td>4</td>\n",
       "      <td>4</td>\n",
       "      <td>444</td>\n",
       "    </tr>\n",
       "    <tr>\n",
       "      <th>4346</th>\n",
       "      <td>4370.0</td>\n",
       "      <td>9</td>\n",
       "      <td>13</td>\n",
       "      <td>24962.0</td>\n",
       "      <td>1</td>\n",
       "      <td>4</td>\n",
       "      <td>4</td>\n",
       "      <td>144</td>\n",
       "    </tr>\n",
       "    <tr>\n",
       "      <th>4347</th>\n",
       "      <td>4371.0</td>\n",
       "      <td>4</td>\n",
       "      <td>754</td>\n",
       "      <td>280608.0</td>\n",
       "      <td>1</td>\n",
       "      <td>1</td>\n",
       "      <td>1</td>\n",
       "      <td>111</td>\n",
       "    </tr>\n",
       "    <tr>\n",
       "      <th>4348</th>\n",
       "      <td>4372.0</td>\n",
       "      <td>44</td>\n",
       "      <td>70</td>\n",
       "      <td>262820.0</td>\n",
       "      <td>2</td>\n",
       "      <td>2</td>\n",
       "      <td>1</td>\n",
       "      <td>221</td>\n",
       "    </tr>\n",
       "  </tbody>\n",
       "</table>\n",
       "<p>4349 rows × 8 columns</p>\n",
       "</div>"
      ],
      "text/plain": [
       "      CustomerID  Recency  Frequency  Monetory  R  F  M RFMgroup\n",
       "0            2.0        4        182  553704.0  1  1  1      111\n",
       "1            3.0       77         27  257404.0  3  3  1      331\n",
       "2            4.0       19         72  176613.0  2  2  2      222\n",
       "3            5.0      311         16   41976.0  4  4  3      443\n",
       "4            6.0       37         84  151822.0  2  2  2      222\n",
       "...          ...      ...        ...       ... .. .. ..      ...\n",
       "4344      4368.0      278         10   20480.0  4  4  4      444\n",
       "4345      4369.0      181          7   10774.0  4  4  4      444\n",
       "4346      4370.0        9         13   24962.0  1  4  4      144\n",
       "4347      4371.0        4        754  280608.0  1  1  1      111\n",
       "4348      4372.0       44         70  262820.0  2  2  1      221\n",
       "\n",
       "[4349 rows x 8 columns]"
      ]
     },
     "execution_count": 41,
     "metadata": {},
     "output_type": "execute_result"
    }
   ],
   "source": [
    "rfm"
   ]
  },
  {
   "cell_type": "markdown",
   "id": "ea07cd32",
   "metadata": {},
   "source": [
    "### Observing one of the groups to see if the coding matches the RFM criteria"
   ]
  },
  {
   "cell_type": "code",
   "execution_count": 42,
   "id": "148434b7",
   "metadata": {},
   "outputs": [
    {
     "data": {
      "text/html": [
       "<div>\n",
       "<style scoped>\n",
       "    .dataframe tbody tr th:only-of-type {\n",
       "        vertical-align: middle;\n",
       "    }\n",
       "\n",
       "    .dataframe tbody tr th {\n",
       "        vertical-align: top;\n",
       "    }\n",
       "\n",
       "    .dataframe thead th {\n",
       "        text-align: right;\n",
       "    }\n",
       "</style>\n",
       "<table border=\"1\" class=\"dataframe\">\n",
       "  <thead>\n",
       "    <tr style=\"text-align: right;\">\n",
       "      <th></th>\n",
       "      <th>CustomerID</th>\n",
       "      <th>Recency</th>\n",
       "      <th>Frequency</th>\n",
       "      <th>Monetory</th>\n",
       "      <th>R</th>\n",
       "      <th>F</th>\n",
       "      <th>M</th>\n",
       "      <th>RFMgroup</th>\n",
       "    </tr>\n",
       "  </thead>\n",
       "  <tbody>\n",
       "    <tr>\n",
       "      <th>1694</th>\n",
       "      <td>1704.0</td>\n",
       "      <td>3</td>\n",
       "      <td>2053</td>\n",
       "      <td>35536194.0</td>\n",
       "      <td>1</td>\n",
       "      <td>1</td>\n",
       "      <td>1</td>\n",
       "      <td>111</td>\n",
       "    </tr>\n",
       "    <tr>\n",
       "      <th>1886</th>\n",
       "      <td>1896.0</td>\n",
       "      <td>2</td>\n",
       "      <td>5874</td>\n",
       "      <td>17743855.0</td>\n",
       "      <td>1</td>\n",
       "      <td>1</td>\n",
       "      <td>1</td>\n",
       "      <td>111</td>\n",
       "    </tr>\n",
       "    <tr>\n",
       "      <th>1337</th>\n",
       "      <td>1346.0</td>\n",
       "      <td>10</td>\n",
       "      <td>1395</td>\n",
       "      <td>12647317.0</td>\n",
       "      <td>1</td>\n",
       "      <td>1</td>\n",
       "      <td>1</td>\n",
       "      <td>111</td>\n",
       "    </tr>\n",
       "    <tr>\n",
       "      <th>3780</th>\n",
       "      <td>3802.0</td>\n",
       "      <td>3</td>\n",
       "      <td>1060</td>\n",
       "      <td>12319439.0</td>\n",
       "      <td>1</td>\n",
       "      <td>1</td>\n",
       "      <td>1</td>\n",
       "      <td>111</td>\n",
       "    </tr>\n",
       "    <tr>\n",
       "      <th>4211</th>\n",
       "      <td>4234.0</td>\n",
       "      <td>3</td>\n",
       "      <td>322</td>\n",
       "      <td>10654918.0</td>\n",
       "      <td>1</td>\n",
       "      <td>1</td>\n",
       "      <td>1</td>\n",
       "      <td>111</td>\n",
       "    </tr>\n",
       "    <tr>\n",
       "      <th>...</th>\n",
       "      <td>...</td>\n",
       "      <td>...</td>\n",
       "      <td>...</td>\n",
       "      <td>...</td>\n",
       "      <td>...</td>\n",
       "      <td>...</td>\n",
       "      <td>...</td>\n",
       "      <td>...</td>\n",
       "    </tr>\n",
       "    <tr>\n",
       "      <th>2368</th>\n",
       "      <td>2381.0</td>\n",
       "      <td>15</td>\n",
       "      <td>114</td>\n",
       "      <td>209842.0</td>\n",
       "      <td>1</td>\n",
       "      <td>1</td>\n",
       "      <td>1</td>\n",
       "      <td>111</td>\n",
       "    </tr>\n",
       "    <tr>\n",
       "      <th>141</th>\n",
       "      <td>145.0</td>\n",
       "      <td>2</td>\n",
       "      <td>106</td>\n",
       "      <td>207780.0</td>\n",
       "      <td>1</td>\n",
       "      <td>1</td>\n",
       "      <td>1</td>\n",
       "      <td>111</td>\n",
       "    </tr>\n",
       "    <tr>\n",
       "      <th>1738</th>\n",
       "      <td>1748.0</td>\n",
       "      <td>15</td>\n",
       "      <td>414</td>\n",
       "      <td>207627.0</td>\n",
       "      <td>1</td>\n",
       "      <td>1</td>\n",
       "      <td>1</td>\n",
       "      <td>111</td>\n",
       "    </tr>\n",
       "    <tr>\n",
       "      <th>1655</th>\n",
       "      <td>1665.0</td>\n",
       "      <td>16</td>\n",
       "      <td>197</td>\n",
       "      <td>206573.0</td>\n",
       "      <td>1</td>\n",
       "      <td>1</td>\n",
       "      <td>1</td>\n",
       "      <td>111</td>\n",
       "    </tr>\n",
       "    <tr>\n",
       "      <th>2650</th>\n",
       "      <td>2666.0</td>\n",
       "      <td>6</td>\n",
       "      <td>103</td>\n",
       "      <td>206209.0</td>\n",
       "      <td>1</td>\n",
       "      <td>1</td>\n",
       "      <td>1</td>\n",
       "      <td>111</td>\n",
       "    </tr>\n",
       "  </tbody>\n",
       "</table>\n",
       "<p>471 rows × 8 columns</p>\n",
       "</div>"
      ],
      "text/plain": [
       "      CustomerID  Recency  Frequency    Monetory  R  F  M RFMgroup\n",
       "1694      1704.0        3       2053  35536194.0  1  1  1      111\n",
       "1886      1896.0        2       5874  17743855.0  1  1  1      111\n",
       "1337      1346.0       10       1395  12647317.0  1  1  1      111\n",
       "3780      3802.0        3       1060  12319439.0  1  1  1      111\n",
       "4211      4234.0        3        322  10654918.0  1  1  1      111\n",
       "...          ...      ...        ...         ... .. .. ..      ...\n",
       "2368      2381.0       15        114    209842.0  1  1  1      111\n",
       "141        145.0        2        106    207780.0  1  1  1      111\n",
       "1738      1748.0       15        414    207627.0  1  1  1      111\n",
       "1655      1665.0       16        197    206573.0  1  1  1      111\n",
       "2650      2666.0        6        103    206209.0  1  1  1      111\n",
       "\n",
       "[471 rows x 8 columns]"
      ]
     },
     "execution_count": 42,
     "metadata": {},
     "output_type": "execute_result"
    }
   ],
   "source": [
    "rfm[rfm['RFMgroup']=='111'].sort_values('Monetory', ascending = False)"
   ]
  },
  {
   "cell_type": "code",
   "execution_count": 43,
   "id": "69569a4a",
   "metadata": {},
   "outputs": [],
   "source": [
    "new_rfm = rfm[['Recency','Frequency','Monetory']]"
   ]
  },
  {
   "cell_type": "code",
   "execution_count": 44,
   "id": "32cddc0b",
   "metadata": {},
   "outputs": [
    {
     "data": {
      "text/html": [
       "<div>\n",
       "<style scoped>\n",
       "    .dataframe tbody tr th:only-of-type {\n",
       "        vertical-align: middle;\n",
       "    }\n",
       "\n",
       "    .dataframe tbody tr th {\n",
       "        vertical-align: top;\n",
       "    }\n",
       "\n",
       "    .dataframe thead th {\n",
       "        text-align: right;\n",
       "    }\n",
       "</style>\n",
       "<table border=\"1\" class=\"dataframe\">\n",
       "  <thead>\n",
       "    <tr style=\"text-align: right;\">\n",
       "      <th></th>\n",
       "      <th>Recency</th>\n",
       "      <th>Frequency</th>\n",
       "      <th>Monetory</th>\n",
       "    </tr>\n",
       "  </thead>\n",
       "  <tbody>\n",
       "    <tr>\n",
       "      <th>0</th>\n",
       "      <td>4</td>\n",
       "      <td>182</td>\n",
       "      <td>553704.0</td>\n",
       "    </tr>\n",
       "    <tr>\n",
       "      <th>1</th>\n",
       "      <td>77</td>\n",
       "      <td>27</td>\n",
       "      <td>257404.0</td>\n",
       "    </tr>\n",
       "    <tr>\n",
       "      <th>2</th>\n",
       "      <td>19</td>\n",
       "      <td>72</td>\n",
       "      <td>176613.0</td>\n",
       "    </tr>\n",
       "    <tr>\n",
       "      <th>3</th>\n",
       "      <td>311</td>\n",
       "      <td>16</td>\n",
       "      <td>41976.0</td>\n",
       "    </tr>\n",
       "    <tr>\n",
       "      <th>4</th>\n",
       "      <td>37</td>\n",
       "      <td>84</td>\n",
       "      <td>151822.0</td>\n",
       "    </tr>\n",
       "  </tbody>\n",
       "</table>\n",
       "</div>"
      ],
      "text/plain": [
       "   Recency  Frequency  Monetory\n",
       "0        4        182  553704.0\n",
       "1       77         27  257404.0\n",
       "2       19         72  176613.0\n",
       "3      311         16   41976.0\n",
       "4       37         84  151822.0"
      ]
     },
     "execution_count": 44,
     "metadata": {},
     "output_type": "execute_result"
    }
   ],
   "source": [
    "new_rfm.head()"
   ]
  },
  {
   "cell_type": "markdown",
   "id": "d17280a6",
   "metadata": {},
   "source": [
    "### Feature Scaling - if dataset has outliers than go for Standard scaler and if it is normally distributed, then go\n",
    "### for Min-Max scaler"
   ]
  },
  {
   "cell_type": "code",
   "execution_count": 45,
   "id": "ca52ee39",
   "metadata": {},
   "outputs": [
    {
     "name": "stderr",
     "output_type": "stream",
     "text": [
      "F:\\Python\\lib\\site-packages\\seaborn\\_decorators.py:36: FutureWarning: Pass the following variable as a keyword arg: x. From version 0.12, the only valid positional argument will be `data`, and passing other arguments without an explicit keyword will result in an error or misinterpretation.\n",
      "  warnings.warn(\n",
      "F:\\Python\\lib\\site-packages\\seaborn\\_decorators.py:36: FutureWarning: Pass the following variable as a keyword arg: x. From version 0.12, the only valid positional argument will be `data`, and passing other arguments without an explicit keyword will result in an error or misinterpretation.\n",
      "  warnings.warn(\n",
      "F:\\Python\\lib\\site-packages\\seaborn\\_decorators.py:36: FutureWarning: Pass the following variable as a keyword arg: x. From version 0.12, the only valid positional argument will be `data`, and passing other arguments without an explicit keyword will result in an error or misinterpretation.\n",
      "  warnings.warn(\n"
     ]
    },
    {
     "data": {
      "text/plain": [
       "<AxesSubplot:xlabel='Monetory'>"
      ]
     },
     "execution_count": 45,
     "metadata": {},
     "output_type": "execute_result"
    },
    {
     "data": {
      "image/png": "[encoded data removed]",
      "text/plain": [
       "<Figure size 720x360 with 3 Axes>"
      ]
     },
     "metadata": {
      "needs_background": "light"
     },
     "output_type": "display_data"
    }
   ],
   "source": [
    "plt.figure(figsize=(10,5))\n",
    "plt.subplot(2,2,1)\n",
    "sns.boxplot(new_rfm['Recency'])\n",
    "plt.subplot(2,2,2)\n",
    "sns.boxplot(new_rfm['Frequency'])\n",
    "plt.subplot(2,2,3)\n",
    "sns.boxplot(new_rfm['Monetory'])"
   ]
  },
  {
   "cell_type": "markdown",
   "id": "d2f40531",
   "metadata": {},
   "source": [
    "### Since all the parameters have outliers we go by Standard scaling"
   ]
  },
  {
   "cell_type": "code",
   "execution_count": 46,
   "id": "6a2cecf3",
   "metadata": {},
   "outputs": [],
   "source": [
    "from sklearn.preprocessing import StandardScaler\n",
    "std = StandardScaler()"
   ]
  },
  {
   "cell_type": "code",
   "execution_count": 47,
   "id": "bb9a5036",
   "metadata": {},
   "outputs": [],
   "source": [
    "scaled_rfm = pd.DataFrame(std.fit_transform(new_rfm), columns=new_rfm.columns)"
   ]
  },
  {
   "cell_type": "code",
   "execution_count": 48,
   "id": "11c195f4",
   "metadata": {},
   "outputs": [
    {
     "data": {
      "text/html": [
       "<div>\n",
       "<style scoped>\n",
       "    .dataframe tbody tr th:only-of-type {\n",
       "        vertical-align: middle;\n",
       "    }\n",
       "\n",
       "    .dataframe tbody tr th {\n",
       "        vertical-align: top;\n",
       "    }\n",
       "\n",
       "    .dataframe thead th {\n",
       "        text-align: right;\n",
       "    }\n",
       "</style>\n",
       "<table border=\"1\" class=\"dataframe\">\n",
       "  <thead>\n",
       "    <tr style=\"text-align: right;\">\n",
       "      <th></th>\n",
       "      <th>Recency</th>\n",
       "      <th>Frequency</th>\n",
       "      <th>Monetory</th>\n",
       "    </tr>\n",
       "  </thead>\n",
       "  <tbody>\n",
       "    <tr>\n",
       "      <th>0</th>\n",
       "      <td>-0.886877</td>\n",
       "      <td>0.383795</td>\n",
       "      <td>0.377719</td>\n",
       "    </tr>\n",
       "    <tr>\n",
       "      <th>1</th>\n",
       "      <td>-0.161877</td>\n",
       "      <td>-0.284135</td>\n",
       "      <td>0.032043</td>\n",
       "    </tr>\n",
       "    <tr>\n",
       "      <th>2</th>\n",
       "      <td>-0.737904</td>\n",
       "      <td>-0.090220</td>\n",
       "      <td>-0.062211</td>\n",
       "    </tr>\n",
       "    <tr>\n",
       "      <th>3</th>\n",
       "      <td>2.162093</td>\n",
       "      <td>-0.331537</td>\n",
       "      <td>-0.219285</td>\n",
       "    </tr>\n",
       "    <tr>\n",
       "      <th>4</th>\n",
       "      <td>-0.559137</td>\n",
       "      <td>-0.038510</td>\n",
       "      <td>-0.091133</td>\n",
       "    </tr>\n",
       "    <tr>\n",
       "      <th>...</th>\n",
       "      <td>...</td>\n",
       "      <td>...</td>\n",
       "      <td>...</td>\n",
       "    </tr>\n",
       "    <tr>\n",
       "      <th>4344</th>\n",
       "      <td>1.834354</td>\n",
       "      <td>-0.357392</td>\n",
       "      <td>-0.244363</td>\n",
       "    </tr>\n",
       "    <tr>\n",
       "      <th>4345</th>\n",
       "      <td>0.870999</td>\n",
       "      <td>-0.370320</td>\n",
       "      <td>-0.255686</td>\n",
       "    </tr>\n",
       "    <tr>\n",
       "      <th>4346</th>\n",
       "      <td>-0.837219</td>\n",
       "      <td>-0.344465</td>\n",
       "      <td>-0.239134</td>\n",
       "    </tr>\n",
       "    <tr>\n",
       "      <th>4347</th>\n",
       "      <td>-0.886877</td>\n",
       "      <td>2.848672</td>\n",
       "      <td>0.059114</td>\n",
       "    </tr>\n",
       "    <tr>\n",
       "      <th>4348</th>\n",
       "      <td>-0.489617</td>\n",
       "      <td>-0.098839</td>\n",
       "      <td>0.038362</td>\n",
       "    </tr>\n",
       "  </tbody>\n",
       "</table>\n",
       "<p>4349 rows × 3 columns</p>\n",
       "</div>"
      ],
      "text/plain": [
       "       Recency  Frequency  Monetory\n",
       "0    -0.886877   0.383795  0.377719\n",
       "1    -0.161877  -0.284135  0.032043\n",
       "2    -0.737904  -0.090220 -0.062211\n",
       "3     2.162093  -0.331537 -0.219285\n",
       "4    -0.559137  -0.038510 -0.091133\n",
       "...        ...        ...       ...\n",
       "4344  1.834354  -0.357392 -0.244363\n",
       "4345  0.870999  -0.370320 -0.255686\n",
       "4346 -0.837219  -0.344465 -0.239134\n",
       "4347 -0.886877   2.848672  0.059114\n",
       "4348 -0.489617  -0.098839  0.038362\n",
       "\n",
       "[4349 rows x 3 columns]"
      ]
     },
     "execution_count": 48,
     "metadata": {},
     "output_type": "execute_result"
    }
   ],
   "source": [
    "scaled_rfm"
   ]
  },
  {
   "cell_type": "markdown",
   "id": "f27666a6",
   "metadata": {},
   "source": [
    "### Building of Clustering model"
   ]
  },
  {
   "cell_type": "code",
   "execution_count": 49,
   "id": "01322529",
   "metadata": {},
   "outputs": [],
   "source": [
    "from sklearn.cluster import KMeans"
   ]
  },
  {
   "cell_type": "code",
   "execution_count": 50,
   "id": "141303d4",
   "metadata": {},
   "outputs": [
    {
     "name": "stderr",
     "output_type": "stream",
     "text": [
      "F:\\Python\\lib\\site-packages\\sklearn\\cluster\\_kmeans.py:792: FutureWarning: 'n_jobs' was deprecated in version 0.23 and will be removed in 1.0 (renaming of 0.25).\n",
      "  warnings.warn(\"'n_jobs' was deprecated in version 0.23 and will be\"\n",
      "F:\\Python\\lib\\site-packages\\sklearn\\cluster\\_kmeans.py:792: FutureWarning: 'n_jobs' was deprecated in version 0.23 and will be removed in 1.0 (renaming of 0.25).\n",
      "  warnings.warn(\"'n_jobs' was deprecated in version 0.23 and will be\"\n",
      "F:\\Python\\lib\\site-packages\\sklearn\\cluster\\_kmeans.py:792: FutureWarning: 'n_jobs' was deprecated in version 0.23 and will be removed in 1.0 (renaming of 0.25).\n",
      "  warnings.warn(\"'n_jobs' was deprecated in version 0.23 and will be\"\n",
      "F:\\Python\\lib\\site-packages\\sklearn\\cluster\\_kmeans.py:792: FutureWarning: 'n_jobs' was deprecated in version 0.23 and will be removed in 1.0 (renaming of 0.25).\n",
      "  warnings.warn(\"'n_jobs' was deprecated in version 0.23 and will be\"\n",
      "F:\\Python\\lib\\site-packages\\sklearn\\cluster\\_kmeans.py:792: FutureWarning: 'n_jobs' was deprecated in version 0.23 and will be removed in 1.0 (renaming of 0.25).\n",
      "  warnings.warn(\"'n_jobs' was deprecated in version 0.23 and will be\"\n",
      "F:\\Python\\lib\\site-packages\\sklearn\\cluster\\_kmeans.py:792: FutureWarning: 'n_jobs' was deprecated in version 0.23 and will be removed in 1.0 (renaming of 0.25).\n",
      "  warnings.warn(\"'n_jobs' was deprecated in version 0.23 and will be\"\n",
      "F:\\Python\\lib\\site-packages\\sklearn\\cluster\\_kmeans.py:792: FutureWarning: 'n_jobs' was deprecated in version 0.23 and will be removed in 1.0 (renaming of 0.25).\n",
      "  warnings.warn(\"'n_jobs' was deprecated in version 0.23 and will be\"\n",
      "F:\\Python\\lib\\site-packages\\sklearn\\cluster\\_kmeans.py:792: FutureWarning: 'n_jobs' was deprecated in version 0.23 and will be removed in 1.0 (renaming of 0.25).\n",
      "  warnings.warn(\"'n_jobs' was deprecated in version 0.23 and will be\"\n",
      "F:\\Python\\lib\\site-packages\\sklearn\\cluster\\_kmeans.py:792: FutureWarning: 'n_jobs' was deprecated in version 0.23 and will be removed in 1.0 (renaming of 0.25).\n",
      "  warnings.warn(\"'n_jobs' was deprecated in version 0.23 and will be\"\n",
      "F:\\Python\\lib\\site-packages\\sklearn\\cluster\\_kmeans.py:792: FutureWarning: 'n_jobs' was deprecated in version 0.23 and will be removed in 1.0 (renaming of 0.25).\n",
      "  warnings.warn(\"'n_jobs' was deprecated in version 0.23 and will be\"\n",
      "F:\\Python\\lib\\site-packages\\sklearn\\cluster\\_kmeans.py:792: FutureWarning: 'n_jobs' was deprecated in version 0.23 and will be removed in 1.0 (renaming of 0.25).\n",
      "  warnings.warn(\"'n_jobs' was deprecated in version 0.23 and will be\"\n",
      "F:\\Python\\lib\\site-packages\\sklearn\\cluster\\_kmeans.py:792: FutureWarning: 'n_jobs' was deprecated in version 0.23 and will be removed in 1.0 (renaming of 0.25).\n",
      "  warnings.warn(\"'n_jobs' was deprecated in version 0.23 and will be\"\n",
      "F:\\Python\\lib\\site-packages\\sklearn\\cluster\\_kmeans.py:792: FutureWarning: 'n_jobs' was deprecated in version 0.23 and will be removed in 1.0 (renaming of 0.25).\n",
      "  warnings.warn(\"'n_jobs' was deprecated in version 0.23 and will be\"\n",
      "F:\\Python\\lib\\site-packages\\sklearn\\cluster\\_kmeans.py:792: FutureWarning: 'n_jobs' was deprecated in version 0.23 and will be removed in 1.0 (renaming of 0.25).\n",
      "  warnings.warn(\"'n_jobs' was deprecated in version 0.23 and will be\"\n"
     ]
    }
   ],
   "source": [
    "sum_sq_dist = []\n",
    "for k in range(1,15):\n",
    "    kmeans = KMeans( n_clusters=k, init='k-means++', max_iter=300, n_jobs=-1)\n",
    "    kmeans.fit(scaled_rfm)\n",
    "    sum_sq_dist.append(kmeans.inertia_)"
   ]
  },
  {
   "cell_type": "markdown",
   "id": "5498372b",
   "metadata": {},
   "source": [
    "### Plotting of sum of square distances to determine K value by elbow method"
   ]
  },
  {
   "cell_type": "code",
   "execution_count": 51,
   "id": "0dee6db8",
   "metadata": {},
   "outputs": [
    {
     "data": {
      "image/png": "[encoded data removed]",
      "text/plain": [
       "<Figure size 432x288 with 1 Axes>"
      ]
     },
     "metadata": {
      "needs_background": "light"
     },
     "output_type": "display_data"
    }
   ],
   "source": [
    "plt.plot(range(1,15), sum_sq_dist,'o-')\n",
    "plt.title('The Elbow Method')\n",
    "plt.xlabel('Number of clusters')\n",
    "plt.ylabel('Sum of square distances')\n",
    "plt.show()"
   ]
  },
  {
   "cell_type": "markdown",
   "id": "4cc08c84",
   "metadata": {},
   "source": [
    "#### We consider K value as  4 for our own reference and suitability"
   ]
  },
  {
   "cell_type": "markdown",
   "id": "c2fb8f36",
   "metadata": {},
   "source": [
    "### Fitting the model with K=4 number of clusters from the elbow method"
   ]
  },
  {
   "cell_type": "code",
   "execution_count": 112,
   "id": "725e493d",
   "metadata": {},
   "outputs": [],
   "source": [
    "kmeans = KMeans(n_clusters=4, init='k-means++', max_iter=300, n_jobs=-1)"
   ]
  },
  {
   "cell_type": "code",
   "execution_count": 113,
   "id": "9bcf4c27",
   "metadata": {},
   "outputs": [
    {
     "name": "stderr",
     "output_type": "stream",
     "text": [
      "F:\\Python\\lib\\site-packages\\sklearn\\cluster\\_kmeans.py:792: FutureWarning: 'n_jobs' was deprecated in version 0.23 and will be removed in 1.0 (renaming of 0.25).\n",
      "  warnings.warn(\"'n_jobs' was deprecated in version 0.23 and will be\"\n"
     ]
    }
   ],
   "source": [
    "y_kmeans = kmeans.fit_predict(scaled_rfm)"
   ]
  },
  {
   "cell_type": "code",
   "execution_count": 114,
   "id": "11f39d58",
   "metadata": {},
   "outputs": [
    {
     "data": {
      "text/plain": [
       "array([0, 0, 0, ..., 0, 0, 0])"
      ]
     },
     "execution_count": 114,
     "metadata": {},
     "output_type": "execute_result"
    }
   ],
   "source": [
    "y_kmeans"
   ]
  },
  {
   "cell_type": "markdown",
   "id": "0fc6ecf0",
   "metadata": {},
   "source": [
    "### Loading the new cluster labels to the corresponidng dataset"
   ]
  },
  {
   "cell_type": "code",
   "execution_count": 115,
   "id": "be87cb16",
   "metadata": {},
   "outputs": [
    {
     "name": "stderr",
     "output_type": "stream",
     "text": [
      "<ipython-input-115-021a8826afe0>:1: SettingWithCopyWarning: \n",
      "A value is trying to be set on a copy of a slice from a DataFrame.\n",
      "Try using .loc[row_indexer,col_indexer] = value instead\n",
      "\n",
      "See the caveats in the documentation: https://pandas.pydata.org/pandas-docs/stable/user_guide/indexing.html#returning-a-view-versus-a-copy\n",
      "  new_rfm['Cluster label'] = kmeans.labels_\n"
     ]
    }
   ],
   "source": [
    "new_rfm['Cluster label'] = kmeans.labels_\n",
    "rfm['Cluster label'] = kmeans.labels_"
   ]
  },
  {
   "cell_type": "code",
   "execution_count": 116,
   "id": "5ef61265",
   "metadata": {},
   "outputs": [
    {
     "data": {
      "text/html": [
       "<div>\n",
       "<style scoped>\n",
       "    .dataframe tbody tr th:only-of-type {\n",
       "        vertical-align: middle;\n",
       "    }\n",
       "\n",
       "    .dataframe tbody tr th {\n",
       "        vertical-align: top;\n",
       "    }\n",
       "\n",
       "    .dataframe thead th {\n",
       "        text-align: right;\n",
       "    }\n",
       "</style>\n",
       "<table border=\"1\" class=\"dataframe\">\n",
       "  <thead>\n",
       "    <tr style=\"text-align: right;\">\n",
       "      <th></th>\n",
       "      <th>Recency</th>\n",
       "      <th>Frequency</th>\n",
       "      <th>Monetory</th>\n",
       "      <th>Cluster label</th>\n",
       "    </tr>\n",
       "  </thead>\n",
       "  <tbody>\n",
       "    <tr>\n",
       "      <th>0</th>\n",
       "      <td>4</td>\n",
       "      <td>182</td>\n",
       "      <td>553704.0</td>\n",
       "      <td>0</td>\n",
       "    </tr>\n",
       "    <tr>\n",
       "      <th>1</th>\n",
       "      <td>77</td>\n",
       "      <td>27</td>\n",
       "      <td>257404.0</td>\n",
       "      <td>0</td>\n",
       "    </tr>\n",
       "    <tr>\n",
       "      <th>2</th>\n",
       "      <td>19</td>\n",
       "      <td>72</td>\n",
       "      <td>176613.0</td>\n",
       "      <td>0</td>\n",
       "    </tr>\n",
       "    <tr>\n",
       "      <th>3</th>\n",
       "      <td>311</td>\n",
       "      <td>16</td>\n",
       "      <td>41976.0</td>\n",
       "      <td>1</td>\n",
       "    </tr>\n",
       "    <tr>\n",
       "      <th>4</th>\n",
       "      <td>37</td>\n",
       "      <td>84</td>\n",
       "      <td>151822.0</td>\n",
       "      <td>0</td>\n",
       "    </tr>\n",
       "    <tr>\n",
       "      <th>...</th>\n",
       "      <td>...</td>\n",
       "      <td>...</td>\n",
       "      <td>...</td>\n",
       "      <td>...</td>\n",
       "    </tr>\n",
       "    <tr>\n",
       "      <th>4344</th>\n",
       "      <td>278</td>\n",
       "      <td>10</td>\n",
       "      <td>20480.0</td>\n",
       "      <td>1</td>\n",
       "    </tr>\n",
       "    <tr>\n",
       "      <th>4345</th>\n",
       "      <td>181</td>\n",
       "      <td>7</td>\n",
       "      <td>10774.0</td>\n",
       "      <td>1</td>\n",
       "    </tr>\n",
       "    <tr>\n",
       "      <th>4346</th>\n",
       "      <td>9</td>\n",
       "      <td>13</td>\n",
       "      <td>24962.0</td>\n",
       "      <td>0</td>\n",
       "    </tr>\n",
       "    <tr>\n",
       "      <th>4347</th>\n",
       "      <td>4</td>\n",
       "      <td>754</td>\n",
       "      <td>280608.0</td>\n",
       "      <td>0</td>\n",
       "    </tr>\n",
       "    <tr>\n",
       "      <th>4348</th>\n",
       "      <td>44</td>\n",
       "      <td>70</td>\n",
       "      <td>262820.0</td>\n",
       "      <td>0</td>\n",
       "    </tr>\n",
       "  </tbody>\n",
       "</table>\n",
       "<p>4349 rows × 4 columns</p>\n",
       "</div>"
      ],
      "text/plain": [
       "      Recency  Frequency  Monetory  Cluster label\n",
       "0           4        182  553704.0              0\n",
       "1          77         27  257404.0              0\n",
       "2          19         72  176613.0              0\n",
       "3         311         16   41976.0              1\n",
       "4          37         84  151822.0              0\n",
       "...       ...        ...       ...            ...\n",
       "4344      278         10   20480.0              1\n",
       "4345      181          7   10774.0              1\n",
       "4346        9         13   24962.0              0\n",
       "4347        4        754  280608.0              0\n",
       "4348       44         70  262820.0              0\n",
       "\n",
       "[4349 rows x 4 columns]"
      ]
     },
     "execution_count": 116,
     "metadata": {},
     "output_type": "execute_result"
    }
   ],
   "source": [
    "new_rfm"
   ]
  },
  {
   "cell_type": "code",
   "execution_count": 117,
   "id": "f97ed184",
   "metadata": {},
   "outputs": [
    {
     "data": {
      "text/html": [
       "<div>\n",
       "<style scoped>\n",
       "    .dataframe tbody tr th:only-of-type {\n",
       "        vertical-align: middle;\n",
       "    }\n",
       "\n",
       "    .dataframe tbody tr th {\n",
       "        vertical-align: top;\n",
       "    }\n",
       "\n",
       "    .dataframe thead th {\n",
       "        text-align: right;\n",
       "    }\n",
       "</style>\n",
       "<table border=\"1\" class=\"dataframe\">\n",
       "  <thead>\n",
       "    <tr style=\"text-align: right;\">\n",
       "      <th></th>\n",
       "      <th>CustomerID</th>\n",
       "      <th>Recency</th>\n",
       "      <th>Frequency</th>\n",
       "      <th>Monetory</th>\n",
       "      <th>R</th>\n",
       "      <th>F</th>\n",
       "      <th>M</th>\n",
       "      <th>RFMgroup</th>\n",
       "      <th>Cluster label</th>\n",
       "    </tr>\n",
       "  </thead>\n",
       "  <tbody>\n",
       "    <tr>\n",
       "      <th>0</th>\n",
       "      <td>2.0</td>\n",
       "      <td>4</td>\n",
       "      <td>182</td>\n",
       "      <td>553704.0</td>\n",
       "      <td>1</td>\n",
       "      <td>1</td>\n",
       "      <td>1</td>\n",
       "      <td>111</td>\n",
       "      <td>0</td>\n",
       "    </tr>\n",
       "    <tr>\n",
       "      <th>1</th>\n",
       "      <td>3.0</td>\n",
       "      <td>77</td>\n",
       "      <td>27</td>\n",
       "      <td>257404.0</td>\n",
       "      <td>3</td>\n",
       "      <td>3</td>\n",
       "      <td>1</td>\n",
       "      <td>331</td>\n",
       "      <td>0</td>\n",
       "    </tr>\n",
       "    <tr>\n",
       "      <th>2</th>\n",
       "      <td>4.0</td>\n",
       "      <td>19</td>\n",
       "      <td>72</td>\n",
       "      <td>176613.0</td>\n",
       "      <td>2</td>\n",
       "      <td>2</td>\n",
       "      <td>2</td>\n",
       "      <td>222</td>\n",
       "      <td>0</td>\n",
       "    </tr>\n",
       "    <tr>\n",
       "      <th>3</th>\n",
       "      <td>5.0</td>\n",
       "      <td>311</td>\n",
       "      <td>16</td>\n",
       "      <td>41976.0</td>\n",
       "      <td>4</td>\n",
       "      <td>4</td>\n",
       "      <td>3</td>\n",
       "      <td>443</td>\n",
       "      <td>1</td>\n",
       "    </tr>\n",
       "    <tr>\n",
       "      <th>4</th>\n",
       "      <td>6.0</td>\n",
       "      <td>37</td>\n",
       "      <td>84</td>\n",
       "      <td>151822.0</td>\n",
       "      <td>2</td>\n",
       "      <td>2</td>\n",
       "      <td>2</td>\n",
       "      <td>222</td>\n",
       "      <td>0</td>\n",
       "    </tr>\n",
       "    <tr>\n",
       "      <th>...</th>\n",
       "      <td>...</td>\n",
       "      <td>...</td>\n",
       "      <td>...</td>\n",
       "      <td>...</td>\n",
       "      <td>...</td>\n",
       "      <td>...</td>\n",
       "      <td>...</td>\n",
       "      <td>...</td>\n",
       "      <td>...</td>\n",
       "    </tr>\n",
       "    <tr>\n",
       "      <th>4344</th>\n",
       "      <td>4368.0</td>\n",
       "      <td>278</td>\n",
       "      <td>10</td>\n",
       "      <td>20480.0</td>\n",
       "      <td>4</td>\n",
       "      <td>4</td>\n",
       "      <td>4</td>\n",
       "      <td>444</td>\n",
       "      <td>1</td>\n",
       "    </tr>\n",
       "    <tr>\n",
       "      <th>4345</th>\n",
       "      <td>4369.0</td>\n",
       "      <td>181</td>\n",
       "      <td>7</td>\n",
       "      <td>10774.0</td>\n",
       "      <td>4</td>\n",
       "      <td>4</td>\n",
       "      <td>4</td>\n",
       "      <td>444</td>\n",
       "      <td>1</td>\n",
       "    </tr>\n",
       "    <tr>\n",
       "      <th>4346</th>\n",
       "      <td>4370.0</td>\n",
       "      <td>9</td>\n",
       "      <td>13</td>\n",
       "      <td>24962.0</td>\n",
       "      <td>1</td>\n",
       "      <td>4</td>\n",
       "      <td>4</td>\n",
       "      <td>144</td>\n",
       "      <td>0</td>\n",
       "    </tr>\n",
       "    <tr>\n",
       "      <th>4347</th>\n",
       "      <td>4371.0</td>\n",
       "      <td>4</td>\n",
       "      <td>754</td>\n",
       "      <td>280608.0</td>\n",
       "      <td>1</td>\n",
       "      <td>1</td>\n",
       "      <td>1</td>\n",
       "      <td>111</td>\n",
       "      <td>0</td>\n",
       "    </tr>\n",
       "    <tr>\n",
       "      <th>4348</th>\n",
       "      <td>4372.0</td>\n",
       "      <td>44</td>\n",
       "      <td>70</td>\n",
       "      <td>262820.0</td>\n",
       "      <td>2</td>\n",
       "      <td>2</td>\n",
       "      <td>1</td>\n",
       "      <td>221</td>\n",
       "      <td>0</td>\n",
       "    </tr>\n",
       "  </tbody>\n",
       "</table>\n",
       "<p>4349 rows × 9 columns</p>\n",
       "</div>"
      ],
      "text/plain": [
       "      CustomerID  Recency  Frequency  Monetory  R  F  M RFMgroup  \\\n",
       "0            2.0        4        182  553704.0  1  1  1      111   \n",
       "1            3.0       77         27  257404.0  3  3  1      331   \n",
       "2            4.0       19         72  176613.0  2  2  2      222   \n",
       "3            5.0      311         16   41976.0  4  4  3      443   \n",
       "4            6.0       37         84  151822.0  2  2  2      222   \n",
       "...          ...      ...        ...       ... .. .. ..      ...   \n",
       "4344      4368.0      278         10   20480.0  4  4  4      444   \n",
       "4345      4369.0      181          7   10774.0  4  4  4      444   \n",
       "4346      4370.0        9         13   24962.0  1  4  4      144   \n",
       "4347      4371.0        4        754  280608.0  1  1  1      111   \n",
       "4348      4372.0       44         70  262820.0  2  2  1      221   \n",
       "\n",
       "      Cluster label  \n",
       "0                 0  \n",
       "1                 0  \n",
       "2                 0  \n",
       "3                 1  \n",
       "4                 0  \n",
       "...             ...  \n",
       "4344              1  \n",
       "4345              1  \n",
       "4346              0  \n",
       "4347              0  \n",
       "4348              0  \n",
       "\n",
       "[4349 rows x 9 columns]"
      ]
     },
     "execution_count": 117,
     "metadata": {},
     "output_type": "execute_result"
    }
   ],
   "source": [
    "rfm"
   ]
  },
  {
   "cell_type": "markdown",
   "id": "200f6d1c",
   "metadata": {},
   "source": [
    "### Determining the centroid of all the clusters to see the trend and the number of buyers in that cluster"
   ]
  },
  {
   "cell_type": "code",
   "execution_count": 118,
   "id": "b2ccb47b",
   "metadata": {},
   "outputs": [],
   "source": [
    "centroid = rfm.groupby(by='Cluster label').agg({'Recency':'mean','Frequency':'mean','Monetory':'mean','CustomerID':'nunique'})\n",
    "centroid = centroid.rename(columns = {'CustomerID':'NumberofBuyers'})\n",
    "centroid['Percent'] = round(centroid['NumberofBuyers']/centroid.NumberofBuyers.sum()*100,2)"
   ]
  },
  {
   "cell_type": "code",
   "execution_count": 119,
   "id": "c802a68d",
   "metadata": {},
   "outputs": [
    {
     "data": {
      "text/html": [
       "<div>\n",
       "<style scoped>\n",
       "    .dataframe tbody tr th:only-of-type {\n",
       "        vertical-align: middle;\n",
       "    }\n",
       "\n",
       "    .dataframe tbody tr th {\n",
       "        vertical-align: top;\n",
       "    }\n",
       "\n",
       "    .dataframe thead th {\n",
       "        text-align: right;\n",
       "    }\n",
       "</style>\n",
       "<table border=\"1\" class=\"dataframe\">\n",
       "  <thead>\n",
       "    <tr style=\"text-align: right;\">\n",
       "      <th></th>\n",
       "      <th>Recency</th>\n",
       "      <th>Frequency</th>\n",
       "      <th>Monetory</th>\n",
       "      <th>NumberofBuyers</th>\n",
       "      <th>Percent</th>\n",
       "    </tr>\n",
       "    <tr>\n",
       "      <th>Cluster label</th>\n",
       "      <th></th>\n",
       "      <th></th>\n",
       "      <th></th>\n",
       "      <th></th>\n",
       "      <th></th>\n",
       "    </tr>\n",
       "  </thead>\n",
       "  <tbody>\n",
       "    <tr>\n",
       "      <th>0</th>\n",
       "      <td>41.416178</td>\n",
       "      <td>104.125965</td>\n",
       "      <td>2.375754e+05</td>\n",
       "      <td>3239</td>\n",
       "      <td>74.48</td>\n",
       "    </tr>\n",
       "    <tr>\n",
       "      <th>1</th>\n",
       "      <td>247.969863</td>\n",
       "      <td>28.026484</td>\n",
       "      <td>5.777182e+04</td>\n",
       "      <td>1095</td>\n",
       "      <td>25.18</td>\n",
       "    </tr>\n",
       "    <tr>\n",
       "      <th>2</th>\n",
       "      <td>2.500000</td>\n",
       "      <td>5889.500000</td>\n",
       "      <td>8.363220e+06</td>\n",
       "      <td>4</td>\n",
       "      <td>0.09</td>\n",
       "    </tr>\n",
       "    <tr>\n",
       "      <th>3</th>\n",
       "      <td>6.818182</td>\n",
       "      <td>1151.818182</td>\n",
       "      <td>1.216187e+07</td>\n",
       "      <td>11</td>\n",
       "      <td>0.25</td>\n",
       "    </tr>\n",
       "  </tbody>\n",
       "</table>\n",
       "</div>"
      ],
      "text/plain": [
       "                  Recency    Frequency      Monetory  NumberofBuyers  Percent\n",
       "Cluster label                                                                \n",
       "0               41.416178   104.125965  2.375754e+05            3239    74.48\n",
       "1              247.969863    28.026484  5.777182e+04            1095    25.18\n",
       "2                2.500000  5889.500000  8.363220e+06               4     0.09\n",
       "3                6.818182  1151.818182  1.216187e+07              11     0.25"
      ]
     },
     "execution_count": 119,
     "metadata": {},
     "output_type": "execute_result"
    }
   ],
   "source": [
    "centroid"
   ]
  },
  {
   "cell_type": "markdown",
   "id": "2d066a3c",
   "metadata": {},
   "source": [
    "### Calculating the metrics score to see if K=4 is optimal and perfect for the given dataset"
   ]
  },
  {
   "cell_type": "code",
   "execution_count": 122,
   "id": "230aacb2",
   "metadata": {},
   "outputs": [],
   "source": [
    "from sklearn.metrics import silhouette_score, calinski_harabasz_score"
   ]
  },
  {
   "cell_type": "code",
   "execution_count": 140,
   "id": "ed01e288",
   "metadata": {},
   "outputs": [
    {
     "name": "stderr",
     "output_type": "stream",
     "text": [
      "F:\\Python\\lib\\site-packages\\sklearn\\cluster\\_kmeans.py:792: FutureWarning: 'n_jobs' was deprecated in version 0.23 and will be removed in 1.0 (renaming of 0.25).\n",
      "  warnings.warn(\"'n_jobs' was deprecated in version 0.23 and will be\"\n",
      "F:\\Python\\lib\\site-packages\\sklearn\\cluster\\_kmeans.py:792: FutureWarning: 'n_jobs' was deprecated in version 0.23 and will be removed in 1.0 (renaming of 0.25).\n",
      "  warnings.warn(\"'n_jobs' was deprecated in version 0.23 and will be\"\n",
      "F:\\Python\\lib\\site-packages\\sklearn\\cluster\\_kmeans.py:792: FutureWarning: 'n_jobs' was deprecated in version 0.23 and will be removed in 1.0 (renaming of 0.25).\n",
      "  warnings.warn(\"'n_jobs' was deprecated in version 0.23 and will be\"\n",
      "F:\\Python\\lib\\site-packages\\sklearn\\cluster\\_kmeans.py:792: FutureWarning: 'n_jobs' was deprecated in version 0.23 and will be removed in 1.0 (renaming of 0.25).\n",
      "  warnings.warn(\"'n_jobs' was deprecated in version 0.23 and will be\"\n",
      "F:\\Python\\lib\\site-packages\\sklearn\\cluster\\_kmeans.py:792: FutureWarning: 'n_jobs' was deprecated in version 0.23 and will be removed in 1.0 (renaming of 0.25).\n",
      "  warnings.warn(\"'n_jobs' was deprecated in version 0.23 and will be\"\n",
      "F:\\Python\\lib\\site-packages\\sklearn\\cluster\\_kmeans.py:792: FutureWarning: 'n_jobs' was deprecated in version 0.23 and will be removed in 1.0 (renaming of 0.25).\n",
      "  warnings.warn(\"'n_jobs' was deprecated in version 0.23 and will be\"\n",
      "F:\\Python\\lib\\site-packages\\sklearn\\cluster\\_kmeans.py:792: FutureWarning: 'n_jobs' was deprecated in version 0.23 and will be removed in 1.0 (renaming of 0.25).\n",
      "  warnings.warn(\"'n_jobs' was deprecated in version 0.23 and will be\"\n",
      "F:\\Python\\lib\\site-packages\\sklearn\\cluster\\_kmeans.py:792: FutureWarning: 'n_jobs' was deprecated in version 0.23 and will be removed in 1.0 (renaming of 0.25).\n",
      "  warnings.warn(\"'n_jobs' was deprecated in version 0.23 and will be\"\n",
      "F:\\Python\\lib\\site-packages\\sklearn\\cluster\\_kmeans.py:792: FutureWarning: 'n_jobs' was deprecated in version 0.23 and will be removed in 1.0 (renaming of 0.25).\n",
      "  warnings.warn(\"'n_jobs' was deprecated in version 0.23 and will be\"\n",
      "F:\\Python\\lib\\site-packages\\sklearn\\cluster\\_kmeans.py:792: FutureWarning: 'n_jobs' was deprecated in version 0.23 and will be removed in 1.0 (renaming of 0.25).\n",
      "  warnings.warn(\"'n_jobs' was deprecated in version 0.23 and will be\"\n",
      "F:\\Python\\lib\\site-packages\\sklearn\\cluster\\_kmeans.py:792: FutureWarning: 'n_jobs' was deprecated in version 0.23 and will be removed in 1.0 (renaming of 0.25).\n",
      "  warnings.warn(\"'n_jobs' was deprecated in version 0.23 and will be\"\n",
      "F:\\Python\\lib\\site-packages\\sklearn\\cluster\\_kmeans.py:792: FutureWarning: 'n_jobs' was deprecated in version 0.23 and will be removed in 1.0 (renaming of 0.25).\n",
      "  warnings.warn(\"'n_jobs' was deprecated in version 0.23 and will be\"\n",
      "F:\\Python\\lib\\site-packages\\sklearn\\cluster\\_kmeans.py:792: FutureWarning: 'n_jobs' was deprecated in version 0.23 and will be removed in 1.0 (renaming of 0.25).\n",
      "  warnings.warn(\"'n_jobs' was deprecated in version 0.23 and will be\"\n"
     ]
    }
   ],
   "source": [
    "sil_score = {}\n",
    "ch_score = {}\n",
    "for i in range(2,15):\n",
    "    kmeans = KMeans(n_clusters=i, init='k-means++', max_iter=300, n_jobs=-1)\n",
    "    y_kmeans = kmeans.fit_predict(scaled_rfm)\n",
    "    sil = silhouette_score(scaled_rfm, y_kmeans)\n",
    "    chs = calinski_harabasz_score(scaled_rfm,y_kmeans)\n",
    "    sil_score.update({i:sil})\n",
    "    ch_score.update({i:chs})"
   ]
  },
  {
   "cell_type": "code",
   "execution_count": 145,
   "id": "020c8107",
   "metadata": {},
   "outputs": [
    {
     "data": {
      "text/plain": [
       "[<matplotlib.lines.Line2D at 0x1b29f58c040>]"
      ]
     },
     "execution_count": 145,
     "metadata": {},
     "output_type": "execute_result"
    },
    {
     "data": {
      "image/png": "[encoded data removed]",
      "text/plain": [
       "<Figure size 432x288 with 1 Axes>"
      ]
     },
     "metadata": {
      "needs_background": "light"
     },
     "output_type": "display_data"
    }
   ],
   "source": [
    "plt.plot(sil_score.keys(), sil_score.values(), 'b-', )"
   ]
  },
  {
   "cell_type": "code",
   "execution_count": 143,
   "id": "8229a76b",
   "metadata": {},
   "outputs": [
    {
     "data": {
      "text/plain": [
       "[<matplotlib.lines.Line2D at 0x1b29f5742e0>]"
      ]
     },
     "execution_count": 143,
     "metadata": {},
     "output_type": "execute_result"
    },
    {
     "data": {
      "image/png": "[encoded data removed]",
      "text/plain": [
       "<Figure size 432x288 with 1 Axes>"
      ]
     },
     "metadata": {
      "needs_background": "light"
     },
     "output_type": "display_data"
    }
   ],
   "source": [
    "plt.plot(ch_score.keys(), ch_score.values())"
   ]
  },
  {
   "cell_type": "markdown",
   "id": "ee8b4158",
   "metadata": {},
   "source": [
    "### Copying the final labelled data into a new excel file"
   ]
  },
  {
   "cell_type": "code",
   "execution_count": 147,
   "id": "cad39ee5",
   "metadata": {},
   "outputs": [],
   "source": [
    "rfm.to_excel('Final cluster labelling.xlsx')"
   ]
  },
  {
   "cell_type": "markdown",
   "id": "342d3d1b",
   "metadata": {},
   "source": [
    "### Saving the model to go ahead with the data on future purposes"
   ]
  },
  {
   "cell_type": "code",
   "execution_count": 148,
   "id": "428567bb",
   "metadata": {},
   "outputs": [
    {
     "data": {
      "text/plain": [
       "['Final cluster labelling.sav']"
      ]
     },
     "execution_count": 148,
     "metadata": {},
     "output_type": "execute_result"
    }
   ],
   "source": [
    "import joblib\n",
    "filename = 'Final cluster labelling.sav'\n",
    "joblib.dump(rfm, filename)"
   ]
  },
  {
   "cell_type": "code",
   "execution_count": null,
   "id": "f617114c",
   "metadata": {},
   "outputs": [],
   "source": []
  }
 ],
 "metadata": {
  "kernelspec": {
   "display_name": "Python 3",
   "language": "python",
   "name": "python3"
  },
  "language_info": {
   "codemirror_mode": {
    "name": "ipython",
    "version": 3
   },
   "file_extension": ".py",
   "mimetype": "text/x-python",
   "name": "python",
   "nbconvert_exporter": "python",
   "pygments_lexer": "ipython3",
   "version": "3.8.8"
  }
 },
 "nbformat": 4,
 "nbformat_minor": 5
}
