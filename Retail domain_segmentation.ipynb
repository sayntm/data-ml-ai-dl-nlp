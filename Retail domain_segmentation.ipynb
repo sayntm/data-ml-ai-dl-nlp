{
 "cells": [
  {
   "cell_type": "markdown",
   "id": "a882d520",
   "metadata": {},
   "source": [
    "### Importing libraries and reading the dataset"
   ]
  },
  {
   "cell_type": "code",
   "execution_count": 464,
   "id": "f8685e08",
   "metadata": {},
   "outputs": [],
   "source": [
    "import numpy as np\n",
    "import pandas as pd\n",
    "import matplotlib.pyplot as plt\n",
    "import seaborn as sns\n",
    "import string\n",
    "import os\n",
    "import math"
   ]
  },
  {
   "cell_type": "code",
   "execution_count": 465,
   "id": "4af1a35b",
   "metadata": {},
   "outputs": [],
   "source": [
    "retail = pd.read_excel(\"F:\\Learnbay_Data science\\Projects\\Projects 2022\\clustering-20220723T140920Z-001\\Retail, segmentation-clustering\\Online Retail_original.xlsx\")"
   ]
  },
  {
   "cell_type": "code",
   "execution_count": 466,
   "id": "76306c57",
   "metadata": {},
   "outputs": [
    {
     "data": {
      "text/html": [
       "<div>\n",
       "<style scoped>\n",
       "    .dataframe tbody tr th:only-of-type {\n",
       "        vertical-align: middle;\n",
       "    }\n",
       "\n",
       "    .dataframe tbody tr th {\n",
       "        vertical-align: top;\n",
       "    }\n",
       "\n",
       "    .dataframe thead th {\n",
       "        text-align: right;\n",
       "    }\n",
       "</style>\n",
       "<table border=\"1\" class=\"dataframe\">\n",
       "  <thead>\n",
       "    <tr style=\"text-align: right;\">\n",
       "      <th></th>\n",
       "      <th>InvoiceNo</th>\n",
       "      <th>StockCode</th>\n",
       "      <th>Description</th>\n",
       "      <th>Quantity</th>\n",
       "      <th>InvoiceDate</th>\n",
       "      <th>UnitPrice</th>\n",
       "      <th>CustomerID</th>\n",
       "      <th>Country</th>\n",
       "    </tr>\n",
       "  </thead>\n",
       "  <tbody>\n",
       "    <tr>\n",
       "      <th>0</th>\n",
       "      <td>536365</td>\n",
       "      <td>85123A</td>\n",
       "      <td>WHITE HANGING HEART T-LIGHT HOLDER</td>\n",
       "      <td>6</td>\n",
       "      <td>2010-12-01 08:26:00</td>\n",
       "      <td>2.55</td>\n",
       "      <td>17850.0</td>\n",
       "      <td>United Kingdom</td>\n",
       "    </tr>\n",
       "    <tr>\n",
       "      <th>1</th>\n",
       "      <td>NaN</td>\n",
       "      <td>71053</td>\n",
       "      <td>WHITE METAL LANTERN</td>\n",
       "      <td>6</td>\n",
       "      <td>2010-12-01 08:26:00</td>\n",
       "      <td>3.39</td>\n",
       "      <td>17850.0</td>\n",
       "      <td>United Kingdom</td>\n",
       "    </tr>\n",
       "    <tr>\n",
       "      <th>2</th>\n",
       "      <td>536365</td>\n",
       "      <td>84406B</td>\n",
       "      <td>CREAM CUPID HEARTS COAT HANGER</td>\n",
       "      <td>8</td>\n",
       "      <td>2010-12-01 08:26:00</td>\n",
       "      <td>2.75</td>\n",
       "      <td>17850.0</td>\n",
       "      <td>United Kingdom</td>\n",
       "    </tr>\n",
       "    <tr>\n",
       "      <th>3</th>\n",
       "      <td>536365</td>\n",
       "      <td>84029G</td>\n",
       "      <td>KNITTED UNION FLAG HOT WATER BOTTLE</td>\n",
       "      <td>6</td>\n",
       "      <td>2010-12-01 08:26:00</td>\n",
       "      <td>3.39</td>\n",
       "      <td>17850.0</td>\n",
       "      <td>United Kingdom</td>\n",
       "    </tr>\n",
       "    <tr>\n",
       "      <th>4</th>\n",
       "      <td>536365</td>\n",
       "      <td>84029E</td>\n",
       "      <td>RED WOOLLY HOTTIE WHITE HEART.</td>\n",
       "      <td>6</td>\n",
       "      <td>2010-12-01 08:26:00</td>\n",
       "      <td>3.39</td>\n",
       "      <td>17850.0</td>\n",
       "      <td>United Kingdom</td>\n",
       "    </tr>\n",
       "    <tr>\n",
       "      <th>...</th>\n",
       "      <td>...</td>\n",
       "      <td>...</td>\n",
       "      <td>...</td>\n",
       "      <td>...</td>\n",
       "      <td>...</td>\n",
       "      <td>...</td>\n",
       "      <td>...</td>\n",
       "      <td>...</td>\n",
       "    </tr>\n",
       "    <tr>\n",
       "      <th>541904</th>\n",
       "      <td>581587</td>\n",
       "      <td>22613</td>\n",
       "      <td>PACK OF 20 SPACEBOY NAPKINS</td>\n",
       "      <td>12</td>\n",
       "      <td>2011-12-09 12:50:00</td>\n",
       "      <td>0.85</td>\n",
       "      <td>12680.0</td>\n",
       "      <td>France</td>\n",
       "    </tr>\n",
       "    <tr>\n",
       "      <th>541905</th>\n",
       "      <td>581587</td>\n",
       "      <td>22899</td>\n",
       "      <td>CHILDREN'S APRON DOLLY GIRL</td>\n",
       "      <td>6</td>\n",
       "      <td>2011-12-09 12:50:00</td>\n",
       "      <td>2.10</td>\n",
       "      <td>12680.0</td>\n",
       "      <td>France</td>\n",
       "    </tr>\n",
       "    <tr>\n",
       "      <th>541906</th>\n",
       "      <td>581587</td>\n",
       "      <td>23254</td>\n",
       "      <td>CHILDRENS CUTLERY DOLLY GIRL</td>\n",
       "      <td>4</td>\n",
       "      <td>2011-12-09 12:50:00</td>\n",
       "      <td>4.15</td>\n",
       "      <td>12680.0</td>\n",
       "      <td>France</td>\n",
       "    </tr>\n",
       "    <tr>\n",
       "      <th>541907</th>\n",
       "      <td>581587</td>\n",
       "      <td>23255</td>\n",
       "      <td>CHILDRENS CUTLERY CIRCUS PARADE</td>\n",
       "      <td>4</td>\n",
       "      <td>2011-12-09 12:50:00</td>\n",
       "      <td>4.15</td>\n",
       "      <td>12680.0</td>\n",
       "      <td>France</td>\n",
       "    </tr>\n",
       "    <tr>\n",
       "      <th>541908</th>\n",
       "      <td>581587</td>\n",
       "      <td>22138</td>\n",
       "      <td>BAKING SET 9 PIECE RETROSPOT</td>\n",
       "      <td>3</td>\n",
       "      <td>2011-12-09 12:50:00</td>\n",
       "      <td>4.95</td>\n",
       "      <td>12680.0</td>\n",
       "      <td>France</td>\n",
       "    </tr>\n",
       "  </tbody>\n",
       "</table>\n",
       "<p>541909 rows × 8 columns</p>\n",
       "</div>"
      ],
      "text/plain": [
       "       InvoiceNo StockCode                          Description  Quantity  \\\n",
       "0         536365    85123A   WHITE HANGING HEART T-LIGHT HOLDER         6   \n",
       "1            NaN     71053                  WHITE METAL LANTERN         6   \n",
       "2         536365    84406B       CREAM CUPID HEARTS COAT HANGER         8   \n",
       "3         536365    84029G  KNITTED UNION FLAG HOT WATER BOTTLE         6   \n",
       "4         536365    84029E       RED WOOLLY HOTTIE WHITE HEART.         6   \n",
       "...          ...       ...                                  ...       ...   \n",
       "541904    581587     22613          PACK OF 20 SPACEBOY NAPKINS        12   \n",
       "541905    581587     22899         CHILDREN'S APRON DOLLY GIRL          6   \n",
       "541906    581587     23254        CHILDRENS CUTLERY DOLLY GIRL          4   \n",
       "541907    581587     23255      CHILDRENS CUTLERY CIRCUS PARADE         4   \n",
       "541908    581587     22138        BAKING SET 9 PIECE RETROSPOT          3   \n",
       "\n",
       "               InvoiceDate  UnitPrice  CustomerID         Country  \n",
       "0      2010-12-01 08:26:00       2.55     17850.0  United Kingdom  \n",
       "1      2010-12-01 08:26:00       3.39     17850.0  United Kingdom  \n",
       "2      2010-12-01 08:26:00       2.75     17850.0  United Kingdom  \n",
       "3      2010-12-01 08:26:00       3.39     17850.0  United Kingdom  \n",
       "4      2010-12-01 08:26:00       3.39     17850.0  United Kingdom  \n",
       "...                    ...        ...         ...             ...  \n",
       "541904 2011-12-09 12:50:00       0.85     12680.0          France  \n",
       "541905 2011-12-09 12:50:00       2.10     12680.0          France  \n",
       "541906 2011-12-09 12:50:00       4.15     12680.0          France  \n",
       "541907 2011-12-09 12:50:00       4.15     12680.0          France  \n",
       "541908 2011-12-09 12:50:00       4.95     12680.0          France  \n",
       "\n",
       "[541909 rows x 8 columns]"
      ]
     },
     "execution_count": 466,
     "metadata": {},
     "output_type": "execute_result"
    }
   ],
   "source": [
    "retail"
   ]
  },
  {
   "cell_type": "code",
   "execution_count": 467,
   "id": "c0024b6c",
   "metadata": {},
   "outputs": [
    {
     "data": {
      "text/plain": [
       "(541909, 8)"
      ]
     },
     "execution_count": 467,
     "metadata": {},
     "output_type": "execute_result"
    }
   ],
   "source": [
    "retail.shape"
   ]
  },
  {
   "cell_type": "code",
   "execution_count": 468,
   "id": "79ebcfd8",
   "metadata": {},
   "outputs": [
    {
     "data": {
      "text/html": [
       "<div>\n",
       "<style scoped>\n",
       "    .dataframe tbody tr th:only-of-type {\n",
       "        vertical-align: middle;\n",
       "    }\n",
       "\n",
       "    .dataframe tbody tr th {\n",
       "        vertical-align: top;\n",
       "    }\n",
       "\n",
       "    .dataframe thead th {\n",
       "        text-align: right;\n",
       "    }\n",
       "</style>\n",
       "<table border=\"1\" class=\"dataframe\">\n",
       "  <thead>\n",
       "    <tr style=\"text-align: right;\">\n",
       "      <th></th>\n",
       "      <th>InvoiceNo</th>\n",
       "      <th>StockCode</th>\n",
       "      <th>Description</th>\n",
       "      <th>Quantity</th>\n",
       "      <th>InvoiceDate</th>\n",
       "      <th>UnitPrice</th>\n",
       "      <th>CustomerID</th>\n",
       "      <th>Country</th>\n",
       "    </tr>\n",
       "  </thead>\n",
       "  <tbody>\n",
       "    <tr>\n",
       "      <th>0</th>\n",
       "      <td>536365</td>\n",
       "      <td>85123A</td>\n",
       "      <td>WHITE HANGING HEART T-LIGHT HOLDER</td>\n",
       "      <td>6</td>\n",
       "      <td>2010-12-01 08:26:00</td>\n",
       "      <td>2.55</td>\n",
       "      <td>17850.0</td>\n",
       "      <td>United Kingdom</td>\n",
       "    </tr>\n",
       "    <tr>\n",
       "      <th>1</th>\n",
       "      <td>NaN</td>\n",
       "      <td>71053</td>\n",
       "      <td>WHITE METAL LANTERN</td>\n",
       "      <td>6</td>\n",
       "      <td>2010-12-01 08:26:00</td>\n",
       "      <td>3.39</td>\n",
       "      <td>17850.0</td>\n",
       "      <td>United Kingdom</td>\n",
       "    </tr>\n",
       "    <tr>\n",
       "      <th>2</th>\n",
       "      <td>536365</td>\n",
       "      <td>84406B</td>\n",
       "      <td>CREAM CUPID HEARTS COAT HANGER</td>\n",
       "      <td>8</td>\n",
       "      <td>2010-12-01 08:26:00</td>\n",
       "      <td>2.75</td>\n",
       "      <td>17850.0</td>\n",
       "      <td>United Kingdom</td>\n",
       "    </tr>\n",
       "    <tr>\n",
       "      <th>3</th>\n",
       "      <td>536365</td>\n",
       "      <td>84029G</td>\n",
       "      <td>KNITTED UNION FLAG HOT WATER BOTTLE</td>\n",
       "      <td>6</td>\n",
       "      <td>2010-12-01 08:26:00</td>\n",
       "      <td>3.39</td>\n",
       "      <td>17850.0</td>\n",
       "      <td>United Kingdom</td>\n",
       "    </tr>\n",
       "    <tr>\n",
       "      <th>4</th>\n",
       "      <td>536365</td>\n",
       "      <td>84029E</td>\n",
       "      <td>RED WOOLLY HOTTIE WHITE HEART.</td>\n",
       "      <td>6</td>\n",
       "      <td>2010-12-01 08:26:00</td>\n",
       "      <td>3.39</td>\n",
       "      <td>17850.0</td>\n",
       "      <td>United Kingdom</td>\n",
       "    </tr>\n",
       "  </tbody>\n",
       "</table>\n",
       "</div>"
      ],
      "text/plain": [
       "  InvoiceNo StockCode                          Description  Quantity  \\\n",
       "0    536365    85123A   WHITE HANGING HEART T-LIGHT HOLDER         6   \n",
       "1       NaN     71053                  WHITE METAL LANTERN         6   \n",
       "2    536365    84406B       CREAM CUPID HEARTS COAT HANGER         8   \n",
       "3    536365    84029G  KNITTED UNION FLAG HOT WATER BOTTLE         6   \n",
       "4    536365    84029E       RED WOOLLY HOTTIE WHITE HEART.         6   \n",
       "\n",
       "          InvoiceDate  UnitPrice  CustomerID         Country  \n",
       "0 2010-12-01 08:26:00       2.55     17850.0  United Kingdom  \n",
       "1 2010-12-01 08:26:00       3.39     17850.0  United Kingdom  \n",
       "2 2010-12-01 08:26:00       2.75     17850.0  United Kingdom  \n",
       "3 2010-12-01 08:26:00       3.39     17850.0  United Kingdom  \n",
       "4 2010-12-01 08:26:00       3.39     17850.0  United Kingdom  "
      ]
     },
     "execution_count": 468,
     "metadata": {},
     "output_type": "execute_result"
    }
   ],
   "source": [
    "retail.head()"
   ]
  },
  {
   "cell_type": "code",
   "execution_count": 469,
   "id": "f344c0b1",
   "metadata": {},
   "outputs": [
    {
     "name": "stdout",
     "output_type": "stream",
     "text": [
      "<class 'pandas.core.frame.DataFrame'>\n",
      "RangeIndex: 541909 entries, 0 to 541908\n",
      "Data columns (total 8 columns):\n",
      " #   Column       Non-Null Count   Dtype         \n",
      "---  ------       --------------   -----         \n",
      " 0   InvoiceNo    541908 non-null  object        \n",
      " 1   StockCode    541909 non-null  object        \n",
      " 2   Description  540455 non-null  object        \n",
      " 3   Quantity     541909 non-null  int64         \n",
      " 4   InvoiceDate  541909 non-null  datetime64[ns]\n",
      " 5   UnitPrice    541909 non-null  float64       \n",
      " 6   CustomerID   406829 non-null  float64       \n",
      " 7   Country      541909 non-null  object        \n",
      "dtypes: datetime64[ns](1), float64(2), int64(1), object(4)\n",
      "memory usage: 33.1+ MB\n"
     ]
    }
   ],
   "source": [
    "retail.info()"
   ]
  },
  {
   "cell_type": "code",
   "execution_count": 470,
   "id": "016d1e01",
   "metadata": {},
   "outputs": [
    {
     "data": {
      "text/plain": [
       "InvoiceNo           1\n",
       "StockCode           0\n",
       "Description      1454\n",
       "Quantity            0\n",
       "InvoiceDate         0\n",
       "UnitPrice           0\n",
       "CustomerID     135080\n",
       "Country             0\n",
       "dtype: int64"
      ]
     },
     "execution_count": 470,
     "metadata": {},
     "output_type": "execute_result"
    }
   ],
   "source": [
    "retail.isnull().sum()"
   ]
  },
  {
   "cell_type": "code",
   "execution_count": 471,
   "id": "7b074042",
   "metadata": {},
   "outputs": [
    {
     "name": "stdout",
     "output_type": "stream",
     "text": [
      "InvoiceNo      25900\n",
      "StockCode       4070\n",
      "Description     4223\n",
      "Quantity         722\n",
      "InvoiceDate    23260\n",
      "UnitPrice       1630\n",
      "CustomerID      4372\n",
      "Country           38\n",
      "dtype: int64\n"
     ]
    }
   ],
   "source": [
    "print (retail.nunique())"
   ]
  },
  {
   "cell_type": "code",
   "execution_count": 472,
   "id": "d0cad790",
   "metadata": {},
   "outputs": [
    {
     "data": {
      "text/plain": [
       "573585     1114\n",
       "581219      749\n",
       "581492      731\n",
       "580729      721\n",
       "558475      705\n",
       "           ... \n",
       "551446        1\n",
       "C545476       1\n",
       "551447        1\n",
       "551448        1\n",
       "C554302       1\n",
       "Name: InvoiceNo, Length: 25900, dtype: int64"
      ]
     },
     "execution_count": 472,
     "metadata": {},
     "output_type": "execute_result"
    }
   ],
   "source": [
    "retail['InvoiceNo'].value_counts()"
   ]
  },
  {
   "cell_type": "code",
   "execution_count": 473,
   "id": "26cf2735",
   "metadata": {},
   "outputs": [],
   "source": [
    "retail['Cancellation'] = retail['InvoiceNo'].apply(lambda x:'Yes' if str(x)[0]=='c' or str(x)[0]=='C' else 'No')"
   ]
  },
  {
   "cell_type": "code",
   "execution_count": 474,
   "id": "4534e56d",
   "metadata": {},
   "outputs": [
    {
     "data": {
      "text/plain": [
       "array(['No', 'Yes'], dtype=object)"
      ]
     },
     "execution_count": 474,
     "metadata": {},
     "output_type": "execute_result"
    }
   ],
   "source": [
    "retail['Cancellation'].unique()"
   ]
  },
  {
   "cell_type": "code",
   "execution_count": 475,
   "id": "374d4d3d",
   "metadata": {},
   "outputs": [
    {
     "data": {
      "text/html": [
       "<div>\n",
       "<style scoped>\n",
       "    .dataframe tbody tr th:only-of-type {\n",
       "        vertical-align: middle;\n",
       "    }\n",
       "\n",
       "    .dataframe tbody tr th {\n",
       "        vertical-align: top;\n",
       "    }\n",
       "\n",
       "    .dataframe thead th {\n",
       "        text-align: right;\n",
       "    }\n",
       "</style>\n",
       "<table border=\"1\" class=\"dataframe\">\n",
       "  <thead>\n",
       "    <tr style=\"text-align: right;\">\n",
       "      <th></th>\n",
       "      <th>InvoiceNo</th>\n",
       "      <th>StockCode</th>\n",
       "      <th>Description</th>\n",
       "      <th>Quantity</th>\n",
       "      <th>InvoiceDate</th>\n",
       "      <th>UnitPrice</th>\n",
       "      <th>CustomerID</th>\n",
       "      <th>Country</th>\n",
       "      <th>Cancellation</th>\n",
       "    </tr>\n",
       "  </thead>\n",
       "  <tbody>\n",
       "    <tr>\n",
       "      <th>0</th>\n",
       "      <td>536365</td>\n",
       "      <td>85123A</td>\n",
       "      <td>WHITE HANGING HEART T-LIGHT HOLDER</td>\n",
       "      <td>6</td>\n",
       "      <td>2010-12-01 08:26:00</td>\n",
       "      <td>2.55</td>\n",
       "      <td>17850.0</td>\n",
       "      <td>United Kingdom</td>\n",
       "      <td>No</td>\n",
       "    </tr>\n",
       "    <tr>\n",
       "      <th>1</th>\n",
       "      <td>NaN</td>\n",
       "      <td>71053</td>\n",
       "      <td>WHITE METAL LANTERN</td>\n",
       "      <td>6</td>\n",
       "      <td>2010-12-01 08:26:00</td>\n",
       "      <td>3.39</td>\n",
       "      <td>17850.0</td>\n",
       "      <td>United Kingdom</td>\n",
       "      <td>No</td>\n",
       "    </tr>\n",
       "    <tr>\n",
       "      <th>2</th>\n",
       "      <td>536365</td>\n",
       "      <td>84406B</td>\n",
       "      <td>CREAM CUPID HEARTS COAT HANGER</td>\n",
       "      <td>8</td>\n",
       "      <td>2010-12-01 08:26:00</td>\n",
       "      <td>2.75</td>\n",
       "      <td>17850.0</td>\n",
       "      <td>United Kingdom</td>\n",
       "      <td>No</td>\n",
       "    </tr>\n",
       "    <tr>\n",
       "      <th>3</th>\n",
       "      <td>536365</td>\n",
       "      <td>84029G</td>\n",
       "      <td>KNITTED UNION FLAG HOT WATER BOTTLE</td>\n",
       "      <td>6</td>\n",
       "      <td>2010-12-01 08:26:00</td>\n",
       "      <td>3.39</td>\n",
       "      <td>17850.0</td>\n",
       "      <td>United Kingdom</td>\n",
       "      <td>No</td>\n",
       "    </tr>\n",
       "    <tr>\n",
       "      <th>4</th>\n",
       "      <td>536365</td>\n",
       "      <td>84029E</td>\n",
       "      <td>RED WOOLLY HOTTIE WHITE HEART.</td>\n",
       "      <td>6</td>\n",
       "      <td>2010-12-01 08:26:00</td>\n",
       "      <td>3.39</td>\n",
       "      <td>17850.0</td>\n",
       "      <td>United Kingdom</td>\n",
       "      <td>No</td>\n",
       "    </tr>\n",
       "  </tbody>\n",
       "</table>\n",
       "</div>"
      ],
      "text/plain": [
       "  InvoiceNo StockCode                          Description  Quantity  \\\n",
       "0    536365    85123A   WHITE HANGING HEART T-LIGHT HOLDER         6   \n",
       "1       NaN     71053                  WHITE METAL LANTERN         6   \n",
       "2    536365    84406B       CREAM CUPID HEARTS COAT HANGER         8   \n",
       "3    536365    84029G  KNITTED UNION FLAG HOT WATER BOTTLE         6   \n",
       "4    536365    84029E       RED WOOLLY HOTTIE WHITE HEART.         6   \n",
       "\n",
       "          InvoiceDate  UnitPrice  CustomerID         Country Cancellation  \n",
       "0 2010-12-01 08:26:00       2.55     17850.0  United Kingdom           No  \n",
       "1 2010-12-01 08:26:00       3.39     17850.0  United Kingdom           No  \n",
       "2 2010-12-01 08:26:00       2.75     17850.0  United Kingdom           No  \n",
       "3 2010-12-01 08:26:00       3.39     17850.0  United Kingdom           No  \n",
       "4 2010-12-01 08:26:00       3.39     17850.0  United Kingdom           No  "
      ]
     },
     "execution_count": 475,
     "metadata": {},
     "output_type": "execute_result"
    }
   ],
   "source": [
    "retail.head()"
   ]
  },
  {
   "cell_type": "code",
   "execution_count": 476,
   "id": "be0346c6",
   "metadata": {},
   "outputs": [],
   "source": [
    "retail.drop(['InvoiceNo','StockCode','Description','CustomerID'], axis=1, inplace=True)"
   ]
  },
  {
   "cell_type": "code",
   "execution_count": 477,
   "id": "c07d9fe7",
   "metadata": {},
   "outputs": [
    {
     "data": {
      "text/html": [
       "<div>\n",
       "<style scoped>\n",
       "    .dataframe tbody tr th:only-of-type {\n",
       "        vertical-align: middle;\n",
       "    }\n",
       "\n",
       "    .dataframe tbody tr th {\n",
       "        vertical-align: top;\n",
       "    }\n",
       "\n",
       "    .dataframe thead th {\n",
       "        text-align: right;\n",
       "    }\n",
       "</style>\n",
       "<table border=\"1\" class=\"dataframe\">\n",
       "  <thead>\n",
       "    <tr style=\"text-align: right;\">\n",
       "      <th></th>\n",
       "      <th>Quantity</th>\n",
       "      <th>InvoiceDate</th>\n",
       "      <th>UnitPrice</th>\n",
       "      <th>Country</th>\n",
       "      <th>Cancellation</th>\n",
       "    </tr>\n",
       "  </thead>\n",
       "  <tbody>\n",
       "    <tr>\n",
       "      <th>0</th>\n",
       "      <td>6</td>\n",
       "      <td>2010-12-01 08:26:00</td>\n",
       "      <td>2.55</td>\n",
       "      <td>United Kingdom</td>\n",
       "      <td>No</td>\n",
       "    </tr>\n",
       "    <tr>\n",
       "      <th>1</th>\n",
       "      <td>6</td>\n",
       "      <td>2010-12-01 08:26:00</td>\n",
       "      <td>3.39</td>\n",
       "      <td>United Kingdom</td>\n",
       "      <td>No</td>\n",
       "    </tr>\n",
       "    <tr>\n",
       "      <th>2</th>\n",
       "      <td>8</td>\n",
       "      <td>2010-12-01 08:26:00</td>\n",
       "      <td>2.75</td>\n",
       "      <td>United Kingdom</td>\n",
       "      <td>No</td>\n",
       "    </tr>\n",
       "    <tr>\n",
       "      <th>3</th>\n",
       "      <td>6</td>\n",
       "      <td>2010-12-01 08:26:00</td>\n",
       "      <td>3.39</td>\n",
       "      <td>United Kingdom</td>\n",
       "      <td>No</td>\n",
       "    </tr>\n",
       "    <tr>\n",
       "      <th>4</th>\n",
       "      <td>6</td>\n",
       "      <td>2010-12-01 08:26:00</td>\n",
       "      <td>3.39</td>\n",
       "      <td>United Kingdom</td>\n",
       "      <td>No</td>\n",
       "    </tr>\n",
       "  </tbody>\n",
       "</table>\n",
       "</div>"
      ],
      "text/plain": [
       "   Quantity         InvoiceDate  UnitPrice         Country Cancellation\n",
       "0         6 2010-12-01 08:26:00       2.55  United Kingdom           No\n",
       "1         6 2010-12-01 08:26:00       3.39  United Kingdom           No\n",
       "2         8 2010-12-01 08:26:00       2.75  United Kingdom           No\n",
       "3         6 2010-12-01 08:26:00       3.39  United Kingdom           No\n",
       "4         6 2010-12-01 08:26:00       3.39  United Kingdom           No"
      ]
     },
     "execution_count": 477,
     "metadata": {},
     "output_type": "execute_result"
    }
   ],
   "source": [
    "retail.head()"
   ]
  },
  {
   "cell_type": "code",
   "execution_count": 478,
   "id": "33ce1539",
   "metadata": {},
   "outputs": [
    {
     "name": "stdout",
     "output_type": "stream",
     "text": [
      "United Kingdom          495478\n",
      "Germany                   9495\n",
      "France                    8557\n",
      "EIRE                      8196\n",
      "Spain                     2533\n",
      "Netherlands               2371\n",
      "Belgium                   2069\n",
      "Switzerland               2002\n",
      "Portugal                  1519\n",
      "Australia                 1259\n",
      "Norway                    1086\n",
      "Italy                      803\n",
      "Channel Islands            758\n",
      "Finland                    695\n",
      "Cyprus                     622\n",
      "Sweden                     462\n",
      "Unspecified                446\n",
      "Austria                    401\n",
      "Denmark                    389\n",
      "Japan                      358\n",
      "Poland                     341\n",
      "Israel                     297\n",
      "USA                        291\n",
      "Hong Kong                  288\n",
      "Singapore                  229\n",
      "Iceland                    182\n",
      "Canada                     151\n",
      "Greece                     146\n",
      "Malta                      127\n",
      "United Arab Emirates        68\n",
      "European Community          61\n",
      "RSA                         58\n",
      "Lebanon                     45\n",
      "Lithuania                   35\n",
      "Brazil                      32\n",
      "Czech Republic              30\n",
      "Bahrain                     19\n",
      "Saudi Arabia                10\n",
      "Name: Country, dtype: int64\n"
     ]
    }
   ],
   "source": [
    "print (retail['Country'].value_counts())"
   ]
  },
  {
   "cell_type": "code",
   "execution_count": 479,
   "id": "a773c3bd",
   "metadata": {},
   "outputs": [],
   "source": [
    "retail['Country'] = retail['Country'].apply(lambda x:\"UK\" if x==\"United Kingdom\" else \"Non UK\")"
   ]
  },
  {
   "cell_type": "code",
   "execution_count": 480,
   "id": "21bb6d98",
   "metadata": {},
   "outputs": [
    {
     "data": {
      "text/plain": [
       "2"
      ]
     },
     "execution_count": 480,
     "metadata": {},
     "output_type": "execute_result"
    }
   ],
   "source": [
    "retail['Country'].nunique()"
   ]
  },
  {
   "cell_type": "code",
   "execution_count": 481,
   "id": "79d30dad",
   "metadata": {},
   "outputs": [
    {
     "name": "stdout",
     "output_type": "stream",
     "text": [
      "UK        495478\n",
      "Non UK     46431\n",
      "Name: Country, dtype: int64\n"
     ]
    }
   ],
   "source": [
    "print (retail['Country'].value_counts())"
   ]
  },
  {
   "cell_type": "code",
   "execution_count": 482,
   "id": "cfbed17f",
   "metadata": {},
   "outputs": [
    {
     "data": {
      "text/html": [
       "<div>\n",
       "<style scoped>\n",
       "    .dataframe tbody tr th:only-of-type {\n",
       "        vertical-align: middle;\n",
       "    }\n",
       "\n",
       "    .dataframe tbody tr th {\n",
       "        vertical-align: top;\n",
       "    }\n",
       "\n",
       "    .dataframe thead th {\n",
       "        text-align: right;\n",
       "    }\n",
       "</style>\n",
       "<table border=\"1\" class=\"dataframe\">\n",
       "  <thead>\n",
       "    <tr style=\"text-align: right;\">\n",
       "      <th></th>\n",
       "      <th>Quantity</th>\n",
       "      <th>InvoiceDate</th>\n",
       "      <th>UnitPrice</th>\n",
       "      <th>Country</th>\n",
       "      <th>Cancellation</th>\n",
       "    </tr>\n",
       "  </thead>\n",
       "  <tbody>\n",
       "    <tr>\n",
       "      <th>0</th>\n",
       "      <td>6</td>\n",
       "      <td>2010-12-01 08:26:00</td>\n",
       "      <td>2.55</td>\n",
       "      <td>UK</td>\n",
       "      <td>No</td>\n",
       "    </tr>\n",
       "    <tr>\n",
       "      <th>1</th>\n",
       "      <td>6</td>\n",
       "      <td>2010-12-01 08:26:00</td>\n",
       "      <td>3.39</td>\n",
       "      <td>UK</td>\n",
       "      <td>No</td>\n",
       "    </tr>\n",
       "    <tr>\n",
       "      <th>2</th>\n",
       "      <td>8</td>\n",
       "      <td>2010-12-01 08:26:00</td>\n",
       "      <td>2.75</td>\n",
       "      <td>UK</td>\n",
       "      <td>No</td>\n",
       "    </tr>\n",
       "    <tr>\n",
       "      <th>3</th>\n",
       "      <td>6</td>\n",
       "      <td>2010-12-01 08:26:00</td>\n",
       "      <td>3.39</td>\n",
       "      <td>UK</td>\n",
       "      <td>No</td>\n",
       "    </tr>\n",
       "    <tr>\n",
       "      <th>4</th>\n",
       "      <td>6</td>\n",
       "      <td>2010-12-01 08:26:00</td>\n",
       "      <td>3.39</td>\n",
       "      <td>UK</td>\n",
       "      <td>No</td>\n",
       "    </tr>\n",
       "  </tbody>\n",
       "</table>\n",
       "</div>"
      ],
      "text/plain": [
       "   Quantity         InvoiceDate  UnitPrice Country Cancellation\n",
       "0         6 2010-12-01 08:26:00       2.55      UK           No\n",
       "1         6 2010-12-01 08:26:00       3.39      UK           No\n",
       "2         8 2010-12-01 08:26:00       2.75      UK           No\n",
       "3         6 2010-12-01 08:26:00       3.39      UK           No\n",
       "4         6 2010-12-01 08:26:00       3.39      UK           No"
      ]
     },
     "execution_count": 482,
     "metadata": {},
     "output_type": "execute_result"
    }
   ],
   "source": [
    "retail.head()"
   ]
  },
  {
   "cell_type": "code",
   "execution_count": 483,
   "id": "1696c3ee",
   "metadata": {},
   "outputs": [
    {
     "name": "stderr",
     "output_type": "stream",
     "text": [
      "<ipython-input-483-23d29e8d6525>:1: FutureWarning: Series.dt.weekofyear and Series.dt.week have been deprecated.  Please use Series.dt.isocalendar().week instead.\n",
      "  retail ['Week of the year'] = pd.to_datetime(retail ['InvoiceDate']).dt.weekofyear\n"
     ]
    }
   ],
   "source": [
    "retail ['Week of the year'] = pd.to_datetime(retail ['InvoiceDate']).dt.weekofyear"
   ]
  },
  {
   "cell_type": "code",
   "execution_count": 484,
   "id": "8aaa9575",
   "metadata": {},
   "outputs": [
    {
     "data": {
      "text/plain": [
       "0         48\n",
       "1         48\n",
       "2         48\n",
       "3         48\n",
       "4         48\n",
       "          ..\n",
       "541904    49\n",
       "541905    49\n",
       "541906    49\n",
       "541907    49\n",
       "541908    49\n",
       "Name: Week of the year, Length: 541909, dtype: int64"
      ]
     },
     "execution_count": 484,
     "metadata": {},
     "output_type": "execute_result"
    }
   ],
   "source": [
    "retail ['Week of the year']"
   ]
  },
  {
   "cell_type": "code",
   "execution_count": 485,
   "id": "a5feea18",
   "metadata": {},
   "outputs": [],
   "source": [
    "retail ['Day of the Week'] = pd.to_datetime(retail ['InvoiceDate']).dt.day_name()"
   ]
  },
  {
   "cell_type": "code",
   "execution_count": 486,
   "id": "2a8ea807",
   "metadata": {},
   "outputs": [
    {
     "data": {
      "text/plain": [
       "0         Wednesday\n",
       "1         Wednesday\n",
       "2         Wednesday\n",
       "3         Wednesday\n",
       "4         Wednesday\n",
       "            ...    \n",
       "541904       Friday\n",
       "541905       Friday\n",
       "541906       Friday\n",
       "541907       Friday\n",
       "541908       Friday\n",
       "Name: Day of the Week, Length: 541909, dtype: object"
      ]
     },
     "execution_count": 486,
     "metadata": {},
     "output_type": "execute_result"
    }
   ],
   "source": [
    "retail ['Day of the Week'] "
   ]
  },
  {
   "cell_type": "code",
   "execution_count": 487,
   "id": "68efb828",
   "metadata": {},
   "outputs": [],
   "source": [
    "retail ['Month of the year'] = retail ['InvoiceDate'].dt.month_name(locale = 'English')"
   ]
  },
  {
   "cell_type": "code",
   "execution_count": 488,
   "id": "0b09644a",
   "metadata": {},
   "outputs": [
    {
     "data": {
      "text/plain": [
       "array(['December', 'January', 'February', 'March', 'April', 'May', 'June',\n",
       "       'July', 'August', 'September', 'October', 'November'], dtype=object)"
      ]
     },
     "execution_count": 488,
     "metadata": {},
     "output_type": "execute_result"
    }
   ],
   "source": [
    "retail ['Month of the year'].unique()"
   ]
  },
  {
   "cell_type": "code",
   "execution_count": 489,
   "id": "41067ca1",
   "metadata": {},
   "outputs": [],
   "source": [
    "retail['Quarter of the year'] = list(map(lambda x:'Q1' if x in ['April', 'May', 'June'] else ('Q2' if x in ['July', 'August', 'September'] else ('Q3' if x in ['October', 'November','December'] else 'Q4')), retail['Month of the year']))"
   ]
  },
  {
   "cell_type": "code",
   "execution_count": 490,
   "id": "65e51612",
   "metadata": {},
   "outputs": [
    {
     "data": {
      "text/plain": [
       "array(['Q3', 'Q4', 'Q1', 'Q2'], dtype=object)"
      ]
     },
     "execution_count": 490,
     "metadata": {},
     "output_type": "execute_result"
    }
   ],
   "source": [
    "retail['Quarter of the year'].unique()"
   ]
  },
  {
   "cell_type": "code",
   "execution_count": 491,
   "id": "109154ed",
   "metadata": {},
   "outputs": [
    {
     "data": {
      "text/plain": [
       "Q3    213459\n",
       "Q2    125028\n",
       "Q1    103820\n",
       "Q4     99602\n",
       "Name: Quarter of the year, dtype: int64"
      ]
     },
     "execution_count": 491,
     "metadata": {},
     "output_type": "execute_result"
    }
   ],
   "source": [
    "retail['Quarter of the year'].value_counts()"
   ]
  },
  {
   "cell_type": "code",
   "execution_count": 492,
   "id": "0076cd3c",
   "metadata": {},
   "outputs": [],
   "source": [
    "retail ['Time of the day'] = (pd.to_datetime(retail ['InvoiceDate']).dt.hour%24+4)//6"
   ]
  },
  {
   "cell_type": "code",
   "execution_count": 493,
   "id": "a78e17ee",
   "metadata": {},
   "outputs": [],
   "source": [
    "retail ['Time of the day'].replace({2: 'Morning',3: 'Noon',4: 'Evening',1: 'Night'},inplace=True)"
   ]
  },
  {
   "cell_type": "code",
   "execution_count": 494,
   "id": "844a6cb7",
   "metadata": {},
   "outputs": [
    {
     "data": {
      "text/plain": [
       "0         Morning\n",
       "1         Morning\n",
       "2         Morning\n",
       "3         Morning\n",
       "4         Morning\n",
       "           ...   \n",
       "541904    Morning\n",
       "541905    Morning\n",
       "541906    Morning\n",
       "541907    Morning\n",
       "541908    Morning\n",
       "Name: Time of the day, Length: 541909, dtype: object"
      ]
     },
     "execution_count": 494,
     "metadata": {},
     "output_type": "execute_result"
    }
   ],
   "source": [
    "retail ['Time of the day']"
   ]
  },
  {
   "cell_type": "code",
   "execution_count": 495,
   "id": "f3bc5ba9",
   "metadata": {},
   "outputs": [
    {
     "data": {
      "text/html": [
       "<div>\n",
       "<style scoped>\n",
       "    .dataframe tbody tr th:only-of-type {\n",
       "        vertical-align: middle;\n",
       "    }\n",
       "\n",
       "    .dataframe tbody tr th {\n",
       "        vertical-align: top;\n",
       "    }\n",
       "\n",
       "    .dataframe thead th {\n",
       "        text-align: right;\n",
       "    }\n",
       "</style>\n",
       "<table border=\"1\" class=\"dataframe\">\n",
       "  <thead>\n",
       "    <tr style=\"text-align: right;\">\n",
       "      <th></th>\n",
       "      <th>Quantity</th>\n",
       "      <th>InvoiceDate</th>\n",
       "      <th>UnitPrice</th>\n",
       "      <th>Country</th>\n",
       "      <th>Cancellation</th>\n",
       "      <th>Week of the year</th>\n",
       "      <th>Day of the Week</th>\n",
       "      <th>Month of the year</th>\n",
       "      <th>Quarter of the year</th>\n",
       "      <th>Time of the day</th>\n",
       "    </tr>\n",
       "  </thead>\n",
       "  <tbody>\n",
       "    <tr>\n",
       "      <th>0</th>\n",
       "      <td>6</td>\n",
       "      <td>2010-12-01 08:26:00</td>\n",
       "      <td>2.55</td>\n",
       "      <td>UK</td>\n",
       "      <td>No</td>\n",
       "      <td>48</td>\n",
       "      <td>Wednesday</td>\n",
       "      <td>December</td>\n",
       "      <td>Q3</td>\n",
       "      <td>Morning</td>\n",
       "    </tr>\n",
       "    <tr>\n",
       "      <th>1</th>\n",
       "      <td>6</td>\n",
       "      <td>2010-12-01 08:26:00</td>\n",
       "      <td>3.39</td>\n",
       "      <td>UK</td>\n",
       "      <td>No</td>\n",
       "      <td>48</td>\n",
       "      <td>Wednesday</td>\n",
       "      <td>December</td>\n",
       "      <td>Q3</td>\n",
       "      <td>Morning</td>\n",
       "    </tr>\n",
       "    <tr>\n",
       "      <th>2</th>\n",
       "      <td>8</td>\n",
       "      <td>2010-12-01 08:26:00</td>\n",
       "      <td>2.75</td>\n",
       "      <td>UK</td>\n",
       "      <td>No</td>\n",
       "      <td>48</td>\n",
       "      <td>Wednesday</td>\n",
       "      <td>December</td>\n",
       "      <td>Q3</td>\n",
       "      <td>Morning</td>\n",
       "    </tr>\n",
       "    <tr>\n",
       "      <th>3</th>\n",
       "      <td>6</td>\n",
       "      <td>2010-12-01 08:26:00</td>\n",
       "      <td>3.39</td>\n",
       "      <td>UK</td>\n",
       "      <td>No</td>\n",
       "      <td>48</td>\n",
       "      <td>Wednesday</td>\n",
       "      <td>December</td>\n",
       "      <td>Q3</td>\n",
       "      <td>Morning</td>\n",
       "    </tr>\n",
       "    <tr>\n",
       "      <th>4</th>\n",
       "      <td>6</td>\n",
       "      <td>2010-12-01 08:26:00</td>\n",
       "      <td>3.39</td>\n",
       "      <td>UK</td>\n",
       "      <td>No</td>\n",
       "      <td>48</td>\n",
       "      <td>Wednesday</td>\n",
       "      <td>December</td>\n",
       "      <td>Q3</td>\n",
       "      <td>Morning</td>\n",
       "    </tr>\n",
       "    <tr>\n",
       "      <th>...</th>\n",
       "      <td>...</td>\n",
       "      <td>...</td>\n",
       "      <td>...</td>\n",
       "      <td>...</td>\n",
       "      <td>...</td>\n",
       "      <td>...</td>\n",
       "      <td>...</td>\n",
       "      <td>...</td>\n",
       "      <td>...</td>\n",
       "      <td>...</td>\n",
       "    </tr>\n",
       "    <tr>\n",
       "      <th>541904</th>\n",
       "      <td>12</td>\n",
       "      <td>2011-12-09 12:50:00</td>\n",
       "      <td>0.85</td>\n",
       "      <td>Non UK</td>\n",
       "      <td>No</td>\n",
       "      <td>49</td>\n",
       "      <td>Friday</td>\n",
       "      <td>December</td>\n",
       "      <td>Q3</td>\n",
       "      <td>Morning</td>\n",
       "    </tr>\n",
       "    <tr>\n",
       "      <th>541905</th>\n",
       "      <td>6</td>\n",
       "      <td>2011-12-09 12:50:00</td>\n",
       "      <td>2.10</td>\n",
       "      <td>Non UK</td>\n",
       "      <td>No</td>\n",
       "      <td>49</td>\n",
       "      <td>Friday</td>\n",
       "      <td>December</td>\n",
       "      <td>Q3</td>\n",
       "      <td>Morning</td>\n",
       "    </tr>\n",
       "    <tr>\n",
       "      <th>541906</th>\n",
       "      <td>4</td>\n",
       "      <td>2011-12-09 12:50:00</td>\n",
       "      <td>4.15</td>\n",
       "      <td>Non UK</td>\n",
       "      <td>No</td>\n",
       "      <td>49</td>\n",
       "      <td>Friday</td>\n",
       "      <td>December</td>\n",
       "      <td>Q3</td>\n",
       "      <td>Morning</td>\n",
       "    </tr>\n",
       "    <tr>\n",
       "      <th>541907</th>\n",
       "      <td>4</td>\n",
       "      <td>2011-12-09 12:50:00</td>\n",
       "      <td>4.15</td>\n",
       "      <td>Non UK</td>\n",
       "      <td>No</td>\n",
       "      <td>49</td>\n",
       "      <td>Friday</td>\n",
       "      <td>December</td>\n",
       "      <td>Q3</td>\n",
       "      <td>Morning</td>\n",
       "    </tr>\n",
       "    <tr>\n",
       "      <th>541908</th>\n",
       "      <td>3</td>\n",
       "      <td>2011-12-09 12:50:00</td>\n",
       "      <td>4.95</td>\n",
       "      <td>Non UK</td>\n",
       "      <td>No</td>\n",
       "      <td>49</td>\n",
       "      <td>Friday</td>\n",
       "      <td>December</td>\n",
       "      <td>Q3</td>\n",
       "      <td>Morning</td>\n",
       "    </tr>\n",
       "  </tbody>\n",
       "</table>\n",
       "<p>541909 rows × 10 columns</p>\n",
       "</div>"
      ],
      "text/plain": [
       "        Quantity         InvoiceDate  UnitPrice Country Cancellation  \\\n",
       "0              6 2010-12-01 08:26:00       2.55      UK           No   \n",
       "1              6 2010-12-01 08:26:00       3.39      UK           No   \n",
       "2              8 2010-12-01 08:26:00       2.75      UK           No   \n",
       "3              6 2010-12-01 08:26:00       3.39      UK           No   \n",
       "4              6 2010-12-01 08:26:00       3.39      UK           No   \n",
       "...          ...                 ...        ...     ...          ...   \n",
       "541904        12 2011-12-09 12:50:00       0.85  Non UK           No   \n",
       "541905         6 2011-12-09 12:50:00       2.10  Non UK           No   \n",
       "541906         4 2011-12-09 12:50:00       4.15  Non UK           No   \n",
       "541907         4 2011-12-09 12:50:00       4.15  Non UK           No   \n",
       "541908         3 2011-12-09 12:50:00       4.95  Non UK           No   \n",
       "\n",
       "        Week of the year Day of the Week Month of the year  \\\n",
       "0                     48       Wednesday          December   \n",
       "1                     48       Wednesday          December   \n",
       "2                     48       Wednesday          December   \n",
       "3                     48       Wednesday          December   \n",
       "4                     48       Wednesday          December   \n",
       "...                  ...             ...               ...   \n",
       "541904                49          Friday          December   \n",
       "541905                49          Friday          December   \n",
       "541906                49          Friday          December   \n",
       "541907                49          Friday          December   \n",
       "541908                49          Friday          December   \n",
       "\n",
       "       Quarter of the year Time of the day  \n",
       "0                       Q3         Morning  \n",
       "1                       Q3         Morning  \n",
       "2                       Q3         Morning  \n",
       "3                       Q3         Morning  \n",
       "4                       Q3         Morning  \n",
       "...                    ...             ...  \n",
       "541904                  Q3         Morning  \n",
       "541905                  Q3         Morning  \n",
       "541906                  Q3         Morning  \n",
       "541907                  Q3         Morning  \n",
       "541908                  Q3         Morning  \n",
       "\n",
       "[541909 rows x 10 columns]"
      ]
     },
     "execution_count": 495,
     "metadata": {},
     "output_type": "execute_result"
    }
   ],
   "source": [
    "retail"
   ]
  },
  {
   "cell_type": "code",
   "execution_count": 496,
   "id": "c53a101e",
   "metadata": {},
   "outputs": [
    {
     "data": {
      "text/html": [
       "<div>\n",
       "<style scoped>\n",
       "    .dataframe tbody tr th:only-of-type {\n",
       "        vertical-align: middle;\n",
       "    }\n",
       "\n",
       "    .dataframe tbody tr th {\n",
       "        vertical-align: top;\n",
       "    }\n",
       "\n",
       "    .dataframe thead th {\n",
       "        text-align: right;\n",
       "    }\n",
       "</style>\n",
       "<table border=\"1\" class=\"dataframe\">\n",
       "  <thead>\n",
       "    <tr style=\"text-align: right;\">\n",
       "      <th></th>\n",
       "      <th>Quantity</th>\n",
       "      <th>InvoiceDate</th>\n",
       "      <th>UnitPrice</th>\n",
       "      <th>Country</th>\n",
       "      <th>Cancellation</th>\n",
       "      <th>Week of the year</th>\n",
       "      <th>Day of the Week</th>\n",
       "      <th>Month of the year</th>\n",
       "      <th>Quarter of the year</th>\n",
       "      <th>Time of the day</th>\n",
       "    </tr>\n",
       "  </thead>\n",
       "  <tbody>\n",
       "    <tr>\n",
       "      <th>0</th>\n",
       "      <td>6</td>\n",
       "      <td>2010-12-01 08:26:00</td>\n",
       "      <td>2.55</td>\n",
       "      <td>UK</td>\n",
       "      <td>No</td>\n",
       "      <td>48</td>\n",
       "      <td>Wednesday</td>\n",
       "      <td>December</td>\n",
       "      <td>Q3</td>\n",
       "      <td>Morning</td>\n",
       "    </tr>\n",
       "    <tr>\n",
       "      <th>1</th>\n",
       "      <td>6</td>\n",
       "      <td>2010-12-01 08:26:00</td>\n",
       "      <td>3.39</td>\n",
       "      <td>UK</td>\n",
       "      <td>No</td>\n",
       "      <td>48</td>\n",
       "      <td>Wednesday</td>\n",
       "      <td>December</td>\n",
       "      <td>Q3</td>\n",
       "      <td>Morning</td>\n",
       "    </tr>\n",
       "    <tr>\n",
       "      <th>2</th>\n",
       "      <td>8</td>\n",
       "      <td>2010-12-01 08:26:00</td>\n",
       "      <td>2.75</td>\n",
       "      <td>UK</td>\n",
       "      <td>No</td>\n",
       "      <td>48</td>\n",
       "      <td>Wednesday</td>\n",
       "      <td>December</td>\n",
       "      <td>Q3</td>\n",
       "      <td>Morning</td>\n",
       "    </tr>\n",
       "    <tr>\n",
       "      <th>3</th>\n",
       "      <td>6</td>\n",
       "      <td>2010-12-01 08:26:00</td>\n",
       "      <td>3.39</td>\n",
       "      <td>UK</td>\n",
       "      <td>No</td>\n",
       "      <td>48</td>\n",
       "      <td>Wednesday</td>\n",
       "      <td>December</td>\n",
       "      <td>Q3</td>\n",
       "      <td>Morning</td>\n",
       "    </tr>\n",
       "    <tr>\n",
       "      <th>4</th>\n",
       "      <td>6</td>\n",
       "      <td>2010-12-01 08:26:00</td>\n",
       "      <td>3.39</td>\n",
       "      <td>UK</td>\n",
       "      <td>No</td>\n",
       "      <td>48</td>\n",
       "      <td>Wednesday</td>\n",
       "      <td>December</td>\n",
       "      <td>Q3</td>\n",
       "      <td>Morning</td>\n",
       "    </tr>\n",
       "  </tbody>\n",
       "</table>\n",
       "</div>"
      ],
      "text/plain": [
       "   Quantity         InvoiceDate  UnitPrice Country Cancellation  \\\n",
       "0         6 2010-12-01 08:26:00       2.55      UK           No   \n",
       "1         6 2010-12-01 08:26:00       3.39      UK           No   \n",
       "2         8 2010-12-01 08:26:00       2.75      UK           No   \n",
       "3         6 2010-12-01 08:26:00       3.39      UK           No   \n",
       "4         6 2010-12-01 08:26:00       3.39      UK           No   \n",
       "\n",
       "   Week of the year Day of the Week Month of the year Quarter of the year  \\\n",
       "0                48       Wednesday          December                  Q3   \n",
       "1                48       Wednesday          December                  Q3   \n",
       "2                48       Wednesday          December                  Q3   \n",
       "3                48       Wednesday          December                  Q3   \n",
       "4                48       Wednesday          December                  Q3   \n",
       "\n",
       "  Time of the day  \n",
       "0         Morning  \n",
       "1         Morning  \n",
       "2         Morning  \n",
       "3         Morning  \n",
       "4         Morning  "
      ]
     },
     "execution_count": 496,
     "metadata": {},
     "output_type": "execute_result"
    }
   ],
   "source": [
    "retail.head()"
   ]
  },
  {
   "cell_type": "code",
   "execution_count": 497,
   "id": "28829fdc",
   "metadata": {},
   "outputs": [],
   "source": [
    "retail_duplicate = retail.copy()\n",
    "retail_duplicate1 = retail.copy()"
   ]
  },
  {
   "cell_type": "code",
   "execution_count": 498,
   "id": "2878ae01",
   "metadata": {},
   "outputs": [],
   "source": [
    "retail_duplicate.drop(['InvoiceDate'], axis=1, inplace = True)"
   ]
  },
  {
   "cell_type": "code",
   "execution_count": 499,
   "id": "42f9307c",
   "metadata": {},
   "outputs": [
    {
     "data": {
      "text/html": [
       "<div>\n",
       "<style scoped>\n",
       "    .dataframe tbody tr th:only-of-type {\n",
       "        vertical-align: middle;\n",
       "    }\n",
       "\n",
       "    .dataframe tbody tr th {\n",
       "        vertical-align: top;\n",
       "    }\n",
       "\n",
       "    .dataframe thead th {\n",
       "        text-align: right;\n",
       "    }\n",
       "</style>\n",
       "<table border=\"1\" class=\"dataframe\">\n",
       "  <thead>\n",
       "    <tr style=\"text-align: right;\">\n",
       "      <th></th>\n",
       "      <th>Quantity</th>\n",
       "      <th>UnitPrice</th>\n",
       "      <th>Country</th>\n",
       "      <th>Cancellation</th>\n",
       "      <th>Week of the year</th>\n",
       "      <th>Day of the Week</th>\n",
       "      <th>Month of the year</th>\n",
       "      <th>Quarter of the year</th>\n",
       "      <th>Time of the day</th>\n",
       "    </tr>\n",
       "  </thead>\n",
       "  <tbody>\n",
       "    <tr>\n",
       "      <th>0</th>\n",
       "      <td>6</td>\n",
       "      <td>2.55</td>\n",
       "      <td>UK</td>\n",
       "      <td>No</td>\n",
       "      <td>48</td>\n",
       "      <td>Wednesday</td>\n",
       "      <td>December</td>\n",
       "      <td>Q3</td>\n",
       "      <td>Morning</td>\n",
       "    </tr>\n",
       "    <tr>\n",
       "      <th>1</th>\n",
       "      <td>6</td>\n",
       "      <td>3.39</td>\n",
       "      <td>UK</td>\n",
       "      <td>No</td>\n",
       "      <td>48</td>\n",
       "      <td>Wednesday</td>\n",
       "      <td>December</td>\n",
       "      <td>Q3</td>\n",
       "      <td>Morning</td>\n",
       "    </tr>\n",
       "    <tr>\n",
       "      <th>2</th>\n",
       "      <td>8</td>\n",
       "      <td>2.75</td>\n",
       "      <td>UK</td>\n",
       "      <td>No</td>\n",
       "      <td>48</td>\n",
       "      <td>Wednesday</td>\n",
       "      <td>December</td>\n",
       "      <td>Q3</td>\n",
       "      <td>Morning</td>\n",
       "    </tr>\n",
       "    <tr>\n",
       "      <th>3</th>\n",
       "      <td>6</td>\n",
       "      <td>3.39</td>\n",
       "      <td>UK</td>\n",
       "      <td>No</td>\n",
       "      <td>48</td>\n",
       "      <td>Wednesday</td>\n",
       "      <td>December</td>\n",
       "      <td>Q3</td>\n",
       "      <td>Morning</td>\n",
       "    </tr>\n",
       "    <tr>\n",
       "      <th>4</th>\n",
       "      <td>6</td>\n",
       "      <td>3.39</td>\n",
       "      <td>UK</td>\n",
       "      <td>No</td>\n",
       "      <td>48</td>\n",
       "      <td>Wednesday</td>\n",
       "      <td>December</td>\n",
       "      <td>Q3</td>\n",
       "      <td>Morning</td>\n",
       "    </tr>\n",
       "  </tbody>\n",
       "</table>\n",
       "</div>"
      ],
      "text/plain": [
       "   Quantity  UnitPrice Country Cancellation  Week of the year Day of the Week  \\\n",
       "0         6       2.55      UK           No                48       Wednesday   \n",
       "1         6       3.39      UK           No                48       Wednesday   \n",
       "2         8       2.75      UK           No                48       Wednesday   \n",
       "3         6       3.39      UK           No                48       Wednesday   \n",
       "4         6       3.39      UK           No                48       Wednesday   \n",
       "\n",
       "  Month of the year Quarter of the year Time of the day  \n",
       "0          December                  Q3         Morning  \n",
       "1          December                  Q3         Morning  \n",
       "2          December                  Q3         Morning  \n",
       "3          December                  Q3         Morning  \n",
       "4          December                  Q3         Morning  "
      ]
     },
     "execution_count": 499,
     "metadata": {},
     "output_type": "execute_result"
    }
   ],
   "source": [
    "retail_duplicate.head()"
   ]
  },
  {
   "cell_type": "code",
   "execution_count": 500,
   "id": "4e48c9de",
   "metadata": {},
   "outputs": [],
   "source": [
    "from sklearn.preprocessing import LabelEncoder\n",
    "le = LabelEncoder()\n",
    "retail['Day of the Week']=le.fit_transform(retail['Day of the Week'])\n",
    "retail['Month of the year']=le.fit_transform(retail['Month of the year'])\n",
    "retail['Quarter of the year']=le.fit_transform(retail['Quarter of the year'])\n",
    "retail['Time of the day']=le.fit_transform(retail['Time of the day'])"
   ]
  },
  {
   "cell_type": "code",
   "execution_count": 501,
   "id": "9c75d5f0",
   "metadata": {},
   "outputs": [
    {
     "data": {
      "text/html": [
       "<div>\n",
       "<style scoped>\n",
       "    .dataframe tbody tr th:only-of-type {\n",
       "        vertical-align: middle;\n",
       "    }\n",
       "\n",
       "    .dataframe tbody tr th {\n",
       "        vertical-align: top;\n",
       "    }\n",
       "\n",
       "    .dataframe thead th {\n",
       "        text-align: right;\n",
       "    }\n",
       "</style>\n",
       "<table border=\"1\" class=\"dataframe\">\n",
       "  <thead>\n",
       "    <tr style=\"text-align: right;\">\n",
       "      <th></th>\n",
       "      <th>Quantity</th>\n",
       "      <th>InvoiceDate</th>\n",
       "      <th>UnitPrice</th>\n",
       "      <th>Country</th>\n",
       "      <th>Cancellation</th>\n",
       "      <th>Week of the year</th>\n",
       "      <th>Day of the Week</th>\n",
       "      <th>Month of the year</th>\n",
       "      <th>Quarter of the year</th>\n",
       "      <th>Time of the day</th>\n",
       "    </tr>\n",
       "  </thead>\n",
       "  <tbody>\n",
       "    <tr>\n",
       "      <th>0</th>\n",
       "      <td>6</td>\n",
       "      <td>2010-12-01 08:26:00</td>\n",
       "      <td>2.55</td>\n",
       "      <td>UK</td>\n",
       "      <td>No</td>\n",
       "      <td>48</td>\n",
       "      <td>5</td>\n",
       "      <td>2</td>\n",
       "      <td>2</td>\n",
       "      <td>1</td>\n",
       "    </tr>\n",
       "    <tr>\n",
       "      <th>1</th>\n",
       "      <td>6</td>\n",
       "      <td>2010-12-01 08:26:00</td>\n",
       "      <td>3.39</td>\n",
       "      <td>UK</td>\n",
       "      <td>No</td>\n",
       "      <td>48</td>\n",
       "      <td>5</td>\n",
       "      <td>2</td>\n",
       "      <td>2</td>\n",
       "      <td>1</td>\n",
       "    </tr>\n",
       "    <tr>\n",
       "      <th>2</th>\n",
       "      <td>8</td>\n",
       "      <td>2010-12-01 08:26:00</td>\n",
       "      <td>2.75</td>\n",
       "      <td>UK</td>\n",
       "      <td>No</td>\n",
       "      <td>48</td>\n",
       "      <td>5</td>\n",
       "      <td>2</td>\n",
       "      <td>2</td>\n",
       "      <td>1</td>\n",
       "    </tr>\n",
       "    <tr>\n",
       "      <th>3</th>\n",
       "      <td>6</td>\n",
       "      <td>2010-12-01 08:26:00</td>\n",
       "      <td>3.39</td>\n",
       "      <td>UK</td>\n",
       "      <td>No</td>\n",
       "      <td>48</td>\n",
       "      <td>5</td>\n",
       "      <td>2</td>\n",
       "      <td>2</td>\n",
       "      <td>1</td>\n",
       "    </tr>\n",
       "    <tr>\n",
       "      <th>4</th>\n",
       "      <td>6</td>\n",
       "      <td>2010-12-01 08:26:00</td>\n",
       "      <td>3.39</td>\n",
       "      <td>UK</td>\n",
       "      <td>No</td>\n",
       "      <td>48</td>\n",
       "      <td>5</td>\n",
       "      <td>2</td>\n",
       "      <td>2</td>\n",
       "      <td>1</td>\n",
       "    </tr>\n",
       "  </tbody>\n",
       "</table>\n",
       "</div>"
      ],
      "text/plain": [
       "   Quantity         InvoiceDate  UnitPrice Country Cancellation  \\\n",
       "0         6 2010-12-01 08:26:00       2.55      UK           No   \n",
       "1         6 2010-12-01 08:26:00       3.39      UK           No   \n",
       "2         8 2010-12-01 08:26:00       2.75      UK           No   \n",
       "3         6 2010-12-01 08:26:00       3.39      UK           No   \n",
       "4         6 2010-12-01 08:26:00       3.39      UK           No   \n",
       "\n",
       "   Week of the year  Day of the Week  Month of the year  Quarter of the year  \\\n",
       "0                48                5                  2                    2   \n",
       "1                48                5                  2                    2   \n",
       "2                48                5                  2                    2   \n",
       "3                48                5                  2                    2   \n",
       "4                48                5                  2                    2   \n",
       "\n",
       "   Time of the day  \n",
       "0                1  \n",
       "1                1  \n",
       "2                1  \n",
       "3                1  \n",
       "4                1  "
      ]
     },
     "execution_count": 501,
     "metadata": {},
     "output_type": "execute_result"
    }
   ],
   "source": [
    "retail.head()"
   ]
  },
  {
   "cell_type": "code",
   "execution_count": 502,
   "id": "a7685069",
   "metadata": {},
   "outputs": [],
   "source": [
    "Country = pd.get_dummies(retail['Country'], prefix = 'Country')\n",
    "Cancellation = pd.get_dummies(retail['Cancellation'], prefix = 'Cancellation')"
   ]
  },
  {
   "cell_type": "code",
   "execution_count": 503,
   "id": "f5c57a0e",
   "metadata": {},
   "outputs": [
    {
     "data": {
      "text/html": [
       "<div>\n",
       "<style scoped>\n",
       "    .dataframe tbody tr th:only-of-type {\n",
       "        vertical-align: middle;\n",
       "    }\n",
       "\n",
       "    .dataframe tbody tr th {\n",
       "        vertical-align: top;\n",
       "    }\n",
       "\n",
       "    .dataframe thead th {\n",
       "        text-align: right;\n",
       "    }\n",
       "</style>\n",
       "<table border=\"1\" class=\"dataframe\">\n",
       "  <thead>\n",
       "    <tr style=\"text-align: right;\">\n",
       "      <th></th>\n",
       "      <th>Quantity</th>\n",
       "      <th>InvoiceDate</th>\n",
       "      <th>UnitPrice</th>\n",
       "      <th>Country</th>\n",
       "      <th>Cancellation</th>\n",
       "      <th>Week of the year</th>\n",
       "      <th>Day of the Week</th>\n",
       "      <th>Month of the year</th>\n",
       "      <th>Quarter of the year</th>\n",
       "      <th>Time of the day</th>\n",
       "    </tr>\n",
       "  </thead>\n",
       "  <tbody>\n",
       "    <tr>\n",
       "      <th>0</th>\n",
       "      <td>6</td>\n",
       "      <td>2010-12-01 08:26:00</td>\n",
       "      <td>2.55</td>\n",
       "      <td>UK</td>\n",
       "      <td>No</td>\n",
       "      <td>48</td>\n",
       "      <td>5</td>\n",
       "      <td>2</td>\n",
       "      <td>2</td>\n",
       "      <td>1</td>\n",
       "    </tr>\n",
       "    <tr>\n",
       "      <th>1</th>\n",
       "      <td>6</td>\n",
       "      <td>2010-12-01 08:26:00</td>\n",
       "      <td>3.39</td>\n",
       "      <td>UK</td>\n",
       "      <td>No</td>\n",
       "      <td>48</td>\n",
       "      <td>5</td>\n",
       "      <td>2</td>\n",
       "      <td>2</td>\n",
       "      <td>1</td>\n",
       "    </tr>\n",
       "    <tr>\n",
       "      <th>2</th>\n",
       "      <td>8</td>\n",
       "      <td>2010-12-01 08:26:00</td>\n",
       "      <td>2.75</td>\n",
       "      <td>UK</td>\n",
       "      <td>No</td>\n",
       "      <td>48</td>\n",
       "      <td>5</td>\n",
       "      <td>2</td>\n",
       "      <td>2</td>\n",
       "      <td>1</td>\n",
       "    </tr>\n",
       "    <tr>\n",
       "      <th>3</th>\n",
       "      <td>6</td>\n",
       "      <td>2010-12-01 08:26:00</td>\n",
       "      <td>3.39</td>\n",
       "      <td>UK</td>\n",
       "      <td>No</td>\n",
       "      <td>48</td>\n",
       "      <td>5</td>\n",
       "      <td>2</td>\n",
       "      <td>2</td>\n",
       "      <td>1</td>\n",
       "    </tr>\n",
       "    <tr>\n",
       "      <th>4</th>\n",
       "      <td>6</td>\n",
       "      <td>2010-12-01 08:26:00</td>\n",
       "      <td>3.39</td>\n",
       "      <td>UK</td>\n",
       "      <td>No</td>\n",
       "      <td>48</td>\n",
       "      <td>5</td>\n",
       "      <td>2</td>\n",
       "      <td>2</td>\n",
       "      <td>1</td>\n",
       "    </tr>\n",
       "  </tbody>\n",
       "</table>\n",
       "</div>"
      ],
      "text/plain": [
       "   Quantity         InvoiceDate  UnitPrice Country Cancellation  \\\n",
       "0         6 2010-12-01 08:26:00       2.55      UK           No   \n",
       "1         6 2010-12-01 08:26:00       3.39      UK           No   \n",
       "2         8 2010-12-01 08:26:00       2.75      UK           No   \n",
       "3         6 2010-12-01 08:26:00       3.39      UK           No   \n",
       "4         6 2010-12-01 08:26:00       3.39      UK           No   \n",
       "\n",
       "   Week of the year  Day of the Week  Month of the year  Quarter of the year  \\\n",
       "0                48                5                  2                    2   \n",
       "1                48                5                  2                    2   \n",
       "2                48                5                  2                    2   \n",
       "3                48                5                  2                    2   \n",
       "4                48                5                  2                    2   \n",
       "\n",
       "   Time of the day  \n",
       "0                1  \n",
       "1                1  \n",
       "2                1  \n",
       "3                1  \n",
       "4                1  "
      ]
     },
     "execution_count": 503,
     "metadata": {},
     "output_type": "execute_result"
    }
   ],
   "source": [
    "retail.head()"
   ]
  },
  {
   "cell_type": "code",
   "execution_count": 504,
   "id": "577dee89",
   "metadata": {},
   "outputs": [],
   "source": [
    "retail_new = pd.concat([retail,Country,Cancellation], axis=1)"
   ]
  },
  {
   "cell_type": "code",
   "execution_count": 505,
   "id": "6816e244",
   "metadata": {},
   "outputs": [
    {
     "data": {
      "text/html": [
       "<div>\n",
       "<style scoped>\n",
       "    .dataframe tbody tr th:only-of-type {\n",
       "        vertical-align: middle;\n",
       "    }\n",
       "\n",
       "    .dataframe tbody tr th {\n",
       "        vertical-align: top;\n",
       "    }\n",
       "\n",
       "    .dataframe thead th {\n",
       "        text-align: right;\n",
       "    }\n",
       "</style>\n",
       "<table border=\"1\" class=\"dataframe\">\n",
       "  <thead>\n",
       "    <tr style=\"text-align: right;\">\n",
       "      <th></th>\n",
       "      <th>Quantity</th>\n",
       "      <th>InvoiceDate</th>\n",
       "      <th>UnitPrice</th>\n",
       "      <th>Country</th>\n",
       "      <th>Cancellation</th>\n",
       "      <th>Week of the year</th>\n",
       "      <th>Day of the Week</th>\n",
       "      <th>Month of the year</th>\n",
       "      <th>Quarter of the year</th>\n",
       "      <th>Time of the day</th>\n",
       "      <th>Country_Non UK</th>\n",
       "      <th>Country_UK</th>\n",
       "      <th>Cancellation_No</th>\n",
       "      <th>Cancellation_Yes</th>\n",
       "    </tr>\n",
       "  </thead>\n",
       "  <tbody>\n",
       "    <tr>\n",
       "      <th>0</th>\n",
       "      <td>6</td>\n",
       "      <td>2010-12-01 08:26:00</td>\n",
       "      <td>2.55</td>\n",
       "      <td>UK</td>\n",
       "      <td>No</td>\n",
       "      <td>48</td>\n",
       "      <td>5</td>\n",
       "      <td>2</td>\n",
       "      <td>2</td>\n",
       "      <td>1</td>\n",
       "      <td>0</td>\n",
       "      <td>1</td>\n",
       "      <td>1</td>\n",
       "      <td>0</td>\n",
       "    </tr>\n",
       "    <tr>\n",
       "      <th>1</th>\n",
       "      <td>6</td>\n",
       "      <td>2010-12-01 08:26:00</td>\n",
       "      <td>3.39</td>\n",
       "      <td>UK</td>\n",
       "      <td>No</td>\n",
       "      <td>48</td>\n",
       "      <td>5</td>\n",
       "      <td>2</td>\n",
       "      <td>2</td>\n",
       "      <td>1</td>\n",
       "      <td>0</td>\n",
       "      <td>1</td>\n",
       "      <td>1</td>\n",
       "      <td>0</td>\n",
       "    </tr>\n",
       "    <tr>\n",
       "      <th>2</th>\n",
       "      <td>8</td>\n",
       "      <td>2010-12-01 08:26:00</td>\n",
       "      <td>2.75</td>\n",
       "      <td>UK</td>\n",
       "      <td>No</td>\n",
       "      <td>48</td>\n",
       "      <td>5</td>\n",
       "      <td>2</td>\n",
       "      <td>2</td>\n",
       "      <td>1</td>\n",
       "      <td>0</td>\n",
       "      <td>1</td>\n",
       "      <td>1</td>\n",
       "      <td>0</td>\n",
       "    </tr>\n",
       "    <tr>\n",
       "      <th>3</th>\n",
       "      <td>6</td>\n",
       "      <td>2010-12-01 08:26:00</td>\n",
       "      <td>3.39</td>\n",
       "      <td>UK</td>\n",
       "      <td>No</td>\n",
       "      <td>48</td>\n",
       "      <td>5</td>\n",
       "      <td>2</td>\n",
       "      <td>2</td>\n",
       "      <td>1</td>\n",
       "      <td>0</td>\n",
       "      <td>1</td>\n",
       "      <td>1</td>\n",
       "      <td>0</td>\n",
       "    </tr>\n",
       "    <tr>\n",
       "      <th>4</th>\n",
       "      <td>6</td>\n",
       "      <td>2010-12-01 08:26:00</td>\n",
       "      <td>3.39</td>\n",
       "      <td>UK</td>\n",
       "      <td>No</td>\n",
       "      <td>48</td>\n",
       "      <td>5</td>\n",
       "      <td>2</td>\n",
       "      <td>2</td>\n",
       "      <td>1</td>\n",
       "      <td>0</td>\n",
       "      <td>1</td>\n",
       "      <td>1</td>\n",
       "      <td>0</td>\n",
       "    </tr>\n",
       "  </tbody>\n",
       "</table>\n",
       "</div>"
      ],
      "text/plain": [
       "   Quantity         InvoiceDate  UnitPrice Country Cancellation  \\\n",
       "0         6 2010-12-01 08:26:00       2.55      UK           No   \n",
       "1         6 2010-12-01 08:26:00       3.39      UK           No   \n",
       "2         8 2010-12-01 08:26:00       2.75      UK           No   \n",
       "3         6 2010-12-01 08:26:00       3.39      UK           No   \n",
       "4         6 2010-12-01 08:26:00       3.39      UK           No   \n",
       "\n",
       "   Week of the year  Day of the Week  Month of the year  Quarter of the year  \\\n",
       "0                48                5                  2                    2   \n",
       "1                48                5                  2                    2   \n",
       "2                48                5                  2                    2   \n",
       "3                48                5                  2                    2   \n",
       "4                48                5                  2                    2   \n",
       "\n",
       "   Time of the day  Country_Non UK  Country_UK  Cancellation_No  \\\n",
       "0                1               0           1                1   \n",
       "1                1               0           1                1   \n",
       "2                1               0           1                1   \n",
       "3                1               0           1                1   \n",
       "4                1               0           1                1   \n",
       "\n",
       "   Cancellation_Yes  \n",
       "0                 0  \n",
       "1                 0  \n",
       "2                 0  \n",
       "3                 0  \n",
       "4                 0  "
      ]
     },
     "execution_count": 505,
     "metadata": {},
     "output_type": "execute_result"
    }
   ],
   "source": [
    "retail_new.head()"
   ]
  },
  {
   "cell_type": "code",
   "execution_count": 506,
   "id": "ee784f2d",
   "metadata": {},
   "outputs": [],
   "source": [
    "retail_new.drop(['InvoiceDate','Country','Cancellation'], axis=1, inplace = True)"
   ]
  },
  {
   "cell_type": "code",
   "execution_count": 507,
   "id": "46baca90",
   "metadata": {},
   "outputs": [
    {
     "data": {
      "text/html": [
       "<div>\n",
       "<style scoped>\n",
       "    .dataframe tbody tr th:only-of-type {\n",
       "        vertical-align: middle;\n",
       "    }\n",
       "\n",
       "    .dataframe tbody tr th {\n",
       "        vertical-align: top;\n",
       "    }\n",
       "\n",
       "    .dataframe thead th {\n",
       "        text-align: right;\n",
       "    }\n",
       "</style>\n",
       "<table border=\"1\" class=\"dataframe\">\n",
       "  <thead>\n",
       "    <tr style=\"text-align: right;\">\n",
       "      <th></th>\n",
       "      <th>Quantity</th>\n",
       "      <th>UnitPrice</th>\n",
       "      <th>Week of the year</th>\n",
       "      <th>Day of the Week</th>\n",
       "      <th>Month of the year</th>\n",
       "      <th>Quarter of the year</th>\n",
       "      <th>Time of the day</th>\n",
       "      <th>Country_Non UK</th>\n",
       "      <th>Country_UK</th>\n",
       "      <th>Cancellation_No</th>\n",
       "      <th>Cancellation_Yes</th>\n",
       "    </tr>\n",
       "  </thead>\n",
       "  <tbody>\n",
       "    <tr>\n",
       "      <th>0</th>\n",
       "      <td>6</td>\n",
       "      <td>2.55</td>\n",
       "      <td>48</td>\n",
       "      <td>5</td>\n",
       "      <td>2</td>\n",
       "      <td>2</td>\n",
       "      <td>1</td>\n",
       "      <td>0</td>\n",
       "      <td>1</td>\n",
       "      <td>1</td>\n",
       "      <td>0</td>\n",
       "    </tr>\n",
       "    <tr>\n",
       "      <th>1</th>\n",
       "      <td>6</td>\n",
       "      <td>3.39</td>\n",
       "      <td>48</td>\n",
       "      <td>5</td>\n",
       "      <td>2</td>\n",
       "      <td>2</td>\n",
       "      <td>1</td>\n",
       "      <td>0</td>\n",
       "      <td>1</td>\n",
       "      <td>1</td>\n",
       "      <td>0</td>\n",
       "    </tr>\n",
       "    <tr>\n",
       "      <th>2</th>\n",
       "      <td>8</td>\n",
       "      <td>2.75</td>\n",
       "      <td>48</td>\n",
       "      <td>5</td>\n",
       "      <td>2</td>\n",
       "      <td>2</td>\n",
       "      <td>1</td>\n",
       "      <td>0</td>\n",
       "      <td>1</td>\n",
       "      <td>1</td>\n",
       "      <td>0</td>\n",
       "    </tr>\n",
       "    <tr>\n",
       "      <th>3</th>\n",
       "      <td>6</td>\n",
       "      <td>3.39</td>\n",
       "      <td>48</td>\n",
       "      <td>5</td>\n",
       "      <td>2</td>\n",
       "      <td>2</td>\n",
       "      <td>1</td>\n",
       "      <td>0</td>\n",
       "      <td>1</td>\n",
       "      <td>1</td>\n",
       "      <td>0</td>\n",
       "    </tr>\n",
       "    <tr>\n",
       "      <th>4</th>\n",
       "      <td>6</td>\n",
       "      <td>3.39</td>\n",
       "      <td>48</td>\n",
       "      <td>5</td>\n",
       "      <td>2</td>\n",
       "      <td>2</td>\n",
       "      <td>1</td>\n",
       "      <td>0</td>\n",
       "      <td>1</td>\n",
       "      <td>1</td>\n",
       "      <td>0</td>\n",
       "    </tr>\n",
       "  </tbody>\n",
       "</table>\n",
       "</div>"
      ],
      "text/plain": [
       "   Quantity  UnitPrice  Week of the year  Day of the Week  Month of the year  \\\n",
       "0         6       2.55                48                5                  2   \n",
       "1         6       3.39                48                5                  2   \n",
       "2         8       2.75                48                5                  2   \n",
       "3         6       3.39                48                5                  2   \n",
       "4         6       3.39                48                5                  2   \n",
       "\n",
       "   Quarter of the year  Time of the day  Country_Non UK  Country_UK  \\\n",
       "0                    2                1               0           1   \n",
       "1                    2                1               0           1   \n",
       "2                    2                1               0           1   \n",
       "3                    2                1               0           1   \n",
       "4                    2                1               0           1   \n",
       "\n",
       "   Cancellation_No  Cancellation_Yes  \n",
       "0                1                 0  \n",
       "1                1                 0  \n",
       "2                1                 0  \n",
       "3                1                 0  \n",
       "4                1                 0  "
      ]
     },
     "execution_count": 507,
     "metadata": {},
     "output_type": "execute_result"
    }
   ],
   "source": [
    "retail_new.head()"
   ]
  },
  {
   "cell_type": "code",
   "execution_count": 508,
   "id": "98540da4",
   "metadata": {},
   "outputs": [],
   "source": [
    "from sklearn.preprocessing import StandardScaler\n",
    "std = StandardScaler()\n",
    "std_trans = std.fit_transform(retail_new)"
   ]
  },
  {
   "cell_type": "code",
   "execution_count": 509,
   "id": "dd12a033",
   "metadata": {},
   "outputs": [],
   "source": [
    "retail_new_std= pd.DataFrame(std_trans, columns=retail_new.columns)"
   ]
  },
  {
   "cell_type": "code",
   "execution_count": 510,
   "id": "e85425ea",
   "metadata": {},
   "outputs": [
    {
     "data": {
      "text/html": [
       "<div>\n",
       "<style scoped>\n",
       "    .dataframe tbody tr th:only-of-type {\n",
       "        vertical-align: middle;\n",
       "    }\n",
       "\n",
       "    .dataframe tbody tr th {\n",
       "        vertical-align: top;\n",
       "    }\n",
       "\n",
       "    .dataframe thead th {\n",
       "        text-align: right;\n",
       "    }\n",
       "</style>\n",
       "<table border=\"1\" class=\"dataframe\">\n",
       "  <thead>\n",
       "    <tr style=\"text-align: right;\">\n",
       "      <th></th>\n",
       "      <th>Quantity</th>\n",
       "      <th>UnitPrice</th>\n",
       "      <th>Week of the year</th>\n",
       "      <th>Day of the Week</th>\n",
       "      <th>Month of the year</th>\n",
       "      <th>Quarter of the year</th>\n",
       "      <th>Time of the day</th>\n",
       "      <th>Country_Non UK</th>\n",
       "      <th>Country_UK</th>\n",
       "      <th>Cancellation_No</th>\n",
       "      <th>Cancellation_Yes</th>\n",
       "    </tr>\n",
       "  </thead>\n",
       "  <tbody>\n",
       "    <tr>\n",
       "      <th>0</th>\n",
       "      <td>-0.016289</td>\n",
       "      <td>-0.021301</td>\n",
       "      <td>1.140281</td>\n",
       "      <td>1.397144</td>\n",
       "      <td>-1.162074</td>\n",
       "      <td>0.430974</td>\n",
       "      <td>-0.888015</td>\n",
       "      <td>-0.30612</td>\n",
       "      <td>0.30612</td>\n",
       "      <td>0.132054</td>\n",
       "      <td>-0.132054</td>\n",
       "    </tr>\n",
       "    <tr>\n",
       "      <th>1</th>\n",
       "      <td>-0.016289</td>\n",
       "      <td>-0.012620</td>\n",
       "      <td>1.140281</td>\n",
       "      <td>1.397144</td>\n",
       "      <td>-1.162074</td>\n",
       "      <td>0.430974</td>\n",
       "      <td>-0.888015</td>\n",
       "      <td>-0.30612</td>\n",
       "      <td>0.30612</td>\n",
       "      <td>0.132054</td>\n",
       "      <td>-0.132054</td>\n",
       "    </tr>\n",
       "    <tr>\n",
       "      <th>2</th>\n",
       "      <td>-0.007118</td>\n",
       "      <td>-0.019234</td>\n",
       "      <td>1.140281</td>\n",
       "      <td>1.397144</td>\n",
       "      <td>-1.162074</td>\n",
       "      <td>0.430974</td>\n",
       "      <td>-0.888015</td>\n",
       "      <td>-0.30612</td>\n",
       "      <td>0.30612</td>\n",
       "      <td>0.132054</td>\n",
       "      <td>-0.132054</td>\n",
       "    </tr>\n",
       "    <tr>\n",
       "      <th>3</th>\n",
       "      <td>-0.016289</td>\n",
       "      <td>-0.012620</td>\n",
       "      <td>1.140281</td>\n",
       "      <td>1.397144</td>\n",
       "      <td>-1.162074</td>\n",
       "      <td>0.430974</td>\n",
       "      <td>-0.888015</td>\n",
       "      <td>-0.30612</td>\n",
       "      <td>0.30612</td>\n",
       "      <td>0.132054</td>\n",
       "      <td>-0.132054</td>\n",
       "    </tr>\n",
       "    <tr>\n",
       "      <th>4</th>\n",
       "      <td>-0.016289</td>\n",
       "      <td>-0.012620</td>\n",
       "      <td>1.140281</td>\n",
       "      <td>1.397144</td>\n",
       "      <td>-1.162074</td>\n",
       "      <td>0.430974</td>\n",
       "      <td>-0.888015</td>\n",
       "      <td>-0.30612</td>\n",
       "      <td>0.30612</td>\n",
       "      <td>0.132054</td>\n",
       "      <td>-0.132054</td>\n",
       "    </tr>\n",
       "  </tbody>\n",
       "</table>\n",
       "</div>"
      ],
      "text/plain": [
       "   Quantity  UnitPrice  Week of the year  Day of the Week  Month of the year  \\\n",
       "0 -0.016289  -0.021301          1.140281         1.397144          -1.162074   \n",
       "1 -0.016289  -0.012620          1.140281         1.397144          -1.162074   \n",
       "2 -0.007118  -0.019234          1.140281         1.397144          -1.162074   \n",
       "3 -0.016289  -0.012620          1.140281         1.397144          -1.162074   \n",
       "4 -0.016289  -0.012620          1.140281         1.397144          -1.162074   \n",
       "\n",
       "   Quarter of the year  Time of the day  Country_Non UK  Country_UK  \\\n",
       "0             0.430974        -0.888015        -0.30612     0.30612   \n",
       "1             0.430974        -0.888015        -0.30612     0.30612   \n",
       "2             0.430974        -0.888015        -0.30612     0.30612   \n",
       "3             0.430974        -0.888015        -0.30612     0.30612   \n",
       "4             0.430974        -0.888015        -0.30612     0.30612   \n",
       "\n",
       "   Cancellation_No  Cancellation_Yes  \n",
       "0         0.132054         -0.132054  \n",
       "1         0.132054         -0.132054  \n",
       "2         0.132054         -0.132054  \n",
       "3         0.132054         -0.132054  \n",
       "4         0.132054         -0.132054  "
      ]
     },
     "execution_count": 510,
     "metadata": {},
     "output_type": "execute_result"
    }
   ],
   "source": [
    "retail_new_std.head()"
   ]
  },
  {
   "cell_type": "code",
   "execution_count": 511,
   "id": "b4f01bab",
   "metadata": {},
   "outputs": [
    {
     "name": "stderr",
     "output_type": "stream",
     "text": [
      "F:\\Python\\lib\\site-packages\\sklearn\\cluster\\_kmeans.py:792: FutureWarning: 'n_jobs' was deprecated in version 0.23 and will be removed in 1.0 (renaming of 0.25).\n",
      "  warnings.warn(\"'n_jobs' was deprecated in version 0.23 and will be\"\n",
      "F:\\Python\\lib\\site-packages\\sklearn\\cluster\\_kmeans.py:792: FutureWarning: 'n_jobs' was deprecated in version 0.23 and will be removed in 1.0 (renaming of 0.25).\n",
      "  warnings.warn(\"'n_jobs' was deprecated in version 0.23 and will be\"\n",
      "F:\\Python\\lib\\site-packages\\sklearn\\cluster\\_kmeans.py:792: FutureWarning: 'n_jobs' was deprecated in version 0.23 and will be removed in 1.0 (renaming of 0.25).\n",
      "  warnings.warn(\"'n_jobs' was deprecated in version 0.23 and will be\"\n",
      "F:\\Python\\lib\\site-packages\\sklearn\\cluster\\_kmeans.py:792: FutureWarning: 'n_jobs' was deprecated in version 0.23 and will be removed in 1.0 (renaming of 0.25).\n",
      "  warnings.warn(\"'n_jobs' was deprecated in version 0.23 and will be\"\n",
      "F:\\Python\\lib\\site-packages\\sklearn\\cluster\\_kmeans.py:792: FutureWarning: 'n_jobs' was deprecated in version 0.23 and will be removed in 1.0 (renaming of 0.25).\n",
      "  warnings.warn(\"'n_jobs' was deprecated in version 0.23 and will be\"\n",
      "F:\\Python\\lib\\site-packages\\sklearn\\cluster\\_kmeans.py:792: FutureWarning: 'n_jobs' was deprecated in version 0.23 and will be removed in 1.0 (renaming of 0.25).\n",
      "  warnings.warn(\"'n_jobs' was deprecated in version 0.23 and will be\"\n",
      "F:\\Python\\lib\\site-packages\\sklearn\\cluster\\_kmeans.py:792: FutureWarning: 'n_jobs' was deprecated in version 0.23 and will be removed in 1.0 (renaming of 0.25).\n",
      "  warnings.warn(\"'n_jobs' was deprecated in version 0.23 and will be\"\n",
      "F:\\Python\\lib\\site-packages\\sklearn\\cluster\\_kmeans.py:792: FutureWarning: 'n_jobs' was deprecated in version 0.23 and will be removed in 1.0 (renaming of 0.25).\n",
      "  warnings.warn(\"'n_jobs' was deprecated in version 0.23 and will be\"\n",
      "F:\\Python\\lib\\site-packages\\sklearn\\cluster\\_kmeans.py:792: FutureWarning: 'n_jobs' was deprecated in version 0.23 and will be removed in 1.0 (renaming of 0.25).\n",
      "  warnings.warn(\"'n_jobs' was deprecated in version 0.23 and will be\"\n",
      "F:\\Python\\lib\\site-packages\\sklearn\\cluster\\_kmeans.py:792: FutureWarning: 'n_jobs' was deprecated in version 0.23 and will be removed in 1.0 (renaming of 0.25).\n",
      "  warnings.warn(\"'n_jobs' was deprecated in version 0.23 and will be\"\n",
      "F:\\Python\\lib\\site-packages\\sklearn\\cluster\\_kmeans.py:792: FutureWarning: 'n_jobs' was deprecated in version 0.23 and will be removed in 1.0 (renaming of 0.25).\n",
      "  warnings.warn(\"'n_jobs' was deprecated in version 0.23 and will be\"\n"
     ]
    },
    {
     "data": {
      "image/png": "[encoded data removed]",
      "text/plain": [
       "<Figure size 360x360 with 1 Axes>"
      ]
     },
     "metadata": {
      "needs_background": "light"
     },
     "output_type": "display_data"
    }
   ],
   "source": [
    "plt.figure(figsize=(5,5))\n",
    "from sklearn.cluster import KMeans\n",
    "wcss = []\n",
    "K = range(1,12)\n",
    "for i in K:\n",
    "    kmeans = KMeans(n_clusters=i,init='k-means++', random_state=80, n_jobs=-1)\n",
    "    kmeans.fit(retail_new_std)\n",
    "    wcss.append(kmeans.inertia_)\n",
    "plt.plot(K, wcss,'o-')\n",
    "plt.title('The Elbow Method')\n",
    "plt.xlabel('Number of clusters')\n",
    "plt.ylabel('WCSS')\n",
    "plt.show()"
   ]
  },
  {
   "cell_type": "code",
   "execution_count": 512,
   "id": "a5695764",
   "metadata": {},
   "outputs": [
    {
     "name": "stdout",
     "output_type": "stream",
     "text": [
      "Requirement already satisfied: kneed in f:\\python\\lib\\site-packages (0.7.0)\n",
      "Requirement already satisfied: scipy in f:\\python\\lib\\site-packages (from kneed) (1.6.2)\n",
      "Requirement already satisfied: numpy>=1.14.2 in f:\\python\\lib\\site-packages (from kneed) (1.20.1)\n",
      "Requirement already satisfied: matplotlib in f:\\python\\lib\\site-packages (from kneed) (3.3.4)\n",
      "Requirement already satisfied: pyparsing!=2.0.4,!=2.1.2,!=2.1.6,>=2.0.3 in f:\\python\\lib\\site-packages (from matplotlib->kneed) (2.4.7)\n",
      "Requirement already satisfied: python-dateutil>=2.1 in f:\\python\\lib\\site-packages (from matplotlib->kneed) (2.8.1)\n",
      "Requirement already satisfied: pillow>=6.2.0 in f:\\python\\lib\\site-packages (from matplotlib->kneed) (8.2.0)\n",
      "Requirement already satisfied: kiwisolver>=1.0.1 in f:\\python\\lib\\site-packages (from matplotlib->kneed) (1.3.1)\n",
      "Requirement already satisfied: cycler>=0.10 in f:\\python\\lib\\site-packages (from matplotlib->kneed) (0.10.0)\n",
      "Requirement already satisfied: six in f:\\python\\lib\\site-packages (from cycler>=0.10->matplotlib->kneed) (1.15.0)\n"
     ]
    }
   ],
   "source": [
    "!pip install kneed"
   ]
  },
  {
   "cell_type": "code",
   "execution_count": 513,
   "id": "b52776bf",
   "metadata": {},
   "outputs": [
    {
     "name": "stdout",
     "output_type": "stream",
     "text": [
      "Best k-value from Elbow curve:  5\n"
     ]
    }
   ],
   "source": [
    "from kneed import KneeLocator\n",
    "kn1 = KneeLocator(range(1,12), wcss, curve = 'convex', direction='decreasing')\n",
    "print('Best k-value from Elbow curve: ',kn1.knee)"
   ]
  },
  {
   "cell_type": "code",
   "execution_count": 514,
   "id": "3341f98b",
   "metadata": {},
   "outputs": [
    {
     "name": "stderr",
     "output_type": "stream",
     "text": [
      "F:\\Python\\lib\\site-packages\\sklearn\\cluster\\_kmeans.py:792: FutureWarning: 'n_jobs' was deprecated in version 0.23 and will be removed in 1.0 (renaming of 0.25).\n",
      "  warnings.warn(\"'n_jobs' was deprecated in version 0.23 and will be\"\n"
     ]
    }
   ],
   "source": [
    "kmeans = KMeans(n_clusters = 5, init = 'k-means++', random_state = 80, n_jobs=-1)\n",
    "kmeans_pred = kmeans.fit_predict(retail_new_std)\n",
    "retail_new_std['cluster_label'] = pd.DataFrame(kmeans_pred+1)"
   ]
  },
  {
   "cell_type": "code",
   "execution_count": 515,
   "id": "a8062724",
   "metadata": {},
   "outputs": [
    {
     "data": {
      "text/plain": [
       "2    239278\n",
       "1    159203\n",
       "4     89138\n",
       "5     45001\n",
       "3      9289\n",
       "Name: cluster_label, dtype: int64"
      ]
     },
     "execution_count": 515,
     "metadata": {},
     "output_type": "execute_result"
    }
   ],
   "source": [
    "retail_new_std['cluster_label'].value_counts()"
   ]
  },
  {
   "cell_type": "code",
   "execution_count": 516,
   "id": "9d2b8922",
   "metadata": {},
   "outputs": [],
   "source": [
    "retail_duplicate['cluster label'] = pd.DataFrame(kmeans_pred+1)"
   ]
  },
  {
   "cell_type": "code",
   "execution_count": 517,
   "id": "f6fad333",
   "metadata": {},
   "outputs": [
    {
     "data": {
      "text/html": [
       "<div>\n",
       "<style scoped>\n",
       "    .dataframe tbody tr th:only-of-type {\n",
       "        vertical-align: middle;\n",
       "    }\n",
       "\n",
       "    .dataframe tbody tr th {\n",
       "        vertical-align: top;\n",
       "    }\n",
       "\n",
       "    .dataframe thead th {\n",
       "        text-align: right;\n",
       "    }\n",
       "</style>\n",
       "<table border=\"1\" class=\"dataframe\">\n",
       "  <thead>\n",
       "    <tr style=\"text-align: right;\">\n",
       "      <th></th>\n",
       "      <th>Quantity</th>\n",
       "      <th>UnitPrice</th>\n",
       "      <th>Country</th>\n",
       "      <th>Cancellation</th>\n",
       "      <th>Week of the year</th>\n",
       "      <th>Day of the Week</th>\n",
       "      <th>Month of the year</th>\n",
       "      <th>Quarter of the year</th>\n",
       "      <th>Time of the day</th>\n",
       "      <th>cluster label</th>\n",
       "    </tr>\n",
       "  </thead>\n",
       "  <tbody>\n",
       "    <tr>\n",
       "      <th>0</th>\n",
       "      <td>6</td>\n",
       "      <td>2.55</td>\n",
       "      <td>UK</td>\n",
       "      <td>No</td>\n",
       "      <td>48</td>\n",
       "      <td>Wednesday</td>\n",
       "      <td>December</td>\n",
       "      <td>Q3</td>\n",
       "      <td>Morning</td>\n",
       "      <td>2</td>\n",
       "    </tr>\n",
       "    <tr>\n",
       "      <th>1</th>\n",
       "      <td>6</td>\n",
       "      <td>3.39</td>\n",
       "      <td>UK</td>\n",
       "      <td>No</td>\n",
       "      <td>48</td>\n",
       "      <td>Wednesday</td>\n",
       "      <td>December</td>\n",
       "      <td>Q3</td>\n",
       "      <td>Morning</td>\n",
       "      <td>2</td>\n",
       "    </tr>\n",
       "    <tr>\n",
       "      <th>2</th>\n",
       "      <td>8</td>\n",
       "      <td>2.75</td>\n",
       "      <td>UK</td>\n",
       "      <td>No</td>\n",
       "      <td>48</td>\n",
       "      <td>Wednesday</td>\n",
       "      <td>December</td>\n",
       "      <td>Q3</td>\n",
       "      <td>Morning</td>\n",
       "      <td>2</td>\n",
       "    </tr>\n",
       "    <tr>\n",
       "      <th>3</th>\n",
       "      <td>6</td>\n",
       "      <td>3.39</td>\n",
       "      <td>UK</td>\n",
       "      <td>No</td>\n",
       "      <td>48</td>\n",
       "      <td>Wednesday</td>\n",
       "      <td>December</td>\n",
       "      <td>Q3</td>\n",
       "      <td>Morning</td>\n",
       "      <td>2</td>\n",
       "    </tr>\n",
       "    <tr>\n",
       "      <th>4</th>\n",
       "      <td>6</td>\n",
       "      <td>3.39</td>\n",
       "      <td>UK</td>\n",
       "      <td>No</td>\n",
       "      <td>48</td>\n",
       "      <td>Wednesday</td>\n",
       "      <td>December</td>\n",
       "      <td>Q3</td>\n",
       "      <td>Morning</td>\n",
       "      <td>2</td>\n",
       "    </tr>\n",
       "  </tbody>\n",
       "</table>\n",
       "</div>"
      ],
      "text/plain": [
       "   Quantity  UnitPrice Country Cancellation  Week of the year Day of the Week  \\\n",
       "0         6       2.55      UK           No                48       Wednesday   \n",
       "1         6       3.39      UK           No                48       Wednesday   \n",
       "2         8       2.75      UK           No                48       Wednesday   \n",
       "3         6       3.39      UK           No                48       Wednesday   \n",
       "4         6       3.39      UK           No                48       Wednesday   \n",
       "\n",
       "  Month of the year Quarter of the year Time of the day  cluster label  \n",
       "0          December                  Q3         Morning              2  \n",
       "1          December                  Q3         Morning              2  \n",
       "2          December                  Q3         Morning              2  \n",
       "3          December                  Q3         Morning              2  \n",
       "4          December                  Q3         Morning              2  "
      ]
     },
     "execution_count": 517,
     "metadata": {},
     "output_type": "execute_result"
    }
   ],
   "source": [
    "retail_duplicate.head()"
   ]
  },
  {
   "cell_type": "code",
   "execution_count": 518,
   "id": "6ff542cd",
   "metadata": {},
   "outputs": [],
   "source": [
    "retail_duplicate.to_csv(\"online retail with cluster labelling.csv\")"
   ]
  },
  {
   "cell_type": "code",
   "execution_count": 519,
   "id": "78d2e7e9",
   "metadata": {},
   "outputs": [],
   "source": [
    "# Cluster profiling\n",
    "\n",
    "# Cluster 1  - Avg Qty=9.46\n",
    "#              Avg Unit price - 3.71\n",
    "#              Country - Only UK\n",
    "#              Cancellation - No\n",
    "#              Quarter - Q1 and Q2 (Summer season)\n",
    "#              Days - All throughout week except for Saturday\n",
    "#              Time of the day - Throughout\n",
    "\n",
    "# Cluster 2  - Avg Qty=8.82\n",
    "#              Avg Unit price - 3.74\n",
    "#              Country - Only UK\n",
    "#              Cancellation - No\n",
    "#              Quarter - Q2 and Q3 (Winter season)\n",
    "#              Days - All throughout week except for Saturday\n",
    "#              Time of the day - Throughout\n",
    "                \n",
    "# Cluster 3  - Avg Qty=29.84\n",
    "#              Avg Unit price - 49.84 (High price items)\n",
    "#              Country - Both UK and Non UK\n",
    "#              Cancellation - Majorly cancellation orders\n",
    "#              Quarter - Throughout the year\n",
    "#              Days - All throughout week except for Saturday\n",
    "#              Time of the day - Throughout\n",
    "                \n",
    "# Cluster 4  - Avg Qty=8.47\n",
    "#              Avg Unit price - 3.87\n",
    "#              Country - Only UK\n",
    "#              Cancellation - No\n",
    "#              Quarter - Q4 only\n",
    "#              Days - All throughout week except for Saturday\n",
    "#              Time of the day - Throughout\n",
    "                \n",
    "# Cluster 5  - Avg Qty=24.05\n",
    "#              Avg Unit price - 4.53\n",
    "#              Country - Both UK and non UK\n",
    "#              Cancellation - No\n",
    "#              Quarter - Throughout the year\n",
    "#              Days - All throughout week except for Saturday\n",
    "#              Time of the day - Throughout except for evening"
   ]
  },
  {
   "cell_type": "code",
   "execution_count": 520,
   "id": "ed21a328",
   "metadata": {},
   "outputs": [
    {
     "name": "stderr",
     "output_type": "stream",
     "text": [
      "F:\\Python\\lib\\site-packages\\seaborn\\_decorators.py:36: FutureWarning: Pass the following variable as a keyword arg: x. From version 0.12, the only valid positional argument will be `data`, and passing other arguments without an explicit keyword will result in an error or misinterpretation.\n",
      "  warnings.warn(\n"
     ]
    },
    {
     "data": {
      "text/plain": [
       "<AxesSubplot:xlabel='Quantity'>"
      ]
     },
     "execution_count": 520,
     "metadata": {},
     "output_type": "execute_result"
    },
    {
     "data": {
      "image/png": "[encoded data removed]",
      "text/plain": [
       "<Figure size 1440x144 with 1 Axes>"
      ]
     },
     "metadata": {
      "needs_background": "light"
     },
     "output_type": "display_data"
    }
   ],
   "source": [
    "plt.figure(figsize=(20,2))\n",
    "sns.boxplot(retail_new['Quantity'])"
   ]
  },
  {
   "cell_type": "code",
   "execution_count": 521,
   "id": "dac5497c",
   "metadata": {},
   "outputs": [],
   "source": [
    "index = retail_new.loc[(retail_new.Quantity <-20000) | (retail_new.Quantity > 20000)].index"
   ]
  },
  {
   "cell_type": "code",
   "execution_count": 522,
   "id": "71af3a08",
   "metadata": {},
   "outputs": [],
   "source": [
    "retail_new.drop(index, axis=0, inplace = True)"
   ]
  },
  {
   "cell_type": "code",
   "execution_count": 523,
   "id": "fc730491",
   "metadata": {},
   "outputs": [
    {
     "name": "stderr",
     "output_type": "stream",
     "text": [
      "F:\\Python\\lib\\site-packages\\seaborn\\_decorators.py:36: FutureWarning: Pass the following variable as a keyword arg: x. From version 0.12, the only valid positional argument will be `data`, and passing other arguments without an explicit keyword will result in an error or misinterpretation.\n",
      "  warnings.warn(\n"
     ]
    },
    {
     "data": {
      "text/plain": [
       "<AxesSubplot:xlabel='Quantity'>"
      ]
     },
     "execution_count": 523,
     "metadata": {},
     "output_type": "execute_result"
    },
    {
     "data": {
      "image/png": "[encoded data removed]",
      "text/plain": [
       "<Figure size 1440x144 with 1 Axes>"
      ]
     },
     "metadata": {
      "needs_background": "light"
     },
     "output_type": "display_data"
    }
   ],
   "source": [
    "plt.figure(figsize=(20,2))\n",
    "sns.boxplot(retail_new['Quantity'])"
   ]
  },
  {
   "cell_type": "code",
   "execution_count": 524,
   "id": "50483878",
   "metadata": {},
   "outputs": [],
   "source": [
    "index1 = retail_new.loc[(retail_new.Quantity <-4000) | (retail_new.Quantity > 4000)].index"
   ]
  },
  {
   "cell_type": "code",
   "execution_count": 525,
   "id": "e3859339",
   "metadata": {},
   "outputs": [],
   "source": [
    "retail_new.drop(index1, axis=0, inplace = True)"
   ]
  },
  {
   "cell_type": "code",
   "execution_count": 526,
   "id": "f0f9dbb7",
   "metadata": {},
   "outputs": [
    {
     "name": "stderr",
     "output_type": "stream",
     "text": [
      "F:\\Python\\lib\\site-packages\\seaborn\\_decorators.py:36: FutureWarning: Pass the following variable as a keyword arg: x. From version 0.12, the only valid positional argument will be `data`, and passing other arguments without an explicit keyword will result in an error or misinterpretation.\n",
      "  warnings.warn(\n"
     ]
    },
    {
     "data": {
      "text/plain": [
       "<AxesSubplot:xlabel='Quantity'>"
      ]
     },
     "execution_count": 526,
     "metadata": {},
     "output_type": "execute_result"
    },
    {
     "data": {
      "image/png": "[encoded data removed]",
      "text/plain": [
       "<Figure size 1440x144 with 1 Axes>"
      ]
     },
     "metadata": {
      "needs_background": "light"
     },
     "output_type": "display_data"
    }
   ],
   "source": [
    "plt.figure(figsize=(20,2))\n",
    "sns.boxplot(retail_new['Quantity'])"
   ]
  },
  {
   "cell_type": "code",
   "execution_count": 527,
   "id": "8696d3cf",
   "metadata": {},
   "outputs": [],
   "source": [
    "index2 = retail_new.loc[(retail_new.Quantity <-1000) | (retail_new.Quantity > 1000)].index\n",
    "retail_new.drop(index2, axis=0, inplace = True)"
   ]
  },
  {
   "cell_type": "code",
   "execution_count": 528,
   "id": "4e89cd0e",
   "metadata": {},
   "outputs": [
    {
     "name": "stderr",
     "output_type": "stream",
     "text": [
      "F:\\Python\\lib\\site-packages\\seaborn\\_decorators.py:36: FutureWarning: Pass the following variable as a keyword arg: x. From version 0.12, the only valid positional argument will be `data`, and passing other arguments without an explicit keyword will result in an error or misinterpretation.\n",
      "  warnings.warn(\n"
     ]
    },
    {
     "data": {
      "text/plain": [
       "<AxesSubplot:xlabel='Quantity'>"
      ]
     },
     "execution_count": 528,
     "metadata": {},
     "output_type": "execute_result"
    },
    {
     "data": {
      "image/png": "[encoded data removed]",
      "text/plain": [
       "<Figure size 1440x144 with 1 Axes>"
      ]
     },
     "metadata": {
      "needs_background": "light"
     },
     "output_type": "display_data"
    }
   ],
   "source": [
    "plt.figure(figsize=(20,2))\n",
    "sns.boxplot(retail_new['Quantity'])"
   ]
  },
  {
   "cell_type": "code",
   "execution_count": 529,
   "id": "033d46d5",
   "metadata": {},
   "outputs": [
    {
     "name": "stderr",
     "output_type": "stream",
     "text": [
      "F:\\Python\\lib\\site-packages\\seaborn\\_decorators.py:36: FutureWarning: Pass the following variable as a keyword arg: x. From version 0.12, the only valid positional argument will be `data`, and passing other arguments without an explicit keyword will result in an error or misinterpretation.\n",
      "  warnings.warn(\n"
     ]
    },
    {
     "data": {
      "text/plain": [
       "<AxesSubplot:xlabel='UnitPrice'>"
      ]
     },
     "execution_count": 529,
     "metadata": {},
     "output_type": "execute_result"
    },
    {
     "data": {
      "image/png": "[encoded data removed]",
      "text/plain": [
       "<Figure size 1440x144 with 1 Axes>"
      ]
     },
     "metadata": {
      "needs_background": "light"
     },
     "output_type": "display_data"
    }
   ],
   "source": [
    "plt.figure(figsize=(20,2))\n",
    "sns.boxplot(retail_new['UnitPrice'])"
   ]
  },
  {
   "cell_type": "code",
   "execution_count": 530,
   "id": "90736951",
   "metadata": {},
   "outputs": [],
   "source": [
    "index3 = retail_new.loc[(retail_new.UnitPrice <0) | (retail_new.UnitPrice > 5000)].index\n",
    "retail_new.drop(index3, axis=0, inplace = True)"
   ]
  },
  {
   "cell_type": "code",
   "execution_count": 531,
   "id": "d7070e83",
   "metadata": {},
   "outputs": [
    {
     "name": "stderr",
     "output_type": "stream",
     "text": [
      "F:\\Python\\lib\\site-packages\\seaborn\\_decorators.py:36: FutureWarning: Pass the following variable as a keyword arg: x. From version 0.12, the only valid positional argument will be `data`, and passing other arguments without an explicit keyword will result in an error or misinterpretation.\n",
      "  warnings.warn(\n"
     ]
    },
    {
     "data": {
      "text/plain": [
       "<AxesSubplot:xlabel='UnitPrice'>"
      ]
     },
     "execution_count": 531,
     "metadata": {},
     "output_type": "execute_result"
    },
    {
     "data": {
      "image/png": "[encoded data removed]",
      "text/plain": [
       "<Figure size 1440x144 with 1 Axes>"
      ]
     },
     "metadata": {
      "needs_background": "light"
     },
     "output_type": "display_data"
    }
   ],
   "source": [
    "plt.figure(figsize=(20,2))\n",
    "sns.boxplot(retail_new['UnitPrice'])"
   ]
  },
  {
   "cell_type": "code",
   "execution_count": 532,
   "id": "05100caf",
   "metadata": {},
   "outputs": [],
   "source": [
    "index4 = retail_new.loc[(retail_new.UnitPrice <0) | (retail_new.UnitPrice > 1500)].index\n",
    "retail_new.drop(index4, axis=0, inplace = True)"
   ]
  },
  {
   "cell_type": "code",
   "execution_count": 533,
   "id": "6a7d3217",
   "metadata": {},
   "outputs": [
    {
     "name": "stderr",
     "output_type": "stream",
     "text": [
      "F:\\Python\\lib\\site-packages\\seaborn\\_decorators.py:36: FutureWarning: Pass the following variable as a keyword arg: x. From version 0.12, the only valid positional argument will be `data`, and passing other arguments without an explicit keyword will result in an error or misinterpretation.\n",
      "  warnings.warn(\n"
     ]
    },
    {
     "data": {
      "text/plain": [
       "<AxesSubplot:xlabel='UnitPrice'>"
      ]
     },
     "execution_count": 533,
     "metadata": {},
     "output_type": "execute_result"
    },
    {
     "data": {
      "image/png": "[encoded data removed]",
      "text/plain": [
       "<Figure size 1440x144 with 1 Axes>"
      ]
     },
     "metadata": {
      "needs_background": "light"
     },
     "output_type": "display_data"
    }
   ],
   "source": [
    "plt.figure(figsize=(20,2))\n",
    "sns.boxplot(retail_new['UnitPrice'])"
   ]
  },
  {
   "cell_type": "code",
   "execution_count": 534,
   "id": "0ca033e2",
   "metadata": {},
   "outputs": [
    {
     "data": {
      "text/plain": [
       "(541648, 11)"
      ]
     },
     "execution_count": 534,
     "metadata": {},
     "output_type": "execute_result"
    }
   ],
   "source": [
    "retail_new.shape"
   ]
  },
  {
   "cell_type": "code",
   "execution_count": 535,
   "id": "5da899d0",
   "metadata": {},
   "outputs": [
    {
     "data": {
      "text/html": [
       "<div>\n",
       "<style scoped>\n",
       "    .dataframe tbody tr th:only-of-type {\n",
       "        vertical-align: middle;\n",
       "    }\n",
       "\n",
       "    .dataframe tbody tr th {\n",
       "        vertical-align: top;\n",
       "    }\n",
       "\n",
       "    .dataframe thead th {\n",
       "        text-align: right;\n",
       "    }\n",
       "</style>\n",
       "<table border=\"1\" class=\"dataframe\">\n",
       "  <thead>\n",
       "    <tr style=\"text-align: right;\">\n",
       "      <th></th>\n",
       "      <th>Quantity</th>\n",
       "      <th>UnitPrice</th>\n",
       "      <th>Week of the year</th>\n",
       "      <th>Day of the Week</th>\n",
       "      <th>Month of the year</th>\n",
       "      <th>Quarter of the year</th>\n",
       "      <th>Time of the day</th>\n",
       "      <th>Country_Non UK</th>\n",
       "      <th>Country_UK</th>\n",
       "      <th>Cancellation_No</th>\n",
       "      <th>Cancellation_Yes</th>\n",
       "    </tr>\n",
       "  </thead>\n",
       "  <tbody>\n",
       "    <tr>\n",
       "      <th>0</th>\n",
       "      <td>6</td>\n",
       "      <td>2.55</td>\n",
       "      <td>48</td>\n",
       "      <td>5</td>\n",
       "      <td>2</td>\n",
       "      <td>2</td>\n",
       "      <td>1</td>\n",
       "      <td>0</td>\n",
       "      <td>1</td>\n",
       "      <td>1</td>\n",
       "      <td>0</td>\n",
       "    </tr>\n",
       "    <tr>\n",
       "      <th>1</th>\n",
       "      <td>6</td>\n",
       "      <td>3.39</td>\n",
       "      <td>48</td>\n",
       "      <td>5</td>\n",
       "      <td>2</td>\n",
       "      <td>2</td>\n",
       "      <td>1</td>\n",
       "      <td>0</td>\n",
       "      <td>1</td>\n",
       "      <td>1</td>\n",
       "      <td>0</td>\n",
       "    </tr>\n",
       "    <tr>\n",
       "      <th>2</th>\n",
       "      <td>8</td>\n",
       "      <td>2.75</td>\n",
       "      <td>48</td>\n",
       "      <td>5</td>\n",
       "      <td>2</td>\n",
       "      <td>2</td>\n",
       "      <td>1</td>\n",
       "      <td>0</td>\n",
       "      <td>1</td>\n",
       "      <td>1</td>\n",
       "      <td>0</td>\n",
       "    </tr>\n",
       "    <tr>\n",
       "      <th>3</th>\n",
       "      <td>6</td>\n",
       "      <td>3.39</td>\n",
       "      <td>48</td>\n",
       "      <td>5</td>\n",
       "      <td>2</td>\n",
       "      <td>2</td>\n",
       "      <td>1</td>\n",
       "      <td>0</td>\n",
       "      <td>1</td>\n",
       "      <td>1</td>\n",
       "      <td>0</td>\n",
       "    </tr>\n",
       "    <tr>\n",
       "      <th>4</th>\n",
       "      <td>6</td>\n",
       "      <td>3.39</td>\n",
       "      <td>48</td>\n",
       "      <td>5</td>\n",
       "      <td>2</td>\n",
       "      <td>2</td>\n",
       "      <td>1</td>\n",
       "      <td>0</td>\n",
       "      <td>1</td>\n",
       "      <td>1</td>\n",
       "      <td>0</td>\n",
       "    </tr>\n",
       "  </tbody>\n",
       "</table>\n",
       "</div>"
      ],
      "text/plain": [
       "   Quantity  UnitPrice  Week of the year  Day of the Week  Month of the year  \\\n",
       "0         6       2.55                48                5                  2   \n",
       "1         6       3.39                48                5                  2   \n",
       "2         8       2.75                48                5                  2   \n",
       "3         6       3.39                48                5                  2   \n",
       "4         6       3.39                48                5                  2   \n",
       "\n",
       "   Quarter of the year  Time of the day  Country_Non UK  Country_UK  \\\n",
       "0                    2                1               0           1   \n",
       "1                    2                1               0           1   \n",
       "2                    2                1               0           1   \n",
       "3                    2                1               0           1   \n",
       "4                    2                1               0           1   \n",
       "\n",
       "   Cancellation_No  Cancellation_Yes  \n",
       "0                1                 0  \n",
       "1                1                 0  \n",
       "2                1                 0  \n",
       "3                1                 0  \n",
       "4                1                 0  "
      ]
     },
     "execution_count": 535,
     "metadata": {},
     "output_type": "execute_result"
    }
   ],
   "source": [
    "retail_new.head()"
   ]
  },
  {
   "cell_type": "code",
   "execution_count": 536,
   "id": "3563fa93",
   "metadata": {},
   "outputs": [],
   "source": [
    "std_trans1 = std.fit_transform(retail_new)"
   ]
  },
  {
   "cell_type": "code",
   "execution_count": 537,
   "id": "7dca1540",
   "metadata": {},
   "outputs": [],
   "source": [
    "retail_new_std1= pd.DataFrame(std_trans1, columns=retail_new.columns)"
   ]
  },
  {
   "cell_type": "code",
   "execution_count": 538,
   "id": "acd993f4",
   "metadata": {},
   "outputs": [
    {
     "data": {
      "text/html": [
       "<div>\n",
       "<style scoped>\n",
       "    .dataframe tbody tr th:only-of-type {\n",
       "        vertical-align: middle;\n",
       "    }\n",
       "\n",
       "    .dataframe tbody tr th {\n",
       "        vertical-align: top;\n",
       "    }\n",
       "\n",
       "    .dataframe thead th {\n",
       "        text-align: right;\n",
       "    }\n",
       "</style>\n",
       "<table border=\"1\" class=\"dataframe\">\n",
       "  <thead>\n",
       "    <tr style=\"text-align: right;\">\n",
       "      <th></th>\n",
       "      <th>Quantity</th>\n",
       "      <th>UnitPrice</th>\n",
       "      <th>Week of the year</th>\n",
       "      <th>Day of the Week</th>\n",
       "      <th>Month of the year</th>\n",
       "      <th>Quarter of the year</th>\n",
       "      <th>Time of the day</th>\n",
       "      <th>Country_Non UK</th>\n",
       "      <th>Country_UK</th>\n",
       "      <th>Cancellation_No</th>\n",
       "      <th>Cancellation_Yes</th>\n",
       "    </tr>\n",
       "  </thead>\n",
       "  <tbody>\n",
       "    <tr>\n",
       "      <th>0</th>\n",
       "      <td>-0.114074</td>\n",
       "      <td>-0.074584</td>\n",
       "      <td>1.14023</td>\n",
       "      <td>1.397172</td>\n",
       "      <td>-1.162176</td>\n",
       "      <td>0.430967</td>\n",
       "      <td>-0.888088</td>\n",
       "      <td>-0.306089</td>\n",
       "      <td>0.306089</td>\n",
       "      <td>0.131637</td>\n",
       "      <td>-0.131637</td>\n",
       "    </tr>\n",
       "    <tr>\n",
       "      <th>1</th>\n",
       "      <td>-0.114074</td>\n",
       "      <td>-0.026144</td>\n",
       "      <td>1.14023</td>\n",
       "      <td>1.397172</td>\n",
       "      <td>-1.162176</td>\n",
       "      <td>0.430967</td>\n",
       "      <td>-0.888088</td>\n",
       "      <td>-0.306089</td>\n",
       "      <td>0.306089</td>\n",
       "      <td>0.131637</td>\n",
       "      <td>-0.131637</td>\n",
       "    </tr>\n",
       "    <tr>\n",
       "      <th>2</th>\n",
       "      <td>-0.047359</td>\n",
       "      <td>-0.063051</td>\n",
       "      <td>1.14023</td>\n",
       "      <td>1.397172</td>\n",
       "      <td>-1.162176</td>\n",
       "      <td>0.430967</td>\n",
       "      <td>-0.888088</td>\n",
       "      <td>-0.306089</td>\n",
       "      <td>0.306089</td>\n",
       "      <td>0.131637</td>\n",
       "      <td>-0.131637</td>\n",
       "    </tr>\n",
       "    <tr>\n",
       "      <th>3</th>\n",
       "      <td>-0.114074</td>\n",
       "      <td>-0.026144</td>\n",
       "      <td>1.14023</td>\n",
       "      <td>1.397172</td>\n",
       "      <td>-1.162176</td>\n",
       "      <td>0.430967</td>\n",
       "      <td>-0.888088</td>\n",
       "      <td>-0.306089</td>\n",
       "      <td>0.306089</td>\n",
       "      <td>0.131637</td>\n",
       "      <td>-0.131637</td>\n",
       "    </tr>\n",
       "    <tr>\n",
       "      <th>4</th>\n",
       "      <td>-0.114074</td>\n",
       "      <td>-0.026144</td>\n",
       "      <td>1.14023</td>\n",
       "      <td>1.397172</td>\n",
       "      <td>-1.162176</td>\n",
       "      <td>0.430967</td>\n",
       "      <td>-0.888088</td>\n",
       "      <td>-0.306089</td>\n",
       "      <td>0.306089</td>\n",
       "      <td>0.131637</td>\n",
       "      <td>-0.131637</td>\n",
       "    </tr>\n",
       "  </tbody>\n",
       "</table>\n",
       "</div>"
      ],
      "text/plain": [
       "   Quantity  UnitPrice  Week of the year  Day of the Week  Month of the year  \\\n",
       "0 -0.114074  -0.074584           1.14023         1.397172          -1.162176   \n",
       "1 -0.114074  -0.026144           1.14023         1.397172          -1.162176   \n",
       "2 -0.047359  -0.063051           1.14023         1.397172          -1.162176   \n",
       "3 -0.114074  -0.026144           1.14023         1.397172          -1.162176   \n",
       "4 -0.114074  -0.026144           1.14023         1.397172          -1.162176   \n",
       "\n",
       "   Quarter of the year  Time of the day  Country_Non UK  Country_UK  \\\n",
       "0             0.430967        -0.888088       -0.306089    0.306089   \n",
       "1             0.430967        -0.888088       -0.306089    0.306089   \n",
       "2             0.430967        -0.888088       -0.306089    0.306089   \n",
       "3             0.430967        -0.888088       -0.306089    0.306089   \n",
       "4             0.430967        -0.888088       -0.306089    0.306089   \n",
       "\n",
       "   Cancellation_No  Cancellation_Yes  \n",
       "0         0.131637         -0.131637  \n",
       "1         0.131637         -0.131637  \n",
       "2         0.131637         -0.131637  \n",
       "3         0.131637         -0.131637  \n",
       "4         0.131637         -0.131637  "
      ]
     },
     "execution_count": 538,
     "metadata": {},
     "output_type": "execute_result"
    }
   ],
   "source": [
    "retail_new_std1.head()"
   ]
  },
  {
   "cell_type": "code",
   "execution_count": 539,
   "id": "226887be",
   "metadata": {},
   "outputs": [
    {
     "name": "stderr",
     "output_type": "stream",
     "text": [
      "F:\\Python\\lib\\site-packages\\sklearn\\cluster\\_kmeans.py:792: FutureWarning: 'n_jobs' was deprecated in version 0.23 and will be removed in 1.0 (renaming of 0.25).\n",
      "  warnings.warn(\"'n_jobs' was deprecated in version 0.23 and will be\"\n",
      "F:\\Python\\lib\\site-packages\\sklearn\\cluster\\_kmeans.py:792: FutureWarning: 'n_jobs' was deprecated in version 0.23 and will be removed in 1.0 (renaming of 0.25).\n",
      "  warnings.warn(\"'n_jobs' was deprecated in version 0.23 and will be\"\n",
      "F:\\Python\\lib\\site-packages\\sklearn\\cluster\\_kmeans.py:792: FutureWarning: 'n_jobs' was deprecated in version 0.23 and will be removed in 1.0 (renaming of 0.25).\n",
      "  warnings.warn(\"'n_jobs' was deprecated in version 0.23 and will be\"\n",
      "F:\\Python\\lib\\site-packages\\sklearn\\cluster\\_kmeans.py:792: FutureWarning: 'n_jobs' was deprecated in version 0.23 and will be removed in 1.0 (renaming of 0.25).\n",
      "  warnings.warn(\"'n_jobs' was deprecated in version 0.23 and will be\"\n",
      "F:\\Python\\lib\\site-packages\\sklearn\\cluster\\_kmeans.py:792: FutureWarning: 'n_jobs' was deprecated in version 0.23 and will be removed in 1.0 (renaming of 0.25).\n",
      "  warnings.warn(\"'n_jobs' was deprecated in version 0.23 and will be\"\n",
      "F:\\Python\\lib\\site-packages\\sklearn\\cluster\\_kmeans.py:792: FutureWarning: 'n_jobs' was deprecated in version 0.23 and will be removed in 1.0 (renaming of 0.25).\n",
      "  warnings.warn(\"'n_jobs' was deprecated in version 0.23 and will be\"\n",
      "F:\\Python\\lib\\site-packages\\sklearn\\cluster\\_kmeans.py:792: FutureWarning: 'n_jobs' was deprecated in version 0.23 and will be removed in 1.0 (renaming of 0.25).\n",
      "  warnings.warn(\"'n_jobs' was deprecated in version 0.23 and will be\"\n",
      "F:\\Python\\lib\\site-packages\\sklearn\\cluster\\_kmeans.py:792: FutureWarning: 'n_jobs' was deprecated in version 0.23 and will be removed in 1.0 (renaming of 0.25).\n",
      "  warnings.warn(\"'n_jobs' was deprecated in version 0.23 and will be\"\n",
      "F:\\Python\\lib\\site-packages\\sklearn\\cluster\\_kmeans.py:792: FutureWarning: 'n_jobs' was deprecated in version 0.23 and will be removed in 1.0 (renaming of 0.25).\n",
      "  warnings.warn(\"'n_jobs' was deprecated in version 0.23 and will be\"\n",
      "F:\\Python\\lib\\site-packages\\sklearn\\cluster\\_kmeans.py:792: FutureWarning: 'n_jobs' was deprecated in version 0.23 and will be removed in 1.0 (renaming of 0.25).\n",
      "  warnings.warn(\"'n_jobs' was deprecated in version 0.23 and will be\"\n",
      "F:\\Python\\lib\\site-packages\\sklearn\\cluster\\_kmeans.py:792: FutureWarning: 'n_jobs' was deprecated in version 0.23 and will be removed in 1.0 (renaming of 0.25).\n",
      "  warnings.warn(\"'n_jobs' was deprecated in version 0.23 and will be\"\n"
     ]
    },
    {
     "data": {
      "image/png": "[encoded data removed]",
      "text/plain": [
       "<Figure size 360x360 with 1 Axes>"
      ]
     },
     "metadata": {
      "needs_background": "light"
     },
     "output_type": "display_data"
    }
   ],
   "source": [
    "plt.figure(figsize=(5,5))\n",
    "from sklearn.cluster import KMeans\n",
    "wcss1 = []\n",
    "K = range(1,12)\n",
    "for i in K:\n",
    "    kmeans1 = KMeans(n_clusters=i,init='k-means++', random_state=80, n_jobs=-1)\n",
    "    kmeans1.fit(retail_new_std1)\n",
    "    wcss1.append(kmeans1.inertia_)\n",
    "plt.plot(K, wcss1,'o-')\n",
    "plt.title('The Elbow Method')\n",
    "plt.xlabel('Number of clusters')\n",
    "plt.ylabel('WCSS')\n",
    "plt.show()"
   ]
  },
  {
   "cell_type": "code",
   "execution_count": 540,
   "id": "807c9a3e",
   "metadata": {},
   "outputs": [
    {
     "name": "stdout",
     "output_type": "stream",
     "text": [
      "Best k-value from Elbow curve:  5\n"
     ]
    }
   ],
   "source": [
    "from kneed import KneeLocator\n",
    "kn2 = KneeLocator(range(1,12), wcss1, curve = 'convex', direction='decreasing')\n",
    "print('Best k-value from Elbow curve: ',kn2.knee)"
   ]
  },
  {
   "cell_type": "code",
   "execution_count": 541,
   "id": "2fc2dbff",
   "metadata": {},
   "outputs": [
    {
     "name": "stderr",
     "output_type": "stream",
     "text": [
      "F:\\Python\\lib\\site-packages\\sklearn\\cluster\\_kmeans.py:792: FutureWarning: 'n_jobs' was deprecated in version 0.23 and will be removed in 1.0 (renaming of 0.25).\n",
      "  warnings.warn(\"'n_jobs' was deprecated in version 0.23 and will be\"\n"
     ]
    }
   ],
   "source": [
    "kmeans1 = KMeans(n_clusters = 5, init = 'k-means++', random_state = 80, n_jobs=-1)\n",
    "kmeans_pred1 = kmeans1.fit_predict(retail_new_std1)\n",
    "retail_new_std1['cluster_label'] = pd.DataFrame(kmeans_pred1+1)"
   ]
  },
  {
   "cell_type": "code",
   "execution_count": 542,
   "id": "741d0285",
   "metadata": {},
   "outputs": [
    {
     "data": {
      "text/plain": [
       "2    239203\n",
       "1    159138\n",
       "4     89100\n",
       "3     44981\n",
       "5      9226\n",
       "Name: cluster_label, dtype: int64"
      ]
     },
     "execution_count": 542,
     "metadata": {},
     "output_type": "execute_result"
    }
   ],
   "source": [
    "retail_new_std1['cluster_label'].value_counts()"
   ]
  },
  {
   "cell_type": "code",
   "execution_count": 543,
   "id": "4edcf60b",
   "metadata": {},
   "outputs": [],
   "source": [
    "retail_duplicate1['cluster label_upd'] = pd.DataFrame(kmeans_pred1+1)"
   ]
  },
  {
   "cell_type": "code",
   "execution_count": 544,
   "id": "8ffd0ce3",
   "metadata": {},
   "outputs": [
    {
     "data": {
      "text/html": [
       "<div>\n",
       "<style scoped>\n",
       "    .dataframe tbody tr th:only-of-type {\n",
       "        vertical-align: middle;\n",
       "    }\n",
       "\n",
       "    .dataframe tbody tr th {\n",
       "        vertical-align: top;\n",
       "    }\n",
       "\n",
       "    .dataframe thead th {\n",
       "        text-align: right;\n",
       "    }\n",
       "</style>\n",
       "<table border=\"1\" class=\"dataframe\">\n",
       "  <thead>\n",
       "    <tr style=\"text-align: right;\">\n",
       "      <th></th>\n",
       "      <th>Quantity</th>\n",
       "      <th>InvoiceDate</th>\n",
       "      <th>UnitPrice</th>\n",
       "      <th>Country</th>\n",
       "      <th>Cancellation</th>\n",
       "      <th>Week of the year</th>\n",
       "      <th>Day of the Week</th>\n",
       "      <th>Month of the year</th>\n",
       "      <th>Quarter of the year</th>\n",
       "      <th>Time of the day</th>\n",
       "      <th>cluster label_upd</th>\n",
       "    </tr>\n",
       "  </thead>\n",
       "  <tbody>\n",
       "    <tr>\n",
       "      <th>0</th>\n",
       "      <td>6</td>\n",
       "      <td>2010-12-01 08:26:00</td>\n",
       "      <td>2.55</td>\n",
       "      <td>UK</td>\n",
       "      <td>No</td>\n",
       "      <td>48</td>\n",
       "      <td>Wednesday</td>\n",
       "      <td>December</td>\n",
       "      <td>Q3</td>\n",
       "      <td>Morning</td>\n",
       "      <td>2.0</td>\n",
       "    </tr>\n",
       "    <tr>\n",
       "      <th>1</th>\n",
       "      <td>6</td>\n",
       "      <td>2010-12-01 08:26:00</td>\n",
       "      <td>3.39</td>\n",
       "      <td>UK</td>\n",
       "      <td>No</td>\n",
       "      <td>48</td>\n",
       "      <td>Wednesday</td>\n",
       "      <td>December</td>\n",
       "      <td>Q3</td>\n",
       "      <td>Morning</td>\n",
       "      <td>2.0</td>\n",
       "    </tr>\n",
       "    <tr>\n",
       "      <th>2</th>\n",
       "      <td>8</td>\n",
       "      <td>2010-12-01 08:26:00</td>\n",
       "      <td>2.75</td>\n",
       "      <td>UK</td>\n",
       "      <td>No</td>\n",
       "      <td>48</td>\n",
       "      <td>Wednesday</td>\n",
       "      <td>December</td>\n",
       "      <td>Q3</td>\n",
       "      <td>Morning</td>\n",
       "      <td>2.0</td>\n",
       "    </tr>\n",
       "    <tr>\n",
       "      <th>3</th>\n",
       "      <td>6</td>\n",
       "      <td>2010-12-01 08:26:00</td>\n",
       "      <td>3.39</td>\n",
       "      <td>UK</td>\n",
       "      <td>No</td>\n",
       "      <td>48</td>\n",
       "      <td>Wednesday</td>\n",
       "      <td>December</td>\n",
       "      <td>Q3</td>\n",
       "      <td>Morning</td>\n",
       "      <td>2.0</td>\n",
       "    </tr>\n",
       "    <tr>\n",
       "      <th>4</th>\n",
       "      <td>6</td>\n",
       "      <td>2010-12-01 08:26:00</td>\n",
       "      <td>3.39</td>\n",
       "      <td>UK</td>\n",
       "      <td>No</td>\n",
       "      <td>48</td>\n",
       "      <td>Wednesday</td>\n",
       "      <td>December</td>\n",
       "      <td>Q3</td>\n",
       "      <td>Morning</td>\n",
       "      <td>2.0</td>\n",
       "    </tr>\n",
       "  </tbody>\n",
       "</table>\n",
       "</div>"
      ],
      "text/plain": [
       "   Quantity         InvoiceDate  UnitPrice Country Cancellation  \\\n",
       "0         6 2010-12-01 08:26:00       2.55      UK           No   \n",
       "1         6 2010-12-01 08:26:00       3.39      UK           No   \n",
       "2         8 2010-12-01 08:26:00       2.75      UK           No   \n",
       "3         6 2010-12-01 08:26:00       3.39      UK           No   \n",
       "4         6 2010-12-01 08:26:00       3.39      UK           No   \n",
       "\n",
       "   Week of the year Day of the Week Month of the year Quarter of the year  \\\n",
       "0                48       Wednesday          December                  Q3   \n",
       "1                48       Wednesday          December                  Q3   \n",
       "2                48       Wednesday          December                  Q3   \n",
       "3                48       Wednesday          December                  Q3   \n",
       "4                48       Wednesday          December                  Q3   \n",
       "\n",
       "  Time of the day  cluster label_upd  \n",
       "0         Morning                2.0  \n",
       "1         Morning                2.0  \n",
       "2         Morning                2.0  \n",
       "3         Morning                2.0  \n",
       "4         Morning                2.0  "
      ]
     },
     "execution_count": 544,
     "metadata": {},
     "output_type": "execute_result"
    }
   ],
   "source": [
    "retail_duplicate1.head()"
   ]
  },
  {
   "cell_type": "code",
   "execution_count": 545,
   "id": "3acae5ff",
   "metadata": {},
   "outputs": [],
   "source": [
    "retail_duplicate1.to_csv(\"online retail with cluster labelling_update.csv\")"
   ]
  },
  {
   "cell_type": "code",
   "execution_count": null,
   "id": "8e6aa7e2",
   "metadata": {},
   "outputs": [],
   "source": []
  },
  {
   "cell_type": "code",
   "execution_count": null,
   "id": "d7062543",
   "metadata": {},
   "outputs": [],
   "source": []
  },
  {
   "cell_type": "code",
   "execution_count": null,
   "id": "a7228187",
   "metadata": {},
   "outputs": [],
   "source": []
  },
  {
   "cell_type": "code",
   "execution_count": null,
   "id": "a32192b0",
   "metadata": {},
   "outputs": [],
   "source": []
  },
  {
   "cell_type": "code",
   "execution_count": null,
   "id": "0f4d70f1",
   "metadata": {},
   "outputs": [],
   "source": []
  },
  {
   "cell_type": "code",
   "execution_count": null,
   "id": "78300c8e",
   "metadata": {},
   "outputs": [],
   "source": []
  },
  {
   "cell_type": "code",
   "execution_count": null,
   "id": "a53901fb",
   "metadata": {},
   "outputs": [],
   "source": []
  },
  {
   "cell_type": "code",
   "execution_count": null,
   "id": "9fbd60aa",
   "metadata": {},
   "outputs": [],
   "source": []
  }
 ],
 "metadata": {
  "kernelspec": {
   "display_name": "Python 3",
   "language": "python",
   "name": "python3"
  },
  "language_info": {
   "codemirror_mode": {
    "name": "ipython",
    "version": 3
   },
   "file_extension": ".py",
   "mimetype": "text/x-python",
   "name": "python",
   "nbconvert_exporter": "python",
   "pygments_lexer": "ipython3",
   "version": "3.8.8"
  }
 },
 "nbformat": 4,
 "nbformat_minor": 5
}
